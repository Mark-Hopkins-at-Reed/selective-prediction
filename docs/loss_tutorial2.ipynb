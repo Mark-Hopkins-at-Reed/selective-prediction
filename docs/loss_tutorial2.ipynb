{
 "cells": [
  {
   "cell_type": "markdown",
   "id": "d9e085ac",
   "metadata": {},
   "source": [
    "## Adding a new training objective to ```spred```\n",
    "-------------------------------------------------\n",
    "\n",
    "In this tutorial, we show how to add a new training objective for selective prediction. We will create a training objective that allows a neural network to get \"half-credit\" for abstaining when it is uncertain."
   ]
  },
  {
   "cell_type": "code",
   "execution_count": null,
   "id": "b4321f10",
   "metadata": {},
   "outputs": [],
   "source": []
  }
 ],
 "metadata": {
  "kernelspec": {
   "display_name": "Python 3",
   "language": "python",
   "name": "python3"
  },
  "language_info": {
   "codemirror_mode": {
    "name": "ipython",
    "version": 3
   },
   "file_extension": ".py",
   "mimetype": "text/x-python",
   "name": "python",
   "nbconvert_exporter": "python",
   "pygments_lexer": "ipython3",
   "version": "3.8.8"
  }
 },
 "nbformat": 4,
 "nbformat_minor": 5
}
