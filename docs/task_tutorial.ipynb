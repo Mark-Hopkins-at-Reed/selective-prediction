{
 "cells": [
  {
   "cell_type": "markdown",
   "id": "26d1798a",
   "metadata": {},
   "source": [
    "## Adding a new task to ```spred```\n",
    "--------------------------------------\n",
    "\n",
    "In this tutorial, we show how to add a new task for evaluating selective\n",
    "prediction techniques. Specifically, we'll create a task called \"normals\",\n",
    "a two-label classification task. Instances for label A are generated from\n",
    "a mixture of two bivariate normal distributions with means (-1, 0) and (1, 0),\n",
    "whereas instances for label B are generated from a mixture of two bivariate\n",
    "normals with means (0, -1) and (0, 1). The covariances are chosen so that most\n",
    "overlap occurs near the origin, making such points the \"most difficult\" to \n",
    "classify.\n",
    "\n",
    "![samples from the two mixture distributions](red_blue.png)"
   ]
  },
  {
   "cell_type": "markdown",
   "id": "5048e447",
   "metadata": {},
   "source": [
    "For most tasks, we'll already have training data stored in a file somewhere, but for this task, we'll create our own training data. To do so, let's leverage the ```numpy``` package to make a helper function ```generate_samples``` that samples points from a bivariate normal distribution."
   ]
  },
  {
   "cell_type": "code",
   "execution_count": 1,
   "id": "9fae7667",
   "metadata": {},
   "outputs": [],
   "source": [
    "from numpy.random import multivariate_normal\n",
    "from numpy import diag\n",
    "\n",
    "def generate_samples(means, variances, num_samples, noise_dim=0):\n",
    "    return multivariate_normal(means + [0.0]*noise_dim,\n",
    "                               diag(variances + [1.0]*noise_dim),\n",
    "                               size=num_samples)\n"
   ]
  },
  {
   "cell_type": "markdown",
   "id": "02379e3a",
   "metadata": {},
   "source": [
    "The function assumes that the two dimensions are not correlated, so if we make the following call, then we're effectively drawing our ```x``` coordinate from ```Normal(-1.0, 0.2)``` and our ```y``` coordinate from ```Normal(0.0, 0.1)```."
   ]
  },
  {
   "cell_type": "code",
   "execution_count": 2,
   "id": "0ba64c1b",
   "metadata": {},
   "outputs": [
    {
     "data": {
      "text/plain": [
       "array([[-0.42400979, -0.28037431],\n",
       "       [-1.16340207, -0.1547301 ],\n",
       "       [-1.26352225,  0.35742983],\n",
       "       [-1.22658115,  0.59460908],\n",
       "       [-0.78217529, -0.39922637]])"
      ]
     },
     "execution_count": 2,
     "metadata": {},
     "output_type": "execute_result"
    }
   ],
   "source": [
    "generate_samples(means=[-1.0, 0.0], variances=[0.2, 0.1], num_samples=5)"
   ]
  },
  {
   "cell_type": "markdown",
   "id": "e91a54a6",
   "metadata": {},
   "source": [
    "We've also provided an argument called ```noise_dim```, to make the learning task a bit more challenging. This adds extra dimensions, each independently sampled from a standard zero-mean normal."
   ]
  },
  {
   "cell_type": "code",
   "execution_count": 3,
   "id": "ef0411c8",
   "metadata": {},
   "outputs": [
    {
     "data": {
      "text/plain": [
       "array([[-0.84281047,  0.22901042, -0.92723795, -0.28562153, -0.51877257],\n",
       "       [-1.05118761,  0.24416542,  0.77153505, -0.09639673,  2.20070117],\n",
       "       [-1.33060783,  0.21944966,  0.21465223,  0.89917106,  0.74922109],\n",
       "       [-1.18171618, -0.32938125, -0.87769102, -0.75722443, -0.96573778],\n",
       "       [-1.25096351,  0.2363531 ,  0.06616472,  2.46657589,  0.68874332]])"
      ]
     },
     "execution_count": 3,
     "metadata": {},
     "output_type": "execute_result"
    }
   ],
   "source": [
    "generate_samples(means=[-1.0, 0.0], variances=[0.2, 0.1], num_samples=5, noise_dim=3)"
   ]
  },
  {
   "cell_type": "markdown",
   "id": "173d420f",
   "metadata": {},
   "source": [
    "We now need to create a ```Loader``` for this training data, which implements the interface in ```spred.loader```:\n",
    "\n",
    "    class Loader(ABC):\n",
    "        @abstractmethod\n",
    "        def __iter__(self):\n",
    "            \"\"\"\n",
    "            Creates an Iterator over the batches of the Loader.\n",
    "    \n",
    "            Each batch should be a dictionary with at least two keys:\n",
    "            - \"inputs\": maps to a torch.tensor of shape BxD containing the input\n",
    "            vectors, where B is batch size and D is input vector dimension\n",
    "            - \"labels\": maps to a torch.tensor of shape B containing the\n",
    "            corresponding labels\n",
    "    \n",
    "            \"\"\"\n",
    "            ...\n",
    "    \n",
    "        @abstractmethod\n",
    "        def __len__(self):\n",
    "            \"\"\" Number of batches provided by the Loader.\"\"\"\n",
    "            ...\n",
    "    \n",
    "        @abstractmethod\n",
    "        def num_labels(self):\n",
    "            \"\"\" Number of class labels in the dataset. \"\"\"\n",
    "            ...\n"
   ]
  },
  {
   "cell_type": "code",
   "execution_count": 4,
   "id": "fa29894a",
   "metadata": {},
   "outputs": [],
   "source": [
    "import numpy\n",
    "import torch\n",
    "from random import shuffle\n",
    "from spred.loader import Loader\n",
    "\n",
    "class NormalsLoader(Loader):\n",
    "    \n",
    "    def __init__(self, num_batches, bsz, noise_dim):\n",
    "        super().__init__()\n",
    "        self.bsz = bsz\n",
    "        self.num_batches = num_batches\n",
    "        self.noise_dim = noise_dim\n",
    "        self.batches = []\n",
    "        self.device = torch.device(\"cuda\") if torch.cuda.is_available() else torch.device(\"cpu\")\n",
    "        for _ in range(num_batches):\n",
    "            variance1 = 0.2\n",
    "            variance2 = 0.1\n",
    "            pts1a = generate_samples([-1.0, 0.0], [variance1, variance2], bsz//4, self.noise_dim)\n",
    "            pts1b = generate_samples([1.0, 0.0], [variance1, variance2], bsz//4, self.noise_dim)\n",
    "            pts2a = generate_samples([0.0, -1.0], [variance2, variance1], bsz//4, self.noise_dim)\n",
    "            pts2b = generate_samples([0.0, 1.0], [variance2, variance1], bsz//4, self.noise_dim)\n",
    "            labeled = ([(pt, 0) for pt in pts1a] +\n",
    "                       [(pt, 0) for pt in pts1b] +\n",
    "                       [(pt, 1) for pt in pts2a] +\n",
    "                       [(pt, 1) for pt in pts2b])\n",
    "            shuffle(labeled)\n",
    "            instances = torch.tensor(numpy.array([pair[0] for pair in labeled])).float()\n",
    "            labels = torch.tensor([pair[1] for pair in labeled])\n",
    "            self.batches.append((instances, labels))\n",
    "\n",
    "    def __iter__(self):\n",
    "        for instances, labels in self.batches:\n",
    "            yield {'inputs': instances.to(self.device), 'labels': labels.to(self.device)}\n",
    "\n",
    "    def __len__(self):\n",
    "        return self.num_batches\n",
    "\n",
    "    def num_labels(self):\n",
    "        return 2"
   ]
  },
  {
   "cell_type": "markdown",
   "id": "e6e1d142",
   "metadata": {},
   "source": [
    "For instance, the following code creates a ```Loader``` that provides two batches, each with eight training vectors (half of which are sampled from class 0 and half of which are sampled from class 1)."
   ]
  },
  {
   "cell_type": "code",
   "execution_count": 5,
   "id": "ae24dd8c",
   "metadata": {},
   "outputs": [
    {
     "name": "stdout",
     "output_type": "stream",
     "text": [
      "This loader has 2 batches.\n",
      "This loader has 2 class labels.\n",
      "{'inputs': tensor([[ 0.7431, -0.9386,  1.3403, -0.7856,  0.5292],\n",
      "        [-1.5746, -0.7945,  1.0636, -0.1697, -0.5544],\n",
      "        [ 0.8429,  0.0522, -2.3533,  0.6586,  1.5231],\n",
      "        [ 0.0691, -1.0116,  0.9962, -0.1273,  0.9410],\n",
      "        [-0.5056,  0.0301,  0.0387, -1.1412,  0.5984],\n",
      "        [ 0.0145,  0.8350,  0.1574, -0.1612, -0.1637],\n",
      "        [ 0.0841,  1.5974, -0.4095,  0.2248,  0.6716],\n",
      "        [ 1.1770, -0.2838, -0.1507,  0.7989, -0.0056]]), 'labels': tensor([1, 0, 0, 1, 0, 1, 1, 0])}\n",
      "{'inputs': tensor([[ 0.1215, -0.4340, -0.6003, -0.7993, -0.8656],\n",
      "        [ 0.3999,  0.7732, -0.2849, -1.1945, -1.8914],\n",
      "        [-0.3479, -1.4459,  0.2234, -0.2272,  0.5354],\n",
      "        [ 0.5429, -0.0284,  1.7770, -1.1569, -0.6091],\n",
      "        [-1.5384, -0.1584,  1.6475,  0.2868, -0.9035],\n",
      "        [ 0.1655,  1.7107, -0.7201,  1.3279,  2.6641],\n",
      "        [ 0.4157, -0.0093,  1.5949, -0.2323,  0.5208],\n",
      "        [-0.5470, -0.0489, -0.8973, -0.1630,  1.5091]]), 'labels': tensor([1, 1, 1, 0, 0, 1, 0, 0])}\n"
     ]
    }
   ],
   "source": [
    "loader = NormalsLoader(num_batches=2, bsz=8, noise_dim=3)\n",
    "print('This loader has {} batches.'.format(len(loader)))\n",
    "print('This loader has {} class labels.'.format(loader.num_labels()))\n",
    "for batch in loader:\n",
    "    print(batch)"
   ]
  },
  {
   "cell_type": "markdown",
   "id": "c799ac3d",
   "metadata": {},
   "source": [
    "With our ```Loader``` defined, we can now create a ```Task``` by specifying loaders for the training, validation, and test sets."
   ]
  },
  {
   "cell_type": "code",
   "execution_count": 6,
   "id": "edecfb50",
   "metadata": {},
   "outputs": [],
   "source": [
    "from spred.task import Task\n",
    "\n",
    "class NormalsTask(Task):\n",
    "\n",
    "    def __init__(self, noise_dim, n_train_batches,\n",
    "                 n_validation_batches, n_test_batches):\n",
    "        super().__init__()\n",
    "        self.noise_dim = noise_dim\n",
    "        self.n_train_batches = n_train_batches\n",
    "        self.n_validation_batches = n_validation_batches\n",
    "        self.n_test_batches = n_test_batches\n",
    "\n",
    "    def init_train_loader(self, bsz):\n",
    "        return NormalsLoader(self.n_train_batches, bsz, self.noise_dim)\n",
    "\n",
    "    def init_validation_loader(self, bsz):\n",
    "        return NormalsLoader(self.n_validation_batches, bsz, self.noise_dim)\n",
    "\n",
    "    def init_test_loader(self, bsz):\n",
    "        return NormalsLoader(self.n_test_batches, bsz, self.noise_dim)"
   ]
  },
  {
   "cell_type": "markdown",
   "id": "73742dfc",
   "metadata": {},
   "source": [
    "The last thing we need to do is register our new task with the Spred Hub, so that we can use it in selective prediction experiments."
   ]
  },
  {
   "cell_type": "code",
   "execution_count": 7,
   "id": "830d82b5",
   "metadata": {},
   "outputs": [],
   "source": [
    "from spred.hub import spred_hub\n",
    "spred_hub.register_task('nrmls', NormalsTask)"
   ]
  },
  {
   "cell_type": "markdown",
   "id": "8e95d4d1",
   "metadata": {},
   "source": [
    "Let's try out some selective prediction techniques on our new task! To run an experiment (i.e. train a neural network and compare the effectiveness of various confidence functions), we first must configure the experiment. To configure the task, we provide the name under which we registered the task (i.e. \"nrmls\") and the arguments to its constructor."
   ]
  },
  {
   "cell_type": "code",
   "execution_count": 8,
   "id": "3973a425",
   "metadata": {},
   "outputs": [],
   "source": [
    "task_config = {\"name\": \"nrmls\",\n",
    "               \"noise_dim\": 50,\n",
    "               \"n_train_batches\": 200,\n",
    "               \"n_validation_batches\": 200,\n",
    "               \"n_test_batches\": 100}"
   ]
  },
  {
   "cell_type": "markdown",
   "id": "69fd73d8",
   "metadata": {},
   "source": [
    "Next let's configure the model we want to train. Let's train a simple feedforward neural network with internal layers of size 128 and 64. Note that the input size for our task is 52 (our (x,y) dimensions + 50 noise dimensions) and the output_size is 2 (class A or class B). We'll train using a basic cross-entropy (\"ce\") loss."
   ]
  },
  {
   "cell_type": "code",
   "execution_count": 15,
   "id": "609b675b",
   "metadata": {},
   "outputs": [],
   "source": [
    "model_config = {\"name\": \"feedforward\",\n",
    "                \"input_size\": 52,\n",
    "                \"hidden_sizes\": [128, 64],\n",
    "                \"output_size\": 2,\n",
    "                \"loss\": {\n",
    "                    \"name\": \"ce\"\n",
    "                }}"
   ]
  },
  {
   "cell_type": "markdown",
   "id": "582db8e1",
   "metadata": {},
   "source": [
    "For this experiment, we'll compare three different confidence functions:\n",
    "1. **\"random\"**: just associate a random confidence with each prediction\n",
    "2. **\"max_prob\"**: use the softmax probability of the prediction as its confidence\n",
    "3. **\"mcd\"**: use the MC Dropout technique of Gal and Ghahramani"
   ]
  },
  {
   "cell_type": "code",
   "execution_count": 16,
   "id": "8fc3a6a7",
   "metadata": {},
   "outputs": [],
   "source": [
    "confs = [{\"name\": \"random\"},\n",
    "         {\"name\": \"max_prob\"},\n",
    "         {\"name\": \"mcd\",\n",
    "          \"aggregator\": \"mean\",\n",
    "          \"n_forward_passes\": 10}]"
   ]
  },
  {
   "cell_type": "markdown",
   "id": "bcf4c5a2",
   "metadata": {},
   "source": [
    "Now that we've specified our task, our model, and our confidences, let's bundle them together into an experiment configuration. We'll also specify a couple extra details, like the optimizer (stochastic gradient descent with momentum of 0.9 and a learning rate of 0.003), the batch size (64), and the number of training epochs (30)."
   ]
  },
  {
   "cell_type": "code",
   "execution_count": 17,
   "id": "86ba1b28",
   "metadata": {},
   "outputs": [],
   "source": [
    "config = {\"task\": task_config,\n",
    "          \"model\": model_config,\n",
    "          \"confidences\": confs,\n",
    "          \"optimizer\": {\"name\": \"sgd\",\n",
    "                        \"lr\": 0.003,\n",
    "                        \"momentum\": 0.9},\n",
    "          \"bsz\": 64,\n",
    "          \"n_epochs\": 30}"
   ]
  },
  {
   "cell_type": "markdown",
   "id": "cc90868b",
   "metadata": {},
   "source": [
    "With our configuration ready, let's run the experiment!"
   ]
  },
  {
   "cell_type": "code",
   "execution_count": 19,
   "id": "58efdb2c",
   "metadata": {},
   "outputs": [
    {
     "name": "stdout",
     "output_type": "stream",
     "text": [
      "Training with config:\n",
      "{'task': {'name': 'nrmls', 'noise_dim': 50, 'n_train_batches': 200, 'n_validation_batches': 200, 'n_test_batches': 100}, 'model': {'name': 'feedforward', 'input_size': 52, 'hidden_sizes': [128, 64], 'output_size': 2, 'loss': {'name': 'ce'}}, 'confidences': [{'name': 'random'}, {'name': 'max_prob'}, {'name': 'mcd', 'aggregator': 'mean', 'n_forward_passes': 10}], 'optimizer': {'name': 'sgd', 'lr': 0.003, 'momentum': 0.9}, 'bsz': 64, 'n_epochs': 30}\n",
      "Epoch 1:\n"
     ]
    },
    {
     "name": "stderr",
     "output_type": "stream",
     "text": [
      "100%|██████████| 200/200 [00:00<00:00, 1018.78it/s]\n",
      "100%|██████████| 200/200 [00:00<00:00, 1998.96it/s]\n"
     ]
    },
    {
     "name": "stdout",
     "output_type": "stream",
     "text": [
      "Epoch 2:\n"
     ]
    },
    {
     "name": "stderr",
     "output_type": "stream",
     "text": [
      "100%|██████████| 200/200 [00:00<00:00, 1168.70it/s]\n",
      "100%|██████████| 200/200 [00:00<00:00, 2027.88it/s]\n"
     ]
    },
    {
     "name": "stdout",
     "output_type": "stream",
     "text": [
      "Epoch 3:\n"
     ]
    },
    {
     "name": "stderr",
     "output_type": "stream",
     "text": [
      "100%|██████████| 200/200 [00:00<00:00, 1135.73it/s]\n",
      "100%|██████████| 200/200 [00:00<00:00, 2026.84it/s]\n"
     ]
    },
    {
     "name": "stdout",
     "output_type": "stream",
     "text": [
      "Epoch 4:\n"
     ]
    },
    {
     "name": "stderr",
     "output_type": "stream",
     "text": [
      "100%|██████████| 200/200 [00:00<00:00, 1148.26it/s]\n",
      "100%|██████████| 200/200 [00:00<00:00, 2009.95it/s]\n"
     ]
    },
    {
     "name": "stdout",
     "output_type": "stream",
     "text": [
      "Epoch 5:\n"
     ]
    },
    {
     "name": "stderr",
     "output_type": "stream",
     "text": [
      "100%|██████████| 200/200 [00:00<00:00, 1111.44it/s]\n",
      "100%|██████████| 200/200 [00:00<00:00, 2037.05it/s]\n"
     ]
    },
    {
     "name": "stdout",
     "output_type": "stream",
     "text": [
      "Epoch 6:\n"
     ]
    },
    {
     "name": "stderr",
     "output_type": "stream",
     "text": [
      "100%|██████████| 200/200 [00:00<00:00, 1159.87it/s]\n",
      "100%|██████████| 200/200 [00:00<00:00, 1978.98it/s]\n"
     ]
    },
    {
     "name": "stdout",
     "output_type": "stream",
     "text": [
      "Epoch 7:\n"
     ]
    },
    {
     "name": "stderr",
     "output_type": "stream",
     "text": [
      "100%|██████████| 200/200 [00:00<00:00, 1150.96it/s]\n",
      "100%|██████████| 200/200 [00:00<00:00, 2026.73it/s]\n"
     ]
    },
    {
     "name": "stdout",
     "output_type": "stream",
     "text": [
      "Epoch 8:\n"
     ]
    },
    {
     "name": "stderr",
     "output_type": "stream",
     "text": [
      "100%|██████████| 200/200 [00:00<00:00, 1158.35it/s]\n",
      "100%|██████████| 200/200 [00:00<00:00, 2024.48it/s]\n"
     ]
    },
    {
     "name": "stdout",
     "output_type": "stream",
     "text": [
      "Epoch 9:\n"
     ]
    },
    {
     "name": "stderr",
     "output_type": "stream",
     "text": [
      "100%|██████████| 200/200 [00:00<00:00, 1160.18it/s]\n",
      "100%|██████████| 200/200 [00:00<00:00, 2027.06it/s]\n"
     ]
    },
    {
     "name": "stdout",
     "output_type": "stream",
     "text": [
      "Epoch 10:\n"
     ]
    },
    {
     "name": "stderr",
     "output_type": "stream",
     "text": [
      "100%|██████████| 200/200 [00:00<00:00, 1159.20it/s]\n",
      "100%|██████████| 200/200 [00:00<00:00, 2033.99it/s]\n"
     ]
    },
    {
     "name": "stdout",
     "output_type": "stream",
     "text": [
      "Epoch 11:\n"
     ]
    },
    {
     "name": "stderr",
     "output_type": "stream",
     "text": [
      "100%|██████████| 200/200 [00:00<00:00, 1172.02it/s]\n",
      "100%|██████████| 200/200 [00:00<00:00, 2015.74it/s]\n"
     ]
    },
    {
     "name": "stdout",
     "output_type": "stream",
     "text": [
      "Epoch 12:\n"
     ]
    },
    {
     "name": "stderr",
     "output_type": "stream",
     "text": [
      "100%|██████████| 200/200 [00:00<00:00, 1162.78it/s]\n",
      "100%|██████████| 200/200 [00:00<00:00, 2022.71it/s]\n"
     ]
    },
    {
     "name": "stdout",
     "output_type": "stream",
     "text": [
      "Epoch 13:\n"
     ]
    },
    {
     "name": "stderr",
     "output_type": "stream",
     "text": [
      "100%|██████████| 200/200 [00:00<00:00, 1167.41it/s]\n",
      "100%|██████████| 200/200 [00:00<00:00, 2026.50it/s]\n"
     ]
    },
    {
     "name": "stdout",
     "output_type": "stream",
     "text": [
      "Epoch 14:\n"
     ]
    },
    {
     "name": "stderr",
     "output_type": "stream",
     "text": [
      "100%|██████████| 200/200 [00:00<00:00, 1143.65it/s]\n",
      "100%|██████████| 200/200 [00:00<00:00, 2029.53it/s]\n"
     ]
    },
    {
     "name": "stdout",
     "output_type": "stream",
     "text": [
      "Epoch 15:\n"
     ]
    },
    {
     "name": "stderr",
     "output_type": "stream",
     "text": [
      "100%|██████████| 200/200 [00:00<00:00, 1147.43it/s]\n",
      "100%|██████████| 200/200 [00:00<00:00, 2002.32it/s]\n"
     ]
    },
    {
     "name": "stdout",
     "output_type": "stream",
     "text": [
      "Epoch 16:\n"
     ]
    },
    {
     "name": "stderr",
     "output_type": "stream",
     "text": [
      "100%|██████████| 200/200 [00:00<00:00, 1170.36it/s]\n",
      "100%|██████████| 200/200 [00:00<00:00, 2027.64it/s]\n"
     ]
    },
    {
     "name": "stdout",
     "output_type": "stream",
     "text": [
      "Epoch 17:\n"
     ]
    },
    {
     "name": "stderr",
     "output_type": "stream",
     "text": [
      "100%|██████████| 200/200 [00:00<00:00, 1158.20it/s]\n",
      "100%|██████████| 200/200 [00:00<00:00, 2027.74it/s]\n"
     ]
    },
    {
     "name": "stdout",
     "output_type": "stream",
     "text": [
      "Epoch 18:\n"
     ]
    },
    {
     "name": "stderr",
     "output_type": "stream",
     "text": [
      "100%|██████████| 200/200 [00:00<00:00, 1169.13it/s]\n",
      "100%|██████████| 200/200 [00:00<00:00, 2019.89it/s]\n"
     ]
    },
    {
     "name": "stdout",
     "output_type": "stream",
     "text": [
      "Epoch 19:\n"
     ]
    },
    {
     "name": "stderr",
     "output_type": "stream",
     "text": [
      "100%|██████████| 200/200 [00:00<00:00, 1162.47it/s]\n",
      "100%|██████████| 200/200 [00:00<00:00, 2021.61it/s]\n"
     ]
    },
    {
     "name": "stdout",
     "output_type": "stream",
     "text": [
      "Epoch 20:\n"
     ]
    },
    {
     "name": "stderr",
     "output_type": "stream",
     "text": [
      "100%|██████████| 200/200 [00:00<00:00, 1159.56it/s]\n",
      "100%|██████████| 200/200 [00:00<00:00, 2007.67it/s]\n"
     ]
    },
    {
     "name": "stdout",
     "output_type": "stream",
     "text": [
      "Epoch 21:\n"
     ]
    },
    {
     "name": "stderr",
     "output_type": "stream",
     "text": [
      "100%|██████████| 200/200 [00:00<00:00, 1165.50it/s]\n",
      "100%|██████████| 200/200 [00:00<00:00, 2021.59it/s]\n"
     ]
    },
    {
     "name": "stdout",
     "output_type": "stream",
     "text": [
      "Epoch 22:\n"
     ]
    },
    {
     "name": "stderr",
     "output_type": "stream",
     "text": [
      "100%|██████████| 200/200 [00:00<00:00, 1166.01it/s]\n",
      "100%|██████████| 200/200 [00:00<00:00, 2022.16it/s]\n"
     ]
    },
    {
     "name": "stdout",
     "output_type": "stream",
     "text": [
      "Epoch 23:\n"
     ]
    },
    {
     "name": "stderr",
     "output_type": "stream",
     "text": [
      "100%|██████████| 200/200 [00:00<00:00, 1131.43it/s]\n",
      "100%|██████████| 200/200 [00:00<00:00, 2039.73it/s]\n"
     ]
    },
    {
     "name": "stdout",
     "output_type": "stream",
     "text": [
      "Epoch 24:\n"
     ]
    },
    {
     "name": "stderr",
     "output_type": "stream",
     "text": [
      "100%|██████████| 200/200 [00:00<00:00, 1176.62it/s]\n",
      "100%|██████████| 200/200 [00:00<00:00, 2046.44it/s]\n"
     ]
    },
    {
     "name": "stdout",
     "output_type": "stream",
     "text": [
      "Epoch 25:\n"
     ]
    },
    {
     "name": "stderr",
     "output_type": "stream",
     "text": [
      "100%|██████████| 200/200 [00:00<00:00, 1158.14it/s]\n",
      "100%|██████████| 200/200 [00:00<00:00, 2025.20it/s]\n"
     ]
    },
    {
     "name": "stdout",
     "output_type": "stream",
     "text": [
      "Epoch 26:\n"
     ]
    },
    {
     "name": "stderr",
     "output_type": "stream",
     "text": [
      "100%|██████████| 200/200 [00:00<00:00, 1152.51it/s]\n",
      "100%|██████████| 200/200 [00:00<00:00, 2031.46it/s]\n"
     ]
    },
    {
     "name": "stdout",
     "output_type": "stream",
     "text": [
      "Epoch 27:\n"
     ]
    },
    {
     "name": "stderr",
     "output_type": "stream",
     "text": [
      "100%|██████████| 200/200 [00:00<00:00, 1142.58it/s]\n",
      "100%|██████████| 200/200 [00:00<00:00, 2026.57it/s]\n"
     ]
    },
    {
     "name": "stdout",
     "output_type": "stream",
     "text": [
      "Epoch 28:\n"
     ]
    },
    {
     "name": "stderr",
     "output_type": "stream",
     "text": [
      "100%|██████████| 200/200 [00:00<00:00, 1141.20it/s]\n",
      "100%|██████████| 200/200 [00:00<00:00, 2046.50it/s]\n"
     ]
    },
    {
     "name": "stdout",
     "output_type": "stream",
     "text": [
      "Epoch 29:\n"
     ]
    },
    {
     "name": "stderr",
     "output_type": "stream",
     "text": [
      "100%|██████████| 200/200 [00:00<00:00, 1140.80it/s]\n",
      "100%|██████████| 200/200 [00:00<00:00, 2042.48it/s]\n"
     ]
    },
    {
     "name": "stdout",
     "output_type": "stream",
     "text": [
      "Epoch 30:\n"
     ]
    },
    {
     "name": "stderr",
     "output_type": "stream",
     "text": [
      "100%|██████████| 200/200 [00:00<00:00, 1146.42it/s]\n",
      "100%|██████████| 200/200 [00:00<00:00, 2061.56it/s]\n"
     ]
    },
    {
     "name": "stdout",
     "output_type": "stream",
     "text": [
      "Best validation accuracy at epoch 30\n"
     ]
    },
    {
     "name": "stderr",
     "output_type": "stream",
     "text": [
      "100%|██████████| 100/100 [00:00<00:00, 1883.78it/s]\n"
     ]
    },
    {
     "name": "stdout",
     "output_type": "stream",
     "text": [
      "{'name': 'random'}\n",
      "{\n",
      "    \"accuracy\": 0.93328125,\n",
      "    \"aupr\": 0.9361303611662485,\n",
      "    \"auroc\": 0.5161344708487178,\n",
      "    \"avg_crr_conf\": 0.5030145640850626,\n",
      "    \"avg_err_conf\": 0.4867877267841991,\n",
      "    \"avg_non_abstain\": 1.0,\n",
      "    \"capacity\": 0.9360915022179648,\n",
      "    \"kendall_tau\": 0.4838655291512823,\n",
      "    \"n_correct\": 5973,\n",
      "    \"n_errors\": 427,\n",
      "    \"validation_loss\": 0.16766131706535817\n",
      "}\n"
     ]
    },
    {
     "name": "stderr",
     "output_type": "stream",
     "text": [
      "100%|██████████| 100/100 [00:00<00:00, 1845.16it/s]\n"
     ]
    },
    {
     "name": "stdout",
     "output_type": "stream",
     "text": [
      "{'name': 'max_prob'}\n",
      "{\n",
      "    \"accuracy\": 0.93328125,\n",
      "    \"aupr\": 0.9942907686796175,\n",
      "    \"auroc\": 0.9240677506233161,\n",
      "    \"avg_crr_conf\": 0.9156431262764163,\n",
      "    \"avg_err_conf\": 0.6496964867556123,\n",
      "    \"avg_non_abstain\": 1.0,\n",
      "    \"capacity\": 0.9923024789273821,\n",
      "    \"kendall_tau\": 0.07593224937668376,\n",
      "    \"n_correct\": 5973,\n",
      "    \"n_errors\": 427,\n",
      "    \"validation_loss\": 0.16766131706535817\n",
      "}\n"
     ]
    },
    {
     "name": "stderr",
     "output_type": "stream",
     "text": [
      "100%|██████████| 100/100 [00:00<00:00, 283.58it/s]"
     ]
    },
    {
     "name": "stdout",
     "output_type": "stream",
     "text": [
      "{'name': 'mcd', 'aggregator': 'mean', 'n_forward_passes': 10}\n",
      "{\n",
      "    \"accuracy\": 0.93328125,\n",
      "    \"aupr\": 0.9929012999198173,\n",
      "    \"auroc\": 0.9088431117232857,\n",
      "    \"avg_crr_conf\": 0.8433735419832521,\n",
      "    \"avg_err_conf\": 0.6024108846656612,\n",
      "    \"avg_non_abstain\": 1.0,\n",
      "    \"capacity\": 0.9909985348726995,\n",
      "    \"kendall_tau\": 0.09115688827671438,\n",
      "    \"n_correct\": 5973,\n",
      "    \"n_errors\": 427,\n",
      "    \"validation_loss\": 0.16766131706535817\n",
      "}\n"
     ]
    },
    {
     "name": "stderr",
     "output_type": "stream",
     "text": [
      "\n"
     ]
    }
   ],
   "source": [
    "from spred.experiment import Experiment\n",
    "exp = Experiment(config)\n",
    "exp_result = exp.run()"
   ]
  },
  {
   "cell_type": "markdown",
   "id": "e91a932d",
   "metadata": {},
   "source": [
    "Once the experiment completes, it reports a variety of evaluation statistics. Some of particular interest:\n",
    "- \"accuracy\": the accuracy of the trained classifier on the entire validation set\n",
    "- \"aupr\": the area under the precision-recall curve for a particular confidence function (higher = better)\n",
    "- \"kendall_tau\": the worst-case normalized Kendall-Tau distance for a particular confidence function (lower = better)\n",
    "\n",
    "You should see kendall_tau values between 0.07 and 0.10 for the **max_prob** and **mcd** confidence functions, whereas the **random** confidence should have a kendall_tau near 0.5."
   ]
  },
  {
   "cell_type": "markdown",
   "id": "019a0a1f",
   "metadata": {},
   "source": [
    "To get a reliable estimate of the effectiveness of different confidence functions, we really should run multiple experiment trials and visualize the results. Let's try 5 trials of our experiment."
   ]
  },
  {
   "cell_type": "code",
   "execution_count": 20,
   "id": "b9b312d5",
   "metadata": {},
   "outputs": [
    {
     "name": "stdout",
     "output_type": "stream",
     "text": [
      "Training with config:\n",
      "{'task': {'name': 'nrmls', 'noise_dim': 50, 'n_train_batches': 200, 'n_validation_batches': 200, 'n_test_batches': 100}, 'model': {'name': 'feedforward', 'input_size': 52, 'hidden_sizes': [128, 64], 'output_size': 2, 'loss': {'name': 'ce'}}, 'confidences': [{'name': 'random'}, {'name': 'max_prob'}, {'name': 'mcd', 'aggregator': 'mean', 'n_forward_passes': 10}], 'optimizer': {'name': 'sgd', 'lr': 0.003, 'momentum': 0.9}, 'bsz': 64, 'n_epochs': 30}\n",
      "Epoch 1:\n"
     ]
    },
    {
     "name": "stderr",
     "output_type": "stream",
     "text": [
      "100%|██████████| 200/200 [00:00<00:00, 1125.77it/s]\n",
      "100%|██████████| 200/200 [00:00<00:00, 2006.62it/s]\n"
     ]
    },
    {
     "name": "stdout",
     "output_type": "stream",
     "text": [
      "Epoch 2:\n"
     ]
    },
    {
     "name": "stderr",
     "output_type": "stream",
     "text": [
      "100%|██████████| 200/200 [00:00<00:00, 1178.66it/s]\n",
      "100%|██████████| 200/200 [00:00<00:00, 2021.59it/s]\n"
     ]
    },
    {
     "name": "stdout",
     "output_type": "stream",
     "text": [
      "Epoch 3:\n"
     ]
    },
    {
     "name": "stderr",
     "output_type": "stream",
     "text": [
      "100%|██████████| 200/200 [00:00<00:00, 1169.35it/s]\n",
      "100%|██████████| 200/200 [00:00<00:00, 2020.87it/s]\n"
     ]
    },
    {
     "name": "stdout",
     "output_type": "stream",
     "text": [
      "Epoch 4:\n"
     ]
    },
    {
     "name": "stderr",
     "output_type": "stream",
     "text": [
      "100%|██████████| 200/200 [00:00<00:00, 1130.43it/s]\n",
      "100%|██████████| 200/200 [00:00<00:00, 2009.83it/s]\n"
     ]
    },
    {
     "name": "stdout",
     "output_type": "stream",
     "text": [
      "Epoch 5:\n"
     ]
    },
    {
     "name": "stderr",
     "output_type": "stream",
     "text": [
      "100%|██████████| 200/200 [00:00<00:00, 1158.98it/s]\n",
      "100%|██████████| 200/200 [00:00<00:00, 2016.95it/s]\n"
     ]
    },
    {
     "name": "stdout",
     "output_type": "stream",
     "text": [
      "Epoch 6:\n"
     ]
    },
    {
     "name": "stderr",
     "output_type": "stream",
     "text": [
      "100%|██████████| 200/200 [00:00<00:00, 1163.40it/s]\n",
      "100%|██████████| 200/200 [00:00<00:00, 2022.04it/s]\n"
     ]
    },
    {
     "name": "stdout",
     "output_type": "stream",
     "text": [
      "Epoch 7:\n"
     ]
    },
    {
     "name": "stderr",
     "output_type": "stream",
     "text": [
      "100%|██████████| 200/200 [00:00<00:00, 1169.77it/s]\n",
      "100%|██████████| 200/200 [00:00<00:00, 2027.12it/s]\n"
     ]
    },
    {
     "name": "stdout",
     "output_type": "stream",
     "text": [
      "Epoch 8:\n"
     ]
    },
    {
     "name": "stderr",
     "output_type": "stream",
     "text": [
      "100%|██████████| 200/200 [00:00<00:00, 1011.48it/s]\n",
      "100%|██████████| 200/200 [00:00<00:00, 2002.82it/s]\n"
     ]
    },
    {
     "name": "stdout",
     "output_type": "stream",
     "text": [
      "Epoch 9:\n"
     ]
    },
    {
     "name": "stderr",
     "output_type": "stream",
     "text": [
      "100%|██████████| 200/200 [00:00<00:00, 1160.07it/s]\n",
      "100%|██████████| 200/200 [00:00<00:00, 2013.71it/s]\n"
     ]
    },
    {
     "name": "stdout",
     "output_type": "stream",
     "text": [
      "Epoch 10:\n"
     ]
    },
    {
     "name": "stderr",
     "output_type": "stream",
     "text": [
      "100%|██████████| 200/200 [00:00<00:00, 1173.58it/s]\n",
      "100%|██████████| 200/200 [00:00<00:00, 2017.90it/s]\n"
     ]
    },
    {
     "name": "stdout",
     "output_type": "stream",
     "text": [
      "Epoch 11:\n"
     ]
    },
    {
     "name": "stderr",
     "output_type": "stream",
     "text": [
      "100%|██████████| 200/200 [00:00<00:00, 1167.56it/s]\n",
      "100%|██████████| 200/200 [00:00<00:00, 2012.72it/s]\n"
     ]
    },
    {
     "name": "stdout",
     "output_type": "stream",
     "text": [
      "Epoch 12:\n"
     ]
    },
    {
     "name": "stderr",
     "output_type": "stream",
     "text": [
      "100%|██████████| 200/200 [00:00<00:00, 1161.77it/s]\n",
      "100%|██████████| 200/200 [00:00<00:00, 2012.36it/s]\n"
     ]
    },
    {
     "name": "stdout",
     "output_type": "stream",
     "text": [
      "Epoch 13:\n"
     ]
    },
    {
     "name": "stderr",
     "output_type": "stream",
     "text": [
      "100%|██████████| 200/200 [00:00<00:00, 1167.38it/s]\n",
      "100%|██████████| 200/200 [00:00<00:00, 1963.52it/s]\n"
     ]
    },
    {
     "name": "stdout",
     "output_type": "stream",
     "text": [
      "Epoch 14:\n"
     ]
    },
    {
     "name": "stderr",
     "output_type": "stream",
     "text": [
      "100%|██████████| 200/200 [00:00<00:00, 1157.56it/s]\n",
      "100%|██████████| 200/200 [00:00<00:00, 2028.43it/s]\n"
     ]
    },
    {
     "name": "stdout",
     "output_type": "stream",
     "text": [
      "Epoch 15:\n"
     ]
    },
    {
     "name": "stderr",
     "output_type": "stream",
     "text": [
      "100%|██████████| 200/200 [00:00<00:00, 1161.10it/s]\n",
      "100%|██████████| 200/200 [00:00<00:00, 2015.74it/s]\n"
     ]
    },
    {
     "name": "stdout",
     "output_type": "stream",
     "text": [
      "Epoch 16:\n"
     ]
    },
    {
     "name": "stderr",
     "output_type": "stream",
     "text": [
      "100%|██████████| 200/200 [00:00<00:00, 1167.58it/s]\n",
      "100%|██████████| 200/200 [00:00<00:00, 2015.94it/s]\n"
     ]
    },
    {
     "name": "stdout",
     "output_type": "stream",
     "text": [
      "Epoch 17:\n"
     ]
    },
    {
     "name": "stderr",
     "output_type": "stream",
     "text": [
      "100%|██████████| 200/200 [00:00<00:00, 1171.37it/s]\n",
      "100%|██████████| 200/200 [00:00<00:00, 2023.39it/s]\n"
     ]
    },
    {
     "name": "stdout",
     "output_type": "stream",
     "text": [
      "Epoch 18:\n"
     ]
    },
    {
     "name": "stderr",
     "output_type": "stream",
     "text": [
      "100%|██████████| 200/200 [00:00<00:00, 1171.68it/s]\n",
      "100%|██████████| 200/200 [00:00<00:00, 1957.80it/s]\n"
     ]
    },
    {
     "name": "stdout",
     "output_type": "stream",
     "text": [
      "Epoch 19:\n"
     ]
    },
    {
     "name": "stderr",
     "output_type": "stream",
     "text": [
      "100%|██████████| 200/200 [00:00<00:00, 1172.93it/s]\n",
      "100%|██████████| 200/200 [00:00<00:00, 2028.72it/s]\n"
     ]
    },
    {
     "name": "stdout",
     "output_type": "stream",
     "text": [
      "Epoch 20:\n"
     ]
    },
    {
     "name": "stderr",
     "output_type": "stream",
     "text": [
      "100%|██████████| 200/200 [00:00<00:00, 1156.18it/s]\n",
      "100%|██████████| 200/200 [00:00<00:00, 2026.44it/s]\n"
     ]
    },
    {
     "name": "stdout",
     "output_type": "stream",
     "text": [
      "Epoch 21:\n"
     ]
    },
    {
     "name": "stderr",
     "output_type": "stream",
     "text": [
      "100%|██████████| 200/200 [00:00<00:00, 1166.92it/s]\n",
      "100%|██████████| 200/200 [00:00<00:00, 2015.36it/s]\n"
     ]
    },
    {
     "name": "stdout",
     "output_type": "stream",
     "text": [
      "Epoch 22:\n"
     ]
    },
    {
     "name": "stderr",
     "output_type": "stream",
     "text": [
      "100%|██████████| 200/200 [00:00<00:00, 1175.62it/s]\n",
      "100%|██████████| 200/200 [00:00<00:00, 2012.24it/s]\n"
     ]
    },
    {
     "name": "stdout",
     "output_type": "stream",
     "text": [
      "Epoch 23:\n"
     ]
    },
    {
     "name": "stderr",
     "output_type": "stream",
     "text": [
      "100%|██████████| 200/200 [00:00<00:00, 1170.73it/s]\n",
      "100%|██████████| 200/200 [00:00<00:00, 2039.00it/s]\n"
     ]
    },
    {
     "name": "stdout",
     "output_type": "stream",
     "text": [
      "Epoch 24:\n"
     ]
    },
    {
     "name": "stderr",
     "output_type": "stream",
     "text": [
      "100%|██████████| 200/200 [00:00<00:00, 1180.10it/s]\n",
      "100%|██████████| 200/200 [00:00<00:00, 2033.76it/s]\n"
     ]
    },
    {
     "name": "stdout",
     "output_type": "stream",
     "text": [
      "Epoch 25:\n"
     ]
    },
    {
     "name": "stderr",
     "output_type": "stream",
     "text": [
      "100%|██████████| 200/200 [00:00<00:00, 1177.25it/s]\n",
      "100%|██████████| 200/200 [00:00<00:00, 2028.19it/s]\n"
     ]
    },
    {
     "name": "stdout",
     "output_type": "stream",
     "text": [
      "Epoch 26:\n"
     ]
    },
    {
     "name": "stderr",
     "output_type": "stream",
     "text": [
      "100%|██████████| 200/200 [00:00<00:00, 1152.83it/s]\n",
      "100%|██████████| 200/200 [00:00<00:00, 2028.09it/s]\n"
     ]
    },
    {
     "name": "stdout",
     "output_type": "stream",
     "text": [
      "Epoch 27:\n"
     ]
    },
    {
     "name": "stderr",
     "output_type": "stream",
     "text": [
      "100%|██████████| 200/200 [00:00<00:00, 1179.91it/s]\n",
      "100%|██████████| 200/200 [00:00<00:00, 1147.53it/s]\n"
     ]
    },
    {
     "name": "stdout",
     "output_type": "stream",
     "text": [
      "Epoch 28:\n"
     ]
    },
    {
     "name": "stderr",
     "output_type": "stream",
     "text": [
      "100%|██████████| 200/200 [00:00<00:00, 1164.70it/s]\n",
      "100%|██████████| 200/200 [00:00<00:00, 2009.95it/s]\n"
     ]
    },
    {
     "name": "stdout",
     "output_type": "stream",
     "text": [
      "Epoch 29:\n"
     ]
    },
    {
     "name": "stderr",
     "output_type": "stream",
     "text": [
      "100%|██████████| 200/200 [00:00<00:00, 1159.93it/s]\n",
      "100%|██████████| 200/200 [00:00<00:00, 2022.63it/s]\n"
     ]
    },
    {
     "name": "stdout",
     "output_type": "stream",
     "text": [
      "Epoch 30:\n"
     ]
    },
    {
     "name": "stderr",
     "output_type": "stream",
     "text": [
      "100%|██████████| 200/200 [00:00<00:00, 1170.01it/s]\n",
      "100%|██████████| 200/200 [00:00<00:00, 2020.18it/s]\n"
     ]
    },
    {
     "name": "stdout",
     "output_type": "stream",
     "text": [
      "Best validation accuracy at epoch 30\n"
     ]
    },
    {
     "name": "stderr",
     "output_type": "stream",
     "text": [
      "100%|██████████| 100/100 [00:00<00:00, 1961.79it/s]\n"
     ]
    },
    {
     "name": "stdout",
     "output_type": "stream",
     "text": [
      "{'name': 'random'}\n",
      "{\n",
      "    \"accuracy\": 0.920625,\n",
      "    \"aupr\": 0.9234203252406297,\n",
      "    \"auroc\": 0.5053124883065787,\n",
      "    \"avg_crr_conf\": 0.5059797258115672,\n",
      "    \"avg_err_conf\": 0.5007177577244015,\n",
      "    \"avg_non_abstain\": 1.0,\n",
      "    \"capacity\": 0.923395421570832,\n",
      "    \"kendall_tau\": 0.49468751169342123,\n",
      "    \"n_correct\": 5892,\n",
      "    \"n_errors\": 508,\n",
      "    \"validation_loss\": 0.272355487793684\n",
      "}\n"
     ]
    },
    {
     "name": "stderr",
     "output_type": "stream",
     "text": [
      "100%|██████████| 100/100 [00:00<00:00, 1906.22it/s]\n"
     ]
    },
    {
     "name": "stdout",
     "output_type": "stream",
     "text": [
      "{'name': 'max_prob'}\n",
      "{\n",
      "    \"accuracy\": 0.920625,\n",
      "    \"aupr\": 0.9903031030662254,\n",
      "    \"auroc\": 0.8981013559023044,\n",
      "    \"avg_crr_conf\": 0.8191761687064122,\n",
      "    \"avg_err_conf\": 0.6033468475257318,\n",
      "    \"avg_non_abstain\": 1.0,\n",
      "    \"capacity\": 0.9876552629294313,\n",
      "    \"kendall_tau\": 0.10189881114657001,\n",
      "    \"n_correct\": 5892,\n",
      "    \"n_errors\": 508,\n",
      "    \"validation_loss\": 0.272355487793684\n",
      "}\n"
     ]
    },
    {
     "name": "stderr",
     "output_type": "stream",
     "text": [
      "100%|██████████| 100/100 [00:00<00:00, 289.18it/s]\n"
     ]
    },
    {
     "name": "stdout",
     "output_type": "stream",
     "text": [
      "{'name': 'mcd', 'aggregator': 'mean', 'n_forward_passes': 10}\n",
      "{\n",
      "    \"accuracy\": 0.920625,\n",
      "    \"aupr\": 0.9860446650594443,\n",
      "    \"auroc\": 0.8601394991741104,\n",
      "    \"avg_crr_conf\": 0.741693340697138,\n",
      "    \"avg_err_conf\": 0.5734250510888775,\n",
      "    \"avg_non_abstain\": 1.0,\n",
      "    \"capacity\": 0.9836481740974118,\n",
      "    \"kendall_tau\": 0.13986066787476412,\n",
      "    \"n_correct\": 5892,\n",
      "    \"n_errors\": 508,\n",
      "    \"validation_loss\": 0.272355487793684\n",
      "}\n",
      "Training with config:\n",
      "{'task': {'name': 'nrmls', 'noise_dim': 50, 'n_train_batches': 200, 'n_validation_batches': 200, 'n_test_batches': 100}, 'model': {'name': 'feedforward', 'input_size': 52, 'hidden_sizes': [128, 64], 'output_size': 2, 'loss': {'name': 'ce'}}, 'confidences': [{'name': 'random'}, {'name': 'max_prob'}, {'name': 'mcd', 'aggregator': 'mean', 'n_forward_passes': 10}], 'optimizer': {'name': 'sgd', 'lr': 0.003, 'momentum': 0.9}, 'bsz': 64, 'n_epochs': 30}\n",
      "Epoch 1:\n"
     ]
    },
    {
     "name": "stderr",
     "output_type": "stream",
     "text": [
      "100%|██████████| 200/200 [00:00<00:00, 1170.20it/s]\n",
      "100%|██████████| 200/200 [00:00<00:00, 2012.96it/s]\n"
     ]
    },
    {
     "name": "stdout",
     "output_type": "stream",
     "text": [
      "Epoch 2:\n"
     ]
    },
    {
     "name": "stderr",
     "output_type": "stream",
     "text": [
      "100%|██████████| 200/200 [00:00<00:00, 1176.30it/s]\n",
      "100%|██████████| 200/200 [00:00<00:00, 2032.98it/s]\n"
     ]
    },
    {
     "name": "stdout",
     "output_type": "stream",
     "text": [
      "Epoch 3:\n"
     ]
    },
    {
     "name": "stderr",
     "output_type": "stream",
     "text": [
      "100%|██████████| 200/200 [00:00<00:00, 1169.73it/s]\n",
      "100%|██████████| 200/200 [00:00<00:00, 1953.70it/s]\n"
     ]
    },
    {
     "name": "stdout",
     "output_type": "stream",
     "text": [
      "Epoch 4:\n"
     ]
    },
    {
     "name": "stderr",
     "output_type": "stream",
     "text": [
      "100%|██████████| 200/200 [00:00<00:00, 1165.70it/s]\n",
      "100%|██████████| 200/200 [00:00<00:00, 2019.39it/s]\n"
     ]
    },
    {
     "name": "stdout",
     "output_type": "stream",
     "text": [
      "Epoch 5:\n"
     ]
    },
    {
     "name": "stderr",
     "output_type": "stream",
     "text": [
      "100%|██████████| 200/200 [00:00<00:00, 1134.68it/s]\n",
      "100%|██████████| 200/200 [00:00<00:00, 1999.52it/s]\n"
     ]
    },
    {
     "name": "stdout",
     "output_type": "stream",
     "text": [
      "Epoch 6:\n"
     ]
    },
    {
     "name": "stderr",
     "output_type": "stream",
     "text": [
      "100%|██████████| 200/200 [00:00<00:00, 1122.44it/s]\n",
      "100%|██████████| 200/200 [00:00<00:00, 1898.83it/s]\n"
     ]
    },
    {
     "name": "stdout",
     "output_type": "stream",
     "text": [
      "Epoch 7:\n"
     ]
    },
    {
     "name": "stderr",
     "output_type": "stream",
     "text": [
      "100%|██████████| 200/200 [00:00<00:00, 1162.73it/s]\n",
      "100%|██████████| 200/200 [00:00<00:00, 2024.01it/s]\n"
     ]
    },
    {
     "name": "stdout",
     "output_type": "stream",
     "text": [
      "Epoch 8:\n"
     ]
    },
    {
     "name": "stderr",
     "output_type": "stream",
     "text": [
      "100%|██████████| 200/200 [00:00<00:00, 1057.46it/s]\n",
      "100%|██████████| 200/200 [00:00<00:00, 1955.26it/s]\n"
     ]
    },
    {
     "name": "stdout",
     "output_type": "stream",
     "text": [
      "Epoch 9:\n"
     ]
    },
    {
     "name": "stderr",
     "output_type": "stream",
     "text": [
      "100%|██████████| 200/200 [00:00<00:00, 1132.62it/s]\n",
      "100%|██████████| 200/200 [00:00<00:00, 2001.14it/s]\n"
     ]
    },
    {
     "name": "stdout",
     "output_type": "stream",
     "text": [
      "Epoch 10:\n"
     ]
    },
    {
     "name": "stderr",
     "output_type": "stream",
     "text": [
      "100%|██████████| 200/200 [00:00<00:00, 1151.01it/s]\n",
      "100%|██████████| 200/200 [00:00<00:00, 2012.54it/s]\n"
     ]
    },
    {
     "name": "stdout",
     "output_type": "stream",
     "text": [
      "Epoch 11:\n"
     ]
    },
    {
     "name": "stderr",
     "output_type": "stream",
     "text": [
      "100%|██████████| 200/200 [00:00<00:00, 1134.96it/s]\n",
      "100%|██████████| 200/200 [00:00<00:00, 1998.44it/s]\n"
     ]
    },
    {
     "name": "stdout",
     "output_type": "stream",
     "text": [
      "Epoch 12:\n"
     ]
    },
    {
     "name": "stderr",
     "output_type": "stream",
     "text": [
      "100%|██████████| 200/200 [00:00<00:00, 1160.53it/s]\n",
      "100%|██████████| 200/200 [00:00<00:00, 2010.09it/s]\n"
     ]
    },
    {
     "name": "stdout",
     "output_type": "stream",
     "text": [
      "Epoch 13:\n"
     ]
    },
    {
     "name": "stderr",
     "output_type": "stream",
     "text": [
      "100%|██████████| 200/200 [00:00<00:00, 1179.64it/s]\n",
      "100%|██████████| 200/200 [00:00<00:00, 2026.26it/s]\n"
     ]
    },
    {
     "name": "stdout",
     "output_type": "stream",
     "text": [
      "Epoch 14:\n"
     ]
    },
    {
     "name": "stderr",
     "output_type": "stream",
     "text": [
      "100%|██████████| 200/200 [00:00<00:00, 1164.31it/s]\n",
      "100%|██████████| 200/200 [00:00<00:00, 2042.40it/s]\n"
     ]
    },
    {
     "name": "stdout",
     "output_type": "stream",
     "text": [
      "Epoch 15:\n"
     ]
    },
    {
     "name": "stderr",
     "output_type": "stream",
     "text": [
      "100%|██████████| 200/200 [00:00<00:00, 1167.59it/s]\n",
      "100%|██████████| 200/200 [00:00<00:00, 2001.04it/s]\n"
     ]
    },
    {
     "name": "stdout",
     "output_type": "stream",
     "text": [
      "Epoch 16:\n"
     ]
    },
    {
     "name": "stderr",
     "output_type": "stream",
     "text": [
      "100%|██████████| 200/200 [00:00<00:00, 1171.13it/s]\n",
      "100%|██████████| 200/200 [00:00<00:00, 2022.18it/s]\n"
     ]
    },
    {
     "name": "stdout",
     "output_type": "stream",
     "text": [
      "Epoch 17:\n"
     ]
    },
    {
     "name": "stderr",
     "output_type": "stream",
     "text": [
      "100%|██████████| 200/200 [00:00<00:00, 1150.17it/s]\n",
      "100%|██████████| 200/200 [00:00<00:00, 2008.72it/s]\n"
     ]
    },
    {
     "name": "stdout",
     "output_type": "stream",
     "text": [
      "Epoch 18:\n"
     ]
    },
    {
     "name": "stderr",
     "output_type": "stream",
     "text": [
      "100%|██████████| 200/200 [00:00<00:00, 1167.57it/s]\n",
      "100%|██████████| 200/200 [00:00<00:00, 2036.22it/s]\n"
     ]
    },
    {
     "name": "stdout",
     "output_type": "stream",
     "text": [
      "Epoch 19:\n"
     ]
    },
    {
     "name": "stderr",
     "output_type": "stream",
     "text": [
      "100%|██████████| 200/200 [00:00<00:00, 1182.42it/s]\n",
      "100%|██████████| 200/200 [00:00<00:00, 2025.72it/s]\n"
     ]
    },
    {
     "name": "stdout",
     "output_type": "stream",
     "text": [
      "Epoch 20:\n"
     ]
    },
    {
     "name": "stderr",
     "output_type": "stream",
     "text": [
      "100%|██████████| 200/200 [00:00<00:00, 1181.24it/s]\n",
      "100%|██████████| 200/200 [00:00<00:00, 2039.53it/s]\n"
     ]
    },
    {
     "name": "stdout",
     "output_type": "stream",
     "text": [
      "Epoch 21:\n"
     ]
    },
    {
     "name": "stderr",
     "output_type": "stream",
     "text": [
      "100%|██████████| 200/200 [00:00<00:00, 1181.06it/s]\n",
      "100%|██████████| 200/200 [00:00<00:00, 2032.93it/s]\n"
     ]
    },
    {
     "name": "stdout",
     "output_type": "stream",
     "text": [
      "Epoch 22:\n"
     ]
    },
    {
     "name": "stderr",
     "output_type": "stream",
     "text": [
      "100%|██████████| 200/200 [00:00<00:00, 1171.92it/s]\n",
      "100%|██████████| 200/200 [00:00<00:00, 2035.36it/s]\n"
     ]
    },
    {
     "name": "stdout",
     "output_type": "stream",
     "text": [
      "Epoch 23:\n"
     ]
    },
    {
     "name": "stderr",
     "output_type": "stream",
     "text": [
      "100%|██████████| 200/200 [00:00<00:00, 1170.14it/s]\n",
      "100%|██████████| 200/200 [00:00<00:00, 2040.61it/s]\n"
     ]
    },
    {
     "name": "stdout",
     "output_type": "stream",
     "text": [
      "Epoch 24:\n"
     ]
    },
    {
     "name": "stderr",
     "output_type": "stream",
     "text": [
      "100%|██████████| 200/200 [00:00<00:00, 1168.33it/s]\n",
      "100%|██████████| 200/200 [00:00<00:00, 2034.43it/s]\n"
     ]
    },
    {
     "name": "stdout",
     "output_type": "stream",
     "text": [
      "Epoch 25:\n"
     ]
    },
    {
     "name": "stderr",
     "output_type": "stream",
     "text": [
      "100%|██████████| 200/200 [00:00<00:00, 1165.57it/s]\n",
      "100%|██████████| 200/200 [00:00<00:00, 2050.53it/s]\n"
     ]
    },
    {
     "name": "stdout",
     "output_type": "stream",
     "text": [
      "Epoch 26:\n"
     ]
    },
    {
     "name": "stderr",
     "output_type": "stream",
     "text": [
      "100%|██████████| 200/200 [00:00<00:00, 1135.07it/s]\n",
      "100%|██████████| 200/200 [00:00<00:00, 2030.67it/s]\n"
     ]
    },
    {
     "name": "stdout",
     "output_type": "stream",
     "text": [
      "Epoch 27:\n"
     ]
    },
    {
     "name": "stderr",
     "output_type": "stream",
     "text": [
      "100%|██████████| 200/200 [00:00<00:00, 1163.95it/s]\n",
      "100%|██████████| 200/200 [00:00<00:00, 2053.05it/s]\n"
     ]
    },
    {
     "name": "stdout",
     "output_type": "stream",
     "text": [
      "Epoch 28:\n"
     ]
    },
    {
     "name": "stderr",
     "output_type": "stream",
     "text": [
      "100%|██████████| 200/200 [00:00<00:00, 1165.86it/s]\n",
      "100%|██████████| 200/200 [00:00<00:00, 2045.45it/s]\n"
     ]
    },
    {
     "name": "stdout",
     "output_type": "stream",
     "text": [
      "Epoch 29:\n"
     ]
    },
    {
     "name": "stderr",
     "output_type": "stream",
     "text": [
      "100%|██████████| 200/200 [00:00<00:00, 1164.66it/s]\n",
      "100%|██████████| 200/200 [00:00<00:00, 2055.77it/s]\n"
     ]
    },
    {
     "name": "stdout",
     "output_type": "stream",
     "text": [
      "Epoch 30:\n"
     ]
    },
    {
     "name": "stderr",
     "output_type": "stream",
     "text": [
      "100%|██████████| 200/200 [00:00<00:00, 1162.48it/s]\n",
      "100%|██████████| 200/200 [00:00<00:00, 2039.34it/s]\n"
     ]
    },
    {
     "name": "stdout",
     "output_type": "stream",
     "text": [
      "Best validation accuracy at epoch 30\n"
     ]
    },
    {
     "name": "stderr",
     "output_type": "stream",
     "text": [
      "100%|██████████| 100/100 [00:00<00:00, 1956.25it/s]\n"
     ]
    },
    {
     "name": "stdout",
     "output_type": "stream",
     "text": [
      "{'name': 'random'}\n",
      "{\n",
      "    \"accuracy\": 0.91703125,\n",
      "    \"aupr\": 0.913185562048392,\n",
      "    \"auroc\": 0.4818170674927377,\n",
      "    \"avg_crr_conf\": 0.49964370805129704,\n",
      "    \"avg_err_conf\": 0.5179620700591926,\n",
      "    \"avg_non_abstain\": 1.0,\n",
      "    \"capacity\": 0.9131346636270481,\n",
      "    \"kendall_tau\": 0.5181830929467895,\n",
      "    \"n_correct\": 5869,\n",
      "    \"n_errors\": 531,\n",
      "    \"validation_loss\": 0.18554836615920067\n",
      "}\n"
     ]
    },
    {
     "name": "stderr",
     "output_type": "stream",
     "text": [
      "100%|██████████| 100/100 [00:00<00:00, 1822.62it/s]\n"
     ]
    },
    {
     "name": "stdout",
     "output_type": "stream",
     "text": [
      "{'name': 'max_prob'}\n",
      "{\n",
      "    \"accuracy\": 0.91703125,\n",
      "    \"aupr\": 0.9926695239692966,\n",
      "    \"auroc\": 0.9234605586696869,\n",
      "    \"avg_crr_conf\": 0.9229449087461594,\n",
      "    \"avg_err_conf\": 0.6913698966669273,\n",
      "    \"avg_non_abstain\": 1.0,\n",
      "    \"capacity\": 0.9896209497604075,\n",
      "    \"kendall_tau\": 0.07653960176984051,\n",
      "    \"n_correct\": 5869,\n",
      "    \"n_errors\": 531,\n",
      "    \"validation_loss\": 0.18554836615920067\n",
      "}\n"
     ]
    },
    {
     "name": "stderr",
     "output_type": "stream",
     "text": [
      "100%|██████████| 100/100 [00:00<00:00, 290.35it/s]\n"
     ]
    },
    {
     "name": "stdout",
     "output_type": "stream",
     "text": [
      "{'name': 'mcd', 'aggregator': 'mean', 'n_forward_passes': 10}\n",
      "{\n",
      "    \"accuracy\": 0.91703125,\n",
      "    \"aupr\": 0.9901802626918055,\n",
      "    \"auroc\": 0.8992125307121366,\n",
      "    \"avg_crr_conf\": 0.8597120315897788,\n",
      "    \"avg_err_conf\": 0.644418157370526,\n",
      "    \"avg_non_abstain\": 1.0,\n",
      "    \"capacity\": 0.9872527238715773,\n",
      "    \"kendall_tau\": 0.10078746928786349,\n",
      "    \"n_correct\": 5869,\n",
      "    \"n_errors\": 531,\n",
      "    \"validation_loss\": 0.18554836615920067\n",
      "}\n",
      "Training with config:\n",
      "{'task': {'name': 'nrmls', 'noise_dim': 50, 'n_train_batches': 200, 'n_validation_batches': 200, 'n_test_batches': 100}, 'model': {'name': 'feedforward', 'input_size': 52, 'hidden_sizes': [128, 64], 'output_size': 2, 'loss': {'name': 'ce'}}, 'confidences': [{'name': 'random'}, {'name': 'max_prob'}, {'name': 'mcd', 'aggregator': 'mean', 'n_forward_passes': 10}], 'optimizer': {'name': 'sgd', 'lr': 0.003, 'momentum': 0.9}, 'bsz': 64, 'n_epochs': 30}\n",
      "Epoch 1:\n"
     ]
    },
    {
     "name": "stderr",
     "output_type": "stream",
     "text": [
      "100%|██████████| 200/200 [00:00<00:00, 1178.81it/s]\n",
      "100%|██████████| 200/200 [00:00<00:00, 2014.99it/s]\n"
     ]
    },
    {
     "name": "stdout",
     "output_type": "stream",
     "text": [
      "Epoch 2:\n"
     ]
    },
    {
     "name": "stderr",
     "output_type": "stream",
     "text": [
      "100%|██████████| 200/200 [00:00<00:00, 1156.16it/s]\n",
      "100%|██████████| 200/200 [00:00<00:00, 2032.60it/s]\n"
     ]
    },
    {
     "name": "stdout",
     "output_type": "stream",
     "text": [
      "Epoch 3:\n"
     ]
    },
    {
     "name": "stderr",
     "output_type": "stream",
     "text": [
      "100%|██████████| 200/200 [00:00<00:00, 1181.03it/s]\n",
      "100%|██████████| 200/200 [00:00<00:00, 2037.49it/s]\n"
     ]
    },
    {
     "name": "stdout",
     "output_type": "stream",
     "text": [
      "Epoch 4:\n"
     ]
    },
    {
     "name": "stderr",
     "output_type": "stream",
     "text": [
      "100%|██████████| 200/200 [00:00<00:00, 1180.51it/s]\n",
      "100%|██████████| 200/200 [00:00<00:00, 2037.62it/s]\n"
     ]
    },
    {
     "name": "stdout",
     "output_type": "stream",
     "text": [
      "Epoch 5:\n"
     ]
    },
    {
     "name": "stderr",
     "output_type": "stream",
     "text": [
      "100%|██████████| 200/200 [00:00<00:00, 1181.86it/s]\n",
      "100%|██████████| 200/200 [00:00<00:00, 2033.52it/s]\n"
     ]
    },
    {
     "name": "stdout",
     "output_type": "stream",
     "text": [
      "Epoch 6:\n"
     ]
    },
    {
     "name": "stderr",
     "output_type": "stream",
     "text": [
      "100%|██████████| 200/200 [00:00<00:00, 1180.57it/s]\n",
      "100%|██████████| 200/200 [00:00<00:00, 2035.97it/s]\n"
     ]
    },
    {
     "name": "stdout",
     "output_type": "stream",
     "text": [
      "Epoch 7:\n"
     ]
    },
    {
     "name": "stderr",
     "output_type": "stream",
     "text": [
      "100%|██████████| 200/200 [00:00<00:00, 1176.31it/s]\n",
      "100%|██████████| 200/200 [00:00<00:00, 2040.03it/s]\n"
     ]
    },
    {
     "name": "stdout",
     "output_type": "stream",
     "text": [
      "Epoch 8:\n"
     ]
    },
    {
     "name": "stderr",
     "output_type": "stream",
     "text": [
      "100%|██████████| 200/200 [00:00<00:00, 1176.43it/s]\n",
      "100%|██████████| 200/200 [00:00<00:00, 2027.33it/s]\n"
     ]
    },
    {
     "name": "stdout",
     "output_type": "stream",
     "text": [
      "Epoch 9:\n"
     ]
    },
    {
     "name": "stderr",
     "output_type": "stream",
     "text": [
      "100%|██████████| 200/200 [00:00<00:00, 1183.12it/s]\n",
      "100%|██████████| 200/200 [00:00<00:00, 2030.21it/s]\n"
     ]
    },
    {
     "name": "stdout",
     "output_type": "stream",
     "text": [
      "Epoch 10:\n"
     ]
    },
    {
     "name": "stderr",
     "output_type": "stream",
     "text": [
      "100%|██████████| 200/200 [00:00<00:00, 1177.86it/s]\n",
      "100%|██████████| 200/200 [00:00<00:00, 2033.05it/s]\n"
     ]
    },
    {
     "name": "stdout",
     "output_type": "stream",
     "text": [
      "Epoch 11:\n"
     ]
    },
    {
     "name": "stderr",
     "output_type": "stream",
     "text": [
      "100%|██████████| 200/200 [00:00<00:00, 1184.22it/s]\n",
      "100%|██████████| 200/200 [00:00<00:00, 2044.88it/s]\n"
     ]
    },
    {
     "name": "stdout",
     "output_type": "stream",
     "text": [
      "Epoch 12:\n"
     ]
    },
    {
     "name": "stderr",
     "output_type": "stream",
     "text": [
      "100%|██████████| 200/200 [00:00<00:00, 1182.77it/s]\n",
      "100%|██████████| 200/200 [00:00<00:00, 2033.26it/s]\n"
     ]
    },
    {
     "name": "stdout",
     "output_type": "stream",
     "text": [
      "Epoch 13:\n"
     ]
    },
    {
     "name": "stderr",
     "output_type": "stream",
     "text": [
      "100%|██████████| 200/200 [00:00<00:00, 1181.50it/s]\n",
      "100%|██████████| 200/200 [00:00<00:00, 2023.06it/s]\n"
     ]
    },
    {
     "name": "stdout",
     "output_type": "stream",
     "text": [
      "Epoch 14:\n"
     ]
    },
    {
     "name": "stderr",
     "output_type": "stream",
     "text": [
      "100%|██████████| 200/200 [00:00<00:00, 1184.85it/s]\n",
      "100%|██████████| 200/200 [00:00<00:00, 2039.32it/s]\n"
     ]
    },
    {
     "name": "stdout",
     "output_type": "stream",
     "text": [
      "Epoch 15:\n"
     ]
    },
    {
     "name": "stderr",
     "output_type": "stream",
     "text": [
      "100%|██████████| 200/200 [00:00<00:00, 1183.98it/s]\n",
      "100%|██████████| 200/200 [00:00<00:00, 2034.25it/s]\n"
     ]
    },
    {
     "name": "stdout",
     "output_type": "stream",
     "text": [
      "Epoch 16:\n"
     ]
    },
    {
     "name": "stderr",
     "output_type": "stream",
     "text": [
      "100%|██████████| 200/200 [00:00<00:00, 1184.84it/s]\n",
      "100%|██████████| 200/200 [00:00<00:00, 2029.39it/s]\n"
     ]
    },
    {
     "name": "stdout",
     "output_type": "stream",
     "text": [
      "Epoch 17:\n"
     ]
    },
    {
     "name": "stderr",
     "output_type": "stream",
     "text": [
      "100%|██████████| 200/200 [00:00<00:00, 1176.84it/s]\n",
      "100%|██████████| 200/200 [00:00<00:00, 2035.00it/s]\n"
     ]
    },
    {
     "name": "stdout",
     "output_type": "stream",
     "text": [
      "Epoch 18:\n"
     ]
    },
    {
     "name": "stderr",
     "output_type": "stream",
     "text": [
      "100%|██████████| 200/200 [00:00<00:00, 1173.46it/s]\n",
      "100%|██████████| 200/200 [00:00<00:00, 2033.66it/s]\n"
     ]
    },
    {
     "name": "stdout",
     "output_type": "stream",
     "text": [
      "Epoch 19:\n"
     ]
    },
    {
     "name": "stderr",
     "output_type": "stream",
     "text": [
      "100%|██████████| 200/200 [00:00<00:00, 1181.74it/s]\n",
      "100%|██████████| 200/200 [00:00<00:00, 2038.93it/s]\n"
     ]
    },
    {
     "name": "stdout",
     "output_type": "stream",
     "text": [
      "Epoch 20:\n"
     ]
    },
    {
     "name": "stderr",
     "output_type": "stream",
     "text": [
      "100%|██████████| 200/200 [00:00<00:00, 1183.53it/s]\n",
      "100%|██████████| 200/200 [00:00<00:00, 2027.16it/s]\n"
     ]
    },
    {
     "name": "stdout",
     "output_type": "stream",
     "text": [
      "Epoch 21:\n"
     ]
    },
    {
     "name": "stderr",
     "output_type": "stream",
     "text": [
      "100%|██████████| 200/200 [00:00<00:00, 1181.17it/s]\n",
      "100%|██████████| 200/200 [00:00<00:00, 2029.67it/s]\n"
     ]
    },
    {
     "name": "stdout",
     "output_type": "stream",
     "text": [
      "Epoch 22:\n"
     ]
    },
    {
     "name": "stderr",
     "output_type": "stream",
     "text": [
      "100%|██████████| 200/200 [00:00<00:00, 1173.63it/s]\n",
      "100%|██████████| 200/200 [00:00<00:00, 2029.78it/s]\n"
     ]
    },
    {
     "name": "stdout",
     "output_type": "stream",
     "text": [
      "Epoch 23:\n"
     ]
    },
    {
     "name": "stderr",
     "output_type": "stream",
     "text": [
      "100%|██████████| 200/200 [00:00<00:00, 1169.19it/s]\n",
      "100%|██████████| 200/200 [00:00<00:00, 2035.40it/s]\n"
     ]
    },
    {
     "name": "stdout",
     "output_type": "stream",
     "text": [
      "Epoch 24:\n"
     ]
    },
    {
     "name": "stderr",
     "output_type": "stream",
     "text": [
      "100%|██████████| 200/200 [00:00<00:00, 1172.94it/s]\n",
      "100%|██████████| 200/200 [00:00<00:00, 2029.47it/s]\n"
     ]
    },
    {
     "name": "stdout",
     "output_type": "stream",
     "text": [
      "Epoch 25:\n"
     ]
    },
    {
     "name": "stderr",
     "output_type": "stream",
     "text": [
      "100%|██████████| 200/200 [00:00<00:00, 1167.66it/s]\n",
      "100%|██████████| 200/200 [00:00<00:00, 2026.12it/s]\n"
     ]
    },
    {
     "name": "stdout",
     "output_type": "stream",
     "text": [
      "Epoch 26:\n"
     ]
    },
    {
     "name": "stderr",
     "output_type": "stream",
     "text": [
      "100%|██████████| 200/200 [00:00<00:00, 1160.12it/s]\n",
      "100%|██████████| 200/200 [00:00<00:00, 2021.79it/s]\n"
     ]
    },
    {
     "name": "stdout",
     "output_type": "stream",
     "text": [
      "Epoch 27:\n"
     ]
    },
    {
     "name": "stderr",
     "output_type": "stream",
     "text": [
      "100%|██████████| 200/200 [00:00<00:00, 1162.54it/s]\n",
      "100%|██████████| 200/200 [00:00<00:00, 2027.53it/s]\n"
     ]
    },
    {
     "name": "stdout",
     "output_type": "stream",
     "text": [
      "Epoch 28:\n"
     ]
    },
    {
     "name": "stderr",
     "output_type": "stream",
     "text": [
      "100%|██████████| 200/200 [00:00<00:00, 1164.01it/s]\n",
      "100%|██████████| 200/200 [00:00<00:00, 2027.56it/s]\n"
     ]
    },
    {
     "name": "stdout",
     "output_type": "stream",
     "text": [
      "Epoch 29:\n"
     ]
    },
    {
     "name": "stderr",
     "output_type": "stream",
     "text": [
      "100%|██████████| 200/200 [00:00<00:00, 1160.67it/s]\n",
      "100%|██████████| 200/200 [00:00<00:00, 2040.73it/s]\n"
     ]
    },
    {
     "name": "stdout",
     "output_type": "stream",
     "text": [
      "Epoch 30:\n"
     ]
    },
    {
     "name": "stderr",
     "output_type": "stream",
     "text": [
      "100%|██████████| 200/200 [00:00<00:00, 1157.45it/s]\n",
      "100%|██████████| 200/200 [00:00<00:00, 2031.92it/s]\n"
     ]
    },
    {
     "name": "stdout",
     "output_type": "stream",
     "text": [
      "Best validation accuracy at epoch 30\n"
     ]
    },
    {
     "name": "stderr",
     "output_type": "stream",
     "text": [
      "100%|██████████| 100/100 [00:00<00:00, 1954.88it/s]\n"
     ]
    },
    {
     "name": "stdout",
     "output_type": "stream",
     "text": [
      "{'name': 'random'}\n",
      "{\n",
      "    \"accuracy\": 0.9215625,\n",
      "    \"aupr\": 0.9197920118202106,\n",
      "    \"auroc\": 0.4927811642544775,\n",
      "    \"avg_crr_conf\": 0.5065230574798648,\n",
      "    \"avg_err_conf\": 0.5136249687567175,\n",
      "    \"avg_non_abstain\": 1.0,\n",
      "    \"capacity\": 0.9196912737837928,\n",
      "    \"kendall_tau\": 0.5072190046190281,\n",
      "    \"n_correct\": 5898,\n",
      "    \"n_errors\": 502,\n",
      "    \"validation_loss\": 0.20172020092606543\n",
      "}\n"
     ]
    },
    {
     "name": "stderr",
     "output_type": "stream",
     "text": [
      "100%|██████████| 100/100 [00:00<00:00, 1903.53it/s]\n"
     ]
    },
    {
     "name": "stdout",
     "output_type": "stream",
     "text": [
      "{'name': 'max_prob'}\n",
      "{\n",
      "    \"accuracy\": 0.9215625,\n",
      "    \"aupr\": 0.9905930708156954,\n",
      "    \"auroc\": 0.900638882246531,\n",
      "    \"avg_crr_conf\": 0.9038047117271759,\n",
      "    \"avg_err_conf\": 0.6964725690533915,\n",
      "    \"avg_non_abstain\": 1.0,\n",
      "    \"capacity\": 0.9880142370573425,\n",
      "    \"kendall_tau\": 0.099361117753469,\n",
      "    \"n_correct\": 5898,\n",
      "    \"n_errors\": 502,\n",
      "    \"validation_loss\": 0.20172020092606543\n",
      "}\n"
     ]
    },
    {
     "name": "stderr",
     "output_type": "stream",
     "text": [
      "100%|██████████| 100/100 [00:00<00:00, 287.94it/s]\n"
     ]
    },
    {
     "name": "stdout",
     "output_type": "stream",
     "text": [
      "{'name': 'mcd', 'aggregator': 'mean', 'n_forward_passes': 10}\n",
      "{\n",
      "    \"accuracy\": 0.9215625,\n",
      "    \"aupr\": 0.9870881305855785,\n",
      "    \"auroc\": 0.8659252444275121,\n",
      "    \"avg_crr_conf\": 0.839392287215163,\n",
      "    \"avg_err_conf\": 0.656461229777906,\n",
      "    \"avg_non_abstain\": 1.0,\n",
      "    \"capacity\": 0.984681072984613,\n",
      "    \"kendall_tau\": 0.13407475557248794,\n",
      "    \"n_correct\": 5898,\n",
      "    \"n_errors\": 502,\n",
      "    \"validation_loss\": 0.20172020092606543\n",
      "}\n",
      "Training with config:\n",
      "{'task': {'name': 'nrmls', 'noise_dim': 50, 'n_train_batches': 200, 'n_validation_batches': 200, 'n_test_batches': 100}, 'model': {'name': 'feedforward', 'input_size': 52, 'hidden_sizes': [128, 64], 'output_size': 2, 'loss': {'name': 'ce'}}, 'confidences': [{'name': 'random'}, {'name': 'max_prob'}, {'name': 'mcd', 'aggregator': 'mean', 'n_forward_passes': 10}], 'optimizer': {'name': 'sgd', 'lr': 0.003, 'momentum': 0.9}, 'bsz': 64, 'n_epochs': 30}\n",
      "Epoch 1:\n"
     ]
    },
    {
     "name": "stderr",
     "output_type": "stream",
     "text": [
      "100%|██████████| 200/200 [00:00<00:00, 1176.42it/s]\n",
      "100%|██████████| 200/200 [00:00<00:00, 2034.77it/s]\n"
     ]
    },
    {
     "name": "stdout",
     "output_type": "stream",
     "text": [
      "Epoch 2:\n"
     ]
    },
    {
     "name": "stderr",
     "output_type": "stream",
     "text": [
      "100%|██████████| 200/200 [00:00<00:00, 1177.92it/s]\n",
      "100%|██████████| 200/200 [00:00<00:00, 2032.21it/s]\n"
     ]
    },
    {
     "name": "stdout",
     "output_type": "stream",
     "text": [
      "Epoch 3:\n"
     ]
    },
    {
     "name": "stderr",
     "output_type": "stream",
     "text": [
      "100%|██████████| 200/200 [00:00<00:00, 1172.28it/s]\n",
      "100%|██████████| 200/200 [00:00<00:00, 2036.28it/s]\n"
     ]
    },
    {
     "name": "stdout",
     "output_type": "stream",
     "text": [
      "Epoch 4:\n"
     ]
    },
    {
     "name": "stderr",
     "output_type": "stream",
     "text": [
      "100%|██████████| 200/200 [00:00<00:00, 958.78it/s]\n",
      "100%|██████████| 200/200 [00:00<00:00, 1845.46it/s]\n"
     ]
    },
    {
     "name": "stdout",
     "output_type": "stream",
     "text": [
      "Epoch 5:\n"
     ]
    },
    {
     "name": "stderr",
     "output_type": "stream",
     "text": [
      "100%|██████████| 200/200 [00:00<00:00, 1167.42it/s]\n",
      "100%|██████████| 200/200 [00:00<00:00, 2023.75it/s]\n"
     ]
    },
    {
     "name": "stdout",
     "output_type": "stream",
     "text": [
      "Epoch 6:\n"
     ]
    },
    {
     "name": "stderr",
     "output_type": "stream",
     "text": [
      "100%|██████████| 200/200 [00:00<00:00, 1179.80it/s]\n",
      "100%|██████████| 200/200 [00:00<00:00, 2029.57it/s]\n"
     ]
    },
    {
     "name": "stdout",
     "output_type": "stream",
     "text": [
      "Epoch 7:\n"
     ]
    },
    {
     "name": "stderr",
     "output_type": "stream",
     "text": [
      "100%|██████████| 200/200 [00:00<00:00, 1173.08it/s]\n",
      "100%|██████████| 200/200 [00:00<00:00, 2024.78it/s]\n"
     ]
    },
    {
     "name": "stdout",
     "output_type": "stream",
     "text": [
      "Epoch 8:\n"
     ]
    },
    {
     "name": "stderr",
     "output_type": "stream",
     "text": [
      "100%|██████████| 200/200 [00:00<00:00, 1173.37it/s]\n",
      "100%|██████████| 200/200 [00:00<00:00, 2027.66it/s]\n"
     ]
    },
    {
     "name": "stdout",
     "output_type": "stream",
     "text": [
      "Epoch 9:\n"
     ]
    },
    {
     "name": "stderr",
     "output_type": "stream",
     "text": [
      "100%|██████████| 200/200 [00:00<00:00, 1182.32it/s]\n",
      "100%|██████████| 200/200 [00:00<00:00, 2035.98it/s]\n"
     ]
    },
    {
     "name": "stdout",
     "output_type": "stream",
     "text": [
      "Epoch 10:\n"
     ]
    },
    {
     "name": "stderr",
     "output_type": "stream",
     "text": [
      "100%|██████████| 200/200 [00:00<00:00, 1178.78it/s]\n",
      "100%|██████████| 200/200 [00:00<00:00, 2021.04it/s]\n"
     ]
    },
    {
     "name": "stdout",
     "output_type": "stream",
     "text": [
      "Epoch 11:\n"
     ]
    },
    {
     "name": "stderr",
     "output_type": "stream",
     "text": [
      "100%|██████████| 200/200 [00:00<00:00, 1174.66it/s]\n",
      "100%|██████████| 200/200 [00:00<00:00, 2032.59it/s]\n"
     ]
    },
    {
     "name": "stdout",
     "output_type": "stream",
     "text": [
      "Epoch 12:\n"
     ]
    },
    {
     "name": "stderr",
     "output_type": "stream",
     "text": [
      "100%|██████████| 200/200 [00:00<00:00, 1184.40it/s]\n",
      "100%|██████████| 200/200 [00:00<00:00, 2040.63it/s]\n"
     ]
    },
    {
     "name": "stdout",
     "output_type": "stream",
     "text": [
      "Epoch 13:\n"
     ]
    },
    {
     "name": "stderr",
     "output_type": "stream",
     "text": [
      "100%|██████████| 200/200 [00:00<00:00, 1183.91it/s]\n",
      "100%|██████████| 200/200 [00:00<00:00, 2027.58it/s]\n"
     ]
    },
    {
     "name": "stdout",
     "output_type": "stream",
     "text": [
      "Epoch 14:\n"
     ]
    },
    {
     "name": "stderr",
     "output_type": "stream",
     "text": [
      "100%|██████████| 200/200 [00:00<00:00, 1177.45it/s]\n",
      "100%|██████████| 200/200 [00:00<00:00, 2044.47it/s]\n"
     ]
    },
    {
     "name": "stdout",
     "output_type": "stream",
     "text": [
      "Epoch 15:\n"
     ]
    },
    {
     "name": "stderr",
     "output_type": "stream",
     "text": [
      "100%|██████████| 200/200 [00:00<00:00, 1162.83it/s]\n",
      "100%|██████████| 200/200 [00:00<00:00, 2030.60it/s]\n"
     ]
    },
    {
     "name": "stdout",
     "output_type": "stream",
     "text": [
      "Epoch 16:\n"
     ]
    },
    {
     "name": "stderr",
     "output_type": "stream",
     "text": [
      "100%|██████████| 200/200 [00:00<00:00, 1169.61it/s]\n",
      "100%|██████████| 200/200 [00:00<00:00, 2043.69it/s]\n"
     ]
    },
    {
     "name": "stdout",
     "output_type": "stream",
     "text": [
      "Epoch 17:\n"
     ]
    },
    {
     "name": "stderr",
     "output_type": "stream",
     "text": [
      "100%|██████████| 200/200 [00:00<00:00, 1185.48it/s]\n",
      "100%|██████████| 200/200 [00:00<00:00, 2043.57it/s]\n"
     ]
    },
    {
     "name": "stdout",
     "output_type": "stream",
     "text": [
      "Epoch 18:\n"
     ]
    },
    {
     "name": "stderr",
     "output_type": "stream",
     "text": [
      "100%|██████████| 200/200 [00:00<00:00, 1185.04it/s]\n",
      "100%|██████████| 200/200 [00:00<00:00, 2032.36it/s]\n"
     ]
    },
    {
     "name": "stdout",
     "output_type": "stream",
     "text": [
      "Epoch 19:\n"
     ]
    },
    {
     "name": "stderr",
     "output_type": "stream",
     "text": [
      "100%|██████████| 200/200 [00:00<00:00, 1183.52it/s]\n",
      "100%|██████████| 200/200 [00:00<00:00, 2030.11it/s]\n"
     ]
    },
    {
     "name": "stdout",
     "output_type": "stream",
     "text": [
      "Epoch 20:\n"
     ]
    },
    {
     "name": "stderr",
     "output_type": "stream",
     "text": [
      "100%|██████████| 200/200 [00:00<00:00, 1178.79it/s]\n",
      "100%|██████████| 200/200 [00:00<00:00, 2000.14it/s]\n"
     ]
    },
    {
     "name": "stdout",
     "output_type": "stream",
     "text": [
      "Epoch 21:\n"
     ]
    },
    {
     "name": "stderr",
     "output_type": "stream",
     "text": [
      "100%|██████████| 200/200 [00:00<00:00, 1184.55it/s]\n",
      "100%|██████████| 200/200 [00:00<00:00, 2031.61it/s]\n"
     ]
    },
    {
     "name": "stdout",
     "output_type": "stream",
     "text": [
      "Epoch 22:\n"
     ]
    },
    {
     "name": "stderr",
     "output_type": "stream",
     "text": [
      "100%|██████████| 200/200 [00:00<00:00, 1181.59it/s]\n",
      "100%|██████████| 200/200 [00:00<00:00, 2028.87it/s]\n"
     ]
    },
    {
     "name": "stdout",
     "output_type": "stream",
     "text": [
      "Epoch 23:\n"
     ]
    },
    {
     "name": "stderr",
     "output_type": "stream",
     "text": [
      "100%|██████████| 200/200 [00:00<00:00, 1163.87it/s]\n",
      "100%|██████████| 200/200 [00:00<00:00, 2040.27it/s]\n"
     ]
    },
    {
     "name": "stdout",
     "output_type": "stream",
     "text": [
      "Epoch 24:\n"
     ]
    },
    {
     "name": "stderr",
     "output_type": "stream",
     "text": [
      "100%|██████████| 200/200 [00:00<00:00, 1175.63it/s]\n",
      "100%|██████████| 200/200 [00:00<00:00, 2021.53it/s]\n"
     ]
    },
    {
     "name": "stdout",
     "output_type": "stream",
     "text": [
      "Epoch 25:\n"
     ]
    },
    {
     "name": "stderr",
     "output_type": "stream",
     "text": [
      "100%|██████████| 200/200 [00:00<00:00, 1178.24it/s]\n",
      "100%|██████████| 200/200 [00:00<00:00, 2015.03it/s]\n"
     ]
    },
    {
     "name": "stdout",
     "output_type": "stream",
     "text": [
      "Epoch 26:\n"
     ]
    },
    {
     "name": "stderr",
     "output_type": "stream",
     "text": [
      "100%|██████████| 200/200 [00:00<00:00, 1172.31it/s]\n",
      "100%|██████████| 200/200 [00:00<00:00, 2026.24it/s]\n"
     ]
    },
    {
     "name": "stdout",
     "output_type": "stream",
     "text": [
      "Epoch 27:\n"
     ]
    },
    {
     "name": "stderr",
     "output_type": "stream",
     "text": [
      "100%|██████████| 200/200 [00:00<00:00, 1175.69it/s]\n",
      "100%|██████████| 200/200 [00:00<00:00, 2020.73it/s]\n"
     ]
    },
    {
     "name": "stdout",
     "output_type": "stream",
     "text": [
      "Epoch 28:\n"
     ]
    },
    {
     "name": "stderr",
     "output_type": "stream",
     "text": [
      "100%|██████████| 200/200 [00:00<00:00, 1171.52it/s]\n",
      "100%|██████████| 200/200 [00:00<00:00, 2047.21it/s]\n"
     ]
    },
    {
     "name": "stdout",
     "output_type": "stream",
     "text": [
      "Epoch 29:\n"
     ]
    },
    {
     "name": "stderr",
     "output_type": "stream",
     "text": [
      "100%|██████████| 200/200 [00:00<00:00, 1166.83it/s]\n",
      "100%|██████████| 200/200 [00:00<00:00, 2039.51it/s]\n"
     ]
    },
    {
     "name": "stdout",
     "output_type": "stream",
     "text": [
      "Epoch 30:\n"
     ]
    },
    {
     "name": "stderr",
     "output_type": "stream",
     "text": [
      "100%|██████████| 200/200 [00:00<00:00, 1164.79it/s]\n",
      "100%|██████████| 200/200 [00:00<00:00, 2023.82it/s]\n"
     ]
    },
    {
     "name": "stdout",
     "output_type": "stream",
     "text": [
      "Best validation accuracy at epoch 30\n"
     ]
    },
    {
     "name": "stderr",
     "output_type": "stream",
     "text": [
      "100%|██████████| 100/100 [00:00<00:00, 821.41it/s]\n"
     ]
    },
    {
     "name": "stdout",
     "output_type": "stream",
     "text": [
      "{'name': 'random'}\n",
      "{\n",
      "    \"accuracy\": 0.91375,\n",
      "    \"aupr\": 0.9167218683140543,\n",
      "    \"auroc\": 0.5069158414123991,\n",
      "    \"avg_crr_conf\": 0.49725688198930423,\n",
      "    \"avg_err_conf\": 0.49027538882649463,\n",
      "    \"avg_non_abstain\": 1.0,\n",
      "    \"capacity\": 0.916709202892715,\n",
      "    \"kendall_tau\": 0.49308415858760085,\n",
      "    \"n_correct\": 5848,\n",
      "    \"n_errors\": 552,\n",
      "    \"validation_loss\": 0.23213128209114076\n",
      "}\n"
     ]
    },
    {
     "name": "stderr",
     "output_type": "stream",
     "text": [
      "100%|██████████| 100/100 [00:00<00:00, 1884.09it/s]\n"
     ]
    },
    {
     "name": "stdout",
     "output_type": "stream",
     "text": [
      "{'name': 'max_prob'}\n",
      "{\n",
      "    \"accuracy\": 0.91375,\n",
      "    \"aupr\": 0.9907435335459351,\n",
      "    \"auroc\": 0.9078754163444954,\n",
      "    \"avg_crr_conf\": 0.8681239106077013,\n",
      "    \"avg_err_conf\": 0.6435350948485775,\n",
      "    \"avg_non_abstain\": 1.0,\n",
      "    \"capacity\": 0.9875562250576775,\n",
      "    \"kendall_tau\": 0.09212458365550467,\n",
      "    \"n_correct\": 5848,\n",
      "    \"n_errors\": 552,\n",
      "    \"validation_loss\": 0.23213128209114076\n",
      "}\n"
     ]
    },
    {
     "name": "stderr",
     "output_type": "stream",
     "text": [
      "100%|██████████| 100/100 [00:00<00:00, 288.66it/s]\n"
     ]
    },
    {
     "name": "stdout",
     "output_type": "stream",
     "text": [
      "{'name': 'mcd', 'aggregator': 'mean', 'n_forward_passes': 10}\n",
      "{\n",
      "    \"accuracy\": 0.91375,\n",
      "    \"aupr\": 0.986270990888362,\n",
      "    \"auroc\": 0.8691408186125815,\n",
      "    \"avg_crr_conf\": 0.7931485195349897,\n",
      "    \"avg_err_conf\": 0.612311150662709,\n",
      "    \"avg_non_abstain\": 1.0,\n",
      "    \"capacity\": 0.9833341630369364,\n",
      "    \"kendall_tau\": 0.13085918138741848,\n",
      "    \"n_correct\": 5848,\n",
      "    \"n_errors\": 552,\n",
      "    \"validation_loss\": 0.23213128209114076\n",
      "}\n",
      "Training with config:\n",
      "{'task': {'name': 'nrmls', 'noise_dim': 50, 'n_train_batches': 200, 'n_validation_batches': 200, 'n_test_batches': 100}, 'model': {'name': 'feedforward', 'input_size': 52, 'hidden_sizes': [128, 64], 'output_size': 2, 'loss': {'name': 'ce'}}, 'confidences': [{'name': 'random'}, {'name': 'max_prob'}, {'name': 'mcd', 'aggregator': 'mean', 'n_forward_passes': 10}], 'optimizer': {'name': 'sgd', 'lr': 0.003, 'momentum': 0.9}, 'bsz': 64, 'n_epochs': 30}\n",
      "Epoch 1:\n"
     ]
    },
    {
     "name": "stderr",
     "output_type": "stream",
     "text": [
      "100%|██████████| 200/200 [00:00<00:00, 1174.40it/s]\n",
      "100%|██████████| 200/200 [00:00<00:00, 2024.86it/s]\n"
     ]
    },
    {
     "name": "stdout",
     "output_type": "stream",
     "text": [
      "Epoch 2:\n"
     ]
    },
    {
     "name": "stderr",
     "output_type": "stream",
     "text": [
      "100%|██████████| 200/200 [00:00<00:00, 1178.93it/s]\n",
      "100%|██████████| 200/200 [00:00<00:00, 2032.66it/s]\n"
     ]
    },
    {
     "name": "stdout",
     "output_type": "stream",
     "text": [
      "Epoch 3:\n"
     ]
    },
    {
     "name": "stderr",
     "output_type": "stream",
     "text": [
      "100%|██████████| 200/200 [00:00<00:00, 1175.16it/s]\n",
      "100%|██████████| 200/200 [00:00<00:00, 2034.26it/s]\n"
     ]
    },
    {
     "name": "stdout",
     "output_type": "stream",
     "text": [
      "Epoch 4:\n"
     ]
    },
    {
     "name": "stderr",
     "output_type": "stream",
     "text": [
      "100%|██████████| 200/200 [00:00<00:00, 1174.51it/s]\n",
      "100%|██████████| 200/200 [00:00<00:00, 2023.12it/s]\n"
     ]
    },
    {
     "name": "stdout",
     "output_type": "stream",
     "text": [
      "Epoch 5:\n"
     ]
    },
    {
     "name": "stderr",
     "output_type": "stream",
     "text": [
      "100%|██████████| 200/200 [00:00<00:00, 1181.67it/s]\n",
      "100%|██████████| 200/200 [00:00<00:00, 2020.06it/s]\n"
     ]
    },
    {
     "name": "stdout",
     "output_type": "stream",
     "text": [
      "Epoch 6:\n"
     ]
    },
    {
     "name": "stderr",
     "output_type": "stream",
     "text": [
      "100%|██████████| 200/200 [00:00<00:00, 1173.25it/s]\n",
      "100%|██████████| 200/200 [00:00<00:00, 2026.65it/s]\n"
     ]
    },
    {
     "name": "stdout",
     "output_type": "stream",
     "text": [
      "Epoch 7:\n"
     ]
    },
    {
     "name": "stderr",
     "output_type": "stream",
     "text": [
      "100%|██████████| 200/200 [00:00<00:00, 1182.83it/s]\n",
      "100%|██████████| 200/200 [00:00<00:00, 2021.61it/s]\n"
     ]
    },
    {
     "name": "stdout",
     "output_type": "stream",
     "text": [
      "Epoch 8:\n"
     ]
    },
    {
     "name": "stderr",
     "output_type": "stream",
     "text": [
      "100%|██████████| 200/200 [00:00<00:00, 1176.46it/s]\n",
      "100%|██████████| 200/200 [00:00<00:00, 2035.98it/s]\n"
     ]
    },
    {
     "name": "stdout",
     "output_type": "stream",
     "text": [
      "Epoch 9:\n"
     ]
    },
    {
     "name": "stderr",
     "output_type": "stream",
     "text": [
      "100%|██████████| 200/200 [00:00<00:00, 1177.20it/s]\n",
      "100%|██████████| 200/200 [00:00<00:00, 2039.55it/s]\n"
     ]
    },
    {
     "name": "stdout",
     "output_type": "stream",
     "text": [
      "Epoch 10:\n"
     ]
    },
    {
     "name": "stderr",
     "output_type": "stream",
     "text": [
      "100%|██████████| 200/200 [00:00<00:00, 1177.92it/s]\n",
      "100%|██████████| 200/200 [00:00<00:00, 2032.50it/s]\n"
     ]
    },
    {
     "name": "stdout",
     "output_type": "stream",
     "text": [
      "Epoch 11:\n"
     ]
    },
    {
     "name": "stderr",
     "output_type": "stream",
     "text": [
      "100%|██████████| 200/200 [00:00<00:00, 1159.10it/s]\n",
      "100%|██████████| 200/200 [00:00<00:00, 2037.74it/s]\n"
     ]
    },
    {
     "name": "stdout",
     "output_type": "stream",
     "text": [
      "Epoch 12:\n"
     ]
    },
    {
     "name": "stderr",
     "output_type": "stream",
     "text": [
      "100%|██████████| 200/200 [00:00<00:00, 1182.95it/s]\n",
      "100%|██████████| 200/200 [00:00<00:00, 2021.59it/s]\n"
     ]
    },
    {
     "name": "stdout",
     "output_type": "stream",
     "text": [
      "Epoch 13:\n"
     ]
    },
    {
     "name": "stderr",
     "output_type": "stream",
     "text": [
      "100%|██████████| 200/200 [00:00<00:00, 1182.68it/s]\n",
      "100%|██████████| 200/200 [00:00<00:00, 2022.20it/s]\n"
     ]
    },
    {
     "name": "stdout",
     "output_type": "stream",
     "text": [
      "Epoch 14:\n"
     ]
    },
    {
     "name": "stderr",
     "output_type": "stream",
     "text": [
      "100%|██████████| 200/200 [00:00<00:00, 1181.85it/s]\n",
      "100%|██████████| 200/200 [00:00<00:00, 2025.02it/s]\n"
     ]
    },
    {
     "name": "stdout",
     "output_type": "stream",
     "text": [
      "Epoch 15:\n"
     ]
    },
    {
     "name": "stderr",
     "output_type": "stream",
     "text": [
      "100%|██████████| 200/200 [00:00<00:00, 1174.57it/s]\n",
      "100%|██████████| 200/200 [00:00<00:00, 2026.90it/s]\n"
     ]
    },
    {
     "name": "stdout",
     "output_type": "stream",
     "text": [
      "Epoch 16:\n"
     ]
    },
    {
     "name": "stderr",
     "output_type": "stream",
     "text": [
      "100%|██████████| 200/200 [00:00<00:00, 1178.81it/s]\n",
      "100%|██████████| 200/200 [00:00<00:00, 2040.07it/s]\n"
     ]
    },
    {
     "name": "stdout",
     "output_type": "stream",
     "text": [
      "Epoch 17:\n"
     ]
    },
    {
     "name": "stderr",
     "output_type": "stream",
     "text": [
      "100%|██████████| 200/200 [00:00<00:00, 1178.20it/s]\n",
      "100%|██████████| 200/200 [00:00<00:00, 2013.78it/s]\n"
     ]
    },
    {
     "name": "stdout",
     "output_type": "stream",
     "text": [
      "Epoch 18:\n"
     ]
    },
    {
     "name": "stderr",
     "output_type": "stream",
     "text": [
      "100%|██████████| 200/200 [00:00<00:00, 1173.15it/s]\n",
      "100%|██████████| 200/200 [00:00<00:00, 2031.19it/s]\n"
     ]
    },
    {
     "name": "stdout",
     "output_type": "stream",
     "text": [
      "Epoch 19:\n"
     ]
    },
    {
     "name": "stderr",
     "output_type": "stream",
     "text": [
      "100%|██████████| 200/200 [00:00<00:00, 1182.53it/s]\n",
      "100%|██████████| 200/200 [00:00<00:00, 2027.16it/s]\n"
     ]
    },
    {
     "name": "stdout",
     "output_type": "stream",
     "text": [
      "Epoch 20:\n"
     ]
    },
    {
     "name": "stderr",
     "output_type": "stream",
     "text": [
      "100%|██████████| 200/200 [00:00<00:00, 1184.60it/s]\n",
      "100%|██████████| 200/200 [00:00<00:00, 2031.39it/s]\n"
     ]
    },
    {
     "name": "stdout",
     "output_type": "stream",
     "text": [
      "Epoch 21:\n"
     ]
    },
    {
     "name": "stderr",
     "output_type": "stream",
     "text": [
      "100%|██████████| 200/200 [00:00<00:00, 1182.82it/s]\n",
      "100%|██████████| 200/200 [00:00<00:00, 2014.79it/s]\n"
     ]
    },
    {
     "name": "stdout",
     "output_type": "stream",
     "text": [
      "Epoch 22:\n"
     ]
    },
    {
     "name": "stderr",
     "output_type": "stream",
     "text": [
      "100%|██████████| 200/200 [00:00<00:00, 1180.28it/s]\n",
      "100%|██████████| 200/200 [00:00<00:00, 2028.36it/s]\n"
     ]
    },
    {
     "name": "stdout",
     "output_type": "stream",
     "text": [
      "Epoch 23:\n"
     ]
    },
    {
     "name": "stderr",
     "output_type": "stream",
     "text": [
      "100%|██████████| 200/200 [00:00<00:00, 1182.40it/s]\n",
      "100%|██████████| 200/200 [00:00<00:00, 2026.14it/s]\n"
     ]
    },
    {
     "name": "stdout",
     "output_type": "stream",
     "text": [
      "Epoch 24:\n"
     ]
    },
    {
     "name": "stderr",
     "output_type": "stream",
     "text": [
      "100%|██████████| 200/200 [00:00<00:00, 1175.95it/s]\n",
      "100%|██████████| 200/200 [00:00<00:00, 2025.27it/s]\n"
     ]
    },
    {
     "name": "stdout",
     "output_type": "stream",
     "text": [
      "Epoch 25:\n"
     ]
    },
    {
     "name": "stderr",
     "output_type": "stream",
     "text": [
      "100%|██████████| 200/200 [00:00<00:00, 1169.07it/s]\n",
      "100%|██████████| 200/200 [00:00<00:00, 2040.59it/s]\n"
     ]
    },
    {
     "name": "stdout",
     "output_type": "stream",
     "text": [
      "Epoch 26:\n"
     ]
    },
    {
     "name": "stderr",
     "output_type": "stream",
     "text": [
      "100%|██████████| 200/200 [00:00<00:00, 1166.45it/s]\n",
      "100%|██████████| 200/200 [00:00<00:00, 2038.11it/s]\n"
     ]
    },
    {
     "name": "stdout",
     "output_type": "stream",
     "text": [
      "Epoch 27:\n"
     ]
    },
    {
     "name": "stderr",
     "output_type": "stream",
     "text": [
      "100%|██████████| 200/200 [00:00<00:00, 1163.16it/s]\n",
      "100%|██████████| 200/200 [00:00<00:00, 2034.71it/s]\n"
     ]
    },
    {
     "name": "stdout",
     "output_type": "stream",
     "text": [
      "Epoch 28:\n"
     ]
    },
    {
     "name": "stderr",
     "output_type": "stream",
     "text": [
      "100%|██████████| 200/200 [00:00<00:00, 1166.14it/s]\n",
      "100%|██████████| 200/200 [00:00<00:00, 2034.80it/s]\n"
     ]
    },
    {
     "name": "stdout",
     "output_type": "stream",
     "text": [
      "Epoch 29:\n"
     ]
    },
    {
     "name": "stderr",
     "output_type": "stream",
     "text": [
      "100%|██████████| 200/200 [00:00<00:00, 1169.90it/s]\n",
      "100%|██████████| 200/200 [00:00<00:00, 2047.84it/s]\n"
     ]
    },
    {
     "name": "stdout",
     "output_type": "stream",
     "text": [
      "Epoch 30:\n"
     ]
    },
    {
     "name": "stderr",
     "output_type": "stream",
     "text": [
      "100%|██████████| 200/200 [00:00<00:00, 1135.52it/s]\n",
      "100%|██████████| 200/200 [00:00<00:00, 2054.86it/s]\n"
     ]
    },
    {
     "name": "stdout",
     "output_type": "stream",
     "text": [
      "Best validation accuracy at epoch 30\n"
     ]
    },
    {
     "name": "stderr",
     "output_type": "stream",
     "text": [
      "100%|██████████| 100/100 [00:00<00:00, 1988.62it/s]\n"
     ]
    },
    {
     "name": "stdout",
     "output_type": "stream",
     "text": [
      "{'name': 'random'}\n",
      "{\n",
      "    \"accuracy\": 0.930625,\n",
      "    \"aupr\": 0.9341158152135381,\n",
      "    \"auroc\": 0.49855585101555555,\n",
      "    \"avg_crr_conf\": 0.5005942863093837,\n",
      "    \"avg_err_conf\": 0.5021656032081123,\n",
      "    \"avg_non_abstain\": 1.0,\n",
      "    \"capacity\": 0.9340647410148692,\n",
      "    \"kendall_tau\": 0.5014441489844444,\n",
      "    \"n_correct\": 5956,\n",
      "    \"n_errors\": 444,\n",
      "    \"validation_loss\": 0.17003884315490722\n",
      "}\n"
     ]
    },
    {
     "name": "stderr",
     "output_type": "stream",
     "text": [
      "100%|██████████| 100/100 [00:00<00:00, 1911.69it/s]\n"
     ]
    },
    {
     "name": "stdout",
     "output_type": "stream",
     "text": [
      "{'name': 'max_prob'}\n",
      "{\n",
      "    \"accuracy\": 0.930625,\n",
      "    \"aupr\": 0.99400431808954,\n",
      "    \"auroc\": 0.9242024092594947,\n",
      "    \"avg_crr_conf\": 0.9172883793621595,\n",
      "    \"avg_err_conf\": 0.6588042978499387,\n",
      "    \"avg_non_abstain\": 1.0,\n",
      "    \"capacity\": 0.991914392239653,\n",
      "    \"kendall_tau\": 0.07579759074050545,\n",
      "    \"n_correct\": 5956,\n",
      "    \"n_errors\": 444,\n",
      "    \"validation_loss\": 0.17003884315490722\n",
      "}\n"
     ]
    },
    {
     "name": "stderr",
     "output_type": "stream",
     "text": [
      "100%|██████████| 100/100 [00:00<00:00, 287.25it/s]"
     ]
    },
    {
     "name": "stdout",
     "output_type": "stream",
     "text": [
      "{'name': 'mcd', 'aggregator': 'mean', 'n_forward_passes': 10}\n",
      "{\n",
      "    \"accuracy\": 0.930625,\n",
      "    \"aupr\": 0.9920619691795053,\n",
      "    \"auroc\": 0.9024600070184355,\n",
      "    \"avg_crr_conf\": 0.847725315163346,\n",
      "    \"avg_err_conf\": 0.6178705950712299,\n",
      "    \"avg_non_abstain\": 1.0,\n",
      "    \"capacity\": 0.9900189388257423,\n",
      "    \"kendall_tau\": 0.0975399929815645,\n",
      "    \"n_correct\": 5956,\n",
      "    \"n_errors\": 444,\n",
      "    \"validation_loss\": 0.17003884315490722\n",
      "}\n"
     ]
    },
    {
     "name": "stderr",
     "output_type": "stream",
     "text": [
      "\n"
     ]
    }
   ],
   "source": [
    "from spred.analytics import ResultDatabase\n",
    "n_trials = 5\n",
    "result_db = ResultDatabase([exp.run() for _ in range(n_trials)])"
   ]
  },
  {
   "cell_type": "markdown",
   "id": "19a99a2c",
   "metadata": {},
   "source": [
    "To visualize the results, we can use violin plots. Each bar of a violin corresponds to a particular trial. The \"body\" of the violin is a kernel density estimation that gives a sense of the underlying distribution."
   ]
  },
  {
   "cell_type": "code",
   "execution_count": 21,
   "id": "5b4df29d",
   "metadata": {},
   "outputs": [
    {
     "data": {
      "image/png": "[encoded data removed]",
      "text/plain": [
       "<Figure size 432x288 with 1 Axes>"
      ]
     },
     "metadata": {},
     "output_type": "display_data"
    }
   ],
   "source": [
    "from spred.analytics import plot_evaluation_metric\n",
    "plot_evaluation_metric(result_db, \"kendall_tau\")"
   ]
  },
  {
   "cell_type": "markdown",
   "id": "3d177825",
   "metadata": {},
   "source": [
    "In general, the **max_prob** confidence appears to work best on our new task over multiple trials, at least according to the kendall_tau metric. We can use the same function to visualize any other experiment statistic, e.g. aupr. "
   ]
  },
  {
   "cell_type": "code",
   "execution_count": 21,
   "id": "eac1dbbd",
   "metadata": {},
   "outputs": [
    {
     "data": {
      "image/png": "[encoded data removed]",
      "text/plain": [
       "<Figure size 432x288 with 1 Axes>"
      ]
     },
     "metadata": {},
     "output_type": "display_data"
    }
   ],
   "source": [
    "plot_evaluation_metric(result_db, \"aupr\")"
   ]
  },
  {
   "cell_type": "code",
   "execution_count": null,
   "id": "090f59b9",
   "metadata": {},
   "outputs": [],
   "source": []
  }
 ],
 "metadata": {
  "kernelspec": {
   "display_name": "Python 3",
   "language": "python",
   "name": "python3"
  },
  "language_info": {
   "codemirror_mode": {
    "name": "ipython",
    "version": 3
   },
   "file_extension": ".py",
   "mimetype": "text/x-python",
   "name": "python",
   "nbconvert_exporter": "python",
   "pygments_lexer": "ipython3",
   "version": "3.8.8"
  }
 },
 "nbformat": 4,
 "nbformat_minor": 5
}
