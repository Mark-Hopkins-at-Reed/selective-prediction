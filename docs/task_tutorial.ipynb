{
 "cells": [
  {
   "cell_type": "markdown",
   "id": "d32201da",
   "metadata": {},
   "source": [
    "## Adding a new task to ```spred```\n",
    "--------------------------------------\n",
    "\n",
    "In this tutorial, we show how to add a new task for evaluating selective\n",
    "prediction techniques. Specifically, we'll create a task called \"normals\",\n",
    "a two-label classification task. Instances for label A are generated from\n",
    "a mixture of two bivariate normal distributions with means (-1, 0) and (1, 0),\n",
    "whereas instances for label B are generated from a mixture of two bivariate\n",
    "normals with means (0, -1) and (0, 1). The covariances are chosen so that most\n",
    "overlap occurs near the origin, making such points the \"most difficult\" to \n",
    "classify.\n",
    "\n",
    "![samples from the two mixture distributions](red_blue.png)"
   ]
  },
  {
   "cell_type": "markdown",
   "id": "609cfa46",
   "metadata": {},
   "source": [
    "For most tasks, we'll already have training data stored in a file somewhere, but for this task, we'll create our own training data. To do so, let's leverage the ```numpy``` package to make a helper function ```generate_samples``` that samples points from a bivariate normal distribution."
   ]
  },
  {
   "cell_type": "code",
   "execution_count": 66,
   "id": "f317d517",
   "metadata": {},
   "outputs": [],
   "source": [
    "from numpy.random import multivariate_normal\n",
    "from numpy import diag\n",
    "\n",
    "def generate_samples(means, variances, num_samples, noise_dim=0):\n",
    "    return multivariate_normal(means + [0.0]*noise_dim,\n",
    "                               diag(variances + [1.0]*noise_dim),\n",
    "                               size=num_samples)\n"
   ]
  },
  {
   "cell_type": "markdown",
   "id": "0e5dd48f",
   "metadata": {},
   "source": [
    "The function assumes that the two dimensions are not correlated, so if we make the following call, then we're effectively drawing our ```x``` coordinate from ```Normal(-1.0, 0.2)``` and our ```y``` coordinate from ```Normal(0.0, 0.1)```."
   ]
  },
  {
   "cell_type": "code",
   "execution_count": 69,
   "id": "2b43fb6a",
   "metadata": {},
   "outputs": [
    {
     "data": {
      "text/plain": [
       "array([[-0.61135898, -0.08789313],\n",
       "       [-1.16175929, -0.50912341],\n",
       "       [-1.37709625,  0.02869998],\n",
       "       [-1.31960289, -0.22252163],\n",
       "       [-1.05692077,  0.0113179 ]])"
      ]
     },
     "execution_count": 69,
     "metadata": {},
     "output_type": "execute_result"
    }
   ],
   "source": [
    "generate_samples(means=[-1.0, 0.0], variances=[0.2, 0.1], num_samples=5)"
   ]
  },
  {
   "cell_type": "markdown",
   "id": "b45729c3",
   "metadata": {},
   "source": [
    "We've also provided an argument called ```noise_dim```, to make the learning task a bit more challenging. This adds extra dimensions, each independently sampled from a standard zero-mean normal."
   ]
  },
  {
   "cell_type": "code",
   "execution_count": 70,
   "id": "f8bf8014",
   "metadata": {},
   "outputs": [
    {
     "data": {
      "text/plain": [
       "array([[-1.60605609,  0.24326898,  0.12657275,  0.30437083,  0.57061419],\n",
       "       [-1.41459962, -0.13684672, -1.02059566, -0.52152583,  0.57735206],\n",
       "       [-1.40828992,  0.15737815,  0.76787348,  0.15738372, -0.46348617],\n",
       "       [-0.35372335, -0.22188655, -0.2727551 ,  0.72317812,  0.92209704],\n",
       "       [-1.29291253, -0.69319441, -0.73052094, -0.44792217, -0.06139822]])"
      ]
     },
     "execution_count": 70,
     "metadata": {},
     "output_type": "execute_result"
    }
   ],
   "source": [
    "generate_samples(means=[-1.0, 0.0], variances=[0.2, 0.1], num_samples=5, noise_dim=3)"
   ]
  },
  {
   "cell_type": "markdown",
   "id": "efc405b5",
   "metadata": {},
   "source": [
    "We now need to create a ```Loader``` for this training data, which implements the interface in ```spred.loader```:\n",
    "\n",
    "    class Loader(ABC):\n",
    "        @abstractmethod\n",
    "        def __iter__(self):\n",
    "            \"\"\"\n",
    "            Creates an Iterator over the batches of the Loader.\n",
    "    \n",
    "            Each batch should be a dictionary with at least two keys:\n",
    "            - \"inputs\": maps to a torch.tensor of shape BxD containing the input\n",
    "            vectors, where B is batch size and D is input vector dimension\n",
    "            - \"labels\": maps to a torch.tensor of shape B containing the\n",
    "            corresponding labels\n",
    "    \n",
    "            \"\"\"\n",
    "            ...\n",
    "    \n",
    "        @abstractmethod\n",
    "        def __len__(self):\n",
    "            \"\"\" Number of batches provided by the Loader.\"\"\"\n",
    "            ...\n",
    "    \n",
    "        @abstractmethod\n",
    "        def num_labels(self):\n",
    "            \"\"\" Number of class labels in the dataset. \"\"\"\n",
    "            ...\n"
   ]
  },
  {
   "cell_type": "code",
   "execution_count": 71,
   "id": "dee9087a",
   "metadata": {},
   "outputs": [],
   "source": [
    "import numpy\n",
    "import torch\n",
    "from random import shuffle\n",
    "from spred.loader import Loader\n",
    "\n",
    "class NormalsLoader(Loader):\n",
    "    \n",
    "    def __init__(self, num_batches, bsz, noise_dim):\n",
    "        super().__init__()\n",
    "        self.bsz = bsz\n",
    "        self.num_batches = num_batches\n",
    "        self.noise_dim = noise_dim\n",
    "        self.batches = []\n",
    "        self.device = torch.device(\"cuda\") if torch.cuda.is_available() else torch.device(\"cpu\")\n",
    "        for _ in range(num_batches):\n",
    "            variance1 = 0.2\n",
    "            variance2 = 0.1\n",
    "            pts1a = generate_samples([-1.0, 0.0], [variance1, variance2], bsz//4, self.noise_dim)\n",
    "            pts1b = generate_samples([1.0, 0.0], [variance1, variance2], bsz//4, self.noise_dim)\n",
    "            pts2a = generate_samples([0.0, -1.0], [variance2, variance1], bsz//4, self.noise_dim)\n",
    "            pts2b = generate_samples([0.0, 1.0], [variance2, variance1], bsz//4, self.noise_dim)\n",
    "            labeled = ([(pt, 0) for pt in pts1a] +\n",
    "                       [(pt, 0) for pt in pts1b] +\n",
    "                       [(pt, 1) for pt in pts2a] +\n",
    "                       [(pt, 1) for pt in pts2b])\n",
    "            shuffle(labeled)\n",
    "            instances = torch.tensor(numpy.array([pair[0] for pair in labeled])).float()\n",
    "            labels = torch.tensor([pair[1] for pair in labeled])\n",
    "            self.batches.append((instances, labels))\n",
    "\n",
    "    def __iter__(self):\n",
    "        for instances, labels in self.batches:\n",
    "            yield {'inputs': instances.to(self.device), 'labels': labels.to(self.device)}\n",
    "\n",
    "    def __len__(self):\n",
    "        return self.num_batches\n",
    "\n",
    "    def num_labels(self):\n",
    "        return 2"
   ]
  },
  {
   "cell_type": "markdown",
   "id": "42c8a46e",
   "metadata": {},
   "source": [
    "For instance, the following code creates a ```Loader``` that provides two batches, each with eight training vectors (half of which are sampled from class 0 and half of which are sampled from class 1)."
   ]
  },
  {
   "cell_type": "code",
   "execution_count": 72,
   "id": "07701bda",
   "metadata": {},
   "outputs": [
    {
     "name": "stdout",
     "output_type": "stream",
     "text": [
      "This loader has 2 batches.\n",
      "This loader has 2 class labels.\n",
      "{'inputs': tensor([[ 0.0551,  0.0817, -1.1637,  0.7265, -0.7090],\n",
      "        [-0.1584,  1.0086, -0.7642, -1.7295, -0.7458],\n",
      "        [ 1.5703,  0.4630,  0.2770, -0.4500, -0.8754],\n",
      "        [-1.8031,  0.0947,  1.9715,  0.4066,  1.2375],\n",
      "        [ 0.3472, -1.0696, -0.4476, -0.1197, -1.2792],\n",
      "        [ 0.3313,  1.4797,  1.7097, -0.5617,  1.0999],\n",
      "        [-0.6364, -0.0967,  0.7562,  0.5083, -1.0223],\n",
      "        [ 0.0846, -0.2786,  0.1938,  0.9439, -1.3372]]), 'labels': tensor([1, 1, 0, 0, 1, 1, 0, 0])}\n",
      "{'inputs': tensor([[ 0.8403, -0.1670, -1.0769,  1.4602, -0.8209],\n",
      "        [-0.1525, -1.6424, -0.6308,  0.5023, -0.7919],\n",
      "        [ 1.0638,  0.0862, -1.8917, -0.2896,  0.4718],\n",
      "        [-1.1498, -0.3164, -0.2613,  1.5006,  0.2386],\n",
      "        [ 0.0429, -0.7172, -0.3846,  0.4296,  0.6689],\n",
      "        [-0.7951,  0.1529, -0.3889, -0.1128,  0.1660],\n",
      "        [ 0.0593,  0.8141,  0.4782, -0.3582,  0.0250],\n",
      "        [-0.1093,  1.0440,  0.3392,  0.0300, -1.5835]]), 'labels': tensor([0, 1, 0, 0, 1, 0, 1, 1])}\n"
     ]
    }
   ],
   "source": [
    "loader = NormalsLoader(num_batches=2, bsz=8, noise_dim=3)\n",
    "print('This loader has {} batches.'.format(len(loader)))\n",
    "print('This loader has {} class labels.'.format(loader.num_labels()))\n",
    "for batch in loader:\n",
    "    print(batch)"
   ]
  },
  {
   "cell_type": "markdown",
   "id": "be4c8ea9",
   "metadata": {},
   "source": [
    "With our ```Loader``` defined, we can now create a ```Task``` by specifying the training, validation, and test sets. Task-specific arguments should be provided to the ```Task``` constructor via a configuration dictionary, e.g.:"
   ]
  },
  {
   "cell_type": "code",
   "execution_count": 73,
   "id": "ade4d840",
   "metadata": {},
   "outputs": [],
   "source": [
    "task_config = {\"task\": {\"name\": \"normals\",\n",
    "                        \"noise_dim\": 50,\n",
    "                        \"n_train_batches\": 200,\n",
    "                        \"n_validation_batches\": 200,\n",
    "                        \"n_test_batches\": 100},\n",
    "               \"bsz\": 64}"
   ]
  },
  {
   "cell_type": "code",
   "execution_count": 74,
   "id": "d9970e72",
   "metadata": {},
   "outputs": [],
   "source": [
    "from spred.task import Task\n",
    "\n",
    "class NormalsTask(Task):\n",
    "\n",
    "    def __init__(self, config):\n",
    "        super().__init__(config)\n",
    "\n",
    "    def init_train_loader(self):\n",
    "        n_batches = self.config['task']['n_train_batches']\n",
    "        bsz = self.config['bsz']\n",
    "        noise_dim = self.config['task']['noise_dim']\n",
    "        return NormalsLoader(n_batches, bsz, noise_dim)\n",
    "\n",
    "    def init_validation_loader(self):\n",
    "        n_batches = self.config['task']['n_validation_batches']\n",
    "        bsz = self.config['bsz']\n",
    "        noise_dim = self.config['task']['noise_dim']\n",
    "        return NormalsLoader(n_batches, bsz, noise_dim)\n",
    "\n",
    "    def init_test_loader(self):\n",
    "        n_batches = self.config['task']['n_test_batches']\n",
    "        bsz = self.config['bsz']\n",
    "        noise_dim = self.config['task']['noise_dim']\n",
    "        return NormalsLoader(n_batches, bsz, noise_dim)"
   ]
  },
  {
   "cell_type": "code",
   "execution_count": 35,
   "id": "429474a4",
   "metadata": {},
   "outputs": [
    {
     "name": "stdout",
     "output_type": "stream",
     "text": [
      "2\n"
     ]
    }
   ],
   "source": []
  },
  {
   "cell_type": "code",
   "execution_count": 42,
   "id": "f34c12ec",
   "metadata": {},
   "outputs": [],
   "source": [
    "config = {\"network\": {\"architecture\": \"feedforward\",\n",
    "                      \"input_size\": 52,\n",
    "                      \"hidden_sizes\": [128, 64],\n",
    "                      \"output_size\": 2,\n",
    "                      \"loss\": {\n",
    "                          \"name\": \"ce\"\n",
    "                      }},\n",
    "          \"optimizer\": {\"name\": \"sgd\",\n",
    "                        \"lr\": 0.003,\n",
    "                        \"momentum\": 0.9},\n",
    "          \"bsz\": 64,\n",
    "          \"n_epochs\": 30,\n",
    "          \"confidences\": [{\"name\": \"max_prob\"},\n",
    "                          {\"name\": \"random\"},\n",
    "                          {\"name\": \"mcd\",\n",
    "                           \"aggregator\": \"mean\",\n",
    "                           \"n_forward_passes\": 10}]}\n"
   ]
  },
  {
   "cell_type": "code",
   "execution_count": 54,
   "id": "a98238d9",
   "metadata": {},
   "outputs": [
    {
     "name": "stdout",
     "output_type": "stream",
     "text": [
      "Training with config:\n",
      "{'network': {'architecture': 'feedforward', 'input_size': 52, 'hidden_sizes': [128, 64], 'output_size': 2, 'loss': {'name': 'ce'}}, 'optimizer': {'name': 'sgd', 'lr': 0.003, 'momentum': 0.9}, 'bsz': 64, 'n_epochs': 30, 'confidences': [{'name': 'max_prob'}, {'name': 'random'}, {'name': 'mcd', 'aggregator': 'mean', 'n_forward_passes': 10}]}\n",
      "Epoch 1:\n"
     ]
    },
    {
     "name": "stderr",
     "output_type": "stream",
     "text": [
      "100%|██████████| 200/200 [00:00<00:00, 1055.58it/s]\n",
      "100%|██████████| 200/200 [00:00<00:00, 2016.05it/s]\n"
     ]
    },
    {
     "name": "stdout",
     "output_type": "stream",
     "text": [
      "Epoch 2:\n"
     ]
    },
    {
     "name": "stderr",
     "output_type": "stream",
     "text": [
      "100%|██████████| 200/200 [00:00<00:00, 1191.20it/s]\n",
      "100%|██████████| 200/200 [00:00<00:00, 2059.14it/s]\n"
     ]
    },
    {
     "name": "stdout",
     "output_type": "stream",
     "text": [
      "Epoch 3:\n"
     ]
    },
    {
     "name": "stderr",
     "output_type": "stream",
     "text": [
      "100%|██████████| 200/200 [00:00<00:00, 1190.12it/s]\n",
      "100%|██████████| 200/200 [00:00<00:00, 2049.07it/s]\n"
     ]
    },
    {
     "name": "stdout",
     "output_type": "stream",
     "text": [
      "Epoch 4:\n"
     ]
    },
    {
     "name": "stderr",
     "output_type": "stream",
     "text": [
      "100%|██████████| 200/200 [00:00<00:00, 1193.76it/s]\n",
      "100%|██████████| 200/200 [00:00<00:00, 2038.58it/s]\n"
     ]
    },
    {
     "name": "stdout",
     "output_type": "stream",
     "text": [
      "Epoch 5:\n"
     ]
    },
    {
     "name": "stderr",
     "output_type": "stream",
     "text": [
      "100%|██████████| 200/200 [00:00<00:00, 1200.12it/s]\n",
      "100%|██████████| 200/200 [00:00<00:00, 2029.32it/s]\n"
     ]
    },
    {
     "name": "stdout",
     "output_type": "stream",
     "text": [
      "Epoch 6:\n"
     ]
    },
    {
     "name": "stderr",
     "output_type": "stream",
     "text": [
      "100%|██████████| 200/200 [00:00<00:00, 1119.52it/s]\n",
      "100%|██████████| 200/200 [00:00<00:00, 2037.03it/s]\n"
     ]
    },
    {
     "name": "stdout",
     "output_type": "stream",
     "text": [
      "Epoch 7:\n"
     ]
    },
    {
     "name": "stderr",
     "output_type": "stream",
     "text": [
      "100%|██████████| 200/200 [00:00<00:00, 1178.81it/s]\n",
      "100%|██████████| 200/200 [00:00<00:00, 2042.00it/s]\n"
     ]
    },
    {
     "name": "stdout",
     "output_type": "stream",
     "text": [
      "Epoch 8:\n"
     ]
    },
    {
     "name": "stderr",
     "output_type": "stream",
     "text": [
      "100%|██████████| 200/200 [00:00<00:00, 1202.72it/s]\n",
      "100%|██████████| 200/200 [00:00<00:00, 2047.11it/s]\n"
     ]
    },
    {
     "name": "stdout",
     "output_type": "stream",
     "text": [
      "Epoch 9:\n"
     ]
    },
    {
     "name": "stderr",
     "output_type": "stream",
     "text": [
      "100%|██████████| 200/200 [00:00<00:00, 1182.54it/s]\n",
      "100%|██████████| 200/200 [00:00<00:00, 2008.41it/s]\n"
     ]
    },
    {
     "name": "stdout",
     "output_type": "stream",
     "text": [
      "Epoch 10:\n"
     ]
    },
    {
     "name": "stderr",
     "output_type": "stream",
     "text": [
      "100%|██████████| 200/200 [00:00<00:00, 1198.30it/s]\n",
      "100%|██████████| 200/200 [00:00<00:00, 2023.68it/s]\n"
     ]
    },
    {
     "name": "stdout",
     "output_type": "stream",
     "text": [
      "Epoch 11:\n"
     ]
    },
    {
     "name": "stderr",
     "output_type": "stream",
     "text": [
      "100%|██████████| 200/200 [00:00<00:00, 1178.79it/s]\n",
      "100%|██████████| 200/200 [00:00<00:00, 2026.42it/s]\n"
     ]
    },
    {
     "name": "stdout",
     "output_type": "stream",
     "text": [
      "Epoch 12:\n"
     ]
    },
    {
     "name": "stderr",
     "output_type": "stream",
     "text": [
      "100%|██████████| 200/200 [00:00<00:00, 1184.15it/s]\n",
      "100%|██████████| 200/200 [00:00<00:00, 2049.41it/s]\n"
     ]
    },
    {
     "name": "stdout",
     "output_type": "stream",
     "text": [
      "Epoch 13:\n"
     ]
    },
    {
     "name": "stderr",
     "output_type": "stream",
     "text": [
      "100%|██████████| 200/200 [00:00<00:00, 1185.75it/s]\n",
      "100%|██████████| 200/200 [00:00<00:00, 2035.25it/s]\n"
     ]
    },
    {
     "name": "stdout",
     "output_type": "stream",
     "text": [
      "Epoch 14:\n"
     ]
    },
    {
     "name": "stderr",
     "output_type": "stream",
     "text": [
      "100%|██████████| 200/200 [00:00<00:00, 1188.92it/s]\n",
      "100%|██████████| 200/200 [00:00<00:00, 2058.76it/s]\n"
     ]
    },
    {
     "name": "stdout",
     "output_type": "stream",
     "text": [
      "Epoch 15:\n"
     ]
    },
    {
     "name": "stderr",
     "output_type": "stream",
     "text": [
      "100%|██████████| 200/200 [00:00<00:00, 1189.28it/s]\n",
      "100%|██████████| 200/200 [00:00<00:00, 2030.68it/s]\n"
     ]
    },
    {
     "name": "stdout",
     "output_type": "stream",
     "text": [
      "Epoch 16:\n"
     ]
    },
    {
     "name": "stderr",
     "output_type": "stream",
     "text": [
      "100%|██████████| 200/200 [00:00<00:00, 1200.82it/s]\n",
      "100%|██████████| 200/200 [00:00<00:00, 2045.13it/s]\n"
     ]
    },
    {
     "name": "stdout",
     "output_type": "stream",
     "text": [
      "Epoch 17:\n"
     ]
    },
    {
     "name": "stderr",
     "output_type": "stream",
     "text": [
      "100%|██████████| 200/200 [00:00<00:00, 1191.18it/s]\n",
      "100%|██████████| 200/200 [00:00<00:00, 2052.86it/s]\n"
     ]
    },
    {
     "name": "stdout",
     "output_type": "stream",
     "text": [
      "Epoch 18:\n"
     ]
    },
    {
     "name": "stderr",
     "output_type": "stream",
     "text": [
      "100%|██████████| 200/200 [00:00<00:00, 1182.36it/s]\n",
      "100%|██████████| 200/200 [00:00<00:00, 2034.15it/s]\n"
     ]
    },
    {
     "name": "stdout",
     "output_type": "stream",
     "text": [
      "Epoch 19:\n"
     ]
    },
    {
     "name": "stderr",
     "output_type": "stream",
     "text": [
      "100%|██████████| 200/200 [00:00<00:00, 1189.85it/s]\n",
      "100%|██████████| 200/200 [00:00<00:00, 2059.73it/s]\n"
     ]
    },
    {
     "name": "stdout",
     "output_type": "stream",
     "text": [
      "Epoch 20:\n"
     ]
    },
    {
     "name": "stderr",
     "output_type": "stream",
     "text": [
      "100%|██████████| 200/200 [00:00<00:00, 1186.34it/s]\n",
      "100%|██████████| 200/200 [00:00<00:00, 2044.30it/s]\n"
     ]
    },
    {
     "name": "stdout",
     "output_type": "stream",
     "text": [
      "Epoch 21:\n"
     ]
    },
    {
     "name": "stderr",
     "output_type": "stream",
     "text": [
      "100%|██████████| 200/200 [00:00<00:00, 1204.93it/s]\n",
      "100%|██████████| 200/200 [00:00<00:00, 2056.24it/s]\n"
     ]
    },
    {
     "name": "stdout",
     "output_type": "stream",
     "text": [
      "Epoch 22:\n"
     ]
    },
    {
     "name": "stderr",
     "output_type": "stream",
     "text": [
      "100%|██████████| 200/200 [00:00<00:00, 1191.43it/s]\n",
      "100%|██████████| 200/200 [00:00<00:00, 2060.35it/s]\n"
     ]
    },
    {
     "name": "stdout",
     "output_type": "stream",
     "text": [
      "Epoch 23:\n"
     ]
    },
    {
     "name": "stderr",
     "output_type": "stream",
     "text": [
      "100%|██████████| 200/200 [00:00<00:00, 1159.81it/s]\n",
      "100%|██████████| 200/200 [00:00<00:00, 2052.06it/s]\n"
     ]
    },
    {
     "name": "stdout",
     "output_type": "stream",
     "text": [
      "Epoch 24:\n"
     ]
    },
    {
     "name": "stderr",
     "output_type": "stream",
     "text": [
      "100%|██████████| 200/200 [00:00<00:00, 1196.59it/s]\n",
      "100%|██████████| 200/200 [00:00<00:00, 2063.94it/s]\n"
     ]
    },
    {
     "name": "stdout",
     "output_type": "stream",
     "text": [
      "Epoch 25:\n"
     ]
    },
    {
     "name": "stderr",
     "output_type": "stream",
     "text": [
      "100%|██████████| 200/200 [00:00<00:00, 1191.30it/s]\n",
      "100%|██████████| 200/200 [00:00<00:00, 2055.01it/s]\n"
     ]
    },
    {
     "name": "stdout",
     "output_type": "stream",
     "text": [
      "Epoch 26:\n"
     ]
    },
    {
     "name": "stderr",
     "output_type": "stream",
     "text": [
      "100%|██████████| 200/200 [00:00<00:00, 1191.87it/s]\n",
      "100%|██████████| 200/200 [00:00<00:00, 2042.88it/s]\n"
     ]
    },
    {
     "name": "stdout",
     "output_type": "stream",
     "text": [
      "Epoch 27:\n"
     ]
    },
    {
     "name": "stderr",
     "output_type": "stream",
     "text": [
      "100%|██████████| 200/200 [00:00<00:00, 1191.11it/s]\n",
      "100%|██████████| 200/200 [00:00<00:00, 2046.33it/s]\n"
     ]
    },
    {
     "name": "stdout",
     "output_type": "stream",
     "text": [
      "Epoch 28:\n"
     ]
    },
    {
     "name": "stderr",
     "output_type": "stream",
     "text": [
      "100%|██████████| 200/200 [00:00<00:00, 1205.43it/s]\n",
      "100%|██████████| 200/200 [00:00<00:00, 2049.60it/s]\n"
     ]
    },
    {
     "name": "stdout",
     "output_type": "stream",
     "text": [
      "Epoch 29:\n"
     ]
    },
    {
     "name": "stderr",
     "output_type": "stream",
     "text": [
      "100%|██████████| 200/200 [00:00<00:00, 1195.66it/s]\n",
      "100%|██████████| 200/200 [00:00<00:00, 2026.39it/s]\n"
     ]
    },
    {
     "name": "stdout",
     "output_type": "stream",
     "text": [
      "Epoch 30:\n"
     ]
    },
    {
     "name": "stderr",
     "output_type": "stream",
     "text": [
      "100%|██████████| 200/200 [00:00<00:00, 1196.80it/s]\n",
      "100%|██████████| 200/200 [00:00<00:00, 2061.71it/s]\n"
     ]
    },
    {
     "name": "stdout",
     "output_type": "stream",
     "text": [
      "Best validation accuracy at epoch 30\n"
     ]
    },
    {
     "name": "stderr",
     "output_type": "stream",
     "text": [
      "100%|██████████| 100/100 [00:00<00:00, 1746.03it/s]\n"
     ]
    },
    {
     "name": "stdout",
     "output_type": "stream",
     "text": [
      "{'name': 'max_prob'}\n",
      "{\n",
      "    \"accuracy\": 0.864375,\n",
      "    \"aupr\": 0.9605712198115013,\n",
      "    \"auroc\": 0.7928444600497816,\n",
      "    \"avg_crr_conf\": 0.5916855425667018,\n",
      "    \"avg_err_conf\": 0.07968598362989723,\n",
      "    \"capacity\": 0.9549702016500475,\n",
      "    \"kendall_tau\": 0.20715564407835768,\n",
      "    \"n_correct\": 5532,\n",
      "    \"n_errors\": 868,\n",
      "    \"n_published\": 6400,\n",
      "    \"validation_loss\": 0.4589270994067192\n",
      "}\n"
     ]
    },
    {
     "name": "stderr",
     "output_type": "stream",
     "text": [
      "100%|██████████| 100/100 [00:00<00:00, 1858.57it/s]\n"
     ]
    },
    {
     "name": "stdout",
     "output_type": "stream",
     "text": [
      "{'name': 'random'}\n",
      "{\n",
      "    \"accuracy\": 0.864375,\n",
      "    \"aupr\": 0.8593913515090716,\n",
      "    \"auroc\": 0.48243691500811364,\n",
      "    \"avg_crr_conf\": 0.42709464879706505,\n",
      "    \"avg_err_conf\": 0.06939081467688084,\n",
      "    \"capacity\": 0.8593368932530325,\n",
      "    \"kendall_tau\": 0.5175632932481649,\n",
      "    \"n_correct\": 5532,\n",
      "    \"n_errors\": 868,\n",
      "    \"n_published\": 6400,\n",
      "    \"validation_loss\": 0.4589270994067192\n",
      "}\n"
     ]
    },
    {
     "name": "stderr",
     "output_type": "stream",
     "text": [
      "100%|██████████| 100/100 [00:00<00:00, 311.86it/s]"
     ]
    },
    {
     "name": "stdout",
     "output_type": "stream",
     "text": [
      "{'name': 'mcd', 'aggregator': 'mean', 'n_forward_passes': 10}\n",
      "{\n",
      "    \"accuracy\": 0.864375,\n",
      "    \"aupr\": 0.9436220230886411,\n",
      "    \"auroc\": 0.7203173367520684,\n",
      "    \"avg_crr_conf\": 0.5502092671347782,\n",
      "    \"avg_err_conf\": 0.07707801168784499,\n",
      "    \"capacity\": 0.939412636132287,\n",
      "    \"kendall_tau\": 0.27968276737607084,\n",
      "    \"n_correct\": 5532,\n",
      "    \"n_errors\": 868,\n",
      "    \"n_published\": 6400,\n",
      "    \"validation_loss\": 0.4589270994067192\n",
      "}\n"
     ]
    },
    {
     "name": "stderr",
     "output_type": "stream",
     "text": [
      "\n"
     ]
    }
   ],
   "source": [
    "from spred.experiment import Experiment\n",
    "task = NormalsTask(task_config)\n",
    "exp = Experiment(config, task)\n",
    "exp_result = exp.run()"
   ]
  },
  {
   "cell_type": "code",
   "execution_count": null,
   "id": "5b185c5d",
   "metadata": {},
   "outputs": [],
   "source": []
  },
  {
   "cell_type": "code",
   "execution_count": 56,
   "id": "822b7bd4",
   "metadata": {},
   "outputs": [
    {
     "name": "stdout",
     "output_type": "stream",
     "text": [
      "Training with config:\n",
      "{'network': {'architecture': 'feedforward', 'input_size': 52, 'hidden_sizes': [128, 64], 'output_size': 2, 'loss': {'name': 'ce'}}, 'optimizer': {'name': 'sgd', 'lr': 0.003, 'momentum': 0.9}, 'bsz': 64, 'n_epochs': 30, 'confidences': [{'name': 'max_prob'}, {'name': 'random'}, {'name': 'mcd', 'aggregator': 'mean', 'n_forward_passes': 10}]}\n",
      "Epoch 1:\n"
     ]
    },
    {
     "name": "stderr",
     "output_type": "stream",
     "text": [
      "100%|██████████| 200/200 [00:00<00:00, 1090.60it/s]\n",
      "100%|██████████| 200/200 [00:00<00:00, 1918.63it/s]\n"
     ]
    },
    {
     "name": "stdout",
     "output_type": "stream",
     "text": [
      "Epoch 2:\n"
     ]
    },
    {
     "name": "stderr",
     "output_type": "stream",
     "text": [
      "100%|██████████| 200/200 [00:00<00:00, 1189.94it/s]\n",
      "100%|██████████| 200/200 [00:00<00:00, 2052.61it/s]\n"
     ]
    },
    {
     "name": "stdout",
     "output_type": "stream",
     "text": [
      "Epoch 3:\n"
     ]
    },
    {
     "name": "stderr",
     "output_type": "stream",
     "text": [
      "100%|██████████| 200/200 [00:00<00:00, 1196.47it/s]\n",
      "100%|██████████| 200/200 [00:00<00:00, 2021.16it/s]\n"
     ]
    },
    {
     "name": "stdout",
     "output_type": "stream",
     "text": [
      "Epoch 4:\n"
     ]
    },
    {
     "name": "stderr",
     "output_type": "stream",
     "text": [
      "100%|██████████| 200/200 [00:00<00:00, 1155.79it/s]\n",
      "100%|██████████| 200/200 [00:00<00:00, 2059.67it/s]\n"
     ]
    },
    {
     "name": "stdout",
     "output_type": "stream",
     "text": [
      "Epoch 5:\n"
     ]
    },
    {
     "name": "stderr",
     "output_type": "stream",
     "text": [
      "100%|██████████| 200/200 [00:00<00:00, 1140.80it/s]\n",
      "100%|██████████| 200/200 [00:00<00:00, 2038.15it/s]\n"
     ]
    },
    {
     "name": "stdout",
     "output_type": "stream",
     "text": [
      "Epoch 6:\n"
     ]
    },
    {
     "name": "stderr",
     "output_type": "stream",
     "text": [
      "100%|██████████| 200/200 [00:00<00:00, 1196.90it/s]\n",
      "100%|██████████| 200/200 [00:00<00:00, 2046.83it/s]\n"
     ]
    },
    {
     "name": "stdout",
     "output_type": "stream",
     "text": [
      "Epoch 7:\n"
     ]
    },
    {
     "name": "stderr",
     "output_type": "stream",
     "text": [
      "100%|██████████| 200/200 [00:00<00:00, 1162.89it/s]\n",
      "100%|██████████| 200/200 [00:00<00:00, 2060.30it/s]\n"
     ]
    },
    {
     "name": "stdout",
     "output_type": "stream",
     "text": [
      "Epoch 8:\n"
     ]
    },
    {
     "name": "stderr",
     "output_type": "stream",
     "text": [
      "100%|██████████| 200/200 [00:00<00:00, 1196.77it/s]\n",
      "100%|██████████| 200/200 [00:00<00:00, 1145.67it/s]\n"
     ]
    },
    {
     "name": "stdout",
     "output_type": "stream",
     "text": [
      "Epoch 9:\n"
     ]
    },
    {
     "name": "stderr",
     "output_type": "stream",
     "text": [
      "100%|██████████| 200/200 [00:00<00:00, 1186.68it/s]\n",
      "100%|██████████| 200/200 [00:00<00:00, 2056.75it/s]\n"
     ]
    },
    {
     "name": "stdout",
     "output_type": "stream",
     "text": [
      "Epoch 10:\n"
     ]
    },
    {
     "name": "stderr",
     "output_type": "stream",
     "text": [
      "100%|██████████| 200/200 [00:00<00:00, 1178.00it/s]\n",
      "100%|██████████| 200/200 [00:00<00:00, 2056.68it/s]\n"
     ]
    },
    {
     "name": "stdout",
     "output_type": "stream",
     "text": [
      "Epoch 11:\n"
     ]
    },
    {
     "name": "stderr",
     "output_type": "stream",
     "text": [
      "100%|██████████| 200/200 [00:00<00:00, 1192.18it/s]\n",
      "100%|██████████| 200/200 [00:00<00:00, 2048.05it/s]\n"
     ]
    },
    {
     "name": "stdout",
     "output_type": "stream",
     "text": [
      "Epoch 12:\n"
     ]
    },
    {
     "name": "stderr",
     "output_type": "stream",
     "text": [
      "100%|██████████| 200/200 [00:00<00:00, 1194.02it/s]\n",
      "100%|██████████| 200/200 [00:00<00:00, 2034.38it/s]\n"
     ]
    },
    {
     "name": "stdout",
     "output_type": "stream",
     "text": [
      "Epoch 13:\n"
     ]
    },
    {
     "name": "stderr",
     "output_type": "stream",
     "text": [
      "100%|██████████| 200/200 [00:00<00:00, 1203.73it/s]\n",
      "100%|██████████| 200/200 [00:00<00:00, 2032.89it/s]\n"
     ]
    },
    {
     "name": "stdout",
     "output_type": "stream",
     "text": [
      "Epoch 14:\n"
     ]
    },
    {
     "name": "stderr",
     "output_type": "stream",
     "text": [
      "100%|██████████| 200/200 [00:00<00:00, 1206.81it/s]\n",
      "100%|██████████| 200/200 [00:00<00:00, 2046.37it/s]\n"
     ]
    },
    {
     "name": "stdout",
     "output_type": "stream",
     "text": [
      "Epoch 15:\n"
     ]
    },
    {
     "name": "stderr",
     "output_type": "stream",
     "text": [
      "100%|██████████| 200/200 [00:00<00:00, 1193.17it/s]\n",
      "100%|██████████| 200/200 [00:00<00:00, 2036.18it/s]\n"
     ]
    },
    {
     "name": "stdout",
     "output_type": "stream",
     "text": [
      "Epoch 16:\n"
     ]
    },
    {
     "name": "stderr",
     "output_type": "stream",
     "text": [
      "100%|██████████| 200/200 [00:00<00:00, 1191.90it/s]\n",
      "100%|██████████| 200/200 [00:00<00:00, 2060.14it/s]\n"
     ]
    },
    {
     "name": "stdout",
     "output_type": "stream",
     "text": [
      "Epoch 17:\n"
     ]
    },
    {
     "name": "stderr",
     "output_type": "stream",
     "text": [
      "100%|██████████| 200/200 [00:00<00:00, 1203.13it/s]\n",
      "100%|██████████| 200/200 [00:00<00:00, 2057.11it/s]\n"
     ]
    },
    {
     "name": "stdout",
     "output_type": "stream",
     "text": [
      "Epoch 18:\n"
     ]
    },
    {
     "name": "stderr",
     "output_type": "stream",
     "text": [
      "100%|██████████| 200/200 [00:00<00:00, 1195.41it/s]\n",
      "100%|██████████| 200/200 [00:00<00:00, 2033.61it/s]\n"
     ]
    },
    {
     "name": "stdout",
     "output_type": "stream",
     "text": [
      "Epoch 19:\n"
     ]
    },
    {
     "name": "stderr",
     "output_type": "stream",
     "text": [
      "100%|██████████| 200/200 [00:00<00:00, 1193.22it/s]\n",
      "100%|██████████| 200/200 [00:00<00:00, 2016.27it/s]\n"
     ]
    },
    {
     "name": "stdout",
     "output_type": "stream",
     "text": [
      "Epoch 20:\n"
     ]
    },
    {
     "name": "stderr",
     "output_type": "stream",
     "text": [
      "100%|██████████| 200/200 [00:00<00:00, 1200.58it/s]\n",
      "100%|██████████| 200/200 [00:00<00:00, 2032.15it/s]\n"
     ]
    },
    {
     "name": "stdout",
     "output_type": "stream",
     "text": [
      "Epoch 21:\n"
     ]
    },
    {
     "name": "stderr",
     "output_type": "stream",
     "text": [
      "100%|██████████| 200/200 [00:00<00:00, 1193.17it/s]\n",
      "100%|██████████| 200/200 [00:00<00:00, 2055.71it/s]\n"
     ]
    },
    {
     "name": "stdout",
     "output_type": "stream",
     "text": [
      "Epoch 22:\n"
     ]
    },
    {
     "name": "stderr",
     "output_type": "stream",
     "text": [
      "100%|██████████| 200/200 [00:00<00:00, 1196.20it/s]\n",
      "100%|██████████| 200/200 [00:00<00:00, 2041.65it/s]\n"
     ]
    },
    {
     "name": "stdout",
     "output_type": "stream",
     "text": [
      "Epoch 23:\n"
     ]
    },
    {
     "name": "stderr",
     "output_type": "stream",
     "text": [
      "100%|██████████| 200/200 [00:00<00:00, 1114.58it/s]\n",
      "100%|██████████| 200/200 [00:00<00:00, 2030.81it/s]\n"
     ]
    },
    {
     "name": "stdout",
     "output_type": "stream",
     "text": [
      "Epoch 24:\n"
     ]
    },
    {
     "name": "stderr",
     "output_type": "stream",
     "text": [
      "100%|██████████| 200/200 [00:00<00:00, 1200.00it/s]\n",
      "100%|██████████| 200/200 [00:00<00:00, 2057.77it/s]\n"
     ]
    },
    {
     "name": "stdout",
     "output_type": "stream",
     "text": [
      "Epoch 25:\n"
     ]
    },
    {
     "name": "stderr",
     "output_type": "stream",
     "text": [
      "100%|██████████| 200/200 [00:00<00:00, 1202.00it/s]\n",
      "100%|██████████| 200/200 [00:00<00:00, 2055.81it/s]\n"
     ]
    },
    {
     "name": "stdout",
     "output_type": "stream",
     "text": [
      "Epoch 26:\n"
     ]
    },
    {
     "name": "stderr",
     "output_type": "stream",
     "text": [
      "100%|██████████| 200/200 [00:00<00:00, 1205.75it/s]\n",
      "100%|██████████| 200/200 [00:00<00:00, 2035.60it/s]\n"
     ]
    },
    {
     "name": "stdout",
     "output_type": "stream",
     "text": [
      "Epoch 27:\n"
     ]
    },
    {
     "name": "stderr",
     "output_type": "stream",
     "text": [
      "100%|██████████| 200/200 [00:00<00:00, 1206.74it/s]\n",
      "100%|██████████| 200/200 [00:00<00:00, 2053.98it/s]\n"
     ]
    },
    {
     "name": "stdout",
     "output_type": "stream",
     "text": [
      "Epoch 28:\n"
     ]
    },
    {
     "name": "stderr",
     "output_type": "stream",
     "text": [
      "100%|██████████| 200/200 [00:00<00:00, 1197.65it/s]\n",
      "100%|██████████| 200/200 [00:00<00:00, 2049.31it/s]\n"
     ]
    },
    {
     "name": "stdout",
     "output_type": "stream",
     "text": [
      "Epoch 29:\n"
     ]
    },
    {
     "name": "stderr",
     "output_type": "stream",
     "text": [
      "100%|██████████| 200/200 [00:00<00:00, 1189.96it/s]\n",
      "100%|██████████| 200/200 [00:00<00:00, 2041.28it/s]\n"
     ]
    },
    {
     "name": "stdout",
     "output_type": "stream",
     "text": [
      "Epoch 30:\n"
     ]
    },
    {
     "name": "stderr",
     "output_type": "stream",
     "text": [
      "100%|██████████| 200/200 [00:00<00:00, 1186.66it/s]\n",
      "100%|██████████| 200/200 [00:00<00:00, 2053.25it/s]\n"
     ]
    },
    {
     "name": "stdout",
     "output_type": "stream",
     "text": [
      "Best validation accuracy at epoch 30\n"
     ]
    },
    {
     "name": "stderr",
     "output_type": "stream",
     "text": [
      "100%|██████████| 100/100 [00:00<00:00, 1828.39it/s]\n"
     ]
    },
    {
     "name": "stdout",
     "output_type": "stream",
     "text": [
      "{'name': 'max_prob'}\n",
      "{\n",
      "    \"accuracy\": 0.9025,\n",
      "    \"aupr\": 0.9847325621926695,\n",
      "    \"auroc\": 0.8765347270313943,\n",
      "    \"avg_crr_conf\": 0.7639971074089408,\n",
      "    \"avg_err_conf\": 0.06419453774578869,\n",
      "    \"capacity\": 0.9809692483570327,\n",
      "    \"kendall_tau\": 0.12346541169472264,\n",
      "    \"n_correct\": 5776,\n",
      "    \"n_errors\": 624,\n",
      "    \"n_published\": 6400,\n",
      "    \"validation_loss\": 0.2709637603163719\n",
      "}\n"
     ]
    },
    {
     "name": "stderr",
     "output_type": "stream",
     "text": [
      "100%|██████████| 100/100 [00:00<00:00, 1895.48it/s]\n"
     ]
    },
    {
     "name": "stdout",
     "output_type": "stream",
     "text": [
      "{'name': 'random'}\n",
      "{\n",
      "    \"accuracy\": 0.9025,\n",
      "    \"aupr\": 0.9025576018258505,\n",
      "    \"auroc\": 0.4893325165139569,\n",
      "    \"avg_crr_conf\": 0.4568972721043974,\n",
      "    \"avg_err_conf\": 0.050421635573729875,\n",
      "    \"capacity\": 0.9025229209545066,\n",
      "    \"kendall_tau\": 0.5106674834860431,\n",
      "    \"n_correct\": 5776,\n",
      "    \"n_errors\": 624,\n",
      "    \"n_published\": 6400,\n",
      "    \"validation_loss\": 0.2709637603163719\n",
      "}\n"
     ]
    },
    {
     "name": "stderr",
     "output_type": "stream",
     "text": [
      "100%|██████████| 100/100 [00:00<00:00, 317.23it/s]\n"
     ]
    },
    {
     "name": "stdout",
     "output_type": "stream",
     "text": [
      "{'name': 'mcd', 'aggregator': 'mean', 'n_forward_passes': 10}\n",
      "{\n",
      "    \"accuracy\": 0.9025,\n",
      "    \"aupr\": 0.9794368781144756,\n",
      "    \"auroc\": 0.838209695068897,\n",
      "    \"avg_crr_conf\": 0.702174401502125,\n",
      "    \"avg_err_conf\": 0.060505566257052126,\n",
      "    \"capacity\": 0.9760324813183064,\n",
      "    \"kendall_tau\": 0.16179044365721998,\n",
      "    \"n_correct\": 5776,\n",
      "    \"n_errors\": 624,\n",
      "    \"n_published\": 6400,\n",
      "    \"validation_loss\": 0.2709637603163719\n",
      "}\n",
      "Training with config:\n",
      "{'network': {'architecture': 'feedforward', 'input_size': 52, 'hidden_sizes': [128, 64], 'output_size': 2, 'loss': {'name': 'ce'}}, 'optimizer': {'name': 'sgd', 'lr': 0.003, 'momentum': 0.9}, 'bsz': 64, 'n_epochs': 30, 'confidences': [{'name': 'max_prob'}, {'name': 'random'}, {'name': 'mcd', 'aggregator': 'mean', 'n_forward_passes': 10}]}\n",
      "Epoch 1:\n"
     ]
    },
    {
     "name": "stderr",
     "output_type": "stream",
     "text": [
      "100%|██████████| 200/200 [00:00<00:00, 1206.50it/s]\n",
      "100%|██████████| 200/200 [00:00<00:00, 2040.27it/s]\n"
     ]
    },
    {
     "name": "stdout",
     "output_type": "stream",
     "text": [
      "Epoch 2:\n"
     ]
    },
    {
     "name": "stderr",
     "output_type": "stream",
     "text": [
      "100%|██████████| 200/200 [00:00<00:00, 1207.67it/s]\n",
      "100%|██████████| 200/200 [00:00<00:00, 2038.57it/s]\n"
     ]
    },
    {
     "name": "stdout",
     "output_type": "stream",
     "text": [
      "Epoch 3:\n"
     ]
    },
    {
     "name": "stderr",
     "output_type": "stream",
     "text": [
      "100%|██████████| 200/200 [00:00<00:00, 1198.62it/s]\n",
      "100%|██████████| 200/200 [00:00<00:00, 2051.48it/s]\n"
     ]
    },
    {
     "name": "stdout",
     "output_type": "stream",
     "text": [
      "Epoch 4:\n"
     ]
    },
    {
     "name": "stderr",
     "output_type": "stream",
     "text": [
      "100%|██████████| 200/200 [00:00<00:00, 1211.03it/s]\n",
      "100%|██████████| 200/200 [00:00<00:00, 2070.36it/s]\n"
     ]
    },
    {
     "name": "stdout",
     "output_type": "stream",
     "text": [
      "Epoch 5:\n"
     ]
    },
    {
     "name": "stderr",
     "output_type": "stream",
     "text": [
      "100%|██████████| 200/200 [00:00<00:00, 1203.53it/s]\n",
      "100%|██████████| 200/200 [00:00<00:00, 2060.50it/s]\n"
     ]
    },
    {
     "name": "stdout",
     "output_type": "stream",
     "text": [
      "Epoch 6:\n"
     ]
    },
    {
     "name": "stderr",
     "output_type": "stream",
     "text": [
      "100%|██████████| 200/200 [00:00<00:00, 1198.45it/s]\n",
      "100%|██████████| 200/200 [00:00<00:00, 2045.16it/s]\n"
     ]
    },
    {
     "name": "stdout",
     "output_type": "stream",
     "text": [
      "Epoch 7:\n"
     ]
    },
    {
     "name": "stderr",
     "output_type": "stream",
     "text": [
      "100%|██████████| 200/200 [00:00<00:00, 1210.37it/s]\n",
      "100%|██████████| 200/200 [00:00<00:00, 2038.20it/s]\n"
     ]
    },
    {
     "name": "stdout",
     "output_type": "stream",
     "text": [
      "Epoch 8:\n"
     ]
    },
    {
     "name": "stderr",
     "output_type": "stream",
     "text": [
      "100%|██████████| 200/200 [00:00<00:00, 1198.84it/s]\n",
      "100%|██████████| 200/200 [00:00<00:00, 2054.63it/s]\n"
     ]
    },
    {
     "name": "stdout",
     "output_type": "stream",
     "text": [
      "Epoch 9:\n"
     ]
    },
    {
     "name": "stderr",
     "output_type": "stream",
     "text": [
      "100%|██████████| 200/200 [00:00<00:00, 1203.84it/s]\n",
      "100%|██████████| 200/200 [00:00<00:00, 2043.21it/s]\n"
     ]
    },
    {
     "name": "stdout",
     "output_type": "stream",
     "text": [
      "Epoch 10:\n"
     ]
    },
    {
     "name": "stderr",
     "output_type": "stream",
     "text": [
      "100%|██████████| 200/200 [00:00<00:00, 1194.44it/s]\n",
      "100%|██████████| 200/200 [00:00<00:00, 1961.55it/s]\n"
     ]
    },
    {
     "name": "stdout",
     "output_type": "stream",
     "text": [
      "Epoch 11:\n"
     ]
    },
    {
     "name": "stderr",
     "output_type": "stream",
     "text": [
      "100%|██████████| 200/200 [00:00<00:00, 1201.18it/s]\n",
      "100%|██████████| 200/200 [00:00<00:00, 2064.22it/s]\n"
     ]
    },
    {
     "name": "stdout",
     "output_type": "stream",
     "text": [
      "Epoch 12:\n"
     ]
    },
    {
     "name": "stderr",
     "output_type": "stream",
     "text": [
      "100%|██████████| 200/200 [00:00<00:00, 1195.43it/s]\n",
      "100%|██████████| 200/200 [00:00<00:00, 2055.75it/s]\n"
     ]
    },
    {
     "name": "stdout",
     "output_type": "stream",
     "text": [
      "Epoch 13:\n"
     ]
    },
    {
     "name": "stderr",
     "output_type": "stream",
     "text": [
      "100%|██████████| 200/200 [00:00<00:00, 1204.14it/s]\n",
      "100%|██████████| 200/200 [00:00<00:00, 2048.49it/s]\n"
     ]
    },
    {
     "name": "stdout",
     "output_type": "stream",
     "text": [
      "Epoch 14:\n"
     ]
    },
    {
     "name": "stderr",
     "output_type": "stream",
     "text": [
      "100%|██████████| 200/200 [00:00<00:00, 1201.59it/s]\n",
      "100%|██████████| 200/200 [00:00<00:00, 2045.24it/s]\n"
     ]
    },
    {
     "name": "stdout",
     "output_type": "stream",
     "text": [
      "Epoch 15:\n"
     ]
    },
    {
     "name": "stderr",
     "output_type": "stream",
     "text": [
      "100%|██████████| 200/200 [00:00<00:00, 1200.37it/s]\n",
      "100%|██████████| 200/200 [00:00<00:00, 2045.00it/s]\n"
     ]
    },
    {
     "name": "stdout",
     "output_type": "stream",
     "text": [
      "Epoch 16:\n"
     ]
    },
    {
     "name": "stderr",
     "output_type": "stream",
     "text": [
      "100%|██████████| 200/200 [00:00<00:00, 1207.66it/s]\n",
      "100%|██████████| 200/200 [00:00<00:00, 2052.67it/s]\n"
     ]
    },
    {
     "name": "stdout",
     "output_type": "stream",
     "text": [
      "Epoch 17:\n"
     ]
    },
    {
     "name": "stderr",
     "output_type": "stream",
     "text": [
      "100%|██████████| 200/200 [00:00<00:00, 1201.85it/s]\n",
      "100%|██████████| 200/200 [00:00<00:00, 2056.94it/s]\n"
     ]
    },
    {
     "name": "stdout",
     "output_type": "stream",
     "text": [
      "Epoch 18:\n"
     ]
    },
    {
     "name": "stderr",
     "output_type": "stream",
     "text": [
      "100%|██████████| 200/200 [00:00<00:00, 1203.47it/s]\n",
      "100%|██████████| 200/200 [00:00<00:00, 2046.46it/s]\n"
     ]
    },
    {
     "name": "stdout",
     "output_type": "stream",
     "text": [
      "Epoch 19:\n"
     ]
    },
    {
     "name": "stderr",
     "output_type": "stream",
     "text": [
      "100%|██████████| 200/200 [00:00<00:00, 1203.72it/s]\n",
      "100%|██████████| 200/200 [00:00<00:00, 2050.84it/s]\n"
     ]
    },
    {
     "name": "stdout",
     "output_type": "stream",
     "text": [
      "Epoch 20:\n"
     ]
    },
    {
     "name": "stderr",
     "output_type": "stream",
     "text": [
      "100%|██████████| 200/200 [00:00<00:00, 1199.05it/s]\n",
      "100%|██████████| 200/200 [00:00<00:00, 2039.36it/s]\n"
     ]
    },
    {
     "name": "stdout",
     "output_type": "stream",
     "text": [
      "Epoch 21:\n"
     ]
    },
    {
     "name": "stderr",
     "output_type": "stream",
     "text": [
      "100%|██████████| 200/200 [00:00<00:00, 1199.65it/s]\n",
      "100%|██████████| 200/200 [00:00<00:00, 2044.03it/s]\n"
     ]
    },
    {
     "name": "stdout",
     "output_type": "stream",
     "text": [
      "Epoch 22:\n"
     ]
    },
    {
     "name": "stderr",
     "output_type": "stream",
     "text": [
      "100%|██████████| 200/200 [00:00<00:00, 1202.52it/s]\n",
      "100%|██████████| 200/200 [00:00<00:00, 2055.99it/s]\n"
     ]
    },
    {
     "name": "stdout",
     "output_type": "stream",
     "text": [
      "Epoch 23:\n"
     ]
    },
    {
     "name": "stderr",
     "output_type": "stream",
     "text": [
      "100%|██████████| 200/200 [00:00<00:00, 1194.28it/s]\n",
      "100%|██████████| 200/200 [00:00<00:00, 2038.37it/s]\n"
     ]
    },
    {
     "name": "stdout",
     "output_type": "stream",
     "text": [
      "Epoch 24:\n"
     ]
    },
    {
     "name": "stderr",
     "output_type": "stream",
     "text": [
      "100%|██████████| 200/200 [00:00<00:00, 1198.03it/s]\n",
      "100%|██████████| 200/200 [00:00<00:00, 2040.19it/s]\n"
     ]
    },
    {
     "name": "stdout",
     "output_type": "stream",
     "text": [
      "Epoch 25:\n"
     ]
    },
    {
     "name": "stderr",
     "output_type": "stream",
     "text": [
      "100%|██████████| 200/200 [00:00<00:00, 1153.51it/s]\n",
      "100%|██████████| 200/200 [00:00<00:00, 2066.16it/s]\n"
     ]
    },
    {
     "name": "stdout",
     "output_type": "stream",
     "text": [
      "Epoch 26:\n"
     ]
    },
    {
     "name": "stderr",
     "output_type": "stream",
     "text": [
      "100%|██████████| 200/200 [00:00<00:00, 1194.70it/s]\n",
      "100%|██████████| 200/200 [00:00<00:00, 2046.94it/s]\n"
     ]
    },
    {
     "name": "stdout",
     "output_type": "stream",
     "text": [
      "Epoch 27:\n"
     ]
    },
    {
     "name": "stderr",
     "output_type": "stream",
     "text": [
      "100%|██████████| 200/200 [00:00<00:00, 1198.29it/s]\n",
      "100%|██████████| 200/200 [00:00<00:00, 2049.66it/s]\n"
     ]
    },
    {
     "name": "stdout",
     "output_type": "stream",
     "text": [
      "Epoch 28:\n"
     ]
    },
    {
     "name": "stderr",
     "output_type": "stream",
     "text": [
      "100%|██████████| 200/200 [00:00<00:00, 1188.87it/s]\n",
      "100%|██████████| 200/200 [00:00<00:00, 2056.43it/s]\n"
     ]
    },
    {
     "name": "stdout",
     "output_type": "stream",
     "text": [
      "Epoch 29:\n"
     ]
    },
    {
     "name": "stderr",
     "output_type": "stream",
     "text": [
      "100%|██████████| 200/200 [00:00<00:00, 1189.63it/s]\n",
      "100%|██████████| 200/200 [00:00<00:00, 2049.79it/s]\n"
     ]
    },
    {
     "name": "stdout",
     "output_type": "stream",
     "text": [
      "Epoch 30:\n"
     ]
    },
    {
     "name": "stderr",
     "output_type": "stream",
     "text": [
      "100%|██████████| 200/200 [00:00<00:00, 1183.66it/s]\n",
      "100%|██████████| 200/200 [00:00<00:00, 2055.41it/s]\n"
     ]
    },
    {
     "name": "stdout",
     "output_type": "stream",
     "text": [
      "Best validation accuracy at epoch 30\n"
     ]
    },
    {
     "name": "stderr",
     "output_type": "stream",
     "text": [
      "100%|██████████| 100/100 [00:00<00:00, 1838.47it/s]\n"
     ]
    },
    {
     "name": "stdout",
     "output_type": "stream",
     "text": [
      "{'name': 'max_prob'}\n",
      "{\n",
      "    \"accuracy\": 0.9309375,\n",
      "    \"aupr\": 0.9932663438601561,\n",
      "    \"auroc\": 0.9174599268788002,\n",
      "    \"avg_crr_conf\": 0.8399400087632238,\n",
      "    \"avg_err_conf\": 0.04402004862204194,\n",
      "    \"capacity\": 0.9912084885591689,\n",
      "    \"kendall_tau\": 0.08254007312119983,\n",
      "    \"n_correct\": 5958,\n",
      "    \"n_errors\": 442,\n",
      "    \"n_published\": 6400,\n",
      "    \"validation_loss\": 0.182403781414032\n",
      "}\n"
     ]
    },
    {
     "name": "stderr",
     "output_type": "stream",
     "text": [
      "100%|██████████| 100/100 [00:00<00:00, 1916.41it/s]\n"
     ]
    },
    {
     "name": "stdout",
     "output_type": "stream",
     "text": [
      "{'name': 'random'}\n",
      "{\n",
      "    \"accuracy\": 0.9309375,\n",
      "    \"aupr\": 0.9303640709223007,\n",
      "    \"auroc\": 0.5068074561143692,\n",
      "    \"avg_crr_conf\": 0.46390043932944536,\n",
      "    \"avg_err_conf\": 0.03395576979033649,\n",
      "    \"capacity\": 0.9303418341111653,\n",
      "    \"kendall_tau\": 0.4931925438856308,\n",
      "    \"n_correct\": 5958,\n",
      "    \"n_errors\": 442,\n",
      "    \"n_published\": 6400,\n",
      "    \"validation_loss\": 0.182403781414032\n",
      "}\n"
     ]
    },
    {
     "name": "stderr",
     "output_type": "stream",
     "text": [
      "100%|██████████| 100/100 [00:00<00:00, 319.02it/s]\n"
     ]
    },
    {
     "name": "stdout",
     "output_type": "stream",
     "text": [
      "{'name': 'mcd', 'aggregator': 'mean', 'n_forward_passes': 10}\n",
      "{\n",
      "    \"accuracy\": 0.9309375,\n",
      "    \"aupr\": 0.9914233041961835,\n",
      "    \"auroc\": 0.8977081653019097,\n",
      "    \"avg_crr_conf\": 0.7751339438185095,\n",
      "    \"avg_err_conf\": 0.0415589996566996,\n",
      "    \"capacity\": 0.9894551733977734,\n",
      "    \"kendall_tau\": 0.10229183469809025,\n",
      "    \"n_correct\": 5958,\n",
      "    \"n_errors\": 442,\n",
      "    \"n_published\": 6400,\n",
      "    \"validation_loss\": 0.182403781414032\n",
      "}\n",
      "Training with config:\n",
      "{'network': {'architecture': 'feedforward', 'input_size': 52, 'hidden_sizes': [128, 64], 'output_size': 2, 'loss': {'name': 'ce'}}, 'optimizer': {'name': 'sgd', 'lr': 0.003, 'momentum': 0.9}, 'bsz': 64, 'n_epochs': 30, 'confidences': [{'name': 'max_prob'}, {'name': 'random'}, {'name': 'mcd', 'aggregator': 'mean', 'n_forward_passes': 10}]}\n",
      "Epoch 1:\n"
     ]
    },
    {
     "name": "stderr",
     "output_type": "stream",
     "text": [
      "100%|██████████| 200/200 [00:00<00:00, 1211.22it/s]\n",
      "100%|██████████| 200/200 [00:00<00:00, 2044.79it/s]\n"
     ]
    },
    {
     "name": "stdout",
     "output_type": "stream",
     "text": [
      "Epoch 2:\n"
     ]
    },
    {
     "name": "stderr",
     "output_type": "stream",
     "text": [
      "100%|██████████| 200/200 [00:00<00:00, 1205.32it/s]\n",
      "100%|██████████| 200/200 [00:00<00:00, 2038.36it/s]\n"
     ]
    },
    {
     "name": "stdout",
     "output_type": "stream",
     "text": [
      "Epoch 3:\n"
     ]
    },
    {
     "name": "stderr",
     "output_type": "stream",
     "text": [
      "100%|██████████| 200/200 [00:00<00:00, 1207.72it/s]\n",
      "100%|██████████| 200/200 [00:00<00:00, 2064.58it/s]\n"
     ]
    },
    {
     "name": "stdout",
     "output_type": "stream",
     "text": [
      "Epoch 4:\n"
     ]
    },
    {
     "name": "stderr",
     "output_type": "stream",
     "text": [
      "100%|██████████| 200/200 [00:00<00:00, 1205.40it/s]\n",
      "100%|██████████| 200/200 [00:00<00:00, 2050.42it/s]\n"
     ]
    },
    {
     "name": "stdout",
     "output_type": "stream",
     "text": [
      "Epoch 5:\n"
     ]
    },
    {
     "name": "stderr",
     "output_type": "stream",
     "text": [
      "100%|██████████| 200/200 [00:00<00:00, 1198.45it/s]\n",
      "100%|██████████| 200/200 [00:00<00:00, 2046.35it/s]\n"
     ]
    },
    {
     "name": "stdout",
     "output_type": "stream",
     "text": [
      "Epoch 6:\n"
     ]
    },
    {
     "name": "stderr",
     "output_type": "stream",
     "text": [
      "100%|██████████| 200/200 [00:00<00:00, 1208.12it/s]\n",
      "100%|██████████| 200/200 [00:00<00:00, 2041.57it/s]\n"
     ]
    },
    {
     "name": "stdout",
     "output_type": "stream",
     "text": [
      "Epoch 7:\n"
     ]
    },
    {
     "name": "stderr",
     "output_type": "stream",
     "text": [
      "100%|██████████| 200/200 [00:00<00:00, 1206.69it/s]\n",
      "100%|██████████| 200/200 [00:00<00:00, 2049.43it/s]\n"
     ]
    },
    {
     "name": "stdout",
     "output_type": "stream",
     "text": [
      "Epoch 8:\n"
     ]
    },
    {
     "name": "stderr",
     "output_type": "stream",
     "text": [
      "100%|██████████| 200/200 [00:00<00:00, 1206.32it/s]\n",
      "100%|██████████| 200/200 [00:00<00:00, 2041.90it/s]\n"
     ]
    },
    {
     "name": "stdout",
     "output_type": "stream",
     "text": [
      "Epoch 9:\n"
     ]
    },
    {
     "name": "stderr",
     "output_type": "stream",
     "text": [
      "100%|██████████| 200/200 [00:00<00:00, 1205.29it/s]\n",
      "100%|██████████| 200/200 [00:00<00:00, 2058.57it/s]\n"
     ]
    },
    {
     "name": "stdout",
     "output_type": "stream",
     "text": [
      "Epoch 10:\n"
     ]
    },
    {
     "name": "stderr",
     "output_type": "stream",
     "text": [
      "100%|██████████| 200/200 [00:00<00:00, 1206.09it/s]\n",
      "100%|██████████| 200/200 [00:00<00:00, 2050.15it/s]\n"
     ]
    },
    {
     "name": "stdout",
     "output_type": "stream",
     "text": [
      "Epoch 11:\n"
     ]
    },
    {
     "name": "stderr",
     "output_type": "stream",
     "text": [
      "100%|██████████| 200/200 [00:00<00:00, 1202.13it/s]\n",
      "100%|██████████| 200/200 [00:00<00:00, 2059.90it/s]\n"
     ]
    },
    {
     "name": "stdout",
     "output_type": "stream",
     "text": [
      "Epoch 12:\n"
     ]
    },
    {
     "name": "stderr",
     "output_type": "stream",
     "text": [
      "100%|██████████| 200/200 [00:00<00:00, 1201.83it/s]\n",
      "100%|██████████| 200/200 [00:00<00:00, 2050.36it/s]\n"
     ]
    },
    {
     "name": "stdout",
     "output_type": "stream",
     "text": [
      "Epoch 13:\n"
     ]
    },
    {
     "name": "stderr",
     "output_type": "stream",
     "text": [
      "100%|██████████| 200/200 [00:00<00:00, 1204.39it/s]\n",
      "100%|██████████| 200/200 [00:00<00:00, 2051.29it/s]\n"
     ]
    },
    {
     "name": "stdout",
     "output_type": "stream",
     "text": [
      "Epoch 14:\n"
     ]
    },
    {
     "name": "stderr",
     "output_type": "stream",
     "text": [
      "100%|██████████| 200/200 [00:00<00:00, 1201.68it/s]\n",
      "100%|██████████| 200/200 [00:00<00:00, 2044.41it/s]\n"
     ]
    },
    {
     "name": "stdout",
     "output_type": "stream",
     "text": [
      "Epoch 15:\n"
     ]
    },
    {
     "name": "stderr",
     "output_type": "stream",
     "text": [
      "100%|██████████| 200/200 [00:00<00:00, 1193.01it/s]\n",
      "100%|██████████| 200/200 [00:00<00:00, 2052.02it/s]\n"
     ]
    },
    {
     "name": "stdout",
     "output_type": "stream",
     "text": [
      "Epoch 16:\n"
     ]
    },
    {
     "name": "stderr",
     "output_type": "stream",
     "text": [
      "100%|██████████| 200/200 [00:00<00:00, 1203.73it/s]\n",
      "100%|██████████| 200/200 [00:00<00:00, 2053.41it/s]\n"
     ]
    },
    {
     "name": "stdout",
     "output_type": "stream",
     "text": [
      "Epoch 17:\n"
     ]
    },
    {
     "name": "stderr",
     "output_type": "stream",
     "text": [
      "100%|██████████| 200/200 [00:00<00:00, 1199.45it/s]\n",
      "100%|██████████| 200/200 [00:00<00:00, 2056.11it/s]\n"
     ]
    },
    {
     "name": "stdout",
     "output_type": "stream",
     "text": [
      "Epoch 18:\n"
     ]
    },
    {
     "name": "stderr",
     "output_type": "stream",
     "text": [
      "100%|██████████| 200/200 [00:00<00:00, 1201.81it/s]\n",
      "100%|██████████| 200/200 [00:00<00:00, 2042.17it/s]\n"
     ]
    },
    {
     "name": "stdout",
     "output_type": "stream",
     "text": [
      "Epoch 19:\n"
     ]
    },
    {
     "name": "stderr",
     "output_type": "stream",
     "text": [
      "100%|██████████| 200/200 [00:00<00:00, 1205.61it/s]\n",
      "100%|██████████| 200/200 [00:00<00:00, 2042.79it/s]\n"
     ]
    },
    {
     "name": "stdout",
     "output_type": "stream",
     "text": [
      "Epoch 20:\n"
     ]
    },
    {
     "name": "stderr",
     "output_type": "stream",
     "text": [
      "100%|██████████| 200/200 [00:00<00:00, 1205.90it/s]\n",
      "100%|██████████| 200/200 [00:00<00:00, 2038.42it/s]\n"
     ]
    },
    {
     "name": "stdout",
     "output_type": "stream",
     "text": [
      "Epoch 21:\n"
     ]
    },
    {
     "name": "stderr",
     "output_type": "stream",
     "text": [
      "100%|██████████| 200/200 [00:00<00:00, 1201.57it/s]\n",
      "100%|██████████| 200/200 [00:00<00:00, 2046.86it/s]\n"
     ]
    },
    {
     "name": "stdout",
     "output_type": "stream",
     "text": [
      "Epoch 22:\n"
     ]
    },
    {
     "name": "stderr",
     "output_type": "stream",
     "text": [
      "100%|██████████| 200/200 [00:00<00:00, 1208.64it/s]\n",
      "100%|██████████| 200/200 [00:00<00:00, 2050.46it/s]\n"
     ]
    },
    {
     "name": "stdout",
     "output_type": "stream",
     "text": [
      "Epoch 23:\n"
     ]
    },
    {
     "name": "stderr",
     "output_type": "stream",
     "text": [
      "100%|██████████| 200/200 [00:00<00:00, 1207.21it/s]\n",
      "100%|██████████| 200/200 [00:00<00:00, 2048.53it/s]\n"
     ]
    },
    {
     "name": "stdout",
     "output_type": "stream",
     "text": [
      "Epoch 24:\n"
     ]
    },
    {
     "name": "stderr",
     "output_type": "stream",
     "text": [
      "100%|██████████| 200/200 [00:00<00:00, 1210.42it/s]\n",
      "100%|██████████| 200/200 [00:00<00:00, 2047.67it/s]\n"
     ]
    },
    {
     "name": "stdout",
     "output_type": "stream",
     "text": [
      "Epoch 25:\n"
     ]
    },
    {
     "name": "stderr",
     "output_type": "stream",
     "text": [
      "100%|██████████| 200/200 [00:00<00:00, 1202.95it/s]\n",
      "100%|██████████| 200/200 [00:00<00:00, 2069.94it/s]\n"
     ]
    },
    {
     "name": "stdout",
     "output_type": "stream",
     "text": [
      "Epoch 26:\n"
     ]
    },
    {
     "name": "stderr",
     "output_type": "stream",
     "text": [
      "100%|██████████| 200/200 [00:00<00:00, 1193.43it/s]\n",
      "100%|██████████| 200/200 [00:00<00:00, 2052.31it/s]\n"
     ]
    },
    {
     "name": "stdout",
     "output_type": "stream",
     "text": [
      "Epoch 27:\n"
     ]
    },
    {
     "name": "stderr",
     "output_type": "stream",
     "text": [
      "100%|██████████| 200/200 [00:00<00:00, 1192.61it/s]\n",
      "100%|██████████| 200/200 [00:00<00:00, 2064.30it/s]\n"
     ]
    },
    {
     "name": "stdout",
     "output_type": "stream",
     "text": [
      "Epoch 28:\n"
     ]
    },
    {
     "name": "stderr",
     "output_type": "stream",
     "text": [
      "100%|██████████| 200/200 [00:00<00:00, 1191.40it/s]\n",
      "100%|██████████| 200/200 [00:00<00:00, 2057.06it/s]\n"
     ]
    },
    {
     "name": "stdout",
     "output_type": "stream",
     "text": [
      "Epoch 29:\n"
     ]
    },
    {
     "name": "stderr",
     "output_type": "stream",
     "text": [
      "100%|██████████| 200/200 [00:00<00:00, 1196.27it/s]\n",
      "100%|██████████| 200/200 [00:00<00:00, 2041.24it/s]\n"
     ]
    },
    {
     "name": "stdout",
     "output_type": "stream",
     "text": [
      "Epoch 30:\n"
     ]
    },
    {
     "name": "stderr",
     "output_type": "stream",
     "text": [
      "100%|██████████| 200/200 [00:00<00:00, 1193.28it/s]\n",
      "100%|██████████| 200/200 [00:00<00:00, 2058.39it/s]\n"
     ]
    },
    {
     "name": "stdout",
     "output_type": "stream",
     "text": [
      "Best validation accuracy at epoch 30\n"
     ]
    },
    {
     "name": "stderr",
     "output_type": "stream",
     "text": [
      "100%|██████████| 100/100 [00:00<00:00, 1774.53it/s]\n"
     ]
    },
    {
     "name": "stdout",
     "output_type": "stream",
     "text": [
      "{'name': 'max_prob'}\n",
      "{\n",
      "    \"accuracy\": 0.92765625,\n",
      "    \"aupr\": 0.9921897226950944,\n",
      "    \"auroc\": 0.9108993968708881,\n",
      "    \"avg_crr_conf\": 0.8333713242504746,\n",
      "    \"avg_err_conf\": 0.04801446319557726,\n",
      "    \"capacity\": 0.9899515841012433,\n",
      "    \"kendall_tau\": 0.08910078502461592,\n",
      "    \"n_correct\": 5937,\n",
      "    \"n_errors\": 463,\n",
      "    \"n_published\": 6400,\n",
      "    \"validation_loss\": 0.19337327614426614\n",
      "}\n"
     ]
    },
    {
     "name": "stderr",
     "output_type": "stream",
     "text": [
      "100%|██████████| 100/100 [00:00<00:00, 1744.07it/s]\n"
     ]
    },
    {
     "name": "stdout",
     "output_type": "stream",
     "text": [
      "{'name': 'random'}\n",
      "{\n",
      "    \"accuracy\": 0.92765625,\n",
      "    \"aupr\": 0.9274229594062035,\n",
      "    \"auroc\": 0.5051714710726123,\n",
      "    \"avg_crr_conf\": 0.4660744973085821,\n",
      "    \"avg_err_conf\": 0.03597745343111455,\n",
      "    \"capacity\": 0.9274072088524458,\n",
      "    \"kendall_tau\": 0.49482852892738766,\n",
      "    \"n_correct\": 5937,\n",
      "    \"n_errors\": 463,\n",
      "    \"n_published\": 6400,\n",
      "    \"validation_loss\": 0.19337327614426614\n",
      "}\n"
     ]
    },
    {
     "name": "stderr",
     "output_type": "stream",
     "text": [
      "100%|██████████| 100/100 [00:00<00:00, 317.78it/s]\n"
     ]
    },
    {
     "name": "stdout",
     "output_type": "stream",
     "text": [
      "{'name': 'mcd', 'aggregator': 'mean', 'n_forward_passes': 10}\n",
      "{\n",
      "    \"accuracy\": 0.92765625,\n",
      "    \"aupr\": 0.9896881369662595,\n",
      "    \"auroc\": 0.8857059600972195,\n",
      "    \"avg_crr_conf\": 0.7663167607644573,\n",
      "    \"avg_err_conf\": 0.044979985994286834,\n",
      "    \"capacity\": 0.9875821362233654,\n",
      "    \"kendall_tau\": 0.11429403990278049,\n",
      "    \"n_correct\": 5937,\n",
      "    \"n_errors\": 463,\n",
      "    \"n_published\": 6400,\n",
      "    \"validation_loss\": 0.19337327614426614\n",
      "}\n",
      "Training with config:\n",
      "{'network': {'architecture': 'feedforward', 'input_size': 52, 'hidden_sizes': [128, 64], 'output_size': 2, 'loss': {'name': 'ce'}}, 'optimizer': {'name': 'sgd', 'lr': 0.003, 'momentum': 0.9}, 'bsz': 64, 'n_epochs': 30, 'confidences': [{'name': 'max_prob'}, {'name': 'random'}, {'name': 'mcd', 'aggregator': 'mean', 'n_forward_passes': 10}]}\n",
      "Epoch 1:\n"
     ]
    },
    {
     "name": "stderr",
     "output_type": "stream",
     "text": [
      "100%|██████████| 200/200 [00:00<00:00, 1208.28it/s]\n",
      "100%|██████████| 200/200 [00:00<00:00, 2048.07it/s]\n"
     ]
    },
    {
     "name": "stdout",
     "output_type": "stream",
     "text": [
      "Epoch 2:\n"
     ]
    },
    {
     "name": "stderr",
     "output_type": "stream",
     "text": [
      "100%|██████████| 200/200 [00:00<00:00, 1197.64it/s]\n",
      "100%|██████████| 200/200 [00:00<00:00, 2048.16it/s]\n"
     ]
    },
    {
     "name": "stdout",
     "output_type": "stream",
     "text": [
      "Epoch 3:\n"
     ]
    },
    {
     "name": "stderr",
     "output_type": "stream",
     "text": [
      "100%|██████████| 200/200 [00:00<00:00, 1197.38it/s]\n",
      "100%|██████████| 200/200 [00:00<00:00, 2055.99it/s]\n"
     ]
    },
    {
     "name": "stdout",
     "output_type": "stream",
     "text": [
      "Epoch 4:\n"
     ]
    },
    {
     "name": "stderr",
     "output_type": "stream",
     "text": [
      "100%|██████████| 200/200 [00:00<00:00, 1205.60it/s]\n",
      "100%|██████████| 200/200 [00:00<00:00, 2048.80it/s]\n"
     ]
    },
    {
     "name": "stdout",
     "output_type": "stream",
     "text": [
      "Epoch 5:\n"
     ]
    },
    {
     "name": "stderr",
     "output_type": "stream",
     "text": [
      "100%|██████████| 200/200 [00:00<00:00, 1206.90it/s]\n",
      "100%|██████████| 200/200 [00:00<00:00, 2046.62it/s]\n"
     ]
    },
    {
     "name": "stdout",
     "output_type": "stream",
     "text": [
      "Epoch 6:\n"
     ]
    },
    {
     "name": "stderr",
     "output_type": "stream",
     "text": [
      "100%|██████████| 200/200 [00:00<00:00, 1199.94it/s]\n",
      "100%|██████████| 200/200 [00:00<00:00, 2036.85it/s]\n"
     ]
    },
    {
     "name": "stdout",
     "output_type": "stream",
     "text": [
      "Epoch 7:\n"
     ]
    },
    {
     "name": "stderr",
     "output_type": "stream",
     "text": [
      "100%|██████████| 200/200 [00:00<00:00, 1198.59it/s]\n",
      "100%|██████████| 200/200 [00:00<00:00, 2047.52it/s]\n"
     ]
    },
    {
     "name": "stdout",
     "output_type": "stream",
     "text": [
      "Epoch 8:\n"
     ]
    },
    {
     "name": "stderr",
     "output_type": "stream",
     "text": [
      "100%|██████████| 200/200 [00:00<00:00, 1202.10it/s]\n",
      "100%|██████████| 200/200 [00:00<00:00, 2044.86it/s]\n"
     ]
    },
    {
     "name": "stdout",
     "output_type": "stream",
     "text": [
      "Epoch 9:\n"
     ]
    },
    {
     "name": "stderr",
     "output_type": "stream",
     "text": [
      "100%|██████████| 200/200 [00:00<00:00, 1201.90it/s]\n",
      "100%|██████████| 200/200 [00:00<00:00, 1366.77it/s]\n"
     ]
    },
    {
     "name": "stdout",
     "output_type": "stream",
     "text": [
      "Epoch 10:\n"
     ]
    },
    {
     "name": "stderr",
     "output_type": "stream",
     "text": [
      "100%|██████████| 200/200 [00:00<00:00, 1198.92it/s]\n",
      "100%|██████████| 200/200 [00:00<00:00, 2040.09it/s]\n"
     ]
    },
    {
     "name": "stdout",
     "output_type": "stream",
     "text": [
      "Epoch 11:\n"
     ]
    },
    {
     "name": "stderr",
     "output_type": "stream",
     "text": [
      "100%|██████████| 200/200 [00:00<00:00, 1208.83it/s]\n",
      "100%|██████████| 200/200 [00:00<00:00, 2038.44it/s]\n"
     ]
    },
    {
     "name": "stdout",
     "output_type": "stream",
     "text": [
      "Epoch 12:\n"
     ]
    },
    {
     "name": "stderr",
     "output_type": "stream",
     "text": [
      "100%|██████████| 200/200 [00:00<00:00, 1207.47it/s]\n",
      "100%|██████████| 200/200 [00:00<00:00, 2050.65it/s]\n"
     ]
    },
    {
     "name": "stdout",
     "output_type": "stream",
     "text": [
      "Epoch 13:\n"
     ]
    },
    {
     "name": "stderr",
     "output_type": "stream",
     "text": [
      "100%|██████████| 200/200 [00:00<00:00, 1204.92it/s]\n",
      "100%|██████████| 200/200 [00:00<00:00, 2047.19it/s]\n"
     ]
    },
    {
     "name": "stdout",
     "output_type": "stream",
     "text": [
      "Epoch 14:\n"
     ]
    },
    {
     "name": "stderr",
     "output_type": "stream",
     "text": [
      "100%|██████████| 200/200 [00:00<00:00, 1206.96it/s]\n",
      "100%|██████████| 200/200 [00:00<00:00, 2048.59it/s]\n"
     ]
    },
    {
     "name": "stdout",
     "output_type": "stream",
     "text": [
      "Epoch 15:\n"
     ]
    },
    {
     "name": "stderr",
     "output_type": "stream",
     "text": [
      "100%|██████████| 200/200 [00:00<00:00, 1192.00it/s]\n",
      "100%|██████████| 200/200 [00:00<00:00, 2045.20it/s]\n"
     ]
    },
    {
     "name": "stdout",
     "output_type": "stream",
     "text": [
      "Epoch 16:\n"
     ]
    },
    {
     "name": "stderr",
     "output_type": "stream",
     "text": [
      "100%|██████████| 200/200 [00:00<00:00, 1201.23it/s]\n",
      "100%|██████████| 200/200 [00:00<00:00, 2051.47it/s]\n"
     ]
    },
    {
     "name": "stdout",
     "output_type": "stream",
     "text": [
      "Epoch 17:\n"
     ]
    },
    {
     "name": "stderr",
     "output_type": "stream",
     "text": [
      "100%|██████████| 200/200 [00:00<00:00, 1198.54it/s]\n",
      "100%|██████████| 200/200 [00:00<00:00, 2055.08it/s]\n"
     ]
    },
    {
     "name": "stdout",
     "output_type": "stream",
     "text": [
      "Epoch 18:\n"
     ]
    },
    {
     "name": "stderr",
     "output_type": "stream",
     "text": [
      "100%|██████████| 200/200 [00:00<00:00, 1202.95it/s]\n",
      "100%|██████████| 200/200 [00:00<00:00, 2053.05it/s]\n"
     ]
    },
    {
     "name": "stdout",
     "output_type": "stream",
     "text": [
      "Epoch 19:\n"
     ]
    },
    {
     "name": "stderr",
     "output_type": "stream",
     "text": [
      "100%|██████████| 200/200 [00:00<00:00, 1209.19it/s]\n",
      "100%|██████████| 200/200 [00:00<00:00, 2041.92it/s]\n"
     ]
    },
    {
     "name": "stdout",
     "output_type": "stream",
     "text": [
      "Epoch 20:\n"
     ]
    },
    {
     "name": "stderr",
     "output_type": "stream",
     "text": [
      "100%|██████████| 200/200 [00:00<00:00, 1211.17it/s]\n",
      "100%|██████████| 200/200 [00:00<00:00, 2055.06it/s]\n"
     ]
    },
    {
     "name": "stdout",
     "output_type": "stream",
     "text": [
      "Epoch 21:\n"
     ]
    },
    {
     "name": "stderr",
     "output_type": "stream",
     "text": [
      "100%|██████████| 200/200 [00:00<00:00, 1198.97it/s]\n",
      "100%|██████████| 200/200 [00:00<00:00, 2053.53it/s]\n"
     ]
    },
    {
     "name": "stdout",
     "output_type": "stream",
     "text": [
      "Epoch 22:\n"
     ]
    },
    {
     "name": "stderr",
     "output_type": "stream",
     "text": [
      "100%|██████████| 200/200 [00:00<00:00, 1203.76it/s]\n",
      "100%|██████████| 200/200 [00:00<00:00, 2059.35it/s]\n"
     ]
    },
    {
     "name": "stdout",
     "output_type": "stream",
     "text": [
      "Epoch 23:\n"
     ]
    },
    {
     "name": "stderr",
     "output_type": "stream",
     "text": [
      "100%|██████████| 200/200 [00:00<00:00, 1202.06it/s]\n",
      "100%|██████████| 200/200 [00:00<00:00, 2051.22it/s]\n"
     ]
    },
    {
     "name": "stdout",
     "output_type": "stream",
     "text": [
      "Epoch 24:\n"
     ]
    },
    {
     "name": "stderr",
     "output_type": "stream",
     "text": [
      "100%|██████████| 200/200 [00:00<00:00, 1206.03it/s]\n",
      "100%|██████████| 200/200 [00:00<00:00, 2043.23it/s]\n"
     ]
    },
    {
     "name": "stdout",
     "output_type": "stream",
     "text": [
      "Epoch 25:\n"
     ]
    },
    {
     "name": "stderr",
     "output_type": "stream",
     "text": [
      "100%|██████████| 200/200 [00:00<00:00, 1202.15it/s]\n",
      "100%|██████████| 200/200 [00:00<00:00, 2037.51it/s]\n"
     ]
    },
    {
     "name": "stdout",
     "output_type": "stream",
     "text": [
      "Epoch 26:\n"
     ]
    },
    {
     "name": "stderr",
     "output_type": "stream",
     "text": [
      "100%|██████████| 200/200 [00:00<00:00, 1215.77it/s]\n",
      "100%|██████████| 200/200 [00:00<00:00, 2047.23it/s]\n"
     ]
    },
    {
     "name": "stdout",
     "output_type": "stream",
     "text": [
      "Epoch 27:\n"
     ]
    },
    {
     "name": "stderr",
     "output_type": "stream",
     "text": [
      "100%|██████████| 200/200 [00:00<00:00, 1202.11it/s]\n",
      "100%|██████████| 200/200 [00:00<00:00, 2045.85it/s]\n"
     ]
    },
    {
     "name": "stdout",
     "output_type": "stream",
     "text": [
      "Epoch 28:\n"
     ]
    },
    {
     "name": "stderr",
     "output_type": "stream",
     "text": [
      "100%|██████████| 200/200 [00:00<00:00, 1201.76it/s]\n",
      "100%|██████████| 200/200 [00:00<00:00, 2051.33it/s]\n"
     ]
    },
    {
     "name": "stdout",
     "output_type": "stream",
     "text": [
      "Epoch 29:\n"
     ]
    },
    {
     "name": "stderr",
     "output_type": "stream",
     "text": [
      "100%|██████████| 200/200 [00:00<00:00, 1207.26it/s]\n",
      "100%|██████████| 200/200 [00:00<00:00, 2057.41it/s]\n"
     ]
    },
    {
     "name": "stdout",
     "output_type": "stream",
     "text": [
      "Epoch 30:\n"
     ]
    },
    {
     "name": "stderr",
     "output_type": "stream",
     "text": [
      "100%|██████████| 200/200 [00:00<00:00, 1201.84it/s]\n",
      "100%|██████████| 200/200 [00:00<00:00, 2061.96it/s]\n"
     ]
    },
    {
     "name": "stdout",
     "output_type": "stream",
     "text": [
      "Best validation accuracy at epoch 30\n"
     ]
    },
    {
     "name": "stderr",
     "output_type": "stream",
     "text": [
      "100%|██████████| 100/100 [00:00<00:00, 1838.48it/s]\n"
     ]
    },
    {
     "name": "stdout",
     "output_type": "stream",
     "text": [
      "{'name': 'max_prob'}\n",
      "{\n",
      "    \"accuracy\": 0.87875,\n",
      "    \"aupr\": 0.9770811647528866,\n",
      "    \"auroc\": 0.8535488783343843,\n",
      "    \"avg_crr_conf\": 0.6167667552828788,\n",
      "    \"avg_err_conf\": 0.06712328227236868,\n",
      "    \"capacity\": 0.9715439852868601,\n",
      "    \"kendall_tau\": 0.14645123623352055,\n",
      "    \"n_correct\": 5624,\n",
      "    \"n_errors\": 776,\n",
      "    \"n_published\": 6400,\n",
      "    \"validation_loss\": 0.426317198574543\n",
      "}\n"
     ]
    },
    {
     "name": "stderr",
     "output_type": "stream",
     "text": [
      "100%|██████████| 100/100 [00:00<00:00, 1925.56it/s]\n"
     ]
    },
    {
     "name": "stdout",
     "output_type": "stream",
     "text": [
      "{'name': 'random'}\n",
      "{\n",
      "    \"accuracy\": 0.87875,\n",
      "    \"aupr\": 0.8813180994266491,\n",
      "    \"auroc\": 0.510212124767198,\n",
      "    \"avg_crr_conf\": 0.44004860415123404,\n",
      "    \"avg_err_conf\": 0.059488890869542954,\n",
      "    \"capacity\": 0.8812833072088623,\n",
      "    \"kendall_tau\": 0.489787875232802,\n",
      "    \"n_correct\": 5624,\n",
      "    \"n_errors\": 776,\n",
      "    \"n_published\": 6400,\n",
      "    \"validation_loss\": 0.426317198574543\n",
      "}\n"
     ]
    },
    {
     "name": "stderr",
     "output_type": "stream",
     "text": [
      "100%|██████████| 100/100 [00:00<00:00, 307.59it/s]\n"
     ]
    },
    {
     "name": "stdout",
     "output_type": "stream",
     "text": [
      "{'name': 'mcd', 'aggregator': 'mean', 'n_forward_passes': 10}\n",
      "{\n",
      "    \"accuracy\": 0.87875,\n",
      "    \"aupr\": 0.9631786653674378,\n",
      "    \"auroc\": 0.7734366980246661,\n",
      "    \"avg_crr_conf\": 0.5747335735708475,\n",
      "    \"avg_err_conf\": 0.06655020896811038,\n",
      "    \"capacity\": 0.9586884732277539,\n",
      "    \"kendall_tau\": 0.22656330197533397,\n",
      "    \"n_correct\": 5624,\n",
      "    \"n_errors\": 776,\n",
      "    \"n_published\": 6400,\n",
      "    \"validation_loss\": 0.426317198574543\n",
      "}\n",
      "Training with config:\n",
      "{'network': {'architecture': 'feedforward', 'input_size': 52, 'hidden_sizes': [128, 64], 'output_size': 2, 'loss': {'name': 'ce'}}, 'optimizer': {'name': 'sgd', 'lr': 0.003, 'momentum': 0.9}, 'bsz': 64, 'n_epochs': 30, 'confidences': [{'name': 'max_prob'}, {'name': 'random'}, {'name': 'mcd', 'aggregator': 'mean', 'n_forward_passes': 10}]}\n",
      "Epoch 1:\n"
     ]
    },
    {
     "name": "stderr",
     "output_type": "stream",
     "text": [
      "100%|██████████| 200/200 [00:00<00:00, 1204.72it/s]\n",
      "100%|██████████| 200/200 [00:00<00:00, 2046.45it/s]\n"
     ]
    },
    {
     "name": "stdout",
     "output_type": "stream",
     "text": [
      "Epoch 2:\n"
     ]
    },
    {
     "name": "stderr",
     "output_type": "stream",
     "text": [
      "100%|██████████| 200/200 [00:00<00:00, 1197.53it/s]\n",
      "100%|██████████| 200/200 [00:00<00:00, 2056.58it/s]\n"
     ]
    },
    {
     "name": "stdout",
     "output_type": "stream",
     "text": [
      "Epoch 3:\n"
     ]
    },
    {
     "name": "stderr",
     "output_type": "stream",
     "text": [
      "100%|██████████| 200/200 [00:00<00:00, 1203.39it/s]\n",
      "100%|██████████| 200/200 [00:00<00:00, 2057.36it/s]\n"
     ]
    },
    {
     "name": "stdout",
     "output_type": "stream",
     "text": [
      "Epoch 4:\n"
     ]
    },
    {
     "name": "stderr",
     "output_type": "stream",
     "text": [
      "100%|██████████| 200/200 [00:00<00:00, 1203.73it/s]\n",
      "100%|██████████| 200/200 [00:00<00:00, 2065.84it/s]\n"
     ]
    },
    {
     "name": "stdout",
     "output_type": "stream",
     "text": [
      "Epoch 5:\n"
     ]
    },
    {
     "name": "stderr",
     "output_type": "stream",
     "text": [
      "100%|██████████| 200/200 [00:00<00:00, 1201.45it/s]\n",
      "100%|██████████| 200/200 [00:00<00:00, 2059.96it/s]\n"
     ]
    },
    {
     "name": "stdout",
     "output_type": "stream",
     "text": [
      "Epoch 6:\n"
     ]
    },
    {
     "name": "stderr",
     "output_type": "stream",
     "text": [
      "100%|██████████| 200/200 [00:00<00:00, 1210.14it/s]\n",
      "100%|██████████| 200/200 [00:00<00:00, 2056.81it/s]\n"
     ]
    },
    {
     "name": "stdout",
     "output_type": "stream",
     "text": [
      "Epoch 7:\n"
     ]
    },
    {
     "name": "stderr",
     "output_type": "stream",
     "text": [
      "100%|██████████| 200/200 [00:00<00:00, 1201.31it/s]\n",
      "100%|██████████| 200/200 [00:00<00:00, 2073.68it/s]\n"
     ]
    },
    {
     "name": "stdout",
     "output_type": "stream",
     "text": [
      "Epoch 8:\n"
     ]
    },
    {
     "name": "stderr",
     "output_type": "stream",
     "text": [
      "100%|██████████| 200/200 [00:00<00:00, 1205.46it/s]\n",
      "100%|██████████| 200/200 [00:00<00:00, 2035.85it/s]\n"
     ]
    },
    {
     "name": "stdout",
     "output_type": "stream",
     "text": [
      "Epoch 9:\n"
     ]
    },
    {
     "name": "stderr",
     "output_type": "stream",
     "text": [
      "100%|██████████| 200/200 [00:00<00:00, 1173.00it/s]\n",
      "100%|██████████| 200/200 [00:00<00:00, 2068.57it/s]\n"
     ]
    },
    {
     "name": "stdout",
     "output_type": "stream",
     "text": [
      "Epoch 10:\n"
     ]
    },
    {
     "name": "stderr",
     "output_type": "stream",
     "text": [
      "100%|██████████| 200/200 [00:00<00:00, 1183.22it/s]\n",
      "100%|██████████| 200/200 [00:00<00:00, 2027.88it/s]\n"
     ]
    },
    {
     "name": "stdout",
     "output_type": "stream",
     "text": [
      "Epoch 11:\n"
     ]
    },
    {
     "name": "stderr",
     "output_type": "stream",
     "text": [
      "100%|██████████| 200/200 [00:00<00:00, 1181.32it/s]\n",
      "100%|██████████| 200/200 [00:00<00:00, 1964.70it/s]\n"
     ]
    },
    {
     "name": "stdout",
     "output_type": "stream",
     "text": [
      "Epoch 12:\n"
     ]
    },
    {
     "name": "stderr",
     "output_type": "stream",
     "text": [
      "100%|██████████| 200/200 [00:00<00:00, 1123.37it/s]\n",
      "100%|██████████| 200/200 [00:00<00:00, 2021.79it/s]\n"
     ]
    },
    {
     "name": "stdout",
     "output_type": "stream",
     "text": [
      "Epoch 13:\n"
     ]
    },
    {
     "name": "stderr",
     "output_type": "stream",
     "text": [
      "100%|██████████| 200/200 [00:00<00:00, 1177.70it/s]\n",
      "100%|██████████| 200/200 [00:00<00:00, 2032.39it/s]\n"
     ]
    },
    {
     "name": "stdout",
     "output_type": "stream",
     "text": [
      "Epoch 14:\n"
     ]
    },
    {
     "name": "stderr",
     "output_type": "stream",
     "text": [
      "100%|██████████| 200/200 [00:00<00:00, 1194.47it/s]\n",
      "100%|██████████| 200/200 [00:00<00:00, 2067.89it/s]\n"
     ]
    },
    {
     "name": "stdout",
     "output_type": "stream",
     "text": [
      "Epoch 15:\n"
     ]
    },
    {
     "name": "stderr",
     "output_type": "stream",
     "text": [
      "100%|██████████| 200/200 [00:00<00:00, 1178.32it/s]\n",
      "100%|██████████| 200/200 [00:00<00:00, 2064.19it/s]\n"
     ]
    },
    {
     "name": "stdout",
     "output_type": "stream",
     "text": [
      "Epoch 16:\n"
     ]
    },
    {
     "name": "stderr",
     "output_type": "stream",
     "text": [
      "100%|██████████| 200/200 [00:00<00:00, 1186.91it/s]\n",
      "100%|██████████| 200/200 [00:00<00:00, 1989.42it/s]\n"
     ]
    },
    {
     "name": "stdout",
     "output_type": "stream",
     "text": [
      "Epoch 17:\n"
     ]
    },
    {
     "name": "stderr",
     "output_type": "stream",
     "text": [
      "100%|██████████| 200/200 [00:00<00:00, 1209.04it/s]\n",
      "100%|██████████| 200/200 [00:00<00:00, 2046.52it/s]\n"
     ]
    },
    {
     "name": "stdout",
     "output_type": "stream",
     "text": [
      "Epoch 18:\n"
     ]
    },
    {
     "name": "stderr",
     "output_type": "stream",
     "text": [
      "100%|██████████| 200/200 [00:00<00:00, 1195.11it/s]\n",
      "100%|██████████| 200/200 [00:00<00:00, 1698.59it/s]\n"
     ]
    },
    {
     "name": "stdout",
     "output_type": "stream",
     "text": [
      "Epoch 19:\n"
     ]
    },
    {
     "name": "stderr",
     "output_type": "stream",
     "text": [
      "100%|██████████| 200/200 [00:00<00:00, 1183.19it/s]\n",
      "100%|██████████| 200/200 [00:00<00:00, 2030.81it/s]\n"
     ]
    },
    {
     "name": "stdout",
     "output_type": "stream",
     "text": [
      "Epoch 20:\n"
     ]
    },
    {
     "name": "stderr",
     "output_type": "stream",
     "text": [
      "100%|██████████| 200/200 [00:00<00:00, 1184.48it/s]\n",
      "100%|██████████| 200/200 [00:00<00:00, 2045.22it/s]\n"
     ]
    },
    {
     "name": "stdout",
     "output_type": "stream",
     "text": [
      "Epoch 21:\n"
     ]
    },
    {
     "name": "stderr",
     "output_type": "stream",
     "text": [
      "100%|██████████| 200/200 [00:00<00:00, 1191.88it/s]\n",
      "100%|██████████| 200/200 [00:00<00:00, 2048.49it/s]\n"
     ]
    },
    {
     "name": "stdout",
     "output_type": "stream",
     "text": [
      "Epoch 22:\n"
     ]
    },
    {
     "name": "stderr",
     "output_type": "stream",
     "text": [
      "100%|██████████| 200/200 [00:00<00:00, 1151.13it/s]\n",
      "100%|██████████| 200/200 [00:00<00:00, 2042.94it/s]\n"
     ]
    },
    {
     "name": "stdout",
     "output_type": "stream",
     "text": [
      "Epoch 23:\n"
     ]
    },
    {
     "name": "stderr",
     "output_type": "stream",
     "text": [
      "100%|██████████| 200/200 [00:00<00:00, 1179.27it/s]\n",
      "100%|██████████| 200/200 [00:00<00:00, 2006.52it/s]\n"
     ]
    },
    {
     "name": "stdout",
     "output_type": "stream",
     "text": [
      "Epoch 24:\n"
     ]
    },
    {
     "name": "stderr",
     "output_type": "stream",
     "text": [
      "100%|██████████| 200/200 [00:00<00:00, 1165.24it/s]\n",
      "100%|██████████| 200/200 [00:00<00:00, 2029.55it/s]\n"
     ]
    },
    {
     "name": "stdout",
     "output_type": "stream",
     "text": [
      "Epoch 25:\n"
     ]
    },
    {
     "name": "stderr",
     "output_type": "stream",
     "text": [
      "100%|██████████| 200/200 [00:00<00:00, 1123.53it/s]\n",
      "100%|██████████| 200/200 [00:00<00:00, 2035.66it/s]\n"
     ]
    },
    {
     "name": "stdout",
     "output_type": "stream",
     "text": [
      "Epoch 26:\n"
     ]
    },
    {
     "name": "stderr",
     "output_type": "stream",
     "text": [
      "100%|██████████| 200/200 [00:00<00:00, 1086.07it/s]\n",
      "100%|██████████| 200/200 [00:00<00:00, 2052.61it/s]\n"
     ]
    },
    {
     "name": "stdout",
     "output_type": "stream",
     "text": [
      "Epoch 27:\n"
     ]
    },
    {
     "name": "stderr",
     "output_type": "stream",
     "text": [
      "100%|██████████| 200/200 [00:00<00:00, 1106.55it/s]\n",
      "100%|██████████| 200/200 [00:00<00:00, 2032.74it/s]\n"
     ]
    },
    {
     "name": "stdout",
     "output_type": "stream",
     "text": [
      "Epoch 28:\n"
     ]
    },
    {
     "name": "stderr",
     "output_type": "stream",
     "text": [
      "100%|██████████| 200/200 [00:00<00:00, 1064.70it/s]\n",
      "100%|██████████| 200/200 [00:00<00:00, 1953.56it/s]\n"
     ]
    },
    {
     "name": "stdout",
     "output_type": "stream",
     "text": [
      "Epoch 29:\n"
     ]
    },
    {
     "name": "stderr",
     "output_type": "stream",
     "text": [
      "100%|██████████| 200/200 [00:00<00:00, 1092.83it/s]\n",
      "100%|██████████| 200/200 [00:00<00:00, 1882.42it/s]\n"
     ]
    },
    {
     "name": "stdout",
     "output_type": "stream",
     "text": [
      "Epoch 30:\n"
     ]
    },
    {
     "name": "stderr",
     "output_type": "stream",
     "text": [
      "100%|██████████| 200/200 [00:00<00:00, 1199.28it/s]\n",
      "100%|██████████| 200/200 [00:00<00:00, 2027.86it/s]\n"
     ]
    },
    {
     "name": "stdout",
     "output_type": "stream",
     "text": [
      "Best validation accuracy at epoch 30\n"
     ]
    },
    {
     "name": "stderr",
     "output_type": "stream",
     "text": [
      "100%|██████████| 100/100 [00:00<00:00, 1757.07it/s]\n"
     ]
    },
    {
     "name": "stdout",
     "output_type": "stream",
     "text": [
      "{'name': 'max_prob'}\n",
      "{\n",
      "    \"accuracy\": 0.89359375,\n",
      "    \"aupr\": 0.9832998427147991,\n",
      "    \"auroc\": 0.8745496052394073,\n",
      "    \"avg_crr_conf\": 0.606075425716117,\n",
      "    \"avg_err_conf\": 0.0585670783277601,\n",
      "    \"capacity\": 0.9788107259577227,\n",
      "    \"kendall_tau\": 0.1254503947605927,\n",
      "    \"n_correct\": 5719,\n",
      "    \"n_errors\": 681,\n",
      "    \"n_published\": 6400,\n",
      "    \"validation_loss\": 0.4423147293925285\n",
      "}\n"
     ]
    },
    {
     "name": "stderr",
     "output_type": "stream",
     "text": [
      "100%|██████████| 100/100 [00:00<00:00, 1837.42it/s]\n"
     ]
    },
    {
     "name": "stdout",
     "output_type": "stream",
     "text": [
      "{'name': 'random'}\n",
      "{\n",
      "    \"accuracy\": 0.89359375,\n",
      "    \"aupr\": 0.8939437708811828,\n",
      "    \"auroc\": 0.49579832687959013,\n",
      "    \"avg_crr_conf\": 0.4414903373643756,\n",
      "    \"avg_err_conf\": 0.0530395510327071,\n",
      "    \"capacity\": 0.8939030334259197,\n",
      "    \"kendall_tau\": 0.5042018015020134,\n",
      "    \"n_correct\": 5719,\n",
      "    \"n_errors\": 681,\n",
      "    \"n_published\": 6400,\n",
      "    \"validation_loss\": 0.4423147293925285\n",
      "}\n"
     ]
    },
    {
     "name": "stderr",
     "output_type": "stream",
     "text": [
      "100%|██████████| 100/100 [00:00<00:00, 283.69it/s]"
     ]
    },
    {
     "name": "stdout",
     "output_type": "stream",
     "text": [
      "{'name': 'mcd', 'aggregator': 'mean', 'n_forward_passes': 10}\n",
      "{\n",
      "    \"accuracy\": 0.89359375,\n",
      "    \"aupr\": 0.9697520014601004,\n",
      "    \"auroc\": 0.786999513947249,\n",
      "    \"avg_crr_conf\": 0.564575575189665,\n",
      "    \"avg_err_conf\": 0.057808985938318076,\n",
      "    \"capacity\": 0.9662062447737687,\n",
      "    \"kendall_tau\": 0.213000486052751,\n",
      "    \"n_correct\": 5719,\n",
      "    \"n_errors\": 681,\n",
      "    \"n_published\": 6400,\n",
      "    \"validation_loss\": 0.4423147293925285\n",
      "}\n"
     ]
    },
    {
     "name": "stderr",
     "output_type": "stream",
     "text": [
      "\n"
     ]
    }
   ],
   "source": [
    "from spred.analytics import ResultDatabase\n",
    "n_trials = 5\n",
    "result_db = ResultDatabase([exp.run() for _ in range(n_trials)])\n"
   ]
  },
  {
   "cell_type": "code",
   "execution_count": 62,
   "id": "a41e9bf5",
   "metadata": {},
   "outputs": [
    {
     "data": {
      "image/png": "[encoded data removed]",
      "text/plain": [
       "<Figure size 432x288 with 1 Axes>"
      ]
     },
     "metadata": {},
     "output_type": "display_data"
    }
   ],
   "source": [
    "from spred.analytics import plot_evaluation_metric\n",
    "plot_evaluation_metric(result_db, \"kendall_tau\")"
   ]
  },
  {
   "cell_type": "code",
   "execution_count": 65,
   "id": "4254370b",
   "metadata": {},
   "outputs": [
    {
     "data": {
      "image/png": "[encoded data removed]",
      "text/plain": [
       "<Figure size 432x288 with 1 Axes>"
      ]
     },
     "metadata": {},
     "output_type": "display_data"
    }
   ],
   "source": [
    "plot_evaluation_metric(result_db, \"aupr\")"
   ]
  },
  {
   "cell_type": "code",
   "execution_count": null,
   "id": "604d1956",
   "metadata": {},
   "outputs": [],
   "source": []
  }
 ],
 "metadata": {
  "kernelspec": {
   "display_name": "Python 3",
   "language": "python",
   "name": "python3"
  },
  "language_info": {
   "codemirror_mode": {
    "name": "ipython",
    "version": 3
   },
   "file_extension": ".py",
   "mimetype": "text/x-python",
   "name": "python",
   "nbconvert_exporter": "python",
   "pygments_lexer": "ipython3",
   "version": "3.8.8"
  }
 },
 "nbformat": 4,
 "nbformat_minor": 5
}
