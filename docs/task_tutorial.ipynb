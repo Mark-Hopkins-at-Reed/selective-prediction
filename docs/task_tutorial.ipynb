{
 "cells": [
  {
   "cell_type": "markdown",
   "id": "26d1798a",
   "metadata": {},
   "source": [
    "## Adding a new task to ```spred```\n",
    "--------------------------------------\n",
    "\n",
    "In this tutorial, we show how to add a new task for evaluating selective\n",
    "prediction techniques. Specifically, we'll create a task called \"normals\",\n",
    "a two-label classification task. Instances for label A are generated from\n",
    "a mixture of two bivariate normal distributions with means (-1, 0) and (1, 0),\n",
    "whereas instances for label B are generated from a mixture of two bivariate\n",
    "normals with means (0, -1) and (0, 1). The covariances are chosen so that most\n",
    "overlap occurs near the origin, making such points the \"most difficult\" to \n",
    "classify.\n",
    "\n",
    "![samples from the two mixture distributions](red_blue.png)"
   ]
  },
  {
   "cell_type": "markdown",
   "id": "5048e447",
   "metadata": {},
   "source": [
    "For most tasks, we'll already have training data stored in a file somewhere, but for this task, we'll create our own training data. To do so, let's leverage the ```numpy``` package to make a helper function ```generate_samples``` that samples points from a bivariate normal distribution."
   ]
  },
  {
   "cell_type": "code",
   "execution_count": 1,
   "id": "9fae7667",
   "metadata": {},
   "outputs": [],
   "source": [
    "from numpy.random import multivariate_normal\n",
    "from numpy import diag\n",
    "\n",
    "def generate_samples(means, variances, num_samples, noise_dim=0):\n",
    "    return multivariate_normal(means + [0.0]*noise_dim,\n",
    "                               diag(variances + [1.0]*noise_dim),\n",
    "                               size=num_samples)\n"
   ]
  },
  {
   "cell_type": "markdown",
   "id": "02379e3a",
   "metadata": {},
   "source": [
    "The function assumes that the two dimensions are not correlated, so if we make the following call, then we're effectively drawing our ```x``` coordinate from ```Normal(-1.0, 0.2)``` and our ```y``` coordinate from ```Normal(0.0, 0.1)```."
   ]
  },
  {
   "cell_type": "code",
   "execution_count": 2,
   "id": "0ba64c1b",
   "metadata": {},
   "outputs": [
    {
     "data": {
      "text/plain": [
       "array([[-0.45461762, -0.00309289],\n",
       "       [-1.23805248,  0.23889555],\n",
       "       [-0.15133415,  0.10152285],\n",
       "       [-0.86575619,  0.22346181],\n",
       "       [-1.40125265,  0.01771369]])"
      ]
     },
     "execution_count": 2,
     "metadata": {},
     "output_type": "execute_result"
    }
   ],
   "source": [
    "generate_samples(means=[-1.0, 0.0], variances=[0.2, 0.1], num_samples=5)"
   ]
  },
  {
   "cell_type": "markdown",
   "id": "e91a54a6",
   "metadata": {},
   "source": [
    "We've also provided an argument called ```noise_dim```, to make the learning task a bit more challenging. This adds extra dimensions, each independently sampled from a standard zero-mean normal."
   ]
  },
  {
   "cell_type": "code",
   "execution_count": 3,
   "id": "ef0411c8",
   "metadata": {},
   "outputs": [
    {
     "data": {
      "text/plain": [
       "array([[-0.86278447,  0.26802134,  0.34076609, -1.09253869,  0.71697343],\n",
       "       [-1.68652433,  0.02759094,  1.96743956,  0.42392344, -0.7626595 ],\n",
       "       [-1.06708409, -0.58021041, -0.56083459,  0.93849527,  2.33941375],\n",
       "       [-1.39258068, -0.11437119, -1.70273823, -0.23546426, -1.36299502],\n",
       "       [-1.7182301 , -0.33825912, -1.38394997, -0.67719323,  0.28213088]])"
      ]
     },
     "execution_count": 3,
     "metadata": {},
     "output_type": "execute_result"
    }
   ],
   "source": [
    "generate_samples(means=[-1.0, 0.0], variances=[0.2, 0.1], num_samples=5, noise_dim=3)"
   ]
  },
  {
   "cell_type": "markdown",
   "id": "173d420f",
   "metadata": {},
   "source": [
    "We now need to create a ```Loader``` for this training data, which implements the interface in ```spred.loader```:\n",
    "\n",
    "    class Loader(ABC):\n",
    "        @abstractmethod\n",
    "        def __iter__(self):\n",
    "            \"\"\"\n",
    "            Creates an Iterator over the batches of the Loader.\n",
    "    \n",
    "            Each batch should be a dictionary with at least two keys:\n",
    "            - \"inputs\": maps to a torch.tensor of shape BxD containing the input\n",
    "            vectors, where B is batch size and D is input vector dimension\n",
    "            - \"labels\": maps to a torch.tensor of shape B containing the\n",
    "            corresponding labels\n",
    "    \n",
    "            \"\"\"\n",
    "            ...\n",
    "    \n",
    "        @abstractmethod\n",
    "        def __len__(self):\n",
    "            \"\"\" Number of batches provided by the Loader.\"\"\"\n",
    "            ...\n",
    "    \n",
    "        @abstractmethod\n",
    "        def num_labels(self):\n",
    "            \"\"\" Number of class labels in the dataset. \"\"\"\n",
    "            ...\n"
   ]
  },
  {
   "cell_type": "code",
   "execution_count": 4,
   "id": "fa29894a",
   "metadata": {},
   "outputs": [],
   "source": [
    "import numpy\n",
    "import torch\n",
    "from random import shuffle\n",
    "from spred.loader import Loader\n",
    "\n",
    "class NormalsLoader(Loader):\n",
    "    \n",
    "    def __init__(self, num_batches, bsz, noise_dim):\n",
    "        super().__init__()\n",
    "        self.bsz = bsz\n",
    "        self.num_batches = num_batches\n",
    "        self.noise_dim = noise_dim\n",
    "        self.batches = []\n",
    "        self.device = torch.device(\"cuda\") if torch.cuda.is_available() else torch.device(\"cpu\")\n",
    "        for _ in range(num_batches):\n",
    "            variance1 = 0.2\n",
    "            variance2 = 0.1\n",
    "            pts1a = generate_samples([-1.0, 0.0], [variance1, variance2], bsz//4, self.noise_dim)\n",
    "            pts1b = generate_samples([1.0, 0.0], [variance1, variance2], bsz//4, self.noise_dim)\n",
    "            pts2a = generate_samples([0.0, -1.0], [variance2, variance1], bsz//4, self.noise_dim)\n",
    "            pts2b = generate_samples([0.0, 1.0], [variance2, variance1], bsz//4, self.noise_dim)\n",
    "            labeled = ([(pt, 0) for pt in pts1a] +\n",
    "                       [(pt, 0) for pt in pts1b] +\n",
    "                       [(pt, 1) for pt in pts2a] +\n",
    "                       [(pt, 1) for pt in pts2b])\n",
    "            shuffle(labeled)\n",
    "            instances = torch.tensor(numpy.array([pair[0] for pair in labeled])).float()\n",
    "            labels = torch.tensor([pair[1] for pair in labeled])\n",
    "            self.batches.append((instances, labels))\n",
    "\n",
    "    def __iter__(self):\n",
    "        for instances, labels in self.batches:\n",
    "            yield {'inputs': instances.to(self.device), 'labels': labels.to(self.device)}\n",
    "\n",
    "    def __len__(self):\n",
    "        return self.num_batches\n",
    "\n",
    "    def num_labels(self):\n",
    "        return 2"
   ]
  },
  {
   "cell_type": "markdown",
   "id": "e6e1d142",
   "metadata": {},
   "source": [
    "For instance, the following code creates a ```Loader``` that provides two batches, each with eight training vectors (half of which are sampled from class 0 and half of which are sampled from class 1)."
   ]
  },
  {
   "cell_type": "code",
   "execution_count": 5,
   "id": "ae24dd8c",
   "metadata": {},
   "outputs": [
    {
     "name": "stdout",
     "output_type": "stream",
     "text": [
      "This loader has 2 batches.\n",
      "This loader has 2 class labels.\n",
      "{'inputs': tensor([[ 0.4585, -0.1870,  0.9940, -1.1039,  0.1579],\n",
      "        [ 0.9670, -0.9587, -0.2132,  1.2117, -0.4499],\n",
      "        [ 1.0050,  0.0625,  0.5882,  0.2659, -1.4097],\n",
      "        [-0.6688, -0.9580,  0.2149,  0.8866,  0.2471],\n",
      "        [ 0.4772,  0.7740, -1.2619,  0.1829,  0.5848],\n",
      "        [-0.4369,  0.4692, -1.3555, -0.7834,  1.0093],\n",
      "        [-0.2621,  1.1752,  0.2412,  0.7841, -0.2316],\n",
      "        [-1.5528, -0.0229, -0.5448,  0.8059, -1.6110]]), 'labels': tensor([0, 1, 0, 1, 1, 0, 1, 0])}\n",
      "{'inputs': tensor([[ 1.3356, -0.4014,  0.6376,  0.0402, -0.2316],\n",
      "        [ 0.3925, -1.6217, -1.6964, -0.6962, -0.3731],\n",
      "        [-0.5303, -0.0823, -0.4646,  2.2625,  1.7257],\n",
      "        [-0.4791, -0.9636,  1.4694,  2.1311,  0.4606],\n",
      "        [-1.0086,  0.3219, -0.4245,  0.2429,  1.2395],\n",
      "        [-0.5658,  0.8551,  0.4784,  0.3481,  0.1601],\n",
      "        [-0.2506,  1.9214, -0.9005, -0.2165,  0.3143],\n",
      "        [ 1.1721, -0.1950,  0.6572, -0.8959, -0.5335]]), 'labels': tensor([0, 1, 0, 1, 0, 1, 1, 0])}\n"
     ]
    }
   ],
   "source": [
    "loader = NormalsLoader(num_batches=2, bsz=8, noise_dim=3)\n",
    "print('This loader has {} batches.'.format(len(loader)))\n",
    "print('This loader has {} class labels.'.format(loader.num_labels()))\n",
    "for batch in loader:\n",
    "    print(batch)"
   ]
  },
  {
   "cell_type": "markdown",
   "id": "c799ac3d",
   "metadata": {},
   "source": [
    "With our ```Loader``` defined, we can now create a ```Task``` by specifying loaders for the training, validation, and test sets."
   ]
  },
  {
   "cell_type": "code",
   "execution_count": 8,
   "id": "edecfb50",
   "metadata": {},
   "outputs": [],
   "source": [
    "from spred.task import Task\n",
    "\n",
    "class NormalsTask(Task):\n",
    "\n",
    "    def __init__(self, noise_dim, n_train_batches,\n",
    "                 n_validation_batches, n_test_batches):\n",
    "        super().__init__()\n",
    "        self.noise_dim = noise_dim\n",
    "        self.n_train_batches = n_train_batches\n",
    "        self.n_validation_batches = n_validation_batches\n",
    "        self.n_test_batches = n_test_batches\n",
    "\n",
    "    def init_train_loader(self, bsz):\n",
    "        return NormalsLoader(self.n_train_batches, bsz, self.noise_dim)\n",
    "\n",
    "    def init_validation_loader(self, bsz):\n",
    "        return NormalsLoader(self.n_validation_batches, bsz, self.noise_dim)\n",
    "\n",
    "    def init_test_loader(self, bsz):\n",
    "        return NormalsLoader(self.n_test_batches, bsz, self.noise_dim)"
   ]
  },
  {
   "cell_type": "markdown",
   "id": "73742dfc",
   "metadata": {},
   "source": [
    "The last thing we need to do is register our new task with the Task Hub, so that we can use it in selective prediction experiments."
   ]
  },
  {
   "cell_type": "code",
   "execution_count": 10,
   "id": "830d82b5",
   "metadata": {},
   "outputs": [],
   "source": [
    "from spred.task import task_hub\n",
    "task_hub.register('nrmls', NormalsTask)"
   ]
  },
  {
   "cell_type": "markdown",
   "id": "8e95d4d1",
   "metadata": {},
   "source": [
    "Let's try out some selective prediction techniques on our new task! To run an experiment (i.e. train a neural network and compare the effectiveness of various confidence functions), we first must configure the experiment. To configure the task, we provide the name under which we registered the task (i.e. \"nrmls\") and the arguments to its constructor."
   ]
  },
  {
   "cell_type": "code",
   "execution_count": 14,
   "id": "3973a425",
   "metadata": {},
   "outputs": [],
   "source": [
    "task_config = {\"name\": \"nrmls\",\n",
    "               \"noise_dim\": 50,\n",
    "               \"n_train_batches\": 200,\n",
    "               \"n_validation_batches\": 200,\n",
    "               \"n_test_batches\": 100}"
   ]
  },
  {
   "cell_type": "markdown",
   "id": "69fd73d8",
   "metadata": {},
   "source": [
    "Next let's configure the model we want to train. Let's train a simple feedforward neural network with internal layers of size 128 and 64. Note that the input size for our task is 52 (our (x,y) dimensions + 50 noise dimensions) and the output_size is 2 (class A or class B). We'll train using a basic cross-entropy (\"ce\") loss."
   ]
  },
  {
   "cell_type": "code",
   "execution_count": 13,
   "id": "609b675b",
   "metadata": {},
   "outputs": [],
   "source": [
    "model_config = {\"architecture\": \"feedforward\",\n",
    "                \"input_size\": 52,\n",
    "                \"hidden_sizes\": [128, 64],\n",
    "                \"output_size\": 2,\n",
    "                \"loss\": {\n",
    "                    \"name\": \"ce\"\n",
    "                }}"
   ]
  },
  {
   "cell_type": "markdown",
   "id": "582db8e1",
   "metadata": {},
   "source": [
    "For this experiment, we'll compare three different confidence functions:\n",
    "1. **\"random\"**: just associate a random confidence with each prediction\n",
    "2. **\"max_prob\"**: use the softmax probability of the prediction as its confidence\n",
    "3. **\"mcd\"**: use the MC Dropout technique of Gal and Ghahramani"
   ]
  },
  {
   "cell_type": "code",
   "execution_count": 16,
   "id": "8fc3a6a7",
   "metadata": {},
   "outputs": [],
   "source": [
    "confs = [{\"name\": \"random\"},\n",
    "         {\"name\": \"max_prob\"},\n",
    "         {\"name\": \"mcd\",\n",
    "          \"aggregator\": \"mean\",\n",
    "          \"n_forward_passes\": 10}]"
   ]
  },
  {
   "cell_type": "markdown",
   "id": "bcf4c5a2",
   "metadata": {},
   "source": [
    "Now that specified our task, our model, and our confidences, let's bundle them together into an experiment configuration. We'll also specify a couple extra details, like the optimizer (stochastic gradient descent with momentum of 0.9 and a learning rate of 0.003), the batch size (64), and the number of training epochs (30)."
   ]
  },
  {
   "cell_type": "code",
   "execution_count": 17,
   "id": "86ba1b28",
   "metadata": {},
   "outputs": [],
   "source": [
    "config = {\"task\": task_config,\n",
    "          \"network\": model_config,\n",
    "          \"confidences\": confs,\n",
    "          \"optimizer\": {\"name\": \"sgd\",\n",
    "                        \"lr\": 0.003,\n",
    "                        \"momentum\": 0.9},\n",
    "          \"bsz\": 64,\n",
    "          \"n_epochs\": 30}"
   ]
  },
  {
   "cell_type": "markdown",
   "id": "cc90868b",
   "metadata": {},
   "source": [
    "With our configuration ready, let's run the experiment!"
   ]
  },
  {
   "cell_type": "code",
   "execution_count": 18,
   "id": "58efdb2c",
   "metadata": {},
   "outputs": [
    {
     "name": "stdout",
     "output_type": "stream",
     "text": [
      "Training with config:\n",
      "{'task': {'name': 'nrmls', 'noise_dim': 50, 'n_train_batches': 200, 'n_validation_batches': 200, 'n_test_batches': 100}, 'network': {'architecture': 'feedforward', 'input_size': 52, 'hidden_sizes': [128, 64], 'output_size': 2, 'loss': {'name': 'ce'}}, 'confidences': [{'name': 'random'}, {'name': 'max_prob'}, {'name': 'mcd', 'aggregator': 'mean', 'n_forward_passes': 10}], 'optimizer': {'name': 'sgd', 'lr': 0.003, 'momentum': 0.9}, 'bsz': 64, 'n_epochs': 30}\n",
      "Epoch 1:\n"
     ]
    },
    {
     "name": "stderr",
     "output_type": "stream",
     "text": [
      "100%|██████████| 200/200 [00:00<00:00, 737.64it/s]\n",
      "100%|██████████| 200/200 [00:00<00:00, 1926.54it/s]\n"
     ]
    },
    {
     "name": "stdout",
     "output_type": "stream",
     "text": [
      "Epoch 2:\n"
     ]
    },
    {
     "name": "stderr",
     "output_type": "stream",
     "text": [
      "100%|██████████| 200/200 [00:00<00:00, 1174.12it/s]\n",
      "100%|██████████| 200/200 [00:00<00:00, 2054.51it/s]\n"
     ]
    },
    {
     "name": "stdout",
     "output_type": "stream",
     "text": [
      "Epoch 3:\n"
     ]
    },
    {
     "name": "stderr",
     "output_type": "stream",
     "text": [
      "100%|██████████| 200/200 [00:00<00:00, 1173.11it/s]\n",
      "100%|██████████| 200/200 [00:00<00:00, 2075.21it/s]\n"
     ]
    },
    {
     "name": "stdout",
     "output_type": "stream",
     "text": [
      "Epoch 4:\n"
     ]
    },
    {
     "name": "stderr",
     "output_type": "stream",
     "text": [
      "100%|██████████| 200/200 [00:00<00:00, 1193.21it/s]\n",
      "100%|██████████| 200/200 [00:00<00:00, 2082.32it/s]\n"
     ]
    },
    {
     "name": "stdout",
     "output_type": "stream",
     "text": [
      "Epoch 5:\n"
     ]
    },
    {
     "name": "stderr",
     "output_type": "stream",
     "text": [
      "100%|██████████| 200/200 [00:00<00:00, 1173.58it/s]\n",
      "100%|██████████| 200/200 [00:00<00:00, 2073.83it/s]\n"
     ]
    },
    {
     "name": "stdout",
     "output_type": "stream",
     "text": [
      "Epoch 6:\n"
     ]
    },
    {
     "name": "stderr",
     "output_type": "stream",
     "text": [
      "100%|██████████| 200/200 [00:00<00:00, 1190.04it/s]\n",
      "100%|██████████| 200/200 [00:00<00:00, 2091.79it/s]\n"
     ]
    },
    {
     "name": "stdout",
     "output_type": "stream",
     "text": [
      "Epoch 7:\n"
     ]
    },
    {
     "name": "stderr",
     "output_type": "stream",
     "text": [
      "100%|██████████| 200/200 [00:00<00:00, 1173.88it/s]\n",
      "100%|██████████| 200/200 [00:00<00:00, 2096.66it/s]\n"
     ]
    },
    {
     "name": "stdout",
     "output_type": "stream",
     "text": [
      "Epoch 8:\n"
     ]
    },
    {
     "name": "stderr",
     "output_type": "stream",
     "text": [
      "100%|██████████| 200/200 [00:00<00:00, 1186.05it/s]\n",
      "100%|██████████| 200/200 [00:00<00:00, 2067.99it/s]\n"
     ]
    },
    {
     "name": "stdout",
     "output_type": "stream",
     "text": [
      "Epoch 9:\n"
     ]
    },
    {
     "name": "stderr",
     "output_type": "stream",
     "text": [
      "100%|██████████| 200/200 [00:00<00:00, 1165.05it/s]\n",
      "100%|██████████| 200/200 [00:00<00:00, 2055.64it/s]\n"
     ]
    },
    {
     "name": "stdout",
     "output_type": "stream",
     "text": [
      "Epoch 10:\n"
     ]
    },
    {
     "name": "stderr",
     "output_type": "stream",
     "text": [
      "100%|██████████| 200/200 [00:00<00:00, 1169.13it/s]\n",
      "100%|██████████| 200/200 [00:00<00:00, 2029.16it/s]\n"
     ]
    },
    {
     "name": "stdout",
     "output_type": "stream",
     "text": [
      "Epoch 11:\n"
     ]
    },
    {
     "name": "stderr",
     "output_type": "stream",
     "text": [
      "100%|██████████| 200/200 [00:00<00:00, 1183.69it/s]\n",
      "100%|██████████| 200/200 [00:00<00:00, 2075.87it/s]\n"
     ]
    },
    {
     "name": "stdout",
     "output_type": "stream",
     "text": [
      "Epoch 12:\n"
     ]
    },
    {
     "name": "stderr",
     "output_type": "stream",
     "text": [
      "100%|██████████| 200/200 [00:00<00:00, 1173.72it/s]\n",
      "100%|██████████| 200/200 [00:00<00:00, 2073.57it/s]\n"
     ]
    },
    {
     "name": "stdout",
     "output_type": "stream",
     "text": [
      "Epoch 13:\n"
     ]
    },
    {
     "name": "stderr",
     "output_type": "stream",
     "text": [
      "100%|██████████| 200/200 [00:00<00:00, 1194.84it/s]\n",
      "100%|██████████| 200/200 [00:00<00:00, 2088.62it/s]\n"
     ]
    },
    {
     "name": "stdout",
     "output_type": "stream",
     "text": [
      "Epoch 14:\n"
     ]
    },
    {
     "name": "stderr",
     "output_type": "stream",
     "text": [
      "100%|██████████| 200/200 [00:00<00:00, 1182.55it/s]\n",
      "100%|██████████| 200/200 [00:00<00:00, 2085.90it/s]\n"
     ]
    },
    {
     "name": "stdout",
     "output_type": "stream",
     "text": [
      "Epoch 15:\n"
     ]
    },
    {
     "name": "stderr",
     "output_type": "stream",
     "text": [
      "100%|██████████| 200/200 [00:00<00:00, 1185.61it/s]\n",
      "100%|██████████| 200/200 [00:00<00:00, 2073.12it/s]\n"
     ]
    },
    {
     "name": "stdout",
     "output_type": "stream",
     "text": [
      "Epoch 16:\n"
     ]
    },
    {
     "name": "stderr",
     "output_type": "stream",
     "text": [
      "100%|██████████| 200/200 [00:00<00:00, 1191.68it/s]\n",
      "100%|██████████| 200/200 [00:00<00:00, 2074.84it/s]\n"
     ]
    },
    {
     "name": "stdout",
     "output_type": "stream",
     "text": [
      "Epoch 17:\n"
     ]
    },
    {
     "name": "stderr",
     "output_type": "stream",
     "text": [
      "100%|██████████| 200/200 [00:00<00:00, 1195.45it/s]\n",
      "100%|██████████| 200/200 [00:00<00:00, 2080.19it/s]\n"
     ]
    },
    {
     "name": "stdout",
     "output_type": "stream",
     "text": [
      "Epoch 18:\n"
     ]
    },
    {
     "name": "stderr",
     "output_type": "stream",
     "text": [
      "100%|██████████| 200/200 [00:00<00:00, 1156.78it/s]\n",
      "100%|██████████| 200/200 [00:00<00:00, 2078.64it/s]\n"
     ]
    },
    {
     "name": "stdout",
     "output_type": "stream",
     "text": [
      "Epoch 19:\n"
     ]
    },
    {
     "name": "stderr",
     "output_type": "stream",
     "text": [
      "100%|██████████| 200/200 [00:00<00:00, 1180.13it/s]\n",
      "100%|██████████| 200/200 [00:00<00:00, 2069.20it/s]\n"
     ]
    },
    {
     "name": "stdout",
     "output_type": "stream",
     "text": [
      "Epoch 20:\n"
     ]
    },
    {
     "name": "stderr",
     "output_type": "stream",
     "text": [
      "100%|██████████| 200/200 [00:00<00:00, 1196.60it/s]\n",
      "100%|██████████| 200/200 [00:00<00:00, 2069.99it/s]\n"
     ]
    },
    {
     "name": "stdout",
     "output_type": "stream",
     "text": [
      "Epoch 21:\n"
     ]
    },
    {
     "name": "stderr",
     "output_type": "stream",
     "text": [
      "100%|██████████| 200/200 [00:00<00:00, 1186.60it/s]\n",
      "100%|██████████| 200/200 [00:00<00:00, 2070.03it/s]\n"
     ]
    },
    {
     "name": "stdout",
     "output_type": "stream",
     "text": [
      "Epoch 22:\n"
     ]
    },
    {
     "name": "stderr",
     "output_type": "stream",
     "text": [
      "100%|██████████| 200/200 [00:00<00:00, 1181.63it/s]\n",
      "100%|██████████| 200/200 [00:00<00:00, 2043.67it/s]\n"
     ]
    },
    {
     "name": "stdout",
     "output_type": "stream",
     "text": [
      "Epoch 23:\n"
     ]
    },
    {
     "name": "stderr",
     "output_type": "stream",
     "text": [
      "100%|██████████| 200/200 [00:00<00:00, 1140.94it/s]\n",
      "100%|██████████| 200/200 [00:00<00:00, 2012.67it/s]\n"
     ]
    },
    {
     "name": "stdout",
     "output_type": "stream",
     "text": [
      "Epoch 24:\n"
     ]
    },
    {
     "name": "stderr",
     "output_type": "stream",
     "text": [
      "100%|██████████| 200/200 [00:00<00:00, 1160.83it/s]\n",
      "100%|██████████| 200/200 [00:00<00:00, 2058.07it/s]\n"
     ]
    },
    {
     "name": "stdout",
     "output_type": "stream",
     "text": [
      "Epoch 25:\n"
     ]
    },
    {
     "name": "stderr",
     "output_type": "stream",
     "text": [
      "100%|██████████| 200/200 [00:00<00:00, 1140.51it/s]\n",
      "100%|██████████| 200/200 [00:00<00:00, 2039.75it/s]\n"
     ]
    },
    {
     "name": "stdout",
     "output_type": "stream",
     "text": [
      "Epoch 26:\n"
     ]
    },
    {
     "name": "stderr",
     "output_type": "stream",
     "text": [
      "100%|██████████| 200/200 [00:00<00:00, 1151.96it/s]\n",
      "100%|██████████| 200/200 [00:00<00:00, 2046.22it/s]\n"
     ]
    },
    {
     "name": "stdout",
     "output_type": "stream",
     "text": [
      "Epoch 27:\n"
     ]
    },
    {
     "name": "stderr",
     "output_type": "stream",
     "text": [
      "100%|██████████| 200/200 [00:00<00:00, 1160.51it/s]\n",
      "100%|██████████| 200/200 [00:00<00:00, 2085.66it/s]\n"
     ]
    },
    {
     "name": "stdout",
     "output_type": "stream",
     "text": [
      "Epoch 28:\n"
     ]
    },
    {
     "name": "stderr",
     "output_type": "stream",
     "text": [
      "100%|██████████| 200/200 [00:00<00:00, 1128.74it/s]\n",
      "100%|██████████| 200/200 [00:00<00:00, 2064.75it/s]\n"
     ]
    },
    {
     "name": "stdout",
     "output_type": "stream",
     "text": [
      "Epoch 29:\n"
     ]
    },
    {
     "name": "stderr",
     "output_type": "stream",
     "text": [
      "100%|██████████| 200/200 [00:00<00:00, 1159.50it/s]\n",
      "100%|██████████| 200/200 [00:00<00:00, 2070.05it/s]\n"
     ]
    },
    {
     "name": "stdout",
     "output_type": "stream",
     "text": [
      "Epoch 30:\n"
     ]
    },
    {
     "name": "stderr",
     "output_type": "stream",
     "text": [
      "100%|██████████| 200/200 [00:00<00:00, 1148.82it/s]\n",
      "100%|██████████| 200/200 [00:00<00:00, 2095.82it/s]\n"
     ]
    },
    {
     "name": "stdout",
     "output_type": "stream",
     "text": [
      "Best validation accuracy at epoch 30\n"
     ]
    },
    {
     "name": "stderr",
     "output_type": "stream",
     "text": [
      "100%|██████████| 100/100 [00:00<00:00, 2010.65it/s]\n"
     ]
    },
    {
     "name": "stdout",
     "output_type": "stream",
     "text": [
      "{'name': 'random'}\n",
      "{\n",
      "    \"accuracy\": 0.9365625,\n",
      "    \"aupr\": 0.9365625759893061,\n",
      "    \"auroc\": 0.4943847788675375,\n",
      "    \"avg_crr_conf\": 0.46973001016303895,\n",
      "    \"avg_err_conf\": 0.03217767901718616,\n",
      "    \"capacity\": 0.9365497229393198,\n",
      "    \"kendall_tau\": 0.5056152211324625,\n",
      "    \"n_correct\": 5994,\n",
      "    \"n_errors\": 406,\n",
      "    \"n_published\": 6400,\n",
      "    \"validation_loss\": 0.1682068556547165\n",
      "}\n"
     ]
    },
    {
     "name": "stderr",
     "output_type": "stream",
     "text": [
      "100%|██████████| 100/100 [00:00<00:00, 1782.72it/s]\n"
     ]
    },
    {
     "name": "stdout",
     "output_type": "stream",
     "text": [
      "{'name': 'max_prob'}\n",
      "{\n",
      "    \"accuracy\": 0.9365625,\n",
      "    \"aupr\": 0.9935347444152707,\n",
      "    \"auroc\": 0.9141596440447015,\n",
      "    \"avg_crr_conf\": 0.857249785233289,\n",
      "    \"avg_err_conf\": 0.041303193252533676,\n",
      "    \"capacity\": 0.9918236945787213,\n",
      "    \"kendall_tau\": 0.08584035595529849,\n",
      "    \"n_correct\": 5994,\n",
      "    \"n_errors\": 406,\n",
      "    \"n_published\": 6400,\n",
      "    \"validation_loss\": 0.1682068556547165\n",
      "}\n"
     ]
    },
    {
     "name": "stderr",
     "output_type": "stream",
     "text": [
      "100%|██████████| 100/100 [00:00<00:00, 307.21it/s]"
     ]
    },
    {
     "name": "stdout",
     "output_type": "stream",
     "text": [
      "{'name': 'mcd', 'aggregator': 'mean', 'n_forward_passes': 10}\n",
      "{\n",
      "    \"accuracy\": 0.9365625,\n",
      "    \"aupr\": 0.9924381130310644,\n",
      "    \"auroc\": 0.9003736906035756,\n",
      "    \"avg_crr_conf\": 0.79166140133515,\n",
      "    \"avg_err_conf\": 0.038373764548450706,\n",
      "    \"capacity\": 0.9907559213757032,\n",
      "    \"kendall_tau\": 0.09962630939642433,\n",
      "    \"n_correct\": 5994,\n",
      "    \"n_errors\": 406,\n",
      "    \"n_published\": 6400,\n",
      "    \"validation_loss\": 0.1682068556547165\n",
      "}\n"
     ]
    },
    {
     "name": "stderr",
     "output_type": "stream",
     "text": [
      "\n"
     ]
    }
   ],
   "source": [
    "from spred.experiment import Experiment\n",
    "exp = Experiment(config)\n",
    "exp_result = exp.run()"
   ]
  },
  {
   "cell_type": "markdown",
   "id": "e91a932d",
   "metadata": {},
   "source": [
    "Once the experiment completes, it reports a variety of evaluation statistics. Some of particular interest:\n",
    "- \"accuracy\": the accuracy of the trained classifier on the entire validation set\n",
    "- \"aupr\": the area under the precision-recall curve for a particular confidence function (higher = better)\n",
    "- \"kendall_tau\": the worst-case normalized Kendall-Tau distance for a particular confidence function (lower = better)\n",
    "\n",
    "You should see kendall_tau values between 0.07 and 0.10 for the **max_prob** and **mcd** confidence functions, whereas the **random** confidence should have a kendall_tau near 0.5."
   ]
  },
  {
   "cell_type": "markdown",
   "id": "019a0a1f",
   "metadata": {},
   "source": [
    "To get a reliable estimate of the effectiveness of different confidence functions, we really should run multiple experiment trials and visualize the results. Let's try 5 trials of our experiment."
   ]
  },
  {
   "cell_type": "code",
   "execution_count": 19,
   "id": "b9b312d5",
   "metadata": {},
   "outputs": [
    {
     "name": "stdout",
     "output_type": "stream",
     "text": [
      "Training with config:\n",
      "{'task': {'name': 'nrmls', 'noise_dim': 50, 'n_train_batches': 200, 'n_validation_batches': 200, 'n_test_batches': 100}, 'network': {'architecture': 'feedforward', 'input_size': 52, 'hidden_sizes': [128, 64], 'output_size': 2, 'loss': {'name': 'ce'}}, 'confidences': [{'name': 'random'}, {'name': 'max_prob'}, {'name': 'mcd', 'aggregator': 'mean', 'n_forward_passes': 10}], 'optimizer': {'name': 'sgd', 'lr': 0.003, 'momentum': 0.9}, 'bsz': 64, 'n_epochs': 30}\n",
      "Epoch 1:\n"
     ]
    },
    {
     "name": "stderr",
     "output_type": "stream",
     "text": [
      "100%|██████████| 200/200 [00:00<00:00, 1098.87it/s]\n",
      "100%|██████████| 200/200 [00:00<00:00, 1862.30it/s]\n"
     ]
    },
    {
     "name": "stdout",
     "output_type": "stream",
     "text": [
      "Epoch 2:\n"
     ]
    },
    {
     "name": "stderr",
     "output_type": "stream",
     "text": [
      "100%|██████████| 200/200 [00:00<00:00, 1150.33it/s]\n",
      "100%|██████████| 200/200 [00:00<00:00, 2031.66it/s]\n"
     ]
    },
    {
     "name": "stdout",
     "output_type": "stream",
     "text": [
      "Epoch 3:\n"
     ]
    },
    {
     "name": "stderr",
     "output_type": "stream",
     "text": [
      "100%|██████████| 200/200 [00:00<00:00, 1171.23it/s]\n",
      "100%|██████████| 200/200 [00:00<00:00, 2071.18it/s]\n"
     ]
    },
    {
     "name": "stdout",
     "output_type": "stream",
     "text": [
      "Epoch 4:\n"
     ]
    },
    {
     "name": "stderr",
     "output_type": "stream",
     "text": [
      "100%|██████████| 200/200 [00:00<00:00, 1164.83it/s]\n",
      "100%|██████████| 200/200 [00:00<00:00, 2033.22it/s]\n"
     ]
    },
    {
     "name": "stdout",
     "output_type": "stream",
     "text": [
      "Epoch 5:\n"
     ]
    },
    {
     "name": "stderr",
     "output_type": "stream",
     "text": [
      "100%|██████████| 200/200 [00:00<00:00, 1166.36it/s]\n",
      "100%|██████████| 200/200 [00:00<00:00, 2055.18it/s]\n"
     ]
    },
    {
     "name": "stdout",
     "output_type": "stream",
     "text": [
      "Epoch 6:\n"
     ]
    },
    {
     "name": "stderr",
     "output_type": "stream",
     "text": [
      "100%|██████████| 200/200 [00:00<00:00, 1169.35it/s]\n",
      "100%|██████████| 200/200 [00:00<00:00, 2053.05it/s]\n"
     ]
    },
    {
     "name": "stdout",
     "output_type": "stream",
     "text": [
      "Epoch 7:\n"
     ]
    },
    {
     "name": "stderr",
     "output_type": "stream",
     "text": [
      "100%|██████████| 200/200 [00:00<00:00, 1175.87it/s]\n",
      "100%|██████████| 200/200 [00:00<00:00, 2050.42it/s]\n"
     ]
    },
    {
     "name": "stdout",
     "output_type": "stream",
     "text": [
      "Epoch 8:\n"
     ]
    },
    {
     "name": "stderr",
     "output_type": "stream",
     "text": [
      "100%|██████████| 200/200 [00:00<00:00, 1125.28it/s]\n",
      "100%|██████████| 200/200 [00:00<00:00, 2034.18it/s]\n"
     ]
    },
    {
     "name": "stdout",
     "output_type": "stream",
     "text": [
      "Epoch 9:\n"
     ]
    },
    {
     "name": "stderr",
     "output_type": "stream",
     "text": [
      "100%|██████████| 200/200 [00:00<00:00, 979.33it/s] \n",
      "100%|██████████| 200/200 [00:00<00:00, 2036.00it/s]\n"
     ]
    },
    {
     "name": "stdout",
     "output_type": "stream",
     "text": [
      "Epoch 10:\n"
     ]
    },
    {
     "name": "stderr",
     "output_type": "stream",
     "text": [
      "100%|██████████| 200/200 [00:00<00:00, 1182.82it/s]\n",
      "100%|██████████| 200/200 [00:00<00:00, 2062.24it/s]\n"
     ]
    },
    {
     "name": "stdout",
     "output_type": "stream",
     "text": [
      "Epoch 11:\n"
     ]
    },
    {
     "name": "stderr",
     "output_type": "stream",
     "text": [
      "100%|██████████| 200/200 [00:00<00:00, 1167.64it/s]\n",
      "100%|██████████| 200/200 [00:00<00:00, 2029.49it/s]\n"
     ]
    },
    {
     "name": "stdout",
     "output_type": "stream",
     "text": [
      "Epoch 12:\n"
     ]
    },
    {
     "name": "stderr",
     "output_type": "stream",
     "text": [
      "100%|██████████| 200/200 [00:00<00:00, 1175.58it/s]\n",
      "100%|██████████| 200/200 [00:00<00:00, 2067.27it/s]\n"
     ]
    },
    {
     "name": "stdout",
     "output_type": "stream",
     "text": [
      "Epoch 13:\n"
     ]
    },
    {
     "name": "stderr",
     "output_type": "stream",
     "text": [
      "100%|██████████| 200/200 [00:00<00:00, 1186.78it/s]\n",
      "100%|██████████| 200/200 [00:00<00:00, 2071.63it/s]\n"
     ]
    },
    {
     "name": "stdout",
     "output_type": "stream",
     "text": [
      "Epoch 14:\n"
     ]
    },
    {
     "name": "stderr",
     "output_type": "stream",
     "text": [
      "100%|██████████| 200/200 [00:00<00:00, 1191.85it/s]\n",
      "100%|██████████| 200/200 [00:00<00:00, 2071.53it/s]\n"
     ]
    },
    {
     "name": "stdout",
     "output_type": "stream",
     "text": [
      "Epoch 15:\n"
     ]
    },
    {
     "name": "stderr",
     "output_type": "stream",
     "text": [
      "100%|██████████| 200/200 [00:00<00:00, 1185.40it/s]\n",
      "100%|██████████| 200/200 [00:00<00:00, 2073.20it/s]\n"
     ]
    },
    {
     "name": "stdout",
     "output_type": "stream",
     "text": [
      "Epoch 16:\n"
     ]
    },
    {
     "name": "stderr",
     "output_type": "stream",
     "text": [
      "100%|██████████| 200/200 [00:00<00:00, 1145.80it/s]\n",
      "100%|██████████| 200/200 [00:00<00:00, 1968.18it/s]\n"
     ]
    },
    {
     "name": "stdout",
     "output_type": "stream",
     "text": [
      "Epoch 17:\n"
     ]
    },
    {
     "name": "stderr",
     "output_type": "stream",
     "text": [
      "100%|██████████| 200/200 [00:00<00:00, 1193.49it/s]\n",
      "100%|██████████| 200/200 [00:00<00:00, 2071.81it/s]\n"
     ]
    },
    {
     "name": "stdout",
     "output_type": "stream",
     "text": [
      "Epoch 18:\n"
     ]
    },
    {
     "name": "stderr",
     "output_type": "stream",
     "text": [
      "100%|██████████| 200/200 [00:00<00:00, 1187.09it/s]\n",
      "100%|██████████| 200/200 [00:00<00:00, 2086.44it/s]\n"
     ]
    },
    {
     "name": "stdout",
     "output_type": "stream",
     "text": [
      "Epoch 19:\n"
     ]
    },
    {
     "name": "stderr",
     "output_type": "stream",
     "text": [
      "100%|██████████| 200/200 [00:00<00:00, 1184.61it/s]\n",
      "100%|██████████| 200/200 [00:00<00:00, 2071.31it/s]\n"
     ]
    },
    {
     "name": "stdout",
     "output_type": "stream",
     "text": [
      "Epoch 20:\n"
     ]
    },
    {
     "name": "stderr",
     "output_type": "stream",
     "text": [
      "100%|██████████| 200/200 [00:00<00:00, 1186.62it/s]\n",
      "100%|██████████| 200/200 [00:00<00:00, 2069.05it/s]\n"
     ]
    },
    {
     "name": "stdout",
     "output_type": "stream",
     "text": [
      "Epoch 21:\n"
     ]
    },
    {
     "name": "stderr",
     "output_type": "stream",
     "text": [
      "100%|██████████| 200/200 [00:00<00:00, 1196.71it/s]\n",
      "100%|██████████| 200/200 [00:00<00:00, 2077.87it/s]\n"
     ]
    },
    {
     "name": "stdout",
     "output_type": "stream",
     "text": [
      "Epoch 22:\n"
     ]
    },
    {
     "name": "stderr",
     "output_type": "stream",
     "text": [
      "100%|██████████| 200/200 [00:00<00:00, 1187.89it/s]\n",
      "100%|██████████| 200/200 [00:00<00:00, 2068.25it/s]\n"
     ]
    },
    {
     "name": "stdout",
     "output_type": "stream",
     "text": [
      "Epoch 23:\n"
     ]
    },
    {
     "name": "stderr",
     "output_type": "stream",
     "text": [
      "100%|██████████| 200/200 [00:00<00:00, 1175.64it/s]\n",
      "100%|██████████| 200/200 [00:00<00:00, 2072.26it/s]\n"
     ]
    },
    {
     "name": "stdout",
     "output_type": "stream",
     "text": [
      "Epoch 24:\n"
     ]
    },
    {
     "name": "stderr",
     "output_type": "stream",
     "text": [
      "100%|██████████| 200/200 [00:00<00:00, 1201.29it/s]\n",
      "100%|██████████| 200/200 [00:00<00:00, 2073.50it/s]\n"
     ]
    },
    {
     "name": "stdout",
     "output_type": "stream",
     "text": [
      "Epoch 25:\n"
     ]
    },
    {
     "name": "stderr",
     "output_type": "stream",
     "text": [
      "100%|██████████| 200/200 [00:00<00:00, 1192.24it/s]\n",
      "100%|██████████| 200/200 [00:00<00:00, 2062.43it/s]\n"
     ]
    },
    {
     "name": "stdout",
     "output_type": "stream",
     "text": [
      "Epoch 26:\n"
     ]
    },
    {
     "name": "stderr",
     "output_type": "stream",
     "text": [
      "100%|██████████| 200/200 [00:00<00:00, 1198.92it/s]\n",
      "100%|██████████| 200/200 [00:00<00:00, 2058.36it/s]\n"
     ]
    },
    {
     "name": "stdout",
     "output_type": "stream",
     "text": [
      "Epoch 27:\n"
     ]
    },
    {
     "name": "stderr",
     "output_type": "stream",
     "text": [
      "100%|██████████| 200/200 [00:00<00:00, 1207.16it/s]\n",
      "100%|██████████| 200/200 [00:00<00:00, 2089.34it/s]\n"
     ]
    },
    {
     "name": "stdout",
     "output_type": "stream",
     "text": [
      "Epoch 28:\n"
     ]
    },
    {
     "name": "stderr",
     "output_type": "stream",
     "text": [
      "100%|██████████| 200/200 [00:00<00:00, 1205.02it/s]\n",
      "100%|██████████| 200/200 [00:00<00:00, 2083.72it/s]\n"
     ]
    },
    {
     "name": "stdout",
     "output_type": "stream",
     "text": [
      "Epoch 29:\n"
     ]
    },
    {
     "name": "stderr",
     "output_type": "stream",
     "text": [
      "100%|██████████| 200/200 [00:00<00:00, 1194.17it/s]\n",
      "100%|██████████| 200/200 [00:00<00:00, 2079.41it/s]\n"
     ]
    },
    {
     "name": "stdout",
     "output_type": "stream",
     "text": [
      "Epoch 30:\n"
     ]
    },
    {
     "name": "stderr",
     "output_type": "stream",
     "text": [
      "100%|██████████| 200/200 [00:00<00:00, 1189.26it/s]\n",
      "100%|██████████| 200/200 [00:00<00:00, 2072.35it/s]\n"
     ]
    },
    {
     "name": "stdout",
     "output_type": "stream",
     "text": [
      "Best validation accuracy at epoch 30\n"
     ]
    },
    {
     "name": "stderr",
     "output_type": "stream",
     "text": [
      "100%|██████████| 100/100 [00:00<00:00, 2030.05it/s]\n"
     ]
    },
    {
     "name": "stdout",
     "output_type": "stream",
     "text": [
      "{'name': 'random'}\n",
      "{\n",
      "    \"accuracy\": 0.88453125,\n",
      "    \"aupr\": 0.8814564740739087,\n",
      "    \"auroc\": 0.48427684231234336,\n",
      "    \"avg_crr_conf\": 0.4408969527296722,\n",
      "    \"avg_err_conf\": 0.059353374186903236,\n",
      "    \"capacity\": 0.8814265243931092,\n",
      "    \"kendall_tau\": 0.5157231576876566,\n",
      "    \"n_correct\": 5661,\n",
      "    \"n_errors\": 739,\n",
      "    \"n_published\": 6400,\n",
      "    \"validation_loss\": 0.3295277078449726\n",
      "}\n"
     ]
    },
    {
     "name": "stderr",
     "output_type": "stream",
     "text": [
      "100%|██████████| 100/100 [00:00<00:00, 1971.33it/s]\n"
     ]
    },
    {
     "name": "stdout",
     "output_type": "stream",
     "text": [
      "{'name': 'max_prob'}\n",
      "{\n",
      "    \"accuracy\": 0.88453125,\n",
      "    \"aupr\": 0.9778780778146774,\n",
      "    \"auroc\": 0.8550427765981375,\n",
      "    \"avg_crr_conf\": 0.7078369180299342,\n",
      "    \"avg_err_conf\": 0.0737262690719217,\n",
      "    \"capacity\": 0.9729743029599144,\n",
      "    \"kendall_tau\": 0.14495734291961307,\n",
      "    \"n_correct\": 5661,\n",
      "    \"n_errors\": 739,\n",
      "    \"n_published\": 6400,\n",
      "    \"validation_loss\": 0.3295277078449726\n",
      "}\n"
     ]
    },
    {
     "name": "stderr",
     "output_type": "stream",
     "text": [
      "100%|██████████| 100/100 [00:00<00:00, 307.77it/s]\n"
     ]
    },
    {
     "name": "stdout",
     "output_type": "stream",
     "text": [
      "{'name': 'mcd', 'aggregator': 'mean', 'n_forward_passes': 10}\n",
      "{\n",
      "    \"accuracy\": 0.88453125,\n",
      "    \"aupr\": 0.9691700640858614,\n",
      "    \"auroc\": 0.8036139299372603,\n",
      "    \"avg_crr_conf\": 0.6481346782576293,\n",
      "    \"avg_err_conf\": 0.0701526212086901,\n",
      "    \"capacity\": 0.9648953483525822,\n",
      "    \"kendall_tau\": 0.19638607006273964,\n",
      "    \"n_correct\": 5661,\n",
      "    \"n_errors\": 739,\n",
      "    \"n_published\": 6400,\n",
      "    \"validation_loss\": 0.3295277078449726\n",
      "}\n",
      "Training with config:\n",
      "{'task': {'name': 'nrmls', 'noise_dim': 50, 'n_train_batches': 200, 'n_validation_batches': 200, 'n_test_batches': 100}, 'network': {'architecture': 'feedforward', 'input_size': 52, 'hidden_sizes': [128, 64], 'output_size': 2, 'loss': {'name': 'ce'}}, 'confidences': [{'name': 'random'}, {'name': 'max_prob'}, {'name': 'mcd', 'aggregator': 'mean', 'n_forward_passes': 10}], 'optimizer': {'name': 'sgd', 'lr': 0.003, 'momentum': 0.9}, 'bsz': 64, 'n_epochs': 30}\n",
      "Epoch 1:\n"
     ]
    },
    {
     "name": "stderr",
     "output_type": "stream",
     "text": [
      "100%|██████████| 200/200 [00:00<00:00, 1194.74it/s]\n",
      "100%|██████████| 200/200 [00:00<00:00, 2066.97it/s]\n"
     ]
    },
    {
     "name": "stdout",
     "output_type": "stream",
     "text": [
      "Epoch 2:\n"
     ]
    },
    {
     "name": "stderr",
     "output_type": "stream",
     "text": [
      "100%|██████████| 200/200 [00:00<00:00, 1191.00it/s]\n",
      "100%|██████████| 200/200 [00:00<00:00, 2052.50it/s]\n"
     ]
    },
    {
     "name": "stdout",
     "output_type": "stream",
     "text": [
      "Epoch 3:\n"
     ]
    },
    {
     "name": "stderr",
     "output_type": "stream",
     "text": [
      "100%|██████████| 200/200 [00:00<00:00, 1150.81it/s]\n",
      "100%|██████████| 200/200 [00:00<00:00, 2084.64it/s]\n"
     ]
    },
    {
     "name": "stdout",
     "output_type": "stream",
     "text": [
      "Epoch 4:\n"
     ]
    },
    {
     "name": "stderr",
     "output_type": "stream",
     "text": [
      "100%|██████████| 200/200 [00:00<00:00, 1200.69it/s]\n",
      "100%|██████████| 200/200 [00:00<00:00, 1152.24it/s]\n"
     ]
    },
    {
     "name": "stdout",
     "output_type": "stream",
     "text": [
      "Epoch 5:\n"
     ]
    },
    {
     "name": "stderr",
     "output_type": "stream",
     "text": [
      "100%|██████████| 200/200 [00:00<00:00, 1202.67it/s]\n",
      "100%|██████████| 200/200 [00:00<00:00, 2077.23it/s]\n"
     ]
    },
    {
     "name": "stdout",
     "output_type": "stream",
     "text": [
      "Epoch 6:\n"
     ]
    },
    {
     "name": "stderr",
     "output_type": "stream",
     "text": [
      "100%|██████████| 200/200 [00:00<00:00, 1197.79it/s]\n",
      "100%|██████████| 200/200 [00:00<00:00, 2066.01it/s]\n"
     ]
    },
    {
     "name": "stdout",
     "output_type": "stream",
     "text": [
      "Epoch 7:\n"
     ]
    },
    {
     "name": "stderr",
     "output_type": "stream",
     "text": [
      "100%|██████████| 200/200 [00:00<00:00, 1181.16it/s]\n",
      "100%|██████████| 200/200 [00:00<00:00, 2069.22it/s]\n"
     ]
    },
    {
     "name": "stdout",
     "output_type": "stream",
     "text": [
      "Epoch 8:\n"
     ]
    },
    {
     "name": "stderr",
     "output_type": "stream",
     "text": [
      "100%|██████████| 200/200 [00:00<00:00, 1205.94it/s]\n",
      "100%|██████████| 200/200 [00:00<00:00, 2076.37it/s]\n"
     ]
    },
    {
     "name": "stdout",
     "output_type": "stream",
     "text": [
      "Epoch 9:\n"
     ]
    },
    {
     "name": "stderr",
     "output_type": "stream",
     "text": [
      "100%|██████████| 200/200 [00:00<00:00, 1195.10it/s]\n",
      "100%|██████████| 200/200 [00:00<00:00, 2072.82it/s]\n"
     ]
    },
    {
     "name": "stdout",
     "output_type": "stream",
     "text": [
      "Epoch 10:\n"
     ]
    },
    {
     "name": "stderr",
     "output_type": "stream",
     "text": [
      "100%|██████████| 200/200 [00:00<00:00, 1193.07it/s]\n",
      "100%|██████████| 200/200 [00:00<00:00, 2079.52it/s]\n"
     ]
    },
    {
     "name": "stdout",
     "output_type": "stream",
     "text": [
      "Epoch 11:\n"
     ]
    },
    {
     "name": "stderr",
     "output_type": "stream",
     "text": [
      "100%|██████████| 200/200 [00:00<00:00, 1198.70it/s]\n",
      "100%|██████████| 200/200 [00:00<00:00, 2071.47it/s]\n"
     ]
    },
    {
     "name": "stdout",
     "output_type": "stream",
     "text": [
      "Epoch 12:\n"
     ]
    },
    {
     "name": "stderr",
     "output_type": "stream",
     "text": [
      "100%|██████████| 200/200 [00:00<00:00, 1198.26it/s]\n",
      "100%|██████████| 200/200 [00:00<00:00, 2068.27it/s]\n"
     ]
    },
    {
     "name": "stdout",
     "output_type": "stream",
     "text": [
      "Epoch 13:\n"
     ]
    },
    {
     "name": "stderr",
     "output_type": "stream",
     "text": [
      "100%|██████████| 200/200 [00:00<00:00, 1189.69it/s]\n",
      "100%|██████████| 200/200 [00:00<00:00, 2070.60it/s]\n"
     ]
    },
    {
     "name": "stdout",
     "output_type": "stream",
     "text": [
      "Epoch 14:\n"
     ]
    },
    {
     "name": "stderr",
     "output_type": "stream",
     "text": [
      "100%|██████████| 200/200 [00:00<00:00, 1198.93it/s]\n",
      "100%|██████████| 200/200 [00:00<00:00, 2066.18it/s]\n"
     ]
    },
    {
     "name": "stdout",
     "output_type": "stream",
     "text": [
      "Epoch 15:\n"
     ]
    },
    {
     "name": "stderr",
     "output_type": "stream",
     "text": [
      "100%|██████████| 200/200 [00:00<00:00, 1194.21it/s]\n",
      "100%|██████████| 200/200 [00:00<00:00, 2067.93it/s]\n"
     ]
    },
    {
     "name": "stdout",
     "output_type": "stream",
     "text": [
      "Epoch 16:\n"
     ]
    },
    {
     "name": "stderr",
     "output_type": "stream",
     "text": [
      "100%|██████████| 200/200 [00:00<00:00, 1198.95it/s]\n",
      "100%|██████████| 200/200 [00:00<00:00, 2069.24it/s]\n"
     ]
    },
    {
     "name": "stdout",
     "output_type": "stream",
     "text": [
      "Epoch 17:\n"
     ]
    },
    {
     "name": "stderr",
     "output_type": "stream",
     "text": [
      "100%|██████████| 200/200 [00:00<00:00, 1196.90it/s]\n",
      "100%|██████████| 200/200 [00:00<00:00, 2063.38it/s]\n"
     ]
    },
    {
     "name": "stdout",
     "output_type": "stream",
     "text": [
      "Epoch 18:\n"
     ]
    },
    {
     "name": "stderr",
     "output_type": "stream",
     "text": [
      "100%|██████████| 200/200 [00:00<00:00, 1196.96it/s]\n",
      "100%|██████████| 200/200 [00:00<00:00, 2072.90it/s]\n"
     ]
    },
    {
     "name": "stdout",
     "output_type": "stream",
     "text": [
      "Epoch 19:\n"
     ]
    },
    {
     "name": "stderr",
     "output_type": "stream",
     "text": [
      "100%|██████████| 200/200 [00:00<00:00, 1196.34it/s]\n",
      "100%|██████████| 200/200 [00:00<00:00, 2066.48it/s]\n"
     ]
    },
    {
     "name": "stdout",
     "output_type": "stream",
     "text": [
      "Epoch 20:\n"
     ]
    },
    {
     "name": "stderr",
     "output_type": "stream",
     "text": [
      "100%|██████████| 200/200 [00:00<00:00, 1197.02it/s]\n",
      "100%|██████████| 200/200 [00:00<00:00, 2081.99it/s]\n"
     ]
    },
    {
     "name": "stdout",
     "output_type": "stream",
     "text": [
      "Epoch 21:\n"
     ]
    },
    {
     "name": "stderr",
     "output_type": "stream",
     "text": [
      "100%|██████████| 200/200 [00:00<00:00, 1191.65it/s]\n",
      "100%|██████████| 200/200 [00:00<00:00, 2076.56it/s]\n"
     ]
    },
    {
     "name": "stdout",
     "output_type": "stream",
     "text": [
      "Epoch 22:\n"
     ]
    },
    {
     "name": "stderr",
     "output_type": "stream",
     "text": [
      "100%|██████████| 200/200 [00:00<00:00, 1194.64it/s]\n",
      "100%|██████████| 200/200 [00:00<00:00, 2064.39it/s]\n"
     ]
    },
    {
     "name": "stdout",
     "output_type": "stream",
     "text": [
      "Epoch 23:\n"
     ]
    },
    {
     "name": "stderr",
     "output_type": "stream",
     "text": [
      "100%|██████████| 200/200 [00:00<00:00, 1195.36it/s]\n",
      "100%|██████████| 200/200 [00:00<00:00, 2071.26it/s]\n"
     ]
    },
    {
     "name": "stdout",
     "output_type": "stream",
     "text": [
      "Epoch 24:\n"
     ]
    },
    {
     "name": "stderr",
     "output_type": "stream",
     "text": [
      "100%|██████████| 200/200 [00:00<00:00, 1193.12it/s]\n",
      "100%|██████████| 200/200 [00:00<00:00, 2057.44it/s]\n"
     ]
    },
    {
     "name": "stdout",
     "output_type": "stream",
     "text": [
      "Epoch 25:\n"
     ]
    },
    {
     "name": "stderr",
     "output_type": "stream",
     "text": [
      "100%|██████████| 200/200 [00:00<00:00, 1199.86it/s]\n",
      "100%|██████████| 200/200 [00:00<00:00, 2083.88it/s]\n"
     ]
    },
    {
     "name": "stdout",
     "output_type": "stream",
     "text": [
      "Epoch 26:\n"
     ]
    },
    {
     "name": "stderr",
     "output_type": "stream",
     "text": [
      "100%|██████████| 200/200 [00:00<00:00, 1204.76it/s]\n",
      "100%|██████████| 200/200 [00:00<00:00, 2078.29it/s]\n"
     ]
    },
    {
     "name": "stdout",
     "output_type": "stream",
     "text": [
      "Epoch 27:\n"
     ]
    },
    {
     "name": "stderr",
     "output_type": "stream",
     "text": [
      "100%|██████████| 200/200 [00:00<00:00, 1188.20it/s]\n",
      "100%|██████████| 200/200 [00:00<00:00, 2066.71it/s]\n"
     ]
    },
    {
     "name": "stdout",
     "output_type": "stream",
     "text": [
      "Epoch 28:\n"
     ]
    },
    {
     "name": "stderr",
     "output_type": "stream",
     "text": [
      "100%|██████████| 200/200 [00:00<00:00, 1179.10it/s]\n",
      "100%|██████████| 200/200 [00:00<00:00, 2074.93it/s]\n"
     ]
    },
    {
     "name": "stdout",
     "output_type": "stream",
     "text": [
      "Epoch 29:\n"
     ]
    },
    {
     "name": "stderr",
     "output_type": "stream",
     "text": [
      "100%|██████████| 200/200 [00:00<00:00, 1178.11it/s]\n",
      "100%|██████████| 200/200 [00:00<00:00, 2075.80it/s]\n"
     ]
    },
    {
     "name": "stdout",
     "output_type": "stream",
     "text": [
      "Epoch 30:\n"
     ]
    },
    {
     "name": "stderr",
     "output_type": "stream",
     "text": [
      "100%|██████████| 200/200 [00:00<00:00, 1177.12it/s]\n",
      "100%|██████████| 200/200 [00:00<00:00, 2059.22it/s]\n"
     ]
    },
    {
     "name": "stdout",
     "output_type": "stream",
     "text": [
      "Best validation accuracy at epoch 30\n"
     ]
    },
    {
     "name": "stderr",
     "output_type": "stream",
     "text": [
      "100%|██████████| 100/100 [00:00<00:00, 2037.44it/s]\n"
     ]
    },
    {
     "name": "stdout",
     "output_type": "stream",
     "text": [
      "{'name': 'random'}\n",
      "{\n",
      "    \"accuracy\": 0.88734375,\n",
      "    \"aupr\": 0.8869215010696021,\n",
      "    \"auroc\": 0.5021905900000464,\n",
      "    \"avg_crr_conf\": 0.44836869578808547,\n",
      "    \"avg_err_conf\": 0.05669262030161917,\n",
      "    \"capacity\": 0.8869000691122351,\n",
      "    \"kendall_tau\": 0.4978094099999536,\n",
      "    \"n_correct\": 5679,\n",
      "    \"n_errors\": 721,\n",
      "    \"n_published\": 6400,\n",
      "    \"validation_loss\": 0.2961557950079441\n",
      "}\n"
     ]
    },
    {
     "name": "stderr",
     "output_type": "stream",
     "text": [
      "100%|██████████| 100/100 [00:00<00:00, 1912.67it/s]\n"
     ]
    },
    {
     "name": "stdout",
     "output_type": "stream",
     "text": [
      "{'name': 'max_prob'}\n",
      "{\n",
      "    \"accuracy\": 0.88734375,\n",
      "    \"aupr\": 0.9759240471417534,\n",
      "    \"auroc\": 0.8395092121031837,\n",
      "    \"avg_crr_conf\": 0.7527033125888556,\n",
      "    \"avg_err_conf\": 0.0777346074488014,\n",
      "    \"capacity\": 0.9714184453952873,\n",
      "    \"kendall_tau\": 0.16049078789681623,\n",
      "    \"n_correct\": 5679,\n",
      "    \"n_errors\": 721,\n",
      "    \"n_published\": 6400,\n",
      "    \"validation_loss\": 0.2961557950079441\n",
      "}\n"
     ]
    },
    {
     "name": "stderr",
     "output_type": "stream",
     "text": [
      "100%|██████████| 100/100 [00:00<00:00, 317.26it/s]\n"
     ]
    },
    {
     "name": "stdout",
     "output_type": "stream",
     "text": [
      "{'name': 'mcd', 'aggregator': 'mean', 'n_forward_passes': 10}\n",
      "{\n",
      "    \"accuracy\": 0.88734375,\n",
      "    \"aupr\": 0.9696965476207063,\n",
      "    \"auroc\": 0.8059151180871982,\n",
      "    \"avg_crr_conf\": 0.6975596721610055,\n",
      "    \"avg_err_conf\": 0.07265252233482897,\n",
      "    \"capacity\": 0.9657290612166142,\n",
      "    \"kendall_tau\": 0.19408512613934736,\n",
      "    \"n_correct\": 5679,\n",
      "    \"n_errors\": 721,\n",
      "    \"n_published\": 6400,\n",
      "    \"validation_loss\": 0.2961557950079441\n",
      "}\n",
      "Training with config:\n",
      "{'task': {'name': 'nrmls', 'noise_dim': 50, 'n_train_batches': 200, 'n_validation_batches': 200, 'n_test_batches': 100}, 'network': {'architecture': 'feedforward', 'input_size': 52, 'hidden_sizes': [128, 64], 'output_size': 2, 'loss': {'name': 'ce'}}, 'confidences': [{'name': 'random'}, {'name': 'max_prob'}, {'name': 'mcd', 'aggregator': 'mean', 'n_forward_passes': 10}], 'optimizer': {'name': 'sgd', 'lr': 0.003, 'momentum': 0.9}, 'bsz': 64, 'n_epochs': 30}\n",
      "Epoch 1:\n"
     ]
    },
    {
     "name": "stderr",
     "output_type": "stream",
     "text": [
      "100%|██████████| 200/200 [00:00<00:00, 1196.01it/s]\n",
      "100%|██████████| 200/200 [00:00<00:00, 2067.33it/s]\n"
     ]
    },
    {
     "name": "stdout",
     "output_type": "stream",
     "text": [
      "Epoch 2:\n"
     ]
    },
    {
     "name": "stderr",
     "output_type": "stream",
     "text": [
      "100%|██████████| 200/200 [00:00<00:00, 1197.88it/s]\n",
      "100%|██████████| 200/200 [00:00<00:00, 2070.01it/s]\n"
     ]
    },
    {
     "name": "stdout",
     "output_type": "stream",
     "text": [
      "Epoch 3:\n"
     ]
    },
    {
     "name": "stderr",
     "output_type": "stream",
     "text": [
      "100%|██████████| 200/200 [00:00<00:00, 1195.94it/s]\n",
      "100%|██████████| 200/200 [00:00<00:00, 2066.46it/s]\n"
     ]
    },
    {
     "name": "stdout",
     "output_type": "stream",
     "text": [
      "Epoch 4:\n"
     ]
    },
    {
     "name": "stderr",
     "output_type": "stream",
     "text": [
      "100%|██████████| 200/200 [00:00<00:00, 1198.17it/s]\n",
      "100%|██████████| 200/200 [00:00<00:00, 2074.09it/s]\n"
     ]
    },
    {
     "name": "stdout",
     "output_type": "stream",
     "text": [
      "Epoch 5:\n"
     ]
    },
    {
     "name": "stderr",
     "output_type": "stream",
     "text": [
      "100%|██████████| 200/200 [00:00<00:00, 1191.33it/s]\n",
      "100%|██████████| 200/200 [00:00<00:00, 2078.60it/s]\n"
     ]
    },
    {
     "name": "stdout",
     "output_type": "stream",
     "text": [
      "Epoch 6:\n"
     ]
    },
    {
     "name": "stderr",
     "output_type": "stream",
     "text": [
      "100%|██████████| 200/200 [00:00<00:00, 1200.21it/s]\n",
      "100%|██████████| 200/200 [00:00<00:00, 2073.59it/s]\n"
     ]
    },
    {
     "name": "stdout",
     "output_type": "stream",
     "text": [
      "Epoch 7:\n"
     ]
    },
    {
     "name": "stderr",
     "output_type": "stream",
     "text": [
      "100%|██████████| 200/200 [00:00<00:00, 1198.20it/s]\n",
      "100%|██████████| 200/200 [00:00<00:00, 2062.66it/s]\n"
     ]
    },
    {
     "name": "stdout",
     "output_type": "stream",
     "text": [
      "Epoch 8:\n"
     ]
    },
    {
     "name": "stderr",
     "output_type": "stream",
     "text": [
      "100%|██████████| 200/200 [00:00<00:00, 1198.30it/s]\n",
      "100%|██████████| 200/200 [00:00<00:00, 2072.37it/s]\n"
     ]
    },
    {
     "name": "stdout",
     "output_type": "stream",
     "text": [
      "Epoch 9:\n"
     ]
    },
    {
     "name": "stderr",
     "output_type": "stream",
     "text": [
      "100%|██████████| 200/200 [00:00<00:00, 1201.79it/s]\n",
      "100%|██████████| 200/200 [00:00<00:00, 2074.80it/s]\n"
     ]
    },
    {
     "name": "stdout",
     "output_type": "stream",
     "text": [
      "Epoch 10:\n"
     ]
    },
    {
     "name": "stderr",
     "output_type": "stream",
     "text": [
      "100%|██████████| 200/200 [00:00<00:00, 1201.19it/s]\n",
      "100%|██████████| 200/200 [00:00<00:00, 2074.47it/s]\n"
     ]
    },
    {
     "name": "stdout",
     "output_type": "stream",
     "text": [
      "Epoch 11:\n"
     ]
    },
    {
     "name": "stderr",
     "output_type": "stream",
     "text": [
      "100%|██████████| 200/200 [00:00<00:00, 1204.99it/s]\n",
      "100%|██████████| 200/200 [00:00<00:00, 2082.47it/s]\n"
     ]
    },
    {
     "name": "stdout",
     "output_type": "stream",
     "text": [
      "Epoch 12:\n"
     ]
    },
    {
     "name": "stderr",
     "output_type": "stream",
     "text": [
      "100%|██████████| 200/200 [00:00<00:00, 1194.90it/s]\n",
      "100%|██████████| 200/200 [00:00<00:00, 2073.09it/s]\n"
     ]
    },
    {
     "name": "stdout",
     "output_type": "stream",
     "text": [
      "Epoch 13:\n"
     ]
    },
    {
     "name": "stderr",
     "output_type": "stream",
     "text": [
      "100%|██████████| 200/200 [00:00<00:00, 1206.13it/s]\n",
      "100%|██████████| 200/200 [00:00<00:00, 2073.08it/s]\n"
     ]
    },
    {
     "name": "stdout",
     "output_type": "stream",
     "text": [
      "Epoch 14:\n"
     ]
    },
    {
     "name": "stderr",
     "output_type": "stream",
     "text": [
      "100%|██████████| 200/200 [00:00<00:00, 1191.76it/s]\n",
      "100%|██████████| 200/200 [00:00<00:00, 2057.72it/s]\n"
     ]
    },
    {
     "name": "stdout",
     "output_type": "stream",
     "text": [
      "Epoch 15:\n"
     ]
    },
    {
     "name": "stderr",
     "output_type": "stream",
     "text": [
      "100%|██████████| 200/200 [00:00<00:00, 1193.82it/s]\n",
      "100%|██████████| 200/200 [00:00<00:00, 2070.78it/s]\n"
     ]
    },
    {
     "name": "stdout",
     "output_type": "stream",
     "text": [
      "Epoch 16:\n"
     ]
    },
    {
     "name": "stderr",
     "output_type": "stream",
     "text": [
      "100%|██████████| 200/200 [00:00<00:00, 1192.73it/s]\n",
      "100%|██████████| 200/200 [00:00<00:00, 2063.92it/s]\n"
     ]
    },
    {
     "name": "stdout",
     "output_type": "stream",
     "text": [
      "Epoch 17:\n"
     ]
    },
    {
     "name": "stderr",
     "output_type": "stream",
     "text": [
      "100%|██████████| 200/200 [00:00<00:00, 1199.80it/s]\n",
      "100%|██████████| 200/200 [00:00<00:00, 2078.60it/s]\n"
     ]
    },
    {
     "name": "stdout",
     "output_type": "stream",
     "text": [
      "Epoch 18:\n"
     ]
    },
    {
     "name": "stderr",
     "output_type": "stream",
     "text": [
      "100%|██████████| 200/200 [00:00<00:00, 1195.32it/s]\n",
      "100%|██████████| 200/200 [00:00<00:00, 2064.67it/s]\n"
     ]
    },
    {
     "name": "stdout",
     "output_type": "stream",
     "text": [
      "Epoch 19:\n"
     ]
    },
    {
     "name": "stderr",
     "output_type": "stream",
     "text": [
      "100%|██████████| 200/200 [00:00<00:00, 1206.29it/s]\n",
      "100%|██████████| 200/200 [00:00<00:00, 2063.70it/s]\n"
     ]
    },
    {
     "name": "stdout",
     "output_type": "stream",
     "text": [
      "Epoch 20:\n"
     ]
    },
    {
     "name": "stderr",
     "output_type": "stream",
     "text": [
      "100%|██████████| 200/200 [00:00<00:00, 1193.00it/s]\n",
      "100%|██████████| 200/200 [00:00<00:00, 2055.48it/s]\n"
     ]
    },
    {
     "name": "stdout",
     "output_type": "stream",
     "text": [
      "Epoch 21:\n"
     ]
    },
    {
     "name": "stderr",
     "output_type": "stream",
     "text": [
      "100%|██████████| 200/200 [00:00<00:00, 1202.62it/s]\n",
      "100%|██████████| 200/200 [00:00<00:00, 2067.73it/s]\n"
     ]
    },
    {
     "name": "stdout",
     "output_type": "stream",
     "text": [
      "Epoch 22:\n"
     ]
    },
    {
     "name": "stderr",
     "output_type": "stream",
     "text": [
      "100%|██████████| 200/200 [00:00<00:00, 1194.27it/s]\n",
      "100%|██████████| 200/200 [00:00<00:00, 2063.81it/s]\n"
     ]
    },
    {
     "name": "stdout",
     "output_type": "stream",
     "text": [
      "Epoch 23:\n"
     ]
    },
    {
     "name": "stderr",
     "output_type": "stream",
     "text": [
      "100%|██████████| 200/200 [00:00<00:00, 1185.52it/s]\n",
      "100%|██████████| 200/200 [00:00<00:00, 2062.90it/s]\n"
     ]
    },
    {
     "name": "stdout",
     "output_type": "stream",
     "text": [
      "Epoch 24:\n"
     ]
    },
    {
     "name": "stderr",
     "output_type": "stream",
     "text": [
      "100%|██████████| 200/200 [00:00<00:00, 1186.52it/s]\n",
      "100%|██████████| 200/200 [00:00<00:00, 2071.06it/s]\n"
     ]
    },
    {
     "name": "stdout",
     "output_type": "stream",
     "text": [
      "Epoch 25:\n"
     ]
    },
    {
     "name": "stderr",
     "output_type": "stream",
     "text": [
      "100%|██████████| 200/200 [00:00<00:00, 1180.43it/s]\n",
      "100%|██████████| 200/200 [00:00<00:00, 2078.45it/s]\n"
     ]
    },
    {
     "name": "stdout",
     "output_type": "stream",
     "text": [
      "Epoch 26:\n"
     ]
    },
    {
     "name": "stderr",
     "output_type": "stream",
     "text": [
      "100%|██████████| 200/200 [00:00<00:00, 1190.37it/s]\n",
      "100%|██████████| 200/200 [00:00<00:00, 2075.04it/s]\n"
     ]
    },
    {
     "name": "stdout",
     "output_type": "stream",
     "text": [
      "Epoch 27:\n"
     ]
    },
    {
     "name": "stderr",
     "output_type": "stream",
     "text": [
      "100%|██████████| 200/200 [00:00<00:00, 1180.60it/s]\n",
      "100%|██████████| 200/200 [00:00<00:00, 2090.13it/s]\n"
     ]
    },
    {
     "name": "stdout",
     "output_type": "stream",
     "text": [
      "Epoch 28:\n"
     ]
    },
    {
     "name": "stderr",
     "output_type": "stream",
     "text": [
      "100%|██████████| 200/200 [00:00<00:00, 1176.59it/s]\n",
      "100%|██████████| 200/200 [00:00<00:00, 2087.35it/s]\n"
     ]
    },
    {
     "name": "stdout",
     "output_type": "stream",
     "text": [
      "Epoch 29:\n"
     ]
    },
    {
     "name": "stderr",
     "output_type": "stream",
     "text": [
      "100%|██████████| 200/200 [00:00<00:00, 1181.15it/s]\n",
      "100%|██████████| 200/200 [00:00<00:00, 2098.53it/s]\n"
     ]
    },
    {
     "name": "stdout",
     "output_type": "stream",
     "text": [
      "Epoch 30:\n"
     ]
    },
    {
     "name": "stderr",
     "output_type": "stream",
     "text": [
      "100%|██████████| 200/200 [00:00<00:00, 1181.22it/s]\n",
      "100%|██████████| 200/200 [00:00<00:00, 2081.88it/s]\n"
     ]
    },
    {
     "name": "stdout",
     "output_type": "stream",
     "text": [
      "Best validation accuracy at epoch 30\n"
     ]
    },
    {
     "name": "stderr",
     "output_type": "stream",
     "text": [
      "100%|██████████| 100/100 [00:00<00:00, 2056.10it/s]\n"
     ]
    },
    {
     "name": "stdout",
     "output_type": "stream",
     "text": [
      "{'name': 'random'}\n",
      "{\n",
      "    \"accuracy\": 0.9271875,\n",
      "    \"aupr\": 0.924323583151764,\n",
      "    \"auroc\": 0.49052777982702434,\n",
      "    \"avg_crr_conf\": 0.46042015791870655,\n",
      "    \"avg_err_conf\": 0.03683968911878765,\n",
      "    \"capacity\": 0.9242760552236057,\n",
      "    \"kendall_tau\": 0.5094722201729757,\n",
      "    \"n_correct\": 5934,\n",
      "    \"n_errors\": 466,\n",
      "    \"n_published\": 6400,\n",
      "    \"validation_loss\": 0.17660009756684303\n",
      "}\n"
     ]
    },
    {
     "name": "stderr",
     "output_type": "stream",
     "text": [
      "100%|██████████| 100/100 [00:00<00:00, 1997.08it/s]\n"
     ]
    },
    {
     "name": "stdout",
     "output_type": "stream",
     "text": [
      "{'name': 'max_prob'}\n",
      "{\n",
      "    \"accuracy\": 0.9271875,\n",
      "    \"aupr\": 0.9927314471291375,\n",
      "    \"auroc\": 0.9167234428498896,\n",
      "    \"avg_crr_conf\": 0.8530296802986413,\n",
      "    \"avg_err_conf\": 0.0496390794031322,\n",
      "    \"capacity\": 0.9904306953514824,\n",
      "    \"kendall_tau\": 0.08327655715011044,\n",
      "    \"n_correct\": 5934,\n",
      "    \"n_errors\": 466,\n",
      "    \"n_published\": 6400,\n",
      "    \"validation_loss\": 0.17660009756684303\n",
      "}\n"
     ]
    },
    {
     "name": "stderr",
     "output_type": "stream",
     "text": [
      "100%|██████████| 100/100 [00:00<00:00, 318.64it/s]\n"
     ]
    },
    {
     "name": "stdout",
     "output_type": "stream",
     "text": [
      "{'name': 'mcd', 'aggregator': 'mean', 'n_forward_passes': 10}\n",
      "{\n",
      "    \"accuracy\": 0.9271875,\n",
      "    \"aupr\": 0.9902412376290998,\n",
      "    \"auroc\": 0.8882984648009362,\n",
      "    \"avg_crr_conf\": 0.7896328937727958,\n",
      "    \"avg_err_conf\": 0.046632816614583135,\n",
      "    \"capacity\": 0.9880896589909257,\n",
      "    \"kendall_tau\": 0.11170153519906381,\n",
      "    \"n_correct\": 5934,\n",
      "    \"n_errors\": 466,\n",
      "    \"n_published\": 6400,\n",
      "    \"validation_loss\": 0.17660009756684303\n",
      "}\n",
      "Training with config:\n",
      "{'task': {'name': 'nrmls', 'noise_dim': 50, 'n_train_batches': 200, 'n_validation_batches': 200, 'n_test_batches': 100}, 'network': {'architecture': 'feedforward', 'input_size': 52, 'hidden_sizes': [128, 64], 'output_size': 2, 'loss': {'name': 'ce'}}, 'confidences': [{'name': 'random'}, {'name': 'max_prob'}, {'name': 'mcd', 'aggregator': 'mean', 'n_forward_passes': 10}], 'optimizer': {'name': 'sgd', 'lr': 0.003, 'momentum': 0.9}, 'bsz': 64, 'n_epochs': 30}\n",
      "Epoch 1:\n"
     ]
    },
    {
     "name": "stderr",
     "output_type": "stream",
     "text": [
      "100%|██████████| 200/200 [00:00<00:00, 1198.61it/s]\n",
      "100%|██████████| 200/200 [00:00<00:00, 2069.00it/s]\n"
     ]
    },
    {
     "name": "stdout",
     "output_type": "stream",
     "text": [
      "Epoch 2:\n"
     ]
    },
    {
     "name": "stderr",
     "output_type": "stream",
     "text": [
      "100%|██████████| 200/200 [00:00<00:00, 1198.17it/s]\n",
      "100%|██████████| 200/200 [00:00<00:00, 2071.37it/s]\n"
     ]
    },
    {
     "name": "stdout",
     "output_type": "stream",
     "text": [
      "Epoch 3:\n"
     ]
    },
    {
     "name": "stderr",
     "output_type": "stream",
     "text": [
      "100%|██████████| 200/200 [00:00<00:00, 1192.69it/s]\n",
      "100%|██████████| 200/200 [00:00<00:00, 2082.25it/s]\n"
     ]
    },
    {
     "name": "stdout",
     "output_type": "stream",
     "text": [
      "Epoch 4:\n"
     ]
    },
    {
     "name": "stderr",
     "output_type": "stream",
     "text": [
      "100%|██████████| 200/200 [00:00<00:00, 1191.92it/s]\n",
      "100%|██████████| 200/200 [00:00<00:00, 2063.71it/s]\n"
     ]
    },
    {
     "name": "stdout",
     "output_type": "stream",
     "text": [
      "Epoch 5:\n"
     ]
    },
    {
     "name": "stderr",
     "output_type": "stream",
     "text": [
      "100%|██████████| 200/200 [00:00<00:00, 1193.67it/s]\n",
      "100%|██████████| 200/200 [00:00<00:00, 2060.64it/s]\n"
     ]
    },
    {
     "name": "stdout",
     "output_type": "stream",
     "text": [
      "Epoch 6:\n"
     ]
    },
    {
     "name": "stderr",
     "output_type": "stream",
     "text": [
      "100%|██████████| 200/200 [00:00<00:00, 1175.87it/s]\n",
      "100%|██████████| 200/200 [00:00<00:00, 2065.80it/s]\n"
     ]
    },
    {
     "name": "stdout",
     "output_type": "stream",
     "text": [
      "Epoch 7:\n"
     ]
    },
    {
     "name": "stderr",
     "output_type": "stream",
     "text": [
      "100%|██████████| 200/200 [00:00<00:00, 1186.99it/s]\n",
      "100%|██████████| 200/200 [00:00<00:00, 2070.31it/s]\n"
     ]
    },
    {
     "name": "stdout",
     "output_type": "stream",
     "text": [
      "Epoch 8:\n"
     ]
    },
    {
     "name": "stderr",
     "output_type": "stream",
     "text": [
      "100%|██████████| 200/200 [00:00<00:00, 1200.15it/s]\n",
      "100%|██████████| 200/200 [00:00<00:00, 2064.62it/s]\n"
     ]
    },
    {
     "name": "stdout",
     "output_type": "stream",
     "text": [
      "Epoch 9:\n"
     ]
    },
    {
     "name": "stderr",
     "output_type": "stream",
     "text": [
      "100%|██████████| 200/200 [00:00<00:00, 1193.07it/s]\n",
      "100%|██████████| 200/200 [00:00<00:00, 2069.96it/s]\n"
     ]
    },
    {
     "name": "stdout",
     "output_type": "stream",
     "text": [
      "Epoch 10:\n"
     ]
    },
    {
     "name": "stderr",
     "output_type": "stream",
     "text": [
      "100%|██████████| 200/200 [00:00<00:00, 1194.42it/s]\n",
      "100%|██████████| 200/200 [00:00<00:00, 2073.64it/s]\n"
     ]
    },
    {
     "name": "stdout",
     "output_type": "stream",
     "text": [
      "Epoch 11:\n"
     ]
    },
    {
     "name": "stderr",
     "output_type": "stream",
     "text": [
      "100%|██████████| 200/200 [00:00<00:00, 1199.93it/s]\n",
      "100%|██████████| 200/200 [00:00<00:00, 2075.68it/s]\n"
     ]
    },
    {
     "name": "stdout",
     "output_type": "stream",
     "text": [
      "Epoch 12:\n"
     ]
    },
    {
     "name": "stderr",
     "output_type": "stream",
     "text": [
      "100%|██████████| 200/200 [00:00<00:00, 1197.16it/s]\n",
      "100%|██████████| 200/200 [00:00<00:00, 2082.04it/s]\n"
     ]
    },
    {
     "name": "stdout",
     "output_type": "stream",
     "text": [
      "Epoch 13:\n"
     ]
    },
    {
     "name": "stderr",
     "output_type": "stream",
     "text": [
      "100%|██████████| 200/200 [00:00<00:00, 1202.55it/s]\n",
      "100%|██████████| 200/200 [00:00<00:00, 2062.26it/s]\n"
     ]
    },
    {
     "name": "stdout",
     "output_type": "stream",
     "text": [
      "Epoch 14:\n"
     ]
    },
    {
     "name": "stderr",
     "output_type": "stream",
     "text": [
      "100%|██████████| 200/200 [00:00<00:00, 1192.95it/s]\n",
      "100%|██████████| 200/200 [00:00<00:00, 2073.22it/s]\n"
     ]
    },
    {
     "name": "stdout",
     "output_type": "stream",
     "text": [
      "Epoch 15:\n"
     ]
    },
    {
     "name": "stderr",
     "output_type": "stream",
     "text": [
      "100%|██████████| 200/200 [00:00<00:00, 1202.78it/s]\n",
      "100%|██████████| 200/200 [00:00<00:00, 2061.15it/s]\n"
     ]
    },
    {
     "name": "stdout",
     "output_type": "stream",
     "text": [
      "Epoch 16:\n"
     ]
    },
    {
     "name": "stderr",
     "output_type": "stream",
     "text": [
      "100%|██████████| 200/200 [00:00<00:00, 1203.59it/s]\n",
      "100%|██████████| 200/200 [00:00<00:00, 2065.74it/s]\n"
     ]
    },
    {
     "name": "stdout",
     "output_type": "stream",
     "text": [
      "Epoch 17:\n"
     ]
    },
    {
     "name": "stderr",
     "output_type": "stream",
     "text": [
      "100%|██████████| 200/200 [00:00<00:00, 1204.39it/s]\n",
      "100%|██████████| 200/200 [00:00<00:00, 2076.37it/s]\n"
     ]
    },
    {
     "name": "stdout",
     "output_type": "stream",
     "text": [
      "Epoch 18:\n"
     ]
    },
    {
     "name": "stderr",
     "output_type": "stream",
     "text": [
      "100%|██████████| 200/200 [00:00<00:00, 1195.63it/s]\n",
      "100%|██████████| 200/200 [00:00<00:00, 2070.33it/s]\n"
     ]
    },
    {
     "name": "stdout",
     "output_type": "stream",
     "text": [
      "Epoch 19:\n"
     ]
    },
    {
     "name": "stderr",
     "output_type": "stream",
     "text": [
      "100%|██████████| 200/200 [00:00<00:00, 1198.50it/s]\n",
      "100%|██████████| 200/200 [00:00<00:00, 2065.15it/s]\n"
     ]
    },
    {
     "name": "stdout",
     "output_type": "stream",
     "text": [
      "Epoch 20:\n"
     ]
    },
    {
     "name": "stderr",
     "output_type": "stream",
     "text": [
      "100%|██████████| 200/200 [00:00<00:00, 1190.16it/s]\n",
      "100%|██████████| 200/200 [00:00<00:00, 2087.08it/s]\n"
     ]
    },
    {
     "name": "stdout",
     "output_type": "stream",
     "text": [
      "Epoch 21:\n"
     ]
    },
    {
     "name": "stderr",
     "output_type": "stream",
     "text": [
      "100%|██████████| 200/200 [00:00<00:00, 1195.39it/s]\n",
      "100%|██████████| 200/200 [00:00<00:00, 2070.51it/s]\n"
     ]
    },
    {
     "name": "stdout",
     "output_type": "stream",
     "text": [
      "Epoch 22:\n"
     ]
    },
    {
     "name": "stderr",
     "output_type": "stream",
     "text": [
      "100%|██████████| 200/200 [00:00<00:00, 1200.71it/s]\n",
      "100%|██████████| 200/200 [00:00<00:00, 2065.37it/s]\n"
     ]
    },
    {
     "name": "stdout",
     "output_type": "stream",
     "text": [
      "Epoch 23:\n"
     ]
    },
    {
     "name": "stderr",
     "output_type": "stream",
     "text": [
      "100%|██████████| 200/200 [00:00<00:00, 1198.48it/s]\n",
      "100%|██████████| 200/200 [00:00<00:00, 2068.38it/s]\n"
     ]
    },
    {
     "name": "stdout",
     "output_type": "stream",
     "text": [
      "Epoch 24:\n"
     ]
    },
    {
     "name": "stderr",
     "output_type": "stream",
     "text": [
      "100%|██████████| 200/200 [00:00<00:00, 1201.57it/s]\n",
      "100%|██████████| 200/200 [00:00<00:00, 2069.56it/s]\n"
     ]
    },
    {
     "name": "stdout",
     "output_type": "stream",
     "text": [
      "Epoch 25:\n"
     ]
    },
    {
     "name": "stderr",
     "output_type": "stream",
     "text": [
      "100%|██████████| 200/200 [00:00<00:00, 1199.39it/s]\n",
      "100%|██████████| 200/200 [00:00<00:00, 2067.72it/s]\n"
     ]
    },
    {
     "name": "stdout",
     "output_type": "stream",
     "text": [
      "Epoch 26:\n"
     ]
    },
    {
     "name": "stderr",
     "output_type": "stream",
     "text": [
      "100%|██████████| 200/200 [00:00<00:00, 1193.57it/s]\n",
      "100%|██████████| 200/200 [00:00<00:00, 2063.60it/s]\n"
     ]
    },
    {
     "name": "stdout",
     "output_type": "stream",
     "text": [
      "Epoch 27:\n"
     ]
    },
    {
     "name": "stderr",
     "output_type": "stream",
     "text": [
      "100%|██████████| 200/200 [00:00<00:00, 1198.56it/s]\n",
      "100%|██████████| 200/200 [00:00<00:00, 2070.57it/s]\n"
     ]
    },
    {
     "name": "stdout",
     "output_type": "stream",
     "text": [
      "Epoch 28:\n"
     ]
    },
    {
     "name": "stderr",
     "output_type": "stream",
     "text": [
      "100%|██████████| 200/200 [00:00<00:00, 1196.26it/s]\n",
      "100%|██████████| 200/200 [00:00<00:00, 2069.37it/s]\n"
     ]
    },
    {
     "name": "stdout",
     "output_type": "stream",
     "text": [
      "Epoch 29:\n"
     ]
    },
    {
     "name": "stderr",
     "output_type": "stream",
     "text": [
      "100%|██████████| 200/200 [00:00<00:00, 1185.19it/s]\n",
      "100%|██████████| 200/200 [00:00<00:00, 2089.29it/s]\n"
     ]
    },
    {
     "name": "stdout",
     "output_type": "stream",
     "text": [
      "Epoch 30:\n"
     ]
    },
    {
     "name": "stderr",
     "output_type": "stream",
     "text": [
      "100%|██████████| 200/200 [00:00<00:00, 1188.88it/s]\n",
      "100%|██████████| 200/200 [00:00<00:00, 2079.35it/s]\n"
     ]
    },
    {
     "name": "stdout",
     "output_type": "stream",
     "text": [
      "Best validation accuracy at epoch 30\n"
     ]
    },
    {
     "name": "stderr",
     "output_type": "stream",
     "text": [
      "100%|██████████| 100/100 [00:00<00:00, 2046.62it/s]\n"
     ]
    },
    {
     "name": "stdout",
     "output_type": "stream",
     "text": [
      "{'name': 'random'}\n",
      "{\n",
      "    \"accuracy\": 0.9075,\n",
      "    \"aupr\": 0.9059518866030509,\n",
      "    \"auroc\": 0.4796925024197751,\n",
      "    \"avg_crr_conf\": 0.45584579575806855,\n",
      "    \"avg_err_conf\": 0.04833447908982635,\n",
      "    \"capacity\": 0.9058710139427975,\n",
      "    \"kendall_tau\": 0.5203074975802249,\n",
      "    \"n_correct\": 5808,\n",
      "    \"n_errors\": 592,\n",
      "    \"n_published\": 6400,\n",
      "    \"validation_loss\": 0.3143305003643036\n",
      "}\n"
     ]
    },
    {
     "name": "stderr",
     "output_type": "stream",
     "text": [
      "100%|██████████| 100/100 [00:00<00:00, 1984.61it/s]\n"
     ]
    },
    {
     "name": "stdout",
     "output_type": "stream",
     "text": [
      "{'name': 'max_prob'}\n",
      "{\n",
      "    \"accuracy\": 0.9075,\n",
      "    \"aupr\": 0.985861614250759,\n",
      "    \"auroc\": 0.879454189468394,\n",
      "    \"avg_crr_conf\": 0.7178735096473247,\n",
      "    \"avg_err_conf\": 0.05645420596934855,\n",
      "    \"capacity\": 0.9825044665229495,\n",
      "    \"kendall_tau\": 0.12054581053160598,\n",
      "    \"n_correct\": 5808,\n",
      "    \"n_errors\": 592,\n",
      "    \"n_published\": 6400,\n",
      "    \"validation_loss\": 0.3143305003643036\n",
      "}\n"
     ]
    },
    {
     "name": "stderr",
     "output_type": "stream",
     "text": [
      "100%|██████████| 100/100 [00:00<00:00, 317.03it/s]\n"
     ]
    },
    {
     "name": "stdout",
     "output_type": "stream",
     "text": [
      "{'name': 'mcd', 'aggregator': 'mean', 'n_forward_passes': 10}\n",
      "{\n",
      "    \"accuracy\": 0.9075,\n",
      "    \"aupr\": 0.9794840250546356,\n",
      "    \"auroc\": 0.8294899044188817,\n",
      "    \"avg_crr_conf\": 0.6540135120786726,\n",
      "    \"avg_err_conf\": 0.053880180148407814,\n",
      "    \"capacity\": 0.9764823302911728,\n",
      "    \"kendall_tau\": 0.17051009558111832,\n",
      "    \"n_correct\": 5808,\n",
      "    \"n_errors\": 592,\n",
      "    \"n_published\": 6400,\n",
      "    \"validation_loss\": 0.3143305003643036\n",
      "}\n",
      "Training with config:\n",
      "{'task': {'name': 'nrmls', 'noise_dim': 50, 'n_train_batches': 200, 'n_validation_batches': 200, 'n_test_batches': 100}, 'network': {'architecture': 'feedforward', 'input_size': 52, 'hidden_sizes': [128, 64], 'output_size': 2, 'loss': {'name': 'ce'}}, 'confidences': [{'name': 'random'}, {'name': 'max_prob'}, {'name': 'mcd', 'aggregator': 'mean', 'n_forward_passes': 10}], 'optimizer': {'name': 'sgd', 'lr': 0.003, 'momentum': 0.9}, 'bsz': 64, 'n_epochs': 30}\n",
      "Epoch 1:\n"
     ]
    },
    {
     "name": "stderr",
     "output_type": "stream",
     "text": [
      "100%|██████████| 200/200 [00:00<00:00, 1204.68it/s]\n",
      "100%|██████████| 200/200 [00:00<00:00, 2065.65it/s]\n"
     ]
    },
    {
     "name": "stdout",
     "output_type": "stream",
     "text": [
      "Epoch 2:\n"
     ]
    },
    {
     "name": "stderr",
     "output_type": "stream",
     "text": [
      "100%|██████████| 200/200 [00:00<00:00, 1197.30it/s]\n",
      "100%|██████████| 200/200 [00:00<00:00, 2062.28it/s]\n"
     ]
    },
    {
     "name": "stdout",
     "output_type": "stream",
     "text": [
      "Epoch 3:\n"
     ]
    },
    {
     "name": "stderr",
     "output_type": "stream",
     "text": [
      "100%|██████████| 200/200 [00:00<00:00, 1199.11it/s]\n",
      "100%|██████████| 200/200 [00:00<00:00, 2069.77it/s]\n"
     ]
    },
    {
     "name": "stdout",
     "output_type": "stream",
     "text": [
      "Epoch 4:\n"
     ]
    },
    {
     "name": "stderr",
     "output_type": "stream",
     "text": [
      "100%|██████████| 200/200 [00:00<00:00, 1195.64it/s]\n",
      "100%|██████████| 200/200 [00:00<00:00, 2064.77it/s]\n"
     ]
    },
    {
     "name": "stdout",
     "output_type": "stream",
     "text": [
      "Epoch 5:\n"
     ]
    },
    {
     "name": "stderr",
     "output_type": "stream",
     "text": [
      "100%|██████████| 200/200 [00:00<00:00, 1204.72it/s]\n",
      "100%|██████████| 200/200 [00:00<00:00, 2067.50it/s]\n"
     ]
    },
    {
     "name": "stdout",
     "output_type": "stream",
     "text": [
      "Epoch 6:\n"
     ]
    },
    {
     "name": "stderr",
     "output_type": "stream",
     "text": [
      "100%|██████████| 200/200 [00:00<00:00, 1198.13it/s]\n",
      "100%|██████████| 200/200 [00:00<00:00, 1372.54it/s]\n"
     ]
    },
    {
     "name": "stdout",
     "output_type": "stream",
     "text": [
      "Epoch 7:\n"
     ]
    },
    {
     "name": "stderr",
     "output_type": "stream",
     "text": [
      "100%|██████████| 200/200 [00:00<00:00, 1193.47it/s]\n",
      "100%|██████████| 200/200 [00:00<00:00, 2060.73it/s]\n"
     ]
    },
    {
     "name": "stdout",
     "output_type": "stream",
     "text": [
      "Epoch 8:\n"
     ]
    },
    {
     "name": "stderr",
     "output_type": "stream",
     "text": [
      "100%|██████████| 200/200 [00:00<00:00, 1200.88it/s]\n",
      "100%|██████████| 200/200 [00:00<00:00, 2070.22it/s]\n"
     ]
    },
    {
     "name": "stdout",
     "output_type": "stream",
     "text": [
      "Epoch 9:\n"
     ]
    },
    {
     "name": "stderr",
     "output_type": "stream",
     "text": [
      "100%|██████████| 200/200 [00:00<00:00, 1195.32it/s]\n",
      "100%|██████████| 200/200 [00:00<00:00, 2054.82it/s]\n"
     ]
    },
    {
     "name": "stdout",
     "output_type": "stream",
     "text": [
      "Epoch 10:\n"
     ]
    },
    {
     "name": "stderr",
     "output_type": "stream",
     "text": [
      "100%|██████████| 200/200 [00:00<00:00, 1197.07it/s]\n",
      "100%|██████████| 200/200 [00:00<00:00, 2065.49it/s]\n"
     ]
    },
    {
     "name": "stdout",
     "output_type": "stream",
     "text": [
      "Epoch 11:\n"
     ]
    },
    {
     "name": "stderr",
     "output_type": "stream",
     "text": [
      "100%|██████████| 200/200 [00:00<00:00, 1199.81it/s]\n",
      "100%|██████████| 200/200 [00:00<00:00, 1972.18it/s]\n"
     ]
    },
    {
     "name": "stdout",
     "output_type": "stream",
     "text": [
      "Epoch 12:\n"
     ]
    },
    {
     "name": "stderr",
     "output_type": "stream",
     "text": [
      "100%|██████████| 200/200 [00:00<00:00, 1182.11it/s]\n",
      "100%|██████████| 200/200 [00:00<00:00, 2067.12it/s]\n"
     ]
    },
    {
     "name": "stdout",
     "output_type": "stream",
     "text": [
      "Epoch 13:\n"
     ]
    },
    {
     "name": "stderr",
     "output_type": "stream",
     "text": [
      "100%|██████████| 200/200 [00:00<00:00, 1198.63it/s]\n",
      "100%|██████████| 200/200 [00:00<00:00, 2059.52it/s]\n"
     ]
    },
    {
     "name": "stdout",
     "output_type": "stream",
     "text": [
      "Epoch 14:\n"
     ]
    },
    {
     "name": "stderr",
     "output_type": "stream",
     "text": [
      "100%|██████████| 200/200 [00:00<00:00, 1195.76it/s]\n",
      "100%|██████████| 200/200 [00:00<00:00, 2055.92it/s]\n"
     ]
    },
    {
     "name": "stdout",
     "output_type": "stream",
     "text": [
      "Epoch 15:\n"
     ]
    },
    {
     "name": "stderr",
     "output_type": "stream",
     "text": [
      "100%|██████████| 200/200 [00:00<00:00, 1202.16it/s]\n",
      "100%|██████████| 200/200 [00:00<00:00, 2065.48it/s]\n"
     ]
    },
    {
     "name": "stdout",
     "output_type": "stream",
     "text": [
      "Epoch 16:\n"
     ]
    },
    {
     "name": "stderr",
     "output_type": "stream",
     "text": [
      "100%|██████████| 200/200 [00:00<00:00, 1198.17it/s]\n",
      "100%|██████████| 200/200 [00:00<00:00, 2061.37it/s]\n"
     ]
    },
    {
     "name": "stdout",
     "output_type": "stream",
     "text": [
      "Epoch 17:\n"
     ]
    },
    {
     "name": "stderr",
     "output_type": "stream",
     "text": [
      "100%|██████████| 200/200 [00:00<00:00, 1198.41it/s]\n",
      "100%|██████████| 200/200 [00:00<00:00, 2072.39it/s]\n"
     ]
    },
    {
     "name": "stdout",
     "output_type": "stream",
     "text": [
      "Epoch 18:\n"
     ]
    },
    {
     "name": "stderr",
     "output_type": "stream",
     "text": [
      "100%|██████████| 200/200 [00:00<00:00, 1156.24it/s]\n",
      "100%|██████████| 200/200 [00:00<00:00, 2055.67it/s]\n"
     ]
    },
    {
     "name": "stdout",
     "output_type": "stream",
     "text": [
      "Epoch 19:\n"
     ]
    },
    {
     "name": "stderr",
     "output_type": "stream",
     "text": [
      "100%|██████████| 200/200 [00:00<00:00, 1195.73it/s]\n",
      "100%|██████████| 200/200 [00:00<00:00, 2071.27it/s]\n"
     ]
    },
    {
     "name": "stdout",
     "output_type": "stream",
     "text": [
      "Epoch 20:\n"
     ]
    },
    {
     "name": "stderr",
     "output_type": "stream",
     "text": [
      "100%|██████████| 200/200 [00:00<00:00, 1198.72it/s]\n",
      "100%|██████████| 200/200 [00:00<00:00, 2062.64it/s]\n"
     ]
    },
    {
     "name": "stdout",
     "output_type": "stream",
     "text": [
      "Epoch 21:\n"
     ]
    },
    {
     "name": "stderr",
     "output_type": "stream",
     "text": [
      "100%|██████████| 200/200 [00:00<00:00, 1203.61it/s]\n",
      "100%|██████████| 200/200 [00:00<00:00, 2065.07it/s]\n"
     ]
    },
    {
     "name": "stdout",
     "output_type": "stream",
     "text": [
      "Epoch 22:\n"
     ]
    },
    {
     "name": "stderr",
     "output_type": "stream",
     "text": [
      "100%|██████████| 200/200 [00:00<00:00, 1195.79it/s]\n",
      "100%|██████████| 200/200 [00:00<00:00, 2076.99it/s]\n"
     ]
    },
    {
     "name": "stdout",
     "output_type": "stream",
     "text": [
      "Epoch 23:\n"
     ]
    },
    {
     "name": "stderr",
     "output_type": "stream",
     "text": [
      "100%|██████████| 200/200 [00:00<00:00, 1198.16it/s]\n",
      "100%|██████████| 200/200 [00:00<00:00, 2067.50it/s]\n"
     ]
    },
    {
     "name": "stdout",
     "output_type": "stream",
     "text": [
      "Epoch 24:\n"
     ]
    },
    {
     "name": "stderr",
     "output_type": "stream",
     "text": [
      "100%|██████████| 200/200 [00:00<00:00, 1205.94it/s]\n",
      "100%|██████████| 200/200 [00:00<00:00, 2064.92it/s]\n"
     ]
    },
    {
     "name": "stdout",
     "output_type": "stream",
     "text": [
      "Epoch 25:\n"
     ]
    },
    {
     "name": "stderr",
     "output_type": "stream",
     "text": [
      "100%|██████████| 200/200 [00:00<00:00, 1184.58it/s]\n",
      "100%|██████████| 200/200 [00:00<00:00, 2077.39it/s]\n"
     ]
    },
    {
     "name": "stdout",
     "output_type": "stream",
     "text": [
      "Epoch 26:\n"
     ]
    },
    {
     "name": "stderr",
     "output_type": "stream",
     "text": [
      "100%|██████████| 200/200 [00:00<00:00, 1175.01it/s]\n",
      "100%|██████████| 200/200 [00:00<00:00, 2069.21it/s]\n"
     ]
    },
    {
     "name": "stdout",
     "output_type": "stream",
     "text": [
      "Epoch 27:\n"
     ]
    },
    {
     "name": "stderr",
     "output_type": "stream",
     "text": [
      "100%|██████████| 200/200 [00:00<00:00, 1187.21it/s]\n",
      "100%|██████████| 200/200 [00:00<00:00, 2074.28it/s]\n"
     ]
    },
    {
     "name": "stdout",
     "output_type": "stream",
     "text": [
      "Epoch 28:\n"
     ]
    },
    {
     "name": "stderr",
     "output_type": "stream",
     "text": [
      "100%|██████████| 200/200 [00:00<00:00, 1185.59it/s]\n",
      "100%|██████████| 200/200 [00:00<00:00, 2096.30it/s]\n"
     ]
    },
    {
     "name": "stdout",
     "output_type": "stream",
     "text": [
      "Epoch 29:\n"
     ]
    },
    {
     "name": "stderr",
     "output_type": "stream",
     "text": [
      "100%|██████████| 200/200 [00:00<00:00, 1181.30it/s]\n",
      "100%|██████████| 200/200 [00:00<00:00, 2083.47it/s]\n"
     ]
    },
    {
     "name": "stdout",
     "output_type": "stream",
     "text": [
      "Epoch 30:\n"
     ]
    },
    {
     "name": "stderr",
     "output_type": "stream",
     "text": [
      "100%|██████████| 200/200 [00:00<00:00, 1180.94it/s]\n",
      "100%|██████████| 200/200 [00:00<00:00, 2091.55it/s]\n"
     ]
    },
    {
     "name": "stdout",
     "output_type": "stream",
     "text": [
      "Best validation accuracy at epoch 30\n"
     ]
    },
    {
     "name": "stderr",
     "output_type": "stream",
     "text": [
      "100%|██████████| 100/100 [00:00<00:00, 2065.05it/s]\n"
     ]
    },
    {
     "name": "stdout",
     "output_type": "stream",
     "text": [
      "{'name': 'random'}\n",
      "{\n",
      "    \"accuracy\": 0.93578125,\n",
      "    \"aupr\": 0.9409668367332441,\n",
      "    \"auroc\": 0.5241348798831922,\n",
      "    \"avg_crr_conf\": 0.4696671886276454,\n",
      "    \"avg_err_conf\": 0.030680761728435754,\n",
      "    \"capacity\": 0.9409273722462019,\n",
      "    \"kendall_tau\": 0.4758651201168078,\n",
      "    \"n_correct\": 5989,\n",
      "    \"n_errors\": 411,\n",
      "    \"n_published\": 6400,\n",
      "    \"validation_loss\": 0.1688307063281536\n",
      "}\n"
     ]
    },
    {
     "name": "stderr",
     "output_type": "stream",
     "text": [
      "100%|██████████| 100/100 [00:00<00:00, 1960.06it/s]\n"
     ]
    },
    {
     "name": "stdout",
     "output_type": "stream",
     "text": [
      "{'name': 'max_prob'}\n",
      "{\n",
      "    \"accuracy\": 0.93578125,\n",
      "    \"aupr\": 0.9938293911229366,\n",
      "    \"auroc\": 0.9172192815782707,\n",
      "    \"avg_crr_conf\": 0.8551480139419436,\n",
      "    \"avg_err_conf\": 0.041566288424655796,\n",
      "    \"capacity\": 0.9920321782614454,\n",
      "    \"kendall_tau\": 0.08278071842172938,\n",
      "    \"n_correct\": 5989,\n",
      "    \"n_errors\": 411,\n",
      "    \"n_published\": 6400,\n",
      "    \"validation_loss\": 0.1688307063281536\n",
      "}\n"
     ]
    },
    {
     "name": "stderr",
     "output_type": "stream",
     "text": [
      "100%|██████████| 100/100 [00:00<00:00, 307.56it/s]"
     ]
    },
    {
     "name": "stdout",
     "output_type": "stream",
     "text": [
      "{'name': 'mcd', 'aggregator': 'mean', 'n_forward_passes': 10}\n",
      "{\n",
      "    \"accuracy\": 0.93578125,\n",
      "    \"aupr\": 0.9921156118630006,\n",
      "    \"auroc\": 0.8987275536374676,\n",
      "    \"avg_crr_conf\": 0.7924102695612237,\n",
      "    \"avg_err_conf\": 0.039114302997477354,\n",
      "    \"capacity\": 0.9904237644651838,\n",
      "    \"kendall_tau\": 0.10127244636253245,\n",
      "    \"n_correct\": 5989,\n",
      "    \"n_errors\": 411,\n",
      "    \"n_published\": 6400,\n",
      "    \"validation_loss\": 0.1688307063281536\n",
      "}\n"
     ]
    },
    {
     "name": "stderr",
     "output_type": "stream",
     "text": [
      "\n"
     ]
    }
   ],
   "source": [
    "from spred.analytics import ResultDatabase\n",
    "n_trials = 5\n",
    "result_db = ResultDatabase([exp.run() for _ in range(n_trials)])"
   ]
  },
  {
   "cell_type": "markdown",
   "id": "19a99a2c",
   "metadata": {},
   "source": [
    "To visualize the results, we can use violin plots. Each bar of a violin corresponds to a particular trial. The \"body\" of the violin is a kernel density estimation that gives a sense of the underlying distribution."
   ]
  },
  {
   "cell_type": "code",
   "execution_count": 20,
   "id": "5b4df29d",
   "metadata": {},
   "outputs": [
    {
     "data": {
      "image/png": "[encoded data removed]",
      "text/plain": [
       "<Figure size 432x288 with 1 Axes>"
      ]
     },
     "metadata": {},
     "output_type": "display_data"
    }
   ],
   "source": [
    "from spred.analytics import plot_evaluation_metric\n",
    "plot_evaluation_metric(result_db, \"kendall_tau\")"
   ]
  },
  {
   "cell_type": "markdown",
   "id": "3d177825",
   "metadata": {},
   "source": [
    "In general, the **max_prob** confidence appears to work best on our new task over multiple trials, at least according to the kendall_tau metric. We can use the same function to visualize any other experiment statistic, e.g. aupr. "
   ]
  },
  {
   "cell_type": "code",
   "execution_count": 21,
   "id": "eac1dbbd",
   "metadata": {},
   "outputs": [
    {
     "data": {
      "image/png": "[encoded data removed]",
      "text/plain": [
       "<Figure size 432x288 with 1 Axes>"
      ]
     },
     "metadata": {},
     "output_type": "display_data"
    }
   ],
   "source": [
    "plot_evaluation_metric(result_db, \"aupr\")"
   ]
  },
  {
   "cell_type": "code",
   "execution_count": null,
   "id": "090f59b9",
   "metadata": {},
   "outputs": [],
   "source": []
  }
 ],
 "metadata": {
  "kernelspec": {
   "display_name": "Python 3",
   "language": "python",
   "name": "python3"
  },
  "language_info": {
   "codemirror_mode": {
    "name": "ipython",
    "version": 3
   },
   "file_extension": ".py",
   "mimetype": "text/x-python",
   "name": "python",
   "nbconvert_exporter": "python",
   "pygments_lexer": "ipython3",
   "version": "3.8.8"
  }
 },
 "nbformat": 4,
 "nbformat_minor": 5
}
