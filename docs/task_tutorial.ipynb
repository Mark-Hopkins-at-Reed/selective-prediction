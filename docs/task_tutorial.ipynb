{
 "cells": [
  {
   "cell_type": "markdown",
   "id": "5e0fe82d",
   "metadata": {},
   "source": [
    "## Adding a new task to spred\n",
    "--------------------------------------\n",
    "\n",
    "In this tutorial, we show how to add a new task for evaluating selective\n",
    "prediction techniques. Specifically, we'll create a task called \"normals\",\n",
    "a two-label classification task. Instances for label A are generated from\n",
    "a mixture of two bivariate normal distributions with means (-1, 0) and (1, 0),\n",
    "whereas instances for label B are generated from a mixture of two bivariate\n",
    "normals with means (0, -1) and (0, 1). The covariances are chosen so that most\n",
    "overlap occurs near the origin, making such points the \"most difficult\" to \n",
    "classify.\n",
    "\n",
    "![samples from the two mixture distributions](red_blue.png)"
   ]
  },
  {
   "cell_type": "code",
   "execution_count": null,
   "id": "53f6e18e",
   "metadata": {},
   "outputs": [],
   "source": []
  }
 ],
 "metadata": {
  "kernelspec": {
   "display_name": "Python 3",
   "language": "python",
   "name": "python3"
  },
  "language_info": {
   "codemirror_mode": {
    "name": "ipython",
    "version": 3
   },
   "file_extension": ".py",
   "mimetype": "text/x-python",
   "name": "python",
   "nbconvert_exporter": "python",
   "pygments_lexer": "ipython3",
   "version": "3.8.8"
  }
 },
 "nbformat": 4,
 "nbformat_minor": 5
}
