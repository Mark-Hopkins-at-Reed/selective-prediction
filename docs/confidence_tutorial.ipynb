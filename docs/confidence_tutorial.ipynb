{
 "cells": [
  {
   "cell_type": "markdown",
   "id": "d9e085ac",
   "metadata": {},
   "source": [
    "## Adding a new confidence function to ```spred```\n",
    "--------------------------------------------------------------\n",
    "\n",
    "In this tutorial, we show how to add a new confidence function for selective prediction. \n",
    "\n",
    "**Before doing this tutorial, it is recommended that you first go through the tutorial \"Adding a new task to ```spred```\".**\n",
    "\n",
    "Let's begin by setting up a task and training a prediction function for it. In this tutorial, we'll use the classic MNIST handwritten digit recognition task, but we randomly swap the labels of ones and sevens to make those labels synthetically \"harder\"."
   ]
  },
  {
   "cell_type": "code",
   "execution_count": 1,
   "id": "b4321f10",
   "metadata": {},
   "outputs": [],
   "source": [
    "task_config = {\"name\": \"mnist\",\n",
    "               \"confuser\": \"1<>7\"}"
   ]
  },
  {
   "cell_type": "markdown",
   "id": "b1ae4987",
   "metadata": {},
   "source": [
    "For our prediction function, we'll use a simple feedforward neural network with two hidden layers, trained with a standard cross-entropy loss. MNIST images are always 28x28 pixels, thus the input vectors have size 784. As there are 10 digits, the output size of the network is 10."
   ]
  },
  {
   "cell_type": "code",
   "execution_count": 6,
   "id": "23866fbf",
   "metadata": {},
   "outputs": [],
   "source": [
    "model_config = {\"name\": \"feedforward\",\n",
    "                \"input_size\": 784,\n",
    "                \"hidden_sizes\": [128, 64],\n",
    "                \"output_size\": 10,\n",
    "                \"loss\": {\n",
    "                    \"name\": \"ce\"\n",
    "                }}"
   ]
  },
  {
   "cell_type": "markdown",
   "id": "ac3b859e",
   "metadata": {},
   "source": [
    "Before creating a new confidence function, let's try two baselines on the \"confused\" MNIST task:\n",
    "1. **\"random\"**: just associate a random confidence with each prediction\n",
    "2. **\"max_prob\"**: use the softmax probability of the prediction as its confidence"
   ]
  },
  {
   "cell_type": "code",
   "execution_count": 7,
   "id": "4e2dfbf1",
   "metadata": {},
   "outputs": [],
   "source": [
    "confs = [{\"name\": \"random\"},\n",
    "         {\"name\": \"max_prob\"}]"
   ]
  },
  {
   "cell_type": "markdown",
   "id": "666524c8",
   "metadata": {},
   "source": [
    "Now that we've specified our task, our model, and our confidences, let's bundle them together into an experiment configuration. We'll also specify a couple extra details, like the optimizer (stochastic gradient descent with momentum of 0.9 and a learning rate of 0.003), the batch size (64), and the number of training epochs (30)."
   ]
  },
  {
   "cell_type": "code",
   "execution_count": 8,
   "id": "869470bc",
   "metadata": {},
   "outputs": [],
   "source": [
    "config = {\"task\": task_config,\n",
    "          \"model\": model_config,\n",
    "          \"confidences\": confs,\n",
    "          \"optimizer\": {\"name\": \"sgd\",\n",
    "                        \"lr\": 0.003,\n",
    "                        \"momentum\": 0.9},\n",
    "          \"bsz\": 64,\n",
    "          \"n_epochs\": 15}"
   ]
  },
  {
   "cell_type": "markdown",
   "id": "412623bd",
   "metadata": {},
   "source": [
    "Let's run 5 trials of the experiment and visualize the results."
   ]
  },
  {
   "cell_type": "code",
   "execution_count": 9,
   "id": "05a48921",
   "metadata": {},
   "outputs": [
    {
     "name": "stdout",
     "output_type": "stream",
     "text": [
      "Training with config:\n",
      "{'task': {'name': 'mnist', 'confuser': '1<>7'}, 'model': {'name': 'feedforward', 'input_size': 784, 'hidden_sizes': [128, 64], 'output_size': 10, 'loss': {'name': 'ce'}}, 'confidences': [{'name': 'random'}, {'name': 'max_prob'}], 'optimizer': {'name': 'sgd', 'lr': 0.003, 'momentum': 0.9}, 'bsz': 64, 'n_epochs': 15}\n",
      "Epoch 1:\n"
     ]
    },
    {
     "name": "stderr",
     "output_type": "stream",
     "text": [
      "100%|██████████| 469/469 [00:01<00:00, 447.20it/s]\n",
      "100%|██████████| 469/469 [00:00<00:00, 914.95it/s]\n"
     ]
    },
    {
     "name": "stdout",
     "output_type": "stream",
     "text": [
      "Epoch 2:\n"
     ]
    },
    {
     "name": "stderr",
     "output_type": "stream",
     "text": [
      "100%|██████████| 469/469 [00:00<00:00, 490.63it/s]\n",
      "100%|██████████| 469/469 [00:00<00:00, 1020.47it/s]\n"
     ]
    },
    {
     "name": "stdout",
     "output_type": "stream",
     "text": [
      "Epoch 3:\n"
     ]
    },
    {
     "name": "stderr",
     "output_type": "stream",
     "text": [
      "100%|██████████| 469/469 [00:00<00:00, 491.27it/s]\n",
      "100%|██████████| 469/469 [00:00<00:00, 1023.47it/s]\n"
     ]
    },
    {
     "name": "stdout",
     "output_type": "stream",
     "text": [
      "Epoch 4:\n"
     ]
    },
    {
     "name": "stderr",
     "output_type": "stream",
     "text": [
      "100%|██████████| 469/469 [00:00<00:00, 490.86it/s]\n",
      "100%|██████████| 469/469 [00:00<00:00, 1022.90it/s]\n"
     ]
    },
    {
     "name": "stdout",
     "output_type": "stream",
     "text": [
      "Epoch 5:\n"
     ]
    },
    {
     "name": "stderr",
     "output_type": "stream",
     "text": [
      "100%|██████████| 469/469 [00:00<00:00, 490.97it/s]\n",
      "100%|██████████| 469/469 [00:00<00:00, 1025.40it/s]\n"
     ]
    },
    {
     "name": "stdout",
     "output_type": "stream",
     "text": [
      "Epoch 6:\n"
     ]
    },
    {
     "name": "stderr",
     "output_type": "stream",
     "text": [
      "100%|██████████| 469/469 [00:00<00:00, 491.20it/s]\n",
      "100%|██████████| 469/469 [00:00<00:00, 1025.66it/s]\n"
     ]
    },
    {
     "name": "stdout",
     "output_type": "stream",
     "text": [
      "Epoch 7:\n"
     ]
    },
    {
     "name": "stderr",
     "output_type": "stream",
     "text": [
      "100%|██████████| 469/469 [00:00<00:00, 492.25it/s]\n",
      "100%|██████████| 469/469 [00:00<00:00, 1025.96it/s]\n"
     ]
    },
    {
     "name": "stdout",
     "output_type": "stream",
     "text": [
      "Epoch 8:\n"
     ]
    },
    {
     "name": "stderr",
     "output_type": "stream",
     "text": [
      "100%|██████████| 469/469 [00:00<00:00, 492.20it/s]\n",
      "100%|██████████| 469/469 [00:00<00:00, 1027.89it/s]\n"
     ]
    },
    {
     "name": "stdout",
     "output_type": "stream",
     "text": [
      "Epoch 9:\n"
     ]
    },
    {
     "name": "stderr",
     "output_type": "stream",
     "text": [
      "100%|██████████| 469/469 [00:00<00:00, 485.98it/s]\n",
      "100%|██████████| 469/469 [00:00<00:00, 1027.26it/s]\n"
     ]
    },
    {
     "name": "stdout",
     "output_type": "stream",
     "text": [
      "Epoch 10:\n"
     ]
    },
    {
     "name": "stderr",
     "output_type": "stream",
     "text": [
      "100%|██████████| 469/469 [00:00<00:00, 492.74it/s]\n",
      "100%|██████████| 469/469 [00:00<00:00, 1026.00it/s]\n"
     ]
    },
    {
     "name": "stdout",
     "output_type": "stream",
     "text": [
      "Epoch 11:\n"
     ]
    },
    {
     "name": "stderr",
     "output_type": "stream",
     "text": [
      "100%|██████████| 469/469 [00:00<00:00, 493.64it/s]\n",
      "100%|██████████| 469/469 [00:00<00:00, 1028.54it/s]\n"
     ]
    },
    {
     "name": "stdout",
     "output_type": "stream",
     "text": [
      "Epoch 12:\n"
     ]
    },
    {
     "name": "stderr",
     "output_type": "stream",
     "text": [
      "100%|██████████| 469/469 [00:00<00:00, 490.51it/s]\n",
      "100%|██████████| 469/469 [00:00<00:00, 1024.43it/s]\n"
     ]
    },
    {
     "name": "stdout",
     "output_type": "stream",
     "text": [
      "Epoch 13:\n"
     ]
    },
    {
     "name": "stderr",
     "output_type": "stream",
     "text": [
      "100%|██████████| 469/469 [00:00<00:00, 493.53it/s]\n",
      "100%|██████████| 469/469 [00:00<00:00, 1027.26it/s]\n"
     ]
    },
    {
     "name": "stdout",
     "output_type": "stream",
     "text": [
      "Epoch 14:\n"
     ]
    },
    {
     "name": "stderr",
     "output_type": "stream",
     "text": [
      "100%|██████████| 469/469 [00:00<00:00, 491.89it/s]\n",
      "100%|██████████| 469/469 [00:00<00:00, 1028.63it/s]\n"
     ]
    },
    {
     "name": "stdout",
     "output_type": "stream",
     "text": [
      "Epoch 15:\n"
     ]
    },
    {
     "name": "stderr",
     "output_type": "stream",
     "text": [
      "100%|██████████| 469/469 [00:00<00:00, 492.75it/s]\n",
      "100%|██████████| 469/469 [00:00<00:00, 1027.92it/s]\n"
     ]
    },
    {
     "name": "stdout",
     "output_type": "stream",
     "text": [
      "Best validation accuracy at epoch 14\n"
     ]
    },
    {
     "name": "stderr",
     "output_type": "stream",
     "text": [
      "100%|██████████| 157/157 [00:00<00:00, 196.84it/s]\n"
     ]
    },
    {
     "name": "stdout",
     "output_type": "stream",
     "text": [
      "{'name': 'random'}\n",
      "{\n",
      "    \"accuracy\": 0.8329,\n",
      "    \"aupr\": 0.8370642207915486,\n",
      "    \"auroc\": 0.5032721144258928,\n",
      "    \"avg_crr_conf\": 0.500369105215676,\n",
      "    \"avg_err_conf\": 0.496991952010645,\n",
      "    \"avg_non_abstain\": 1.0,\n",
      "    \"capacity\": 0.8370000934094305,\n",
      "    \"kendall_tau\": 0.49672788557410713,\n",
      "    \"n_correct\": 8329,\n",
      "    \"n_errors\": 1671,\n",
      "    \"validation_loss\": 0.37146791977107907\n",
      "}\n"
     ]
    },
    {
     "name": "stderr",
     "output_type": "stream",
     "text": [
      "100%|██████████| 157/157 [00:00<00:00, 195.56it/s]\n"
     ]
    },
    {
     "name": "stdout",
     "output_type": "stream",
     "text": [
      "{'name': 'max_prob'}\n",
      "{\n",
      "    \"accuracy\": 0.8297,\n",
      "    \"aupr\": 0.9785042109944665,\n",
      "    \"auroc\": 0.8951228648746468,\n",
      "    \"avg_crr_conf\": 0.8869873314711564,\n",
      "    \"avg_err_conf\": 0.5607493999980159,\n",
      "    \"avg_non_abstain\": 1.0,\n",
      "    \"capacity\": 0.9657879110135277,\n",
      "    \"kendall_tau\": 0.10487713512535324,\n",
      "    \"n_correct\": 8297,\n",
      "    \"n_errors\": 1703,\n",
      "    \"validation_loss\": 0.37292148448099754\n",
      "}\n",
      "Training with config:\n",
      "{'task': {'name': 'mnist', 'confuser': '1<>7'}, 'model': {'name': 'feedforward', 'input_size': 784, 'hidden_sizes': [128, 64], 'output_size': 10, 'loss': {'name': 'ce'}}, 'confidences': [{'name': 'random'}, {'name': 'max_prob'}], 'optimizer': {'name': 'sgd', 'lr': 0.003, 'momentum': 0.9}, 'bsz': 64, 'n_epochs': 15}\n",
      "Epoch 1:\n"
     ]
    },
    {
     "name": "stderr",
     "output_type": "stream",
     "text": [
      "100%|██████████| 469/469 [00:00<00:00, 477.98it/s]\n",
      "100%|██████████| 469/469 [00:00<00:00, 983.75it/s]\n"
     ]
    },
    {
     "name": "stdout",
     "output_type": "stream",
     "text": [
      "Epoch 2:\n"
     ]
    },
    {
     "name": "stderr",
     "output_type": "stream",
     "text": [
      "100%|██████████| 469/469 [00:00<00:00, 491.11it/s]\n",
      "100%|██████████| 469/469 [00:00<00:00, 1024.77it/s]\n"
     ]
    },
    {
     "name": "stdout",
     "output_type": "stream",
     "text": [
      "Epoch 3:\n"
     ]
    },
    {
     "name": "stderr",
     "output_type": "stream",
     "text": [
      "100%|██████████| 469/469 [00:00<00:00, 489.32it/s]\n",
      "100%|██████████| 469/469 [00:00<00:00, 1024.88it/s]\n"
     ]
    },
    {
     "name": "stdout",
     "output_type": "stream",
     "text": [
      "Epoch 4:\n"
     ]
    },
    {
     "name": "stderr",
     "output_type": "stream",
     "text": [
      "100%|██████████| 469/469 [00:00<00:00, 491.66it/s]\n",
      "100%|██████████| 469/469 [00:00<00:00, 1029.22it/s]\n"
     ]
    },
    {
     "name": "stdout",
     "output_type": "stream",
     "text": [
      "Epoch 5:\n"
     ]
    },
    {
     "name": "stderr",
     "output_type": "stream",
     "text": [
      "100%|██████████| 469/469 [00:00<00:00, 491.59it/s]\n",
      "100%|██████████| 469/469 [00:00<00:00, 1023.94it/s]\n"
     ]
    },
    {
     "name": "stdout",
     "output_type": "stream",
     "text": [
      "Epoch 6:\n"
     ]
    },
    {
     "name": "stderr",
     "output_type": "stream",
     "text": [
      "100%|██████████| 469/469 [00:00<00:00, 492.33it/s]\n",
      "100%|██████████| 469/469 [00:00<00:00, 1005.65it/s]\n"
     ]
    },
    {
     "name": "stdout",
     "output_type": "stream",
     "text": [
      "Epoch 7:\n"
     ]
    },
    {
     "name": "stderr",
     "output_type": "stream",
     "text": [
      "100%|██████████| 469/469 [00:00<00:00, 492.01it/s]\n",
      "100%|██████████| 469/469 [00:00<00:00, 1025.38it/s]\n"
     ]
    },
    {
     "name": "stdout",
     "output_type": "stream",
     "text": [
      "Epoch 8:\n"
     ]
    },
    {
     "name": "stderr",
     "output_type": "stream",
     "text": [
      "100%|██████████| 469/469 [00:00<00:00, 491.73it/s]\n",
      "100%|██████████| 469/469 [00:00<00:00, 1028.45it/s]\n"
     ]
    },
    {
     "name": "stdout",
     "output_type": "stream",
     "text": [
      "Epoch 9:\n"
     ]
    },
    {
     "name": "stderr",
     "output_type": "stream",
     "text": [
      "100%|██████████| 469/469 [00:00<00:00, 492.96it/s]\n",
      "100%|██████████| 469/469 [00:00<00:00, 1025.67it/s]\n"
     ]
    },
    {
     "name": "stdout",
     "output_type": "stream",
     "text": [
      "Epoch 10:\n"
     ]
    },
    {
     "name": "stderr",
     "output_type": "stream",
     "text": [
      "100%|██████████| 469/469 [00:00<00:00, 492.48it/s]\n",
      "100%|██████████| 469/469 [00:00<00:00, 1026.66it/s]\n"
     ]
    },
    {
     "name": "stdout",
     "output_type": "stream",
     "text": [
      "Epoch 11:\n"
     ]
    },
    {
     "name": "stderr",
     "output_type": "stream",
     "text": [
      "100%|██████████| 469/469 [00:00<00:00, 493.00it/s]\n",
      "100%|██████████| 469/469 [00:00<00:00, 1029.97it/s]\n"
     ]
    },
    {
     "name": "stdout",
     "output_type": "stream",
     "text": [
      "Epoch 12:\n"
     ]
    },
    {
     "name": "stderr",
     "output_type": "stream",
     "text": [
      "100%|██████████| 469/469 [00:00<00:00, 492.82it/s]\n",
      "100%|██████████| 469/469 [00:00<00:00, 1026.65it/s]\n"
     ]
    },
    {
     "name": "stdout",
     "output_type": "stream",
     "text": [
      "Epoch 13:\n"
     ]
    },
    {
     "name": "stderr",
     "output_type": "stream",
     "text": [
      "100%|██████████| 469/469 [00:00<00:00, 493.22it/s]\n",
      "100%|██████████| 469/469 [00:00<00:00, 1030.85it/s]\n"
     ]
    },
    {
     "name": "stdout",
     "output_type": "stream",
     "text": [
      "Epoch 14:\n"
     ]
    },
    {
     "name": "stderr",
     "output_type": "stream",
     "text": [
      "100%|██████████| 469/469 [00:00<00:00, 493.66it/s]\n",
      "100%|██████████| 469/469 [00:00<00:00, 1029.50it/s]\n"
     ]
    },
    {
     "name": "stdout",
     "output_type": "stream",
     "text": [
      "Epoch 15:\n"
     ]
    },
    {
     "name": "stderr",
     "output_type": "stream",
     "text": [
      "100%|██████████| 469/469 [00:00<00:00, 494.46it/s]\n",
      "100%|██████████| 469/469 [00:00<00:00, 1030.16it/s]\n"
     ]
    },
    {
     "name": "stdout",
     "output_type": "stream",
     "text": [
      "Best validation accuracy at epoch 15\n"
     ]
    },
    {
     "name": "stderr",
     "output_type": "stream",
     "text": [
      "100%|██████████| 157/157 [00:00<00:00, 198.87it/s]\n"
     ]
    },
    {
     "name": "stdout",
     "output_type": "stream",
     "text": [
      "{'name': 'random'}\n",
      "{\n",
      "    \"accuracy\": 0.8329,\n",
      "    \"aupr\": 0.8319298855826844,\n",
      "    \"auroc\": 0.49462898445072945,\n",
      "    \"avg_crr_conf\": 0.4998679300977025,\n",
      "    \"avg_err_conf\": 0.5051609757130621,\n",
      "    \"avg_non_abstain\": 1.0,\n",
      "    \"capacity\": 0.8319032254835241,\n",
      "    \"kendall_tau\": 0.5053710155492706,\n",
      "    \"n_correct\": 8329,\n",
      "    \"n_errors\": 1671,\n",
      "    \"validation_loss\": 0.35887006618035067\n",
      "}\n"
     ]
    },
    {
     "name": "stderr",
     "output_type": "stream",
     "text": [
      "100%|██████████| 157/157 [00:00<00:00, 197.97it/s]\n"
     ]
    },
    {
     "name": "stdout",
     "output_type": "stream",
     "text": [
      "{'name': 'max_prob'}\n",
      "{\n",
      "    \"accuracy\": 0.8311,\n",
      "    \"aupr\": 0.9793576470884223,\n",
      "    \"auroc\": 0.8982240076584643,\n",
      "    \"avg_crr_conf\": 0.887861863119323,\n",
      "    \"avg_err_conf\": 0.5374104741976203,\n",
      "    \"avg_non_abstain\": 1.0,\n",
      "    \"capacity\": 0.966852384514364,\n",
      "    \"kendall_tau\": 0.10177606358041327,\n",
      "    \"n_correct\": 8311,\n",
      "    \"n_errors\": 1689,\n",
      "    \"validation_loss\": 0.3581178996023858\n",
      "}\n",
      "Training with config:\n",
      "{'task': {'name': 'mnist', 'confuser': '1<>7'}, 'model': {'name': 'feedforward', 'input_size': 784, 'hidden_sizes': [128, 64], 'output_size': 10, 'loss': {'name': 'ce'}}, 'confidences': [{'name': 'random'}, {'name': 'max_prob'}], 'optimizer': {'name': 'sgd', 'lr': 0.003, 'momentum': 0.9}, 'bsz': 64, 'n_epochs': 15}\n",
      "Epoch 1:\n"
     ]
    },
    {
     "name": "stderr",
     "output_type": "stream",
     "text": [
      "100%|██████████| 469/469 [00:01<00:00, 450.97it/s]\n",
      "100%|██████████| 469/469 [00:00<00:00, 870.29it/s]\n"
     ]
    },
    {
     "name": "stdout",
     "output_type": "stream",
     "text": [
      "Epoch 2:\n"
     ]
    },
    {
     "name": "stderr",
     "output_type": "stream",
     "text": [
      "100%|██████████| 469/469 [00:00<00:00, 472.51it/s]\n",
      "100%|██████████| 469/469 [00:00<00:00, 1024.17it/s]\n"
     ]
    },
    {
     "name": "stdout",
     "output_type": "stream",
     "text": [
      "Epoch 3:\n"
     ]
    },
    {
     "name": "stderr",
     "output_type": "stream",
     "text": [
      "100%|██████████| 469/469 [00:00<00:00, 492.80it/s]\n",
      "100%|██████████| 469/469 [00:00<00:00, 1025.17it/s]\n"
     ]
    },
    {
     "name": "stdout",
     "output_type": "stream",
     "text": [
      "Epoch 4:\n"
     ]
    },
    {
     "name": "stderr",
     "output_type": "stream",
     "text": [
      "100%|██████████| 469/469 [00:00<00:00, 492.28it/s]\n",
      "100%|██████████| 469/469 [00:00<00:00, 1026.31it/s]\n"
     ]
    },
    {
     "name": "stdout",
     "output_type": "stream",
     "text": [
      "Epoch 5:\n"
     ]
    },
    {
     "name": "stderr",
     "output_type": "stream",
     "text": [
      "100%|██████████| 469/469 [00:00<00:00, 491.63it/s]\n",
      "100%|██████████| 469/469 [00:00<00:00, 1025.25it/s]\n"
     ]
    },
    {
     "name": "stdout",
     "output_type": "stream",
     "text": [
      "Epoch 6:\n"
     ]
    },
    {
     "name": "stderr",
     "output_type": "stream",
     "text": [
      "100%|██████████| 469/469 [00:00<00:00, 491.71it/s]\n",
      "100%|██████████| 469/469 [00:00<00:00, 1025.44it/s]\n"
     ]
    },
    {
     "name": "stdout",
     "output_type": "stream",
     "text": [
      "Epoch 7:\n"
     ]
    },
    {
     "name": "stderr",
     "output_type": "stream",
     "text": [
      "100%|██████████| 469/469 [00:00<00:00, 490.57it/s]\n",
      "100%|██████████| 469/469 [00:00<00:00, 953.96it/s]\n"
     ]
    },
    {
     "name": "stdout",
     "output_type": "stream",
     "text": [
      "Epoch 8:\n"
     ]
    },
    {
     "name": "stderr",
     "output_type": "stream",
     "text": [
      "100%|██████████| 469/469 [00:00<00:00, 477.00it/s]\n",
      "100%|██████████| 469/469 [00:00<00:00, 658.04it/s] \n"
     ]
    },
    {
     "name": "stdout",
     "output_type": "stream",
     "text": [
      "Epoch 9:\n"
     ]
    },
    {
     "name": "stderr",
     "output_type": "stream",
     "text": [
      "100%|██████████| 469/469 [00:01<00:00, 459.49it/s]\n",
      "100%|██████████| 469/469 [00:00<00:00, 1010.68it/s]\n"
     ]
    },
    {
     "name": "stdout",
     "output_type": "stream",
     "text": [
      "Epoch 10:\n"
     ]
    },
    {
     "name": "stderr",
     "output_type": "stream",
     "text": [
      "100%|██████████| 469/469 [00:00<00:00, 484.72it/s]\n",
      "100%|██████████| 469/469 [00:00<00:00, 1023.23it/s]\n"
     ]
    },
    {
     "name": "stdout",
     "output_type": "stream",
     "text": [
      "Epoch 11:\n"
     ]
    },
    {
     "name": "stderr",
     "output_type": "stream",
     "text": [
      "100%|██████████| 469/469 [00:00<00:00, 488.30it/s]\n",
      "100%|██████████| 469/469 [00:00<00:00, 1026.06it/s]\n"
     ]
    },
    {
     "name": "stdout",
     "output_type": "stream",
     "text": [
      "Epoch 12:\n"
     ]
    },
    {
     "name": "stderr",
     "output_type": "stream",
     "text": [
      "100%|██████████| 469/469 [00:00<00:00, 483.75it/s]\n",
      "100%|██████████| 469/469 [00:00<00:00, 992.40it/s] \n"
     ]
    },
    {
     "name": "stdout",
     "output_type": "stream",
     "text": [
      "Epoch 13:\n"
     ]
    },
    {
     "name": "stderr",
     "output_type": "stream",
     "text": [
      "100%|██████████| 469/469 [00:00<00:00, 478.70it/s]\n",
      "100%|██████████| 469/469 [00:00<00:00, 1006.17it/s]\n"
     ]
    },
    {
     "name": "stdout",
     "output_type": "stream",
     "text": [
      "Epoch 14:\n"
     ]
    },
    {
     "name": "stderr",
     "output_type": "stream",
     "text": [
      "100%|██████████| 469/469 [00:00<00:00, 484.79it/s]\n",
      "100%|██████████| 469/469 [00:00<00:00, 1021.22it/s]\n"
     ]
    },
    {
     "name": "stdout",
     "output_type": "stream",
     "text": [
      "Epoch 15:\n"
     ]
    },
    {
     "name": "stderr",
     "output_type": "stream",
     "text": [
      "100%|██████████| 469/469 [00:00<00:00, 483.61it/s]\n",
      "100%|██████████| 469/469 [00:00<00:00, 1015.74it/s]\n"
     ]
    },
    {
     "name": "stdout",
     "output_type": "stream",
     "text": [
      "Best validation accuracy at epoch 15\n"
     ]
    },
    {
     "name": "stderr",
     "output_type": "stream",
     "text": [
      "100%|██████████| 157/157 [00:00<00:00, 195.70it/s]\n"
     ]
    },
    {
     "name": "stdout",
     "output_type": "stream",
     "text": [
      "{'name': 'random'}\n",
      "{\n",
      "    \"accuracy\": 0.8327,\n",
      "    \"aupr\": 0.8352822297705778,\n",
      "    \"auroc\": 0.5073434411467719,\n",
      "    \"avg_crr_conf\": 0.49934052385974076,\n",
      "    \"avg_err_conf\": 0.4920105719309828,\n",
      "    \"avg_non_abstain\": 1.0,\n",
      "    \"capacity\": 0.8352407195449134,\n",
      "    \"kendall_tau\": 0.4926565947442232,\n",
      "    \"n_correct\": 8327,\n",
      "    \"n_errors\": 1673,\n",
      "    \"validation_loss\": 0.3535971591237244\n",
      "}\n"
     ]
    },
    {
     "name": "stderr",
     "output_type": "stream",
     "text": [
      "100%|██████████| 157/157 [00:00<00:00, 197.53it/s]\n"
     ]
    },
    {
     "name": "stdout",
     "output_type": "stream",
     "text": [
      "{'name': 'max_prob'}\n",
      "{\n",
      "    \"accuracy\": 0.8369,\n",
      "    \"aupr\": 0.9797536891772615,\n",
      "    \"auroc\": 0.895807928577033,\n",
      "    \"avg_crr_conf\": 0.8890044296912387,\n",
      "    \"avg_err_conf\": 0.5483282487462592,\n",
      "    \"avg_non_abstain\": 1.0,\n",
      "    \"capacity\": 0.9680946105346103,\n",
      "    \"kendall_tau\": 0.10419214468390434,\n",
      "    \"n_correct\": 8369,\n",
      "    \"n_errors\": 1631,\n",
      "    \"validation_loss\": 0.3568789322095312\n",
      "}\n",
      "Training with config:\n",
      "{'task': {'name': 'mnist', 'confuser': '1<>7'}, 'model': {'name': 'feedforward', 'input_size': 784, 'hidden_sizes': [128, 64], 'output_size': 10, 'loss': {'name': 'ce'}}, 'confidences': [{'name': 'random'}, {'name': 'max_prob'}], 'optimizer': {'name': 'sgd', 'lr': 0.003, 'momentum': 0.9}, 'bsz': 64, 'n_epochs': 15}\n",
      "Epoch 1:\n"
     ]
    },
    {
     "name": "stderr",
     "output_type": "stream",
     "text": [
      "100%|██████████| 469/469 [00:01<00:00, 467.12it/s]\n",
      "100%|██████████| 469/469 [00:00<00:00, 1011.99it/s]\n"
     ]
    },
    {
     "name": "stdout",
     "output_type": "stream",
     "text": [
      "Epoch 2:\n"
     ]
    },
    {
     "name": "stderr",
     "output_type": "stream",
     "text": [
      "100%|██████████| 469/469 [00:00<00:00, 491.15it/s]\n",
      "100%|██████████| 469/469 [00:00<00:00, 1023.56it/s]\n"
     ]
    },
    {
     "name": "stdout",
     "output_type": "stream",
     "text": [
      "Epoch 3:\n"
     ]
    },
    {
     "name": "stderr",
     "output_type": "stream",
     "text": [
      "100%|██████████| 469/469 [00:00<00:00, 486.58it/s]\n",
      "100%|██████████| 469/469 [00:00<00:00, 1023.01it/s]\n"
     ]
    },
    {
     "name": "stdout",
     "output_type": "stream",
     "text": [
      "Epoch 4:\n"
     ]
    },
    {
     "name": "stderr",
     "output_type": "stream",
     "text": [
      "100%|██████████| 469/469 [00:00<00:00, 491.89it/s]\n",
      "100%|██████████| 469/469 [00:00<00:00, 1019.23it/s]\n"
     ]
    },
    {
     "name": "stdout",
     "output_type": "stream",
     "text": [
      "Epoch 5:\n"
     ]
    },
    {
     "name": "stderr",
     "output_type": "stream",
     "text": [
      "100%|██████████| 469/469 [00:00<00:00, 488.97it/s]\n",
      "100%|██████████| 469/469 [00:00<00:00, 1016.77it/s]\n"
     ]
    },
    {
     "name": "stdout",
     "output_type": "stream",
     "text": [
      "Epoch 6:\n"
     ]
    },
    {
     "name": "stderr",
     "output_type": "stream",
     "text": [
      "100%|██████████| 469/469 [00:00<00:00, 491.33it/s]\n",
      "100%|██████████| 469/469 [00:00<00:00, 1021.90it/s]\n"
     ]
    },
    {
     "name": "stdout",
     "output_type": "stream",
     "text": [
      "Epoch 7:\n"
     ]
    },
    {
     "name": "stderr",
     "output_type": "stream",
     "text": [
      "100%|██████████| 469/469 [00:00<00:00, 491.76it/s]\n",
      "100%|██████████| 469/469 [00:00<00:00, 1025.15it/s]\n"
     ]
    },
    {
     "name": "stdout",
     "output_type": "stream",
     "text": [
      "Epoch 8:\n"
     ]
    },
    {
     "name": "stderr",
     "output_type": "stream",
     "text": [
      "100%|██████████| 469/469 [00:00<00:00, 485.56it/s]\n",
      "100%|██████████| 469/469 [00:00<00:00, 1019.71it/s]\n"
     ]
    },
    {
     "name": "stdout",
     "output_type": "stream",
     "text": [
      "Epoch 9:\n"
     ]
    },
    {
     "name": "stderr",
     "output_type": "stream",
     "text": [
      "100%|██████████| 469/469 [00:00<00:00, 491.77it/s]\n",
      "100%|██████████| 469/469 [00:00<00:00, 1021.21it/s]\n"
     ]
    },
    {
     "name": "stdout",
     "output_type": "stream",
     "text": [
      "Epoch 10:\n"
     ]
    },
    {
     "name": "stderr",
     "output_type": "stream",
     "text": [
      "100%|██████████| 469/469 [00:00<00:00, 493.52it/s]\n",
      "100%|██████████| 469/469 [00:00<00:00, 1020.39it/s]\n"
     ]
    },
    {
     "name": "stdout",
     "output_type": "stream",
     "text": [
      "Epoch 11:\n"
     ]
    },
    {
     "name": "stderr",
     "output_type": "stream",
     "text": [
      "100%|██████████| 469/469 [00:00<00:00, 494.47it/s]\n",
      "100%|██████████| 469/469 [00:00<00:00, 1024.18it/s]\n"
     ]
    },
    {
     "name": "stdout",
     "output_type": "stream",
     "text": [
      "Epoch 12:\n"
     ]
    },
    {
     "name": "stderr",
     "output_type": "stream",
     "text": [
      "100%|██████████| 469/469 [00:00<00:00, 492.90it/s]\n",
      "100%|██████████| 469/469 [00:00<00:00, 1027.61it/s]\n"
     ]
    },
    {
     "name": "stdout",
     "output_type": "stream",
     "text": [
      "Epoch 13:\n"
     ]
    },
    {
     "name": "stderr",
     "output_type": "stream",
     "text": [
      "100%|██████████| 469/469 [00:00<00:00, 493.54it/s]\n",
      "100%|██████████| 469/469 [00:00<00:00, 1032.22it/s]\n"
     ]
    },
    {
     "name": "stdout",
     "output_type": "stream",
     "text": [
      "Epoch 14:\n"
     ]
    },
    {
     "name": "stderr",
     "output_type": "stream",
     "text": [
      "100%|██████████| 469/469 [00:00<00:00, 493.26it/s]\n",
      "100%|██████████| 469/469 [00:00<00:00, 1023.52it/s]\n"
     ]
    },
    {
     "name": "stdout",
     "output_type": "stream",
     "text": [
      "Epoch 15:\n"
     ]
    },
    {
     "name": "stderr",
     "output_type": "stream",
     "text": [
      "100%|██████████| 469/469 [00:00<00:00, 494.67it/s]\n",
      "100%|██████████| 469/469 [00:00<00:00, 1019.85it/s]\n"
     ]
    },
    {
     "name": "stdout",
     "output_type": "stream",
     "text": [
      "Best validation accuracy at epoch 15\n"
     ]
    },
    {
     "name": "stderr",
     "output_type": "stream",
     "text": [
      "100%|██████████| 157/157 [00:00<00:00, 174.97it/s]\n"
     ]
    },
    {
     "name": "stdout",
     "output_type": "stream",
     "text": [
      "{'name': 'random'}\n",
      "{\n",
      "    \"accuracy\": 0.8409,\n",
      "    \"aupr\": 0.8409267948596888,\n",
      "    \"auroc\": 0.5000603196763457,\n",
      "    \"avg_crr_conf\": 0.5007999708783203,\n",
      "    \"avg_err_conf\": 0.5006703119619622,\n",
      "    \"avg_non_abstain\": 1.0,\n",
      "    \"capacity\": 0.8409135871154052,\n",
      "    \"kendall_tau\": 0.49993971769644013,\n",
      "    \"n_correct\": 8409,\n",
      "    \"n_errors\": 1591,\n",
      "    \"validation_loss\": 0.35113153725293034\n",
      "}\n"
     ]
    },
    {
     "name": "stderr",
     "output_type": "stream",
     "text": [
      "100%|██████████| 157/157 [00:00<00:00, 192.73it/s]\n"
     ]
    },
    {
     "name": "stdout",
     "output_type": "stream",
     "text": [
      "{'name': 'max_prob'}\n",
      "{\n",
      "    \"accuracy\": 0.8347,\n",
      "    \"aupr\": 0.9796299638267097,\n",
      "    \"auroc\": 0.896692980680468,\n",
      "    \"avg_crr_conf\": 0.8859985226840477,\n",
      "    \"avg_err_conf\": 0.5352089818560276,\n",
      "    \"avg_non_abstain\": 1.0,\n",
      "    \"capacity\": 0.9676041888087542,\n",
      "    \"kendall_tau\": 0.1033071642723719,\n",
      "    \"n_correct\": 8347,\n",
      "    \"n_errors\": 1653,\n",
      "    \"validation_loss\": 0.3501949426095197\n",
      "}\n",
      "Training with config:\n",
      "{'task': {'name': 'mnist', 'confuser': '1<>7'}, 'model': {'name': 'feedforward', 'input_size': 784, 'hidden_sizes': [128, 64], 'output_size': 10, 'loss': {'name': 'ce'}}, 'confidences': [{'name': 'random'}, {'name': 'max_prob'}], 'optimizer': {'name': 'sgd', 'lr': 0.003, 'momentum': 0.9}, 'bsz': 64, 'n_epochs': 15}\n",
      "Epoch 1:\n"
     ]
    },
    {
     "name": "stderr",
     "output_type": "stream",
     "text": [
      "100%|██████████| 469/469 [00:01<00:00, 377.48it/s]\n",
      "100%|██████████| 469/469 [00:00<00:00, 644.36it/s]\n"
     ]
    },
    {
     "name": "stdout",
     "output_type": "stream",
     "text": [
      "Epoch 2:\n"
     ]
    },
    {
     "name": "stderr",
     "output_type": "stream",
     "text": [
      "100%|██████████| 469/469 [00:01<00:00, 358.11it/s]\n",
      "100%|██████████| 469/469 [00:00<00:00, 886.93it/s]\n"
     ]
    },
    {
     "name": "stdout",
     "output_type": "stream",
     "text": [
      "Epoch 3:\n"
     ]
    },
    {
     "name": "stderr",
     "output_type": "stream",
     "text": [
      "100%|██████████| 469/469 [00:00<00:00, 477.28it/s]\n",
      "100%|██████████| 469/469 [00:00<00:00, 999.33it/s] \n"
     ]
    },
    {
     "name": "stdout",
     "output_type": "stream",
     "text": [
      "Epoch 4:\n"
     ]
    },
    {
     "name": "stderr",
     "output_type": "stream",
     "text": [
      "100%|██████████| 469/469 [00:01<00:00, 467.00it/s]\n",
      "100%|██████████| 469/469 [00:00<00:00, 980.00it/s]\n"
     ]
    },
    {
     "name": "stdout",
     "output_type": "stream",
     "text": [
      "Epoch 5:\n"
     ]
    },
    {
     "name": "stderr",
     "output_type": "stream",
     "text": [
      "100%|██████████| 469/469 [00:01<00:00, 382.66it/s]\n",
      "100%|██████████| 469/469 [00:00<00:00, 905.99it/s]\n"
     ]
    },
    {
     "name": "stdout",
     "output_type": "stream",
     "text": [
      "Epoch 6:\n"
     ]
    },
    {
     "name": "stderr",
     "output_type": "stream",
     "text": [
      "100%|██████████| 469/469 [00:01<00:00, 440.49it/s]\n",
      "100%|██████████| 469/469 [00:00<00:00, 1006.39it/s]\n"
     ]
    },
    {
     "name": "stdout",
     "output_type": "stream",
     "text": [
      "Epoch 7:\n"
     ]
    },
    {
     "name": "stderr",
     "output_type": "stream",
     "text": [
      "100%|██████████| 469/469 [00:00<00:00, 483.46it/s]\n",
      "100%|██████████| 469/469 [00:00<00:00, 1010.87it/s]\n"
     ]
    },
    {
     "name": "stdout",
     "output_type": "stream",
     "text": [
      "Epoch 8:\n"
     ]
    },
    {
     "name": "stderr",
     "output_type": "stream",
     "text": [
      "100%|██████████| 469/469 [00:00<00:00, 476.94it/s]\n",
      "100%|██████████| 469/469 [00:00<00:00, 988.38it/s]\n"
     ]
    },
    {
     "name": "stdout",
     "output_type": "stream",
     "text": [
      "Epoch 9:\n"
     ]
    },
    {
     "name": "stderr",
     "output_type": "stream",
     "text": [
      "100%|██████████| 469/469 [00:00<00:00, 476.19it/s]\n",
      "100%|██████████| 469/469 [00:00<00:00, 986.29it/s]\n"
     ]
    },
    {
     "name": "stdout",
     "output_type": "stream",
     "text": [
      "Epoch 10:\n"
     ]
    },
    {
     "name": "stderr",
     "output_type": "stream",
     "text": [
      "100%|██████████| 469/469 [00:00<00:00, 489.76it/s]\n",
      "100%|██████████| 469/469 [00:00<00:00, 983.06it/s] \n"
     ]
    },
    {
     "name": "stdout",
     "output_type": "stream",
     "text": [
      "Epoch 11:\n"
     ]
    },
    {
     "name": "stderr",
     "output_type": "stream",
     "text": [
      "100%|██████████| 469/469 [00:01<00:00, 456.01it/s]\n",
      "100%|██████████| 469/469 [00:00<00:00, 1017.04it/s]\n"
     ]
    },
    {
     "name": "stdout",
     "output_type": "stream",
     "text": [
      "Epoch 12:\n"
     ]
    },
    {
     "name": "stderr",
     "output_type": "stream",
     "text": [
      "100%|██████████| 469/469 [00:00<00:00, 491.64it/s]\n",
      "100%|██████████| 469/469 [00:00<00:00, 1024.35it/s]\n"
     ]
    },
    {
     "name": "stdout",
     "output_type": "stream",
     "text": [
      "Epoch 13:\n"
     ]
    },
    {
     "name": "stderr",
     "output_type": "stream",
     "text": [
      "100%|██████████| 469/469 [00:00<00:00, 491.60it/s]\n",
      "100%|██████████| 469/469 [00:00<00:00, 1024.67it/s]\n"
     ]
    },
    {
     "name": "stdout",
     "output_type": "stream",
     "text": [
      "Epoch 14:\n"
     ]
    },
    {
     "name": "stderr",
     "output_type": "stream",
     "text": [
      "100%|██████████| 469/469 [00:00<00:00, 491.36it/s]\n",
      "100%|██████████| 469/469 [00:00<00:00, 1022.48it/s]\n"
     ]
    },
    {
     "name": "stdout",
     "output_type": "stream",
     "text": [
      "Epoch 15:\n"
     ]
    },
    {
     "name": "stderr",
     "output_type": "stream",
     "text": [
      "100%|██████████| 469/469 [00:00<00:00, 492.98it/s]\n",
      "100%|██████████| 469/469 [00:00<00:00, 1021.89it/s]\n"
     ]
    },
    {
     "name": "stdout",
     "output_type": "stream",
     "text": [
      "Best validation accuracy at epoch 14\n"
     ]
    },
    {
     "name": "stderr",
     "output_type": "stream",
     "text": [
      "100%|██████████| 157/157 [00:00<00:00, 196.95it/s]\n"
     ]
    },
    {
     "name": "stdout",
     "output_type": "stream",
     "text": [
      "{'name': 'random'}\n",
      "{\n",
      "    \"accuracy\": 0.828,\n",
      "    \"aupr\": 0.8306133134907312,\n",
      "    \"auroc\": 0.5001106617234019,\n",
      "    \"avg_crr_conf\": 0.5012119894370365,\n",
      "    \"avg_err_conf\": 0.5010912826587988,\n",
      "    \"avg_non_abstain\": 1.0,\n",
      "    \"capacity\": 0.830563984037814,\n",
      "    \"kendall_tau\": 0.49988933827659815,\n",
      "    \"n_correct\": 8280,\n",
      "    \"n_errors\": 1720,\n",
      "    \"validation_loss\": 0.3698097584164067\n",
      "}\n"
     ]
    },
    {
     "name": "stderr",
     "output_type": "stream",
     "text": [
      "100%|██████████| 157/157 [00:00<00:00, 197.32it/s]\n"
     ]
    },
    {
     "name": "stdout",
     "output_type": "stream",
     "text": [
      "{'name': 'max_prob'}\n",
      "{\n",
      "    \"accuracy\": 0.8249,\n",
      "    \"aupr\": 0.9793756836872793,\n",
      "    \"auroc\": 0.9020047356691177,\n",
      "    \"avg_crr_conf\": 0.8874508554028054,\n",
      "    \"avg_err_conf\": 0.5429313276016257,\n",
      "    \"avg_non_abstain\": 1.0,\n",
      "    \"capacity\": 0.9657943208075686,\n",
      "    \"kendall_tau\": 0.09799529894733446,\n",
      "    \"n_correct\": 8249,\n",
      "    \"n_errors\": 1751,\n",
      "    \"validation_loss\": 0.36952696769100846\n",
      "}\n"
     ]
    }
   ],
   "source": [
    "from spred.experiment import Experiment\n",
    "from spred.analytics import ResultDatabase\n",
    "exp = Experiment(config)\n",
    "n_trials = 5\n",
    "result_db = ResultDatabase([exp.run() for _ in range(n_trials)])"
   ]
  },
  {
   "cell_type": "code",
   "execution_count": 10,
   "id": "96bf6e37",
   "metadata": {},
   "outputs": [
    {
     "data": {
      "image/png": "[encoded data removed]",
      "text/plain": [
       "<Figure size 432x288 with 1 Axes>"
      ]
     },
     "metadata": {},
     "output_type": "display_data"
    }
   ],
   "source": [
    "from spred.analytics import plot_evaluation_metric\n",
    "plot_evaluation_metric(result_db, \"kendall_tau\")"
   ]
  },
  {
   "cell_type": "markdown",
   "id": "6be68b15",
   "metadata": {},
   "source": [
    "As usual, **max_prob** is a strong baseline, consistently giving us a worst-case normalized kendall-tau distance around 0.1. Let's see if we can create a better one! To do so, we need to implement the interface for ```Confidence```, as defined in ```spred.confidence```:\n",
    "\n",
    "    class Confidence:\n",
    "    \n",
    "        @abstractmethod\n",
    "        def __call__(self, batch, model):\n",
    "            \"\"\"\n",
    "            For each prediction in the batch, computes an associated confidence.\n",
    "    \n",
    "            ```batch``` is a dictionary with the following keys:\n",
    "            - ```inputs```: a torch.tensor of shape BxD, where B is the batch size\n",
    "              and D is the dimension of the input vectors. Each row corresponds to\n",
    "              an input instance.\n",
    "            - ```outputs```: a torch.tensor of shape BxL, where B is the batch size\n",
    "              and L is the number of labels. Each row corresponds to the predicted\n",
    "              values for each label. These are not assumed to be normalized.\n",
    "    \n",
    "            This function is expected to return a torch.tensor of shape B,\n",
    "            containing the confidences of each prediction in the batch.\n",
    "    \n",
    "            \"\"\"\n",
    "            ...\n",
    "            \n",
    "We only need to implement the ```__call__``` method, which takes a batch of predictions and returns a tensor containing our computed confidences. Note that the method also takes the trained prediction model as a second argument, in case we'd like to use it for computing the confidences. In this tutorial, we won't, but if you're interested in methods that do, take a look at the implementation of ```MCDropoutConfidence```."
   ]
  },
  {
   "cell_type": "markdown",
   "id": "c3dd8ff8",
   "metadata": {},
   "source": [
    "Before creating a new confidence function, let's look at how **MaxProb** works in a bit more detail. **MaxProb** doesn't care about the input representations, so we won't bother specifying those. For the output values, let's assume we have a 3-label classification task and two predictions:\n",
    "- the first prediction assigns weight -1.0 to class 0, weight -2.5 to class 1, and weight 0.5 to class 2\n",
    "- the second prediction assigns weight -2.0 to class 0, weight 1.5 to class 1, and weight -3.0 to class 2\n"
   ]
  },
  {
   "cell_type": "code",
   "execution_count": 11,
   "id": "e578c1ff",
   "metadata": {},
   "outputs": [],
   "source": [
    "from torch import tensor\n",
    "batch = {'inputs': None, \n",
    "         'outputs': tensor([[-1.0, -2.5,   0.5],\n",
    "                            [-2.0,  1.5,  -3.0]])}\n"
   ]
  },
  {
   "cell_type": "markdown",
   "id": "5880b89d",
   "metadata": {},
   "source": [
    "If we apply the softmax function to the prediction weights, we get two prediction distributions."
   ]
  },
  {
   "cell_type": "code",
   "execution_count": 12,
   "id": "9024893b",
   "metadata": {},
   "outputs": [
    {
     "data": {
      "text/plain": [
       "tensor([[0.1753, 0.0391, 0.7856],\n",
       "        [0.0290, 0.9603, 0.0107]])"
      ]
     },
     "execution_count": 12,
     "metadata": {},
     "output_type": "execute_result"
    }
   ],
   "source": [
    "from spred.util import softmax\n",
    "softmax(batch['outputs'])"
   ]
  },
  {
   "cell_type": "markdown",
   "id": "227c52c2",
   "metadata": {},
   "source": [
    "As its prediction confidence, **MaxProb** uses the probability allocated to the predicted (i.e. the most probable) label. Thus, it assigns a confidence of 0.7662 to the first prediction and a confidence of 0.8991 to the second."
   ]
  },
  {
   "cell_type": "code",
   "execution_count": 13,
   "id": "694049c2",
   "metadata": {},
   "outputs": [
    {
     "name": "stdout",
     "output_type": "stream",
     "text": [
      "Predicted confidences for this batch: tensor([0.7856, 0.9603])\n"
     ]
    }
   ],
   "source": [
    "from spred.confidence import MaxProb\n",
    "max_prob = MaxProb()\n",
    "confs = max_prob(batch)\n",
    "print(\"Predicted confidences for this batch: {}\".format(confs))"
   ]
  },
  {
   "cell_type": "markdown",
   "id": "23789d23",
   "metadata": {},
   "source": [
    "As an alternative, let's implement a confidence function known as **Probability Difference**, which uses the difference between the highest probability and the **second highest** probability. For the above batch, it should therefore assign a confidence of **0.5952** (i.e. 0.7662-0.1710) to the first prediction, and a confidence of **0.8253** (i.e. 0.8991-0.0738) to the second. Let's first create functions that can extract the highest and second highest probabilities from each row of a tensor."
   ]
  },
  {
   "cell_type": "code",
   "execution_count": 14,
   "id": "5f5f640a",
   "metadata": {},
   "outputs": [
    {
     "name": "stdout",
     "output_type": "stream",
     "text": [
      "For tensor:\n",
      "tensor([[0.1753, 0.0391, 0.7856],\n",
      "        [0.0290, 0.9603, 0.0107]])\n",
      "The highest probs are:   tensor([0.7856, 0.9603])\n",
      "2nd highest probs are:   tensor([0.1753, 0.0290])\n"
     ]
    }
   ],
   "source": [
    "import torch\n",
    "\n",
    "def highest(t):\n",
    "    return t.max(dim=1).values\n",
    "\n",
    "def second_highest(t):\n",
    "    indices = t.max(dim=1).indices.unsqueeze(dim=1)\n",
    "    negate_highest = t.scatter_add(1, indices, -torch.ones(len(t), 1))\n",
    "    return negate_highest.max(dim=1).values\n",
    "\n",
    "t = softmax(batch['outputs'])\n",
    "print('For tensor:')\n",
    "print(t)\n",
    "print('The highest probs are:   {}'.format(highest(t)))\n",
    "print('2nd highest probs are:   {}'.format(second_highest(t)))"
   ]
  },
  {
   "cell_type": "markdown",
   "id": "0967bcfc",
   "metadata": {},
   "source": [
    "Having defined these two functions, creating our new confidence function is just a matter of subtracting tensors."
   ]
  },
  {
   "cell_type": "code",
   "execution_count": 15,
   "id": "d0792528",
   "metadata": {},
   "outputs": [],
   "source": [
    "from spred.confidence import Confidence\n",
    "\n",
    "class ProbabilityDifference(Confidence):\n",
    "    def __call__(self, batch, model=None):\n",
    "        probs = softmax(batch['outputs'])\n",
    "        return highest(probs) - second_highest(probs)"
   ]
  },
  {
   "cell_type": "markdown",
   "id": "c071c4a3",
   "metadata": {},
   "source": [
    "Let's register our new confidence function with Spred Hub and see how it compares to **MaxProb** on MNIST!"
   ]
  },
  {
   "cell_type": "code",
   "execution_count": 17,
   "id": "c14dfbbb",
   "metadata": {},
   "outputs": [
    {
     "name": "stdout",
     "output_type": "stream",
     "text": [
      "Training with config:\n",
      "{'task': {'name': 'mnist', 'confuser': '1<>7'}, 'model': {'name': 'feedforward', 'input_size': 784, 'hidden_sizes': [128, 64], 'output_size': 10, 'loss': {'name': 'ce'}}, 'confidences': [{'name': 'pd'}, {'name': 'max_prob'}], 'optimizer': {'name': 'sgd', 'lr': 0.003, 'momentum': 0.9}, 'bsz': 64, 'n_epochs': 15}\n",
      "Epoch 1:\n"
     ]
    },
    {
     "name": "stderr",
     "output_type": "stream",
     "text": [
      "100%|██████████| 469/469 [00:00<00:00, 485.09it/s]\n",
      "100%|██████████| 469/469 [00:00<00:00, 1006.88it/s]\n"
     ]
    },
    {
     "name": "stdout",
     "output_type": "stream",
     "text": [
      "Epoch 2:\n"
     ]
    },
    {
     "name": "stderr",
     "output_type": "stream",
     "text": [
      "100%|██████████| 469/469 [00:00<00:00, 485.42it/s]\n",
      "100%|██████████| 469/469 [00:00<00:00, 1030.47it/s]\n"
     ]
    },
    {
     "name": "stdout",
     "output_type": "stream",
     "text": [
      "Epoch 3:\n"
     ]
    },
    {
     "name": "stderr",
     "output_type": "stream",
     "text": [
      "100%|██████████| 469/469 [00:00<00:00, 473.68it/s]\n",
      "100%|██████████| 469/469 [00:00<00:00, 1027.87it/s]\n"
     ]
    },
    {
     "name": "stdout",
     "output_type": "stream",
     "text": [
      "Epoch 4:\n"
     ]
    },
    {
     "name": "stderr",
     "output_type": "stream",
     "text": [
      "100%|██████████| 469/469 [00:00<00:00, 488.00it/s]\n",
      "100%|██████████| 469/469 [00:00<00:00, 1026.24it/s]\n"
     ]
    },
    {
     "name": "stdout",
     "output_type": "stream",
     "text": [
      "Epoch 5:\n"
     ]
    },
    {
     "name": "stderr",
     "output_type": "stream",
     "text": [
      "100%|██████████| 469/469 [00:00<00:00, 490.61it/s]\n",
      "100%|██████████| 469/469 [00:00<00:00, 1023.55it/s]\n"
     ]
    },
    {
     "name": "stdout",
     "output_type": "stream",
     "text": [
      "Epoch 6:\n"
     ]
    },
    {
     "name": "stderr",
     "output_type": "stream",
     "text": [
      "100%|██████████| 469/469 [00:00<00:00, 493.01it/s]\n",
      "100%|██████████| 469/469 [00:00<00:00, 1024.39it/s]\n"
     ]
    },
    {
     "name": "stdout",
     "output_type": "stream",
     "text": [
      "Epoch 7:\n"
     ]
    },
    {
     "name": "stderr",
     "output_type": "stream",
     "text": [
      "100%|██████████| 469/469 [00:00<00:00, 484.22it/s]\n",
      "100%|██████████| 469/469 [00:00<00:00, 1028.25it/s]\n"
     ]
    },
    {
     "name": "stdout",
     "output_type": "stream",
     "text": [
      "Epoch 8:\n"
     ]
    },
    {
     "name": "stderr",
     "output_type": "stream",
     "text": [
      "100%|██████████| 469/469 [00:00<00:00, 493.92it/s]\n",
      "100%|██████████| 469/469 [00:00<00:00, 1030.08it/s]\n"
     ]
    },
    {
     "name": "stdout",
     "output_type": "stream",
     "text": [
      "Epoch 9:\n"
     ]
    },
    {
     "name": "stderr",
     "output_type": "stream",
     "text": [
      "100%|██████████| 469/469 [00:00<00:00, 486.08it/s]\n",
      "100%|██████████| 469/469 [00:00<00:00, 1013.10it/s]\n"
     ]
    },
    {
     "name": "stdout",
     "output_type": "stream",
     "text": [
      "Epoch 10:\n"
     ]
    },
    {
     "name": "stderr",
     "output_type": "stream",
     "text": [
      "100%|██████████| 469/469 [00:00<00:00, 484.58it/s]\n",
      "100%|██████████| 469/469 [00:00<00:00, 1026.59it/s]\n"
     ]
    },
    {
     "name": "stdout",
     "output_type": "stream",
     "text": [
      "Epoch 11:\n"
     ]
    },
    {
     "name": "stderr",
     "output_type": "stream",
     "text": [
      "100%|██████████| 469/469 [00:00<00:00, 493.23it/s]\n",
      "100%|██████████| 469/469 [00:00<00:00, 1032.83it/s]\n"
     ]
    },
    {
     "name": "stdout",
     "output_type": "stream",
     "text": [
      "Epoch 12:\n"
     ]
    },
    {
     "name": "stderr",
     "output_type": "stream",
     "text": [
      "100%|██████████| 469/469 [00:00<00:00, 494.23it/s]\n",
      "100%|██████████| 469/469 [00:00<00:00, 1031.51it/s]\n"
     ]
    },
    {
     "name": "stdout",
     "output_type": "stream",
     "text": [
      "Epoch 13:\n"
     ]
    },
    {
     "name": "stderr",
     "output_type": "stream",
     "text": [
      "100%|██████████| 469/469 [00:00<00:00, 494.33it/s]\n",
      "100%|██████████| 469/469 [00:00<00:00, 1031.75it/s]\n"
     ]
    },
    {
     "name": "stdout",
     "output_type": "stream",
     "text": [
      "Epoch 14:\n"
     ]
    },
    {
     "name": "stderr",
     "output_type": "stream",
     "text": [
      "100%|██████████| 469/469 [00:00<00:00, 494.10it/s]\n",
      "100%|██████████| 469/469 [00:00<00:00, 1033.21it/s]\n"
     ]
    },
    {
     "name": "stdout",
     "output_type": "stream",
     "text": [
      "Epoch 15:\n"
     ]
    },
    {
     "name": "stderr",
     "output_type": "stream",
     "text": [
      "100%|██████████| 469/469 [00:00<00:00, 494.84it/s]\n",
      "100%|██████████| 469/469 [00:00<00:00, 1031.45it/s]\n"
     ]
    },
    {
     "name": "stdout",
     "output_type": "stream",
     "text": [
      "Best validation accuracy at epoch 13\n"
     ]
    },
    {
     "name": "stderr",
     "output_type": "stream",
     "text": [
      "100%|██████████| 157/157 [00:00<00:00, 193.30it/s]\n"
     ]
    },
    {
     "name": "stdout",
     "output_type": "stream",
     "text": [
      "{'name': 'pd'}\n",
      "{\n",
      "    \"accuracy\": 0.832,\n",
      "    \"aupr\": 0.9779232713171533,\n",
      "    \"auroc\": 0.8898709721268315,\n",
      "    \"avg_crr_conf\": 0.7856407915259926,\n",
      "    \"avg_err_conf\": 0.15752664469182492,\n",
      "    \"avg_non_abstain\": 1.0,\n",
      "    \"capacity\": 0.9656274848082692,\n",
      "    \"kendall_tau\": 0.11012906364468865,\n",
      "    \"n_correct\": 8320,\n",
      "    \"n_errors\": 1680,\n",
      "    \"validation_loss\": 0.3699249263591827\n",
      "}\n"
     ]
    },
    {
     "name": "stderr",
     "output_type": "stream",
     "text": [
      "100%|██████████| 157/157 [00:00<00:00, 172.45it/s]\n"
     ]
    },
    {
     "name": "stdout",
     "output_type": "stream",
     "text": [
      "{'name': 'max_prob'}\n",
      "{\n",
      "    \"accuracy\": 0.8324,\n",
      "    \"aupr\": 0.978779551792224,\n",
      "    \"auroc\": 0.894889722790241,\n",
      "    \"avg_crr_conf\": 0.879590612207394,\n",
      "    \"avg_err_conf\": 0.5321226840869908,\n",
      "    \"avg_non_abstain\": 1.0,\n",
      "    \"capacity\": 0.9667102629270714,\n",
      "    \"kendall_tau\": 0.10511034888908513,\n",
      "    \"n_correct\": 8324,\n",
      "    \"n_errors\": 1676,\n",
      "    \"validation_loss\": 0.3691183358051215\n",
      "}\n",
      "Training with config:\n",
      "{'task': {'name': 'mnist', 'confuser': '1<>7'}, 'model': {'name': 'feedforward', 'input_size': 784, 'hidden_sizes': [128, 64], 'output_size': 10, 'loss': {'name': 'ce'}}, 'confidences': [{'name': 'pd'}, {'name': 'max_prob'}], 'optimizer': {'name': 'sgd', 'lr': 0.003, 'momentum': 0.9}, 'bsz': 64, 'n_epochs': 15}\n",
      "Epoch 1:\n"
     ]
    },
    {
     "name": "stderr",
     "output_type": "stream",
     "text": [
      "100%|██████████| 469/469 [00:01<00:00, 357.01it/s]\n",
      "100%|██████████| 469/469 [00:00<00:00, 795.29it/s]\n"
     ]
    },
    {
     "name": "stdout",
     "output_type": "stream",
     "text": [
      "Epoch 2:\n"
     ]
    },
    {
     "name": "stderr",
     "output_type": "stream",
     "text": [
      "100%|██████████| 469/469 [00:01<00:00, 454.92it/s]\n",
      "100%|██████████| 469/469 [00:00<00:00, 987.15it/s]\n"
     ]
    },
    {
     "name": "stdout",
     "output_type": "stream",
     "text": [
      "Epoch 3:\n"
     ]
    },
    {
     "name": "stderr",
     "output_type": "stream",
     "text": [
      "100%|██████████| 469/469 [00:01<00:00, 444.92it/s]\n",
      "100%|██████████| 469/469 [00:00<00:00, 994.87it/s] \n"
     ]
    },
    {
     "name": "stdout",
     "output_type": "stream",
     "text": [
      "Epoch 4:\n"
     ]
    },
    {
     "name": "stderr",
     "output_type": "stream",
     "text": [
      "100%|██████████| 469/469 [00:00<00:00, 470.96it/s]\n",
      "100%|██████████| 469/469 [00:00<00:00, 1012.34it/s]\n"
     ]
    },
    {
     "name": "stdout",
     "output_type": "stream",
     "text": [
      "Epoch 5:\n"
     ]
    },
    {
     "name": "stderr",
     "output_type": "stream",
     "text": [
      "100%|██████████| 469/469 [00:01<00:00, 465.97it/s]\n",
      "100%|██████████| 469/469 [00:00<00:00, 1022.46it/s]\n"
     ]
    },
    {
     "name": "stdout",
     "output_type": "stream",
     "text": [
      "Epoch 6:\n"
     ]
    },
    {
     "name": "stderr",
     "output_type": "stream",
     "text": [
      "100%|██████████| 469/469 [00:00<00:00, 486.61it/s]\n",
      "100%|██████████| 469/469 [00:00<00:00, 1033.18it/s]\n"
     ]
    },
    {
     "name": "stdout",
     "output_type": "stream",
     "text": [
      "Epoch 7:\n"
     ]
    },
    {
     "name": "stderr",
     "output_type": "stream",
     "text": [
      "100%|██████████| 469/469 [00:00<00:00, 494.62it/s]\n",
      "100%|██████████| 469/469 [00:00<00:00, 1034.66it/s]\n"
     ]
    },
    {
     "name": "stdout",
     "output_type": "stream",
     "text": [
      "Epoch 8:\n"
     ]
    },
    {
     "name": "stderr",
     "output_type": "stream",
     "text": [
      "100%|██████████| 469/469 [00:00<00:00, 495.24it/s]\n",
      "100%|██████████| 469/469 [00:00<00:00, 1033.18it/s]\n"
     ]
    },
    {
     "name": "stdout",
     "output_type": "stream",
     "text": [
      "Epoch 9:\n"
     ]
    },
    {
     "name": "stderr",
     "output_type": "stream",
     "text": [
      "100%|██████████| 469/469 [00:00<00:00, 490.04it/s]\n",
      "100%|██████████| 469/469 [00:00<00:00, 1004.90it/s]\n"
     ]
    },
    {
     "name": "stdout",
     "output_type": "stream",
     "text": [
      "Epoch 10:\n"
     ]
    },
    {
     "name": "stderr",
     "output_type": "stream",
     "text": [
      "100%|██████████| 469/469 [00:00<00:00, 473.34it/s]\n",
      "100%|██████████| 469/469 [00:00<00:00, 1022.73it/s]\n"
     ]
    },
    {
     "name": "stdout",
     "output_type": "stream",
     "text": [
      "Epoch 11:\n"
     ]
    },
    {
     "name": "stderr",
     "output_type": "stream",
     "text": [
      "100%|██████████| 469/469 [00:00<00:00, 491.66it/s]\n",
      "100%|██████████| 469/469 [00:00<00:00, 1031.83it/s]\n"
     ]
    },
    {
     "name": "stdout",
     "output_type": "stream",
     "text": [
      "Epoch 12:\n"
     ]
    },
    {
     "name": "stderr",
     "output_type": "stream",
     "text": [
      "100%|██████████| 469/469 [00:00<00:00, 486.68it/s]\n",
      "100%|██████████| 469/469 [00:00<00:00, 1016.70it/s]\n"
     ]
    },
    {
     "name": "stdout",
     "output_type": "stream",
     "text": [
      "Epoch 13:\n"
     ]
    },
    {
     "name": "stderr",
     "output_type": "stream",
     "text": [
      "100%|██████████| 469/469 [00:01<00:00, 440.22it/s]\n",
      "100%|██████████| 469/469 [00:00<00:00, 998.73it/s] \n"
     ]
    },
    {
     "name": "stdout",
     "output_type": "stream",
     "text": [
      "Epoch 14:\n"
     ]
    },
    {
     "name": "stderr",
     "output_type": "stream",
     "text": [
      "100%|██████████| 469/469 [00:00<00:00, 482.02it/s]\n",
      "100%|██████████| 469/469 [00:00<00:00, 1007.20it/s]\n"
     ]
    },
    {
     "name": "stdout",
     "output_type": "stream",
     "text": [
      "Epoch 15:\n"
     ]
    },
    {
     "name": "stderr",
     "output_type": "stream",
     "text": [
      "100%|██████████| 469/469 [00:01<00:00, 457.45it/s]\n",
      "100%|██████████| 469/469 [00:00<00:00, 991.07it/s]\n"
     ]
    },
    {
     "name": "stdout",
     "output_type": "stream",
     "text": [
      "Best validation accuracy at epoch 15\n"
     ]
    },
    {
     "name": "stderr",
     "output_type": "stream",
     "text": [
      "100%|██████████| 157/157 [00:00<00:00, 192.92it/s]\n"
     ]
    },
    {
     "name": "stdout",
     "output_type": "stream",
     "text": [
      "{'name': 'pd'}\n",
      "{\n",
      "    \"accuracy\": 0.8354,\n",
      "    \"aupr\": 0.9800258465732052,\n",
      "    \"auroc\": 0.8983424388197707,\n",
      "    \"avg_crr_conf\": 0.7960002686447551,\n",
      "    \"avg_err_conf\": 0.16810311348984336,\n",
      "    \"avg_non_abstain\": 1.0,\n",
      "    \"capacity\": 0.9680869472059617,\n",
      "    \"kendall_tau\": 0.10165756118022928,\n",
      "    \"n_correct\": 8354,\n",
      "    \"n_errors\": 1646,\n",
      "    \"validation_loss\": 0.3575221951220446\n",
      "}\n"
     ]
    },
    {
     "name": "stderr",
     "output_type": "stream",
     "text": [
      "100%|██████████| 157/157 [00:00<00:00, 198.11it/s]\n"
     ]
    },
    {
     "name": "stdout",
     "output_type": "stream",
     "text": [
      "{'name': 'max_prob'}\n",
      "{\n",
      "    \"accuracy\": 0.8368,\n",
      "    \"aupr\": 0.9797141077350833,\n",
      "    \"auroc\": 0.8959459164581225,\n",
      "    \"avg_crr_conf\": 0.8839383455132265,\n",
      "    \"avg_err_conf\": 0.5410547893238711,\n",
      "    \"avg_non_abstain\": 1.0,\n",
      "    \"capacity\": 0.968037015648591,\n",
      "    \"kendall_tau\": 0.10405412015427586,\n",
      "    \"n_correct\": 8368,\n",
      "    \"n_errors\": 1632,\n",
      "    \"validation_loss\": 0.3562178361188075\n",
      "}\n",
      "Training with config:\n",
      "{'task': {'name': 'mnist', 'confuser': '1<>7'}, 'model': {'name': 'feedforward', 'input_size': 784, 'hidden_sizes': [128, 64], 'output_size': 10, 'loss': {'name': 'ce'}}, 'confidences': [{'name': 'pd'}, {'name': 'max_prob'}], 'optimizer': {'name': 'sgd', 'lr': 0.003, 'momentum': 0.9}, 'bsz': 64, 'n_epochs': 15}\n",
      "Epoch 1:\n"
     ]
    },
    {
     "name": "stderr",
     "output_type": "stream",
     "text": [
      "100%|██████████| 469/469 [00:00<00:00, 478.91it/s]\n",
      "100%|██████████| 469/469 [00:00<00:00, 1002.61it/s]\n"
     ]
    },
    {
     "name": "stdout",
     "output_type": "stream",
     "text": [
      "Epoch 2:\n"
     ]
    },
    {
     "name": "stderr",
     "output_type": "stream",
     "text": [
      "100%|██████████| 469/469 [00:00<00:00, 493.71it/s]\n",
      "100%|██████████| 469/469 [00:00<00:00, 1028.32it/s]\n"
     ]
    },
    {
     "name": "stdout",
     "output_type": "stream",
     "text": [
      "Epoch 3:\n"
     ]
    },
    {
     "name": "stderr",
     "output_type": "stream",
     "text": [
      "100%|██████████| 469/469 [00:00<00:00, 486.86it/s]\n",
      "100%|██████████| 469/469 [00:00<00:00, 1011.32it/s]\n"
     ]
    },
    {
     "name": "stdout",
     "output_type": "stream",
     "text": [
      "Epoch 4:\n"
     ]
    },
    {
     "name": "stderr",
     "output_type": "stream",
     "text": [
      "100%|██████████| 469/469 [00:00<00:00, 471.36it/s]\n",
      "100%|██████████| 469/469 [00:00<00:00, 1021.96it/s]\n"
     ]
    },
    {
     "name": "stdout",
     "output_type": "stream",
     "text": [
      "Epoch 5:\n"
     ]
    },
    {
     "name": "stderr",
     "output_type": "stream",
     "text": [
      "100%|██████████| 469/469 [00:00<00:00, 480.89it/s]\n",
      "100%|██████████| 469/469 [00:00<00:00, 1001.26it/s]\n"
     ]
    },
    {
     "name": "stdout",
     "output_type": "stream",
     "text": [
      "Epoch 6:\n"
     ]
    },
    {
     "name": "stderr",
     "output_type": "stream",
     "text": [
      "100%|██████████| 469/469 [00:00<00:00, 487.83it/s]\n",
      "100%|██████████| 469/469 [00:00<00:00, 1026.96it/s]\n"
     ]
    },
    {
     "name": "stdout",
     "output_type": "stream",
     "text": [
      "Epoch 7:\n"
     ]
    },
    {
     "name": "stderr",
     "output_type": "stream",
     "text": [
      "100%|██████████| 469/469 [00:00<00:00, 489.31it/s]\n",
      "100%|██████████| 469/469 [00:00<00:00, 1028.26it/s]\n"
     ]
    },
    {
     "name": "stdout",
     "output_type": "stream",
     "text": [
      "Epoch 8:\n"
     ]
    },
    {
     "name": "stderr",
     "output_type": "stream",
     "text": [
      "100%|██████████| 469/469 [00:00<00:00, 493.17it/s]\n",
      "100%|██████████| 469/469 [00:00<00:00, 1025.85it/s]\n"
     ]
    },
    {
     "name": "stdout",
     "output_type": "stream",
     "text": [
      "Epoch 9:\n"
     ]
    },
    {
     "name": "stderr",
     "output_type": "stream",
     "text": [
      "100%|██████████| 469/469 [00:00<00:00, 491.59it/s]\n",
      "100%|██████████| 469/469 [00:00<00:00, 1025.35it/s]\n"
     ]
    },
    {
     "name": "stdout",
     "output_type": "stream",
     "text": [
      "Epoch 10:\n"
     ]
    },
    {
     "name": "stderr",
     "output_type": "stream",
     "text": [
      "100%|██████████| 469/469 [00:00<00:00, 493.91it/s]\n",
      "100%|██████████| 469/469 [00:00<00:00, 1027.01it/s]\n"
     ]
    },
    {
     "name": "stdout",
     "output_type": "stream",
     "text": [
      "Epoch 11:\n"
     ]
    },
    {
     "name": "stderr",
     "output_type": "stream",
     "text": [
      "100%|██████████| 469/469 [00:00<00:00, 492.54it/s]\n",
      "100%|██████████| 469/469 [00:00<00:00, 1033.06it/s]\n"
     ]
    },
    {
     "name": "stdout",
     "output_type": "stream",
     "text": [
      "Epoch 12:\n"
     ]
    },
    {
     "name": "stderr",
     "output_type": "stream",
     "text": [
      "100%|██████████| 469/469 [00:00<00:00, 493.45it/s]\n",
      "100%|██████████| 469/469 [00:00<00:00, 1029.54it/s]\n"
     ]
    },
    {
     "name": "stdout",
     "output_type": "stream",
     "text": [
      "Epoch 13:\n"
     ]
    },
    {
     "name": "stderr",
     "output_type": "stream",
     "text": [
      "100%|██████████| 469/469 [00:00<00:00, 494.10it/s]\n",
      "100%|██████████| 469/469 [00:00<00:00, 1030.52it/s]\n"
     ]
    },
    {
     "name": "stdout",
     "output_type": "stream",
     "text": [
      "Epoch 14:\n"
     ]
    },
    {
     "name": "stderr",
     "output_type": "stream",
     "text": [
      "100%|██████████| 469/469 [00:00<00:00, 494.32it/s]\n",
      "100%|██████████| 469/469 [00:00<00:00, 1030.91it/s]\n"
     ]
    },
    {
     "name": "stdout",
     "output_type": "stream",
     "text": [
      "Epoch 15:\n"
     ]
    },
    {
     "name": "stderr",
     "output_type": "stream",
     "text": [
      "100%|██████████| 469/469 [00:00<00:00, 494.62it/s]\n",
      "100%|██████████| 469/469 [00:00<00:00, 1030.71it/s]\n"
     ]
    },
    {
     "name": "stdout",
     "output_type": "stream",
     "text": [
      "Best validation accuracy at epoch 15\n"
     ]
    },
    {
     "name": "stderr",
     "output_type": "stream",
     "text": [
      "100%|██████████| 157/157 [00:00<00:00, 196.43it/s]\n"
     ]
    },
    {
     "name": "stdout",
     "output_type": "stream",
     "text": [
      "{'name': 'pd'}\n",
      "{\n",
      "    \"accuracy\": 0.8371,\n",
      "    \"aupr\": 0.9794497226623422,\n",
      "    \"auroc\": 0.89371363719597,\n",
      "    \"avg_crr_conf\": 0.7957151940490963,\n",
      "    \"avg_err_conf\": 0.14657750798925584,\n",
      "    \"avg_non_abstain\": 1.0,\n",
      "    \"capacity\": 0.9678395806016994,\n",
      "    \"kendall_tau\": 0.10628636280403002,\n",
      "    \"n_correct\": 8371,\n",
      "    \"n_errors\": 1629,\n",
      "    \"validation_loss\": 0.3521101088470714\n",
      "}\n"
     ]
    },
    {
     "name": "stderr",
     "output_type": "stream",
     "text": [
      "100%|██████████| 157/157 [00:00<00:00, 196.56it/s]\n"
     ]
    },
    {
     "name": "stdout",
     "output_type": "stream",
     "text": [
      "{'name': 'max_prob'}\n",
      "{\n",
      "    \"accuracy\": 0.837,\n",
      "    \"aupr\": 0.9804241621593914,\n",
      "    \"auroc\": 0.8998930961438382,\n",
      "    \"avg_crr_conf\": 0.886528678489415,\n",
      "    \"avg_err_conf\": 0.5329948014642564,\n",
      "    \"avg_non_abstain\": 1.0,\n",
      "    \"capacity\": 0.9687515785744342,\n",
      "    \"kendall_tau\": 0.1001070870989731,\n",
      "    \"n_correct\": 8370,\n",
      "    \"n_errors\": 1630,\n",
      "    \"validation_loss\": 0.3533239082735815\n",
      "}\n",
      "Training with config:\n",
      "{'task': {'name': 'mnist', 'confuser': '1<>7'}, 'model': {'name': 'feedforward', 'input_size': 784, 'hidden_sizes': [128, 64], 'output_size': 10, 'loss': {'name': 'ce'}}, 'confidences': [{'name': 'pd'}, {'name': 'max_prob'}], 'optimizer': {'name': 'sgd', 'lr': 0.003, 'momentum': 0.9}, 'bsz': 64, 'n_epochs': 15}\n",
      "Epoch 1:\n"
     ]
    },
    {
     "name": "stderr",
     "output_type": "stream",
     "text": [
      "100%|██████████| 469/469 [00:00<00:00, 469.82it/s]\n",
      "100%|██████████| 469/469 [00:00<00:00, 932.18it/s]\n"
     ]
    },
    {
     "name": "stdout",
     "output_type": "stream",
     "text": [
      "Epoch 2:\n"
     ]
    },
    {
     "name": "stderr",
     "output_type": "stream",
     "text": [
      "100%|██████████| 469/469 [00:00<00:00, 492.92it/s]\n",
      "100%|██████████| 469/469 [00:00<00:00, 1029.96it/s]\n"
     ]
    },
    {
     "name": "stdout",
     "output_type": "stream",
     "text": [
      "Epoch 3:\n"
     ]
    },
    {
     "name": "stderr",
     "output_type": "stream",
     "text": [
      "100%|██████████| 469/469 [00:00<00:00, 493.98it/s]\n",
      "100%|██████████| 469/469 [00:00<00:00, 1034.86it/s]\n"
     ]
    },
    {
     "name": "stdout",
     "output_type": "stream",
     "text": [
      "Epoch 4:\n"
     ]
    },
    {
     "name": "stderr",
     "output_type": "stream",
     "text": [
      "100%|██████████| 469/469 [00:00<00:00, 493.14it/s]\n",
      "100%|██████████| 469/469 [00:00<00:00, 1030.04it/s]\n"
     ]
    },
    {
     "name": "stdout",
     "output_type": "stream",
     "text": [
      "Epoch 5:\n"
     ]
    },
    {
     "name": "stderr",
     "output_type": "stream",
     "text": [
      "100%|██████████| 469/469 [00:00<00:00, 491.75it/s]\n",
      "100%|██████████| 469/469 [00:00<00:00, 1025.46it/s]\n"
     ]
    },
    {
     "name": "stdout",
     "output_type": "stream",
     "text": [
      "Epoch 6:\n"
     ]
    },
    {
     "name": "stderr",
     "output_type": "stream",
     "text": [
      "100%|██████████| 469/469 [00:00<00:00, 493.95it/s]\n",
      "100%|██████████| 469/469 [00:00<00:00, 1028.11it/s]\n"
     ]
    },
    {
     "name": "stdout",
     "output_type": "stream",
     "text": [
      "Epoch 7:\n"
     ]
    },
    {
     "name": "stderr",
     "output_type": "stream",
     "text": [
      "100%|██████████| 469/469 [00:00<00:00, 493.96it/s]\n",
      "100%|██████████| 469/469 [00:00<00:00, 1030.75it/s]\n"
     ]
    },
    {
     "name": "stdout",
     "output_type": "stream",
     "text": [
      "Epoch 8:\n"
     ]
    },
    {
     "name": "stderr",
     "output_type": "stream",
     "text": [
      "100%|██████████| 469/469 [00:00<00:00, 494.72it/s]\n",
      "100%|██████████| 469/469 [00:00<00:00, 1034.20it/s]\n"
     ]
    },
    {
     "name": "stdout",
     "output_type": "stream",
     "text": [
      "Epoch 9:\n"
     ]
    },
    {
     "name": "stderr",
     "output_type": "stream",
     "text": [
      "100%|██████████| 469/469 [00:00<00:00, 494.10it/s]\n",
      "100%|██████████| 469/469 [00:00<00:00, 1032.18it/s]\n"
     ]
    },
    {
     "name": "stdout",
     "output_type": "stream",
     "text": [
      "Epoch 10:\n"
     ]
    },
    {
     "name": "stderr",
     "output_type": "stream",
     "text": [
      "100%|██████████| 469/469 [00:00<00:00, 494.61it/s]\n",
      "100%|██████████| 469/469 [00:00<00:00, 1033.13it/s]\n"
     ]
    },
    {
     "name": "stdout",
     "output_type": "stream",
     "text": [
      "Epoch 11:\n"
     ]
    },
    {
     "name": "stderr",
     "output_type": "stream",
     "text": [
      "100%|██████████| 469/469 [00:00<00:00, 495.22it/s]\n",
      "100%|██████████| 469/469 [00:00<00:00, 1030.32it/s]\n"
     ]
    },
    {
     "name": "stdout",
     "output_type": "stream",
     "text": [
      "Epoch 12:\n"
     ]
    },
    {
     "name": "stderr",
     "output_type": "stream",
     "text": [
      "100%|██████████| 469/469 [00:00<00:00, 495.18it/s]\n",
      "100%|██████████| 469/469 [00:00<00:00, 1033.62it/s]\n"
     ]
    },
    {
     "name": "stdout",
     "output_type": "stream",
     "text": [
      "Epoch 13:\n"
     ]
    },
    {
     "name": "stderr",
     "output_type": "stream",
     "text": [
      "100%|██████████| 469/469 [00:00<00:00, 495.53it/s]\n",
      "100%|██████████| 469/469 [00:00<00:00, 1034.34it/s]\n"
     ]
    },
    {
     "name": "stdout",
     "output_type": "stream",
     "text": [
      "Epoch 14:\n"
     ]
    },
    {
     "name": "stderr",
     "output_type": "stream",
     "text": [
      "100%|██████████| 469/469 [00:00<00:00, 496.03it/s]\n",
      "100%|██████████| 469/469 [00:00<00:00, 1032.47it/s]\n"
     ]
    },
    {
     "name": "stdout",
     "output_type": "stream",
     "text": [
      "Epoch 15:\n"
     ]
    },
    {
     "name": "stderr",
     "output_type": "stream",
     "text": [
      "100%|██████████| 469/469 [00:00<00:00, 493.81it/s]\n",
      "100%|██████████| 469/469 [00:00<00:00, 1036.03it/s]\n"
     ]
    },
    {
     "name": "stdout",
     "output_type": "stream",
     "text": [
      "Best validation accuracy at epoch 15\n"
     ]
    },
    {
     "name": "stderr",
     "output_type": "stream",
     "text": [
      "100%|██████████| 157/157 [00:00<00:00, 196.92it/s]\n"
     ]
    },
    {
     "name": "stdout",
     "output_type": "stream",
     "text": [
      "{'name': 'pd'}\n",
      "{\n",
      "    \"accuracy\": 0.8316,\n",
      "    \"aupr\": 0.9792006734571972,\n",
      "    \"auroc\": 0.8975153354607037,\n",
      "    \"avg_crr_conf\": 0.8012703725707078,\n",
      "    \"avg_err_conf\": 0.17670128235235066,\n",
      "    \"avg_non_abstain\": 1.0,\n",
      "    \"capacity\": 0.9669210584227127,\n",
      "    \"kendall_tau\": 0.10248466453929637,\n",
      "    \"n_correct\": 8316,\n",
      "    \"n_errors\": 1684,\n",
      "    \"validation_loss\": 0.3641617734246193\n",
      "}\n"
     ]
    },
    {
     "name": "stderr",
     "output_type": "stream",
     "text": [
      "100%|██████████| 157/157 [00:00<00:00, 198.07it/s]\n"
     ]
    },
    {
     "name": "stdout",
     "output_type": "stream",
     "text": [
      "{'name': 'max_prob'}\n",
      "{\n",
      "    \"accuracy\": 0.8342,\n",
      "    \"aupr\": 0.9791946095456732,\n",
      "    \"auroc\": 0.8960734394733698,\n",
      "    \"avg_crr_conf\": 0.8872531996756342,\n",
      "    \"avg_err_conf\": 0.5454737721112152,\n",
      "    \"avg_non_abstain\": 1.0,\n",
      "    \"capacity\": 0.9671897613776177,\n",
      "    \"kendall_tau\": 0.10392663282779395,\n",
      "    \"n_correct\": 8342,\n",
      "    \"n_errors\": 1658,\n",
      "    \"validation_loss\": 0.3616740887711762\n",
      "}\n",
      "Training with config:\n",
      "{'task': {'name': 'mnist', 'confuser': '1<>7'}, 'model': {'name': 'feedforward', 'input_size': 784, 'hidden_sizes': [128, 64], 'output_size': 10, 'loss': {'name': 'ce'}}, 'confidences': [{'name': 'pd'}, {'name': 'max_prob'}], 'optimizer': {'name': 'sgd', 'lr': 0.003, 'momentum': 0.9}, 'bsz': 64, 'n_epochs': 15}\n",
      "Epoch 1:\n"
     ]
    },
    {
     "name": "stderr",
     "output_type": "stream",
     "text": [
      "100%|██████████| 469/469 [00:00<00:00, 497.18it/s]\n",
      "100%|██████████| 469/469 [00:00<00:00, 1031.69it/s]\n"
     ]
    },
    {
     "name": "stdout",
     "output_type": "stream",
     "text": [
      "Epoch 2:\n"
     ]
    },
    {
     "name": "stderr",
     "output_type": "stream",
     "text": [
      "100%|██████████| 469/469 [00:00<00:00, 495.08it/s]\n",
      "100%|██████████| 469/469 [00:00<00:00, 1030.73it/s]\n"
     ]
    },
    {
     "name": "stdout",
     "output_type": "stream",
     "text": [
      "Epoch 3:\n"
     ]
    },
    {
     "name": "stderr",
     "output_type": "stream",
     "text": [
      "100%|██████████| 469/469 [00:00<00:00, 494.37it/s]\n",
      "100%|██████████| 469/469 [00:00<00:00, 1031.47it/s]\n"
     ]
    },
    {
     "name": "stdout",
     "output_type": "stream",
     "text": [
      "Epoch 4:\n"
     ]
    },
    {
     "name": "stderr",
     "output_type": "stream",
     "text": [
      "100%|██████████| 469/469 [00:00<00:00, 493.92it/s]\n",
      "100%|██████████| 469/469 [00:00<00:00, 1031.66it/s]\n"
     ]
    },
    {
     "name": "stdout",
     "output_type": "stream",
     "text": [
      "Epoch 5:\n"
     ]
    },
    {
     "name": "stderr",
     "output_type": "stream",
     "text": [
      "100%|██████████| 469/469 [00:00<00:00, 491.36it/s]\n",
      "100%|██████████| 469/469 [00:00<00:00, 1032.09it/s]\n"
     ]
    },
    {
     "name": "stdout",
     "output_type": "stream",
     "text": [
      "Epoch 6:\n"
     ]
    },
    {
     "name": "stderr",
     "output_type": "stream",
     "text": [
      "100%|██████████| 469/469 [00:00<00:00, 489.75it/s]\n",
      "100%|██████████| 469/469 [00:00<00:00, 1029.05it/s]\n"
     ]
    },
    {
     "name": "stdout",
     "output_type": "stream",
     "text": [
      "Epoch 7:\n"
     ]
    },
    {
     "name": "stderr",
     "output_type": "stream",
     "text": [
      "100%|██████████| 469/469 [00:00<00:00, 493.73it/s]\n",
      "100%|██████████| 469/469 [00:00<00:00, 1031.00it/s]\n"
     ]
    },
    {
     "name": "stdout",
     "output_type": "stream",
     "text": [
      "Epoch 8:\n"
     ]
    },
    {
     "name": "stderr",
     "output_type": "stream",
     "text": [
      "100%|██████████| 469/469 [00:00<00:00, 495.35it/s]\n",
      "100%|██████████| 469/469 [00:00<00:00, 1034.38it/s]\n"
     ]
    },
    {
     "name": "stdout",
     "output_type": "stream",
     "text": [
      "Epoch 9:\n"
     ]
    },
    {
     "name": "stderr",
     "output_type": "stream",
     "text": [
      "100%|██████████| 469/469 [00:00<00:00, 495.02it/s]\n",
      "100%|██████████| 469/469 [00:00<00:00, 1029.46it/s]\n"
     ]
    },
    {
     "name": "stdout",
     "output_type": "stream",
     "text": [
      "Epoch 10:\n"
     ]
    },
    {
     "name": "stderr",
     "output_type": "stream",
     "text": [
      "100%|██████████| 469/469 [00:00<00:00, 496.23it/s]\n",
      "100%|██████████| 469/469 [00:00<00:00, 1029.78it/s]\n"
     ]
    },
    {
     "name": "stdout",
     "output_type": "stream",
     "text": [
      "Epoch 11:\n"
     ]
    },
    {
     "name": "stderr",
     "output_type": "stream",
     "text": [
      "100%|██████████| 469/469 [00:00<00:00, 493.59it/s]\n",
      "100%|██████████| 469/469 [00:00<00:00, 1028.20it/s]\n"
     ]
    },
    {
     "name": "stdout",
     "output_type": "stream",
     "text": [
      "Epoch 12:\n"
     ]
    },
    {
     "name": "stderr",
     "output_type": "stream",
     "text": [
      "100%|██████████| 469/469 [00:00<00:00, 490.97it/s]\n",
      "100%|██████████| 469/469 [00:00<00:00, 1032.99it/s]\n"
     ]
    },
    {
     "name": "stdout",
     "output_type": "stream",
     "text": [
      "Epoch 13:\n"
     ]
    },
    {
     "name": "stderr",
     "output_type": "stream",
     "text": [
      "100%|██████████| 469/469 [00:00<00:00, 495.79it/s]\n",
      "100%|██████████| 469/469 [00:00<00:00, 1030.75it/s]\n"
     ]
    },
    {
     "name": "stdout",
     "output_type": "stream",
     "text": [
      "Epoch 14:\n"
     ]
    },
    {
     "name": "stderr",
     "output_type": "stream",
     "text": [
      "100%|██████████| 469/469 [00:00<00:00, 496.39it/s]\n",
      "100%|██████████| 469/469 [00:00<00:00, 1031.34it/s]\n"
     ]
    },
    {
     "name": "stdout",
     "output_type": "stream",
     "text": [
      "Epoch 15:\n"
     ]
    },
    {
     "name": "stderr",
     "output_type": "stream",
     "text": [
      "100%|██████████| 469/469 [00:01<00:00, 466.20it/s]\n",
      "100%|██████████| 469/469 [00:00<00:00, 996.56it/s] \n"
     ]
    },
    {
     "name": "stdout",
     "output_type": "stream",
     "text": [
      "Best validation accuracy at epoch 15\n"
     ]
    },
    {
     "name": "stderr",
     "output_type": "stream",
     "text": [
      "100%|██████████| 157/157 [00:00<00:00, 181.31it/s]\n"
     ]
    },
    {
     "name": "stdout",
     "output_type": "stream",
     "text": [
      "{'name': 'pd'}\n",
      "{\n",
      "    \"accuracy\": 0.8343,\n",
      "    \"aupr\": 0.9792335358123887,\n",
      "    \"auroc\": 0.8951868337255037,\n",
      "    \"avg_crr_conf\": 0.7934748972439586,\n",
      "    \"avg_err_conf\": 0.17026627847028916,\n",
      "    \"avg_non_abstain\": 1.0,\n",
      "    \"capacity\": 0.9671762419852432,\n",
      "    \"kendall_tau\": 0.10481316627449636,\n",
      "    \"n_correct\": 8343,\n",
      "    \"n_errors\": 1657,\n",
      "    \"validation_loss\": 0.35976705666939923\n",
      "}\n"
     ]
    },
    {
     "name": "stderr",
     "output_type": "stream",
     "text": [
      "100%|██████████| 157/157 [00:00<00:00, 191.34it/s]\n"
     ]
    },
    {
     "name": "stdout",
     "output_type": "stream",
     "text": [
      "{'name': 'max_prob'}\n",
      "{\n",
      "    \"accuracy\": 0.8294,\n",
      "    \"aupr\": 0.9793726208801214,\n",
      "    \"auroc\": 0.8993765461607156,\n",
      "    \"avg_crr_conf\": 0.8847409859353559,\n",
      "    \"avg_err_conf\": 0.54040733785101,\n",
      "    \"avg_non_abstain\": 1.0,\n",
      "    \"capacity\": 0.9665833045089435,\n",
      "    \"kendall_tau\": 0.10062345383928438,\n",
      "    \"n_correct\": 8294,\n",
      "    \"n_errors\": 1706,\n",
      "    \"validation_loss\": 0.3589679164111994\n",
      "}\n"
     ]
    }
   ],
   "source": [
    "from spred.hub import spred_hub\n",
    "spred_hub.register_confidence_fn(\"pd\", ProbabilityDifference)\n",
    "confs = [{\"name\": \"pd\"},\n",
    "         {\"name\": \"max_prob\"}]\n",
    "config = {\"task\": task_config,\n",
    "          \"model\": model_config,\n",
    "          \"confidences\": confs,\n",
    "          \"optimizer\": {\"name\": \"sgd\",\n",
    "                        \"lr\": 0.003,\n",
    "                        \"momentum\": 0.9},\n",
    "          \"bsz\": 64,\n",
    "          \"n_epochs\": 15}\n",
    "exp = Experiment(config)\n",
    "n_trials = 5\n",
    "result_db2 = ResultDatabase([exp.run() for _ in range(n_trials)])"
   ]
  },
  {
   "cell_type": "code",
   "execution_count": 20,
   "id": "9d0334cd",
   "metadata": {},
   "outputs": [
    {
     "data": {
      "image/png": "[encoded data removed]",
      "text/plain": [
       "<Figure size 432x288 with 1 Axes>"
      ]
     },
     "metadata": {},
     "output_type": "display_data"
    }
   ],
   "source": [
    "from spred.analytics import plot_evaluation_metric\n",
    "plot_evaluation_metric(result_db2, \"kendall_tau\")"
   ]
  },
  {
   "cell_type": "markdown",
   "id": "c4f98d0b",
   "metadata": {},
   "source": [
    "While **Probability Difference** is comparable to **MaxProb**, generally it seems that **MaxProb** is still a somewhat better choice for MNIST!"
   ]
  },
  {
   "cell_type": "markdown",
   "id": "2dd1ad23",
   "metadata": {},
   "source": [
    "### END OF TUTORIAL"
   ]
  },
  {
   "cell_type": "code",
   "execution_count": null,
   "id": "f0457a9e",
   "metadata": {},
   "outputs": [],
   "source": []
  }
 ],
 "metadata": {
  "kernelspec": {
   "display_name": "Python 3",
   "language": "python",
   "name": "python3"
  },
  "language_info": {
   "codemirror_mode": {
    "name": "ipython",
    "version": 3
   },
   "file_extension": ".py",
   "mimetype": "text/x-python",
   "name": "python",
   "nbconvert_exporter": "python",
   "pygments_lexer": "ipython3",
   "version": "3.8.8"
  }
 },
 "nbformat": 4,
 "nbformat_minor": 5
}
