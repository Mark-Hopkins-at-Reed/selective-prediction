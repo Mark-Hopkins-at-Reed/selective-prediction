{
 "cells": [
  {
   "cell_type": "markdown",
   "id": "d9e085ac",
   "metadata": {},
   "source": [
    "## Adding a new confidence function to ```spred```\n",
    "--------------------------------------------------------------\n",
    "\n",
    "In this tutorial, we show how to add a new confidence function for selective prediction. \n",
    "\n",
    "**Before doing this tutorial, it is recommended that you first go through the tutorial \"Adding a new task to ```spred```\".**\n",
    "\n",
    "Let's begin by setting up a task and training a prediction function for it. In this tutorial, we'll use the classic MNIST handwritten digit recognition task, but we randomly swap the labels of ones and sevens to make those labels synthetically \"harder\"."
   ]
  },
  {
   "cell_type": "code",
   "execution_count": 1,
   "id": "b4321f10",
   "metadata": {},
   "outputs": [],
   "source": [
    "task_config = {\"name\": \"mnist\",\n",
    "               \"confuser\": \"1<>7\"}"
   ]
  },
  {
   "cell_type": "markdown",
   "id": "b1ae4987",
   "metadata": {},
   "source": [
    "For our prediction function, we'll use a simple feedforward neural network with two hidden layers, trained with a standard cross-entropy loss. MNIST images are always 28x28 pixels, thus the input vectors have size 784. As there are 10 digits, the output size of the network is 10."
   ]
  },
  {
   "cell_type": "code",
   "execution_count": 2,
   "id": "23866fbf",
   "metadata": {},
   "outputs": [],
   "source": [
    "model_config = {\"architecture\": \"feedforward\",\n",
    "                \"input_size\": 784,\n",
    "                \"hidden_sizes\": [128, 64],\n",
    "                \"output_size\": 10,\n",
    "                \"loss\": {\n",
    "                    \"name\": \"ce\"\n",
    "                }}"
   ]
  },
  {
   "cell_type": "markdown",
   "id": "ac3b859e",
   "metadata": {},
   "source": [
    "Before creating a new confidence function, let's try two baselines on the \"confused\" MNIST task:\n",
    "1. **\"random\"**: just associate a random confidence with each prediction\n",
    "2. **\"max_prob\"**: use the softmax probability of the prediction as its confidence"
   ]
  },
  {
   "cell_type": "code",
   "execution_count": 3,
   "id": "4e2dfbf1",
   "metadata": {},
   "outputs": [],
   "source": [
    "confs = [{\"name\": \"random\"},\n",
    "         {\"name\": \"max_prob\"}]"
   ]
  },
  {
   "cell_type": "markdown",
   "id": "666524c8",
   "metadata": {},
   "source": [
    "Now that we've specified our task, our model, and our confidences, let's bundle them together into an experiment configuration. We'll also specify a couple extra details, like the optimizer (stochastic gradient descent with momentum of 0.9 and a learning rate of 0.003), the batch size (64), and the number of training epochs (30)."
   ]
  },
  {
   "cell_type": "code",
   "execution_count": 4,
   "id": "869470bc",
   "metadata": {},
   "outputs": [],
   "source": [
    "config = {\"task\": task_config,\n",
    "          \"network\": model_config,\n",
    "          \"confidences\": confs,\n",
    "          \"optimizer\": {\"name\": \"sgd\",\n",
    "                        \"lr\": 0.003,\n",
    "                        \"momentum\": 0.9},\n",
    "          \"bsz\": 64,\n",
    "          \"n_epochs\": 15}"
   ]
  },
  {
   "cell_type": "markdown",
   "id": "412623bd",
   "metadata": {},
   "source": [
    "Let's run 5 trials of the experiment and visualize the results."
   ]
  },
  {
   "cell_type": "code",
   "execution_count": 5,
   "id": "05a48921",
   "metadata": {},
   "outputs": [
    {
     "name": "stdout",
     "output_type": "stream",
     "text": [
      "Downloading http://yann.lecun.com/exdb/mnist/train-images-idx3-ubyte.gz\n",
      "Using downloaded and verified file: /Users/markhopkins/Documents/projects/selective/selective-prediction/data/mnist/train/MNIST/raw/train-images-idx3-ubyte.gz\n",
      "Extracting /Users/markhopkins/Documents/projects/selective/selective-prediction/data/mnist/train/MNIST/raw/train-images-idx3-ubyte.gz to /Users/markhopkins/Documents/projects/selective/selective-prediction/data/mnist/train/MNIST/raw\n",
      "\n",
      "Downloading http://yann.lecun.com/exdb/mnist/train-labels-idx1-ubyte.gz\n",
      "Using downloaded and verified file: /Users/markhopkins/Documents/projects/selective/selective-prediction/data/mnist/train/MNIST/raw/train-labels-idx1-ubyte.gz\n",
      "Extracting /Users/markhopkins/Documents/projects/selective/selective-prediction/data/mnist/train/MNIST/raw/train-labels-idx1-ubyte.gz to /Users/markhopkins/Documents/projects/selective/selective-prediction/data/mnist/train/MNIST/raw\n",
      "\n",
      "Downloading http://yann.lecun.com/exdb/mnist/t10k-images-idx3-ubyte.gz\n",
      "Using downloaded and verified file: /Users/markhopkins/Documents/projects/selective/selective-prediction/data/mnist/train/MNIST/raw/t10k-images-idx3-ubyte.gz\n",
      "Extracting /Users/markhopkins/Documents/projects/selective/selective-prediction/data/mnist/train/MNIST/raw/t10k-images-idx3-ubyte.gz to /Users/markhopkins/Documents/projects/selective/selective-prediction/data/mnist/train/MNIST/raw\n",
      "\n",
      "Downloading http://yann.lecun.com/exdb/mnist/t10k-labels-idx1-ubyte.gz\n",
      "Using downloaded and verified file: /Users/markhopkins/Documents/projects/selective/selective-prediction/data/mnist/train/MNIST/raw/t10k-labels-idx1-ubyte.gz\n",
      "Extracting /Users/markhopkins/Documents/projects/selective/selective-prediction/data/mnist/train/MNIST/raw/t10k-labels-idx1-ubyte.gz to /Users/markhopkins/Documents/projects/selective/selective-prediction/data/mnist/train/MNIST/raw\n",
      "\n",
      "Processing...\n",
      "Done!\n"
     ]
    },
    {
     "name": "stderr",
     "output_type": "stream",
     "text": [
      "/Users/markhopkins/opt/anaconda3/lib/python3.8/site-packages/torchvision/datasets/mnist.py:502: UserWarning: The given NumPy array is not writeable, and PyTorch does not support non-writeable tensors. This means you can write to the underlying (supposedly non-writeable) NumPy array using the tensor. You may want to copy the array to protect its data or make it writeable before converting it to a tensor. This type of warning will be suppressed for the rest of this program. (Triggered internally at  ../torch/csrc/utils/tensor_numpy.cpp:143.)\n",
      "  return torch.from_numpy(parsed.astype(m[2], copy=False)).view(*s)\n"
     ]
    },
    {
     "name": "stdout",
     "output_type": "stream",
     "text": [
      "Downloading http://yann.lecun.com/exdb/mnist/train-images-idx3-ubyte.gz\n",
      "Using downloaded and verified file: /Users/markhopkins/Documents/projects/selective/selective-prediction/data/mnist/test/MNIST/raw/train-images-idx3-ubyte.gz\n",
      "Extracting /Users/markhopkins/Documents/projects/selective/selective-prediction/data/mnist/test/MNIST/raw/train-images-idx3-ubyte.gz to /Users/markhopkins/Documents/projects/selective/selective-prediction/data/mnist/test/MNIST/raw\n",
      "\n",
      "Downloading http://yann.lecun.com/exdb/mnist/train-labels-idx1-ubyte.gz\n",
      "Using downloaded and verified file: /Users/markhopkins/Documents/projects/selective/selective-prediction/data/mnist/test/MNIST/raw/train-labels-idx1-ubyte.gz\n",
      "Extracting /Users/markhopkins/Documents/projects/selective/selective-prediction/data/mnist/test/MNIST/raw/train-labels-idx1-ubyte.gz to /Users/markhopkins/Documents/projects/selective/selective-prediction/data/mnist/test/MNIST/raw\n",
      "\n",
      "Downloading http://yann.lecun.com/exdb/mnist/t10k-images-idx3-ubyte.gz\n",
      "Using downloaded and verified file: /Users/markhopkins/Documents/projects/selective/selective-prediction/data/mnist/test/MNIST/raw/t10k-images-idx3-ubyte.gz\n",
      "Extracting /Users/markhopkins/Documents/projects/selective/selective-prediction/data/mnist/test/MNIST/raw/t10k-images-idx3-ubyte.gz to /Users/markhopkins/Documents/projects/selective/selective-prediction/data/mnist/test/MNIST/raw\n",
      "\n",
      "Downloading http://yann.lecun.com/exdb/mnist/t10k-labels-idx1-ubyte.gz\n",
      "Using downloaded and verified file: /Users/markhopkins/Documents/projects/selective/selective-prediction/data/mnist/test/MNIST/raw/t10k-labels-idx1-ubyte.gz\n",
      "Extracting /Users/markhopkins/Documents/projects/selective/selective-prediction/data/mnist/test/MNIST/raw/t10k-labels-idx1-ubyte.gz to /Users/markhopkins/Documents/projects/selective/selective-prediction/data/mnist/test/MNIST/raw\n",
      "\n",
      "Processing...\n",
      "Done!\n",
      "Training with config:\n",
      "{'task': {'name': 'mnist', 'confuser': '1<>7'}, 'network': {'architecture': 'feedforward', 'input_size': 784, 'hidden_sizes': [128, 64], 'output_size': 10, 'loss': {'name': 'ce'}}, 'confidences': [{'name': 'random'}, {'name': 'max_prob'}], 'optimizer': {'name': 'sgd', 'lr': 0.003, 'momentum': 0.9}, 'bsz': 64, 'n_epochs': 15}\n",
      "Epoch 1:\n"
     ]
    },
    {
     "name": "stderr",
     "output_type": "stream",
     "text": [
      "100%|██████████| 469/469 [00:01<00:00, 429.48it/s]\n",
      "100%|██████████| 469/469 [00:00<00:00, 865.69it/s]\n"
     ]
    },
    {
     "name": "stdout",
     "output_type": "stream",
     "text": [
      "Epoch 2:\n"
     ]
    },
    {
     "name": "stderr",
     "output_type": "stream",
     "text": [
      "100%|██████████| 469/469 [00:00<00:00, 491.70it/s]\n",
      "100%|██████████| 469/469 [00:00<00:00, 1051.73it/s]\n"
     ]
    },
    {
     "name": "stdout",
     "output_type": "stream",
     "text": [
      "Epoch 3:\n"
     ]
    },
    {
     "name": "stderr",
     "output_type": "stream",
     "text": [
      "100%|██████████| 469/469 [00:00<00:00, 496.05it/s]\n",
      "100%|██████████| 469/469 [00:00<00:00, 1051.06it/s]\n"
     ]
    },
    {
     "name": "stdout",
     "output_type": "stream",
     "text": [
      "Epoch 4:\n"
     ]
    },
    {
     "name": "stderr",
     "output_type": "stream",
     "text": [
      "100%|██████████| 469/469 [00:00<00:00, 487.29it/s]\n",
      "100%|██████████| 469/469 [00:00<00:00, 1057.71it/s]\n"
     ]
    },
    {
     "name": "stdout",
     "output_type": "stream",
     "text": [
      "Epoch 5:\n"
     ]
    },
    {
     "name": "stderr",
     "output_type": "stream",
     "text": [
      "100%|██████████| 469/469 [00:00<00:00, 490.82it/s]\n",
      "100%|██████████| 469/469 [00:00<00:00, 1050.66it/s]\n"
     ]
    },
    {
     "name": "stdout",
     "output_type": "stream",
     "text": [
      "Epoch 6:\n"
     ]
    },
    {
     "name": "stderr",
     "output_type": "stream",
     "text": [
      "100%|██████████| 469/469 [00:00<00:00, 489.89it/s]\n",
      "100%|██████████| 469/469 [00:00<00:00, 1024.50it/s]\n"
     ]
    },
    {
     "name": "stdout",
     "output_type": "stream",
     "text": [
      "Epoch 7:\n"
     ]
    },
    {
     "name": "stderr",
     "output_type": "stream",
     "text": [
      "100%|██████████| 469/469 [00:00<00:00, 498.18it/s]\n",
      "100%|██████████| 469/469 [00:00<00:00, 1061.92it/s]\n"
     ]
    },
    {
     "name": "stdout",
     "output_type": "stream",
     "text": [
      "Epoch 8:\n"
     ]
    },
    {
     "name": "stderr",
     "output_type": "stream",
     "text": [
      "100%|██████████| 469/469 [00:00<00:00, 503.04it/s]\n",
      "100%|██████████| 469/469 [00:00<00:00, 1061.82it/s]\n"
     ]
    },
    {
     "name": "stdout",
     "output_type": "stream",
     "text": [
      "Epoch 9:\n"
     ]
    },
    {
     "name": "stderr",
     "output_type": "stream",
     "text": [
      "100%|██████████| 469/469 [00:00<00:00, 502.39it/s]\n",
      "100%|██████████| 469/469 [00:00<00:00, 1065.13it/s]\n"
     ]
    },
    {
     "name": "stdout",
     "output_type": "stream",
     "text": [
      "Epoch 10:\n"
     ]
    },
    {
     "name": "stderr",
     "output_type": "stream",
     "text": [
      "100%|██████████| 469/469 [00:00<00:00, 501.54it/s]\n",
      "100%|██████████| 469/469 [00:00<00:00, 1065.19it/s]\n"
     ]
    },
    {
     "name": "stdout",
     "output_type": "stream",
     "text": [
      "Epoch 11:\n"
     ]
    },
    {
     "name": "stderr",
     "output_type": "stream",
     "text": [
      "100%|██████████| 469/469 [00:00<00:00, 504.47it/s]\n",
      "100%|██████████| 469/469 [00:00<00:00, 1059.46it/s]\n"
     ]
    },
    {
     "name": "stdout",
     "output_type": "stream",
     "text": [
      "Epoch 12:\n"
     ]
    },
    {
     "name": "stderr",
     "output_type": "stream",
     "text": [
      "100%|██████████| 469/469 [00:00<00:00, 503.06it/s]\n",
      "100%|██████████| 469/469 [00:00<00:00, 1064.80it/s]\n"
     ]
    },
    {
     "name": "stdout",
     "output_type": "stream",
     "text": [
      "Epoch 13:\n"
     ]
    },
    {
     "name": "stderr",
     "output_type": "stream",
     "text": [
      "100%|██████████| 469/469 [00:00<00:00, 502.17it/s]\n",
      "100%|██████████| 469/469 [00:00<00:00, 1066.03it/s]\n"
     ]
    },
    {
     "name": "stdout",
     "output_type": "stream",
     "text": [
      "Epoch 14:\n"
     ]
    },
    {
     "name": "stderr",
     "output_type": "stream",
     "text": [
      "100%|██████████| 469/469 [00:00<00:00, 503.88it/s]\n",
      "100%|██████████| 469/469 [00:00<00:00, 1064.50it/s]\n"
     ]
    },
    {
     "name": "stdout",
     "output_type": "stream",
     "text": [
      "Epoch 15:\n"
     ]
    },
    {
     "name": "stderr",
     "output_type": "stream",
     "text": [
      "100%|██████████| 469/469 [00:00<00:00, 505.51it/s]\n",
      "100%|██████████| 469/469 [00:00<00:00, 1062.80it/s]\n"
     ]
    },
    {
     "name": "stdout",
     "output_type": "stream",
     "text": [
      "Best validation accuracy at epoch 15\n"
     ]
    },
    {
     "name": "stderr",
     "output_type": "stream",
     "text": [
      "100%|██████████| 157/157 [00:00<00:00, 196.32it/s]\n"
     ]
    },
    {
     "name": "stdout",
     "output_type": "stream",
     "text": [
      "{'name': 'random'}\n",
      "{\n",
      "    \"accuracy\": 0.8352,\n",
      "    \"aupr\": 0.8381612444762954,\n",
      "    \"auroc\": 0.5031556740086671,\n",
      "    \"avg_crr_conf\": 0.41573083354234697,\n",
      "    \"avg_err_conf\": 0.08151017758250237,\n",
      "    \"capacity\": 0.8381296535712889,\n",
      "    \"kendall_tau\": 0.4968443259913328,\n",
      "    \"n_correct\": 8352,\n",
      "    \"n_errors\": 1648,\n",
      "    \"n_published\": 10000,\n",
      "    \"validation_loss\": 0.35750798150232643\n",
      "}\n"
     ]
    },
    {
     "name": "stderr",
     "output_type": "stream",
     "text": [
      "100%|██████████| 157/157 [00:00<00:00, 195.27it/s]\n"
     ]
    },
    {
     "name": "stdout",
     "output_type": "stream",
     "text": [
      "{'name': 'max_prob'}\n",
      "{\n",
      "    \"accuracy\": 0.8316,\n",
      "    \"aupr\": 0.9794844388005637,\n",
      "    \"auroc\": 0.8987585746047742,\n",
      "    \"avg_crr_conf\": 0.7341443186149001,\n",
      "    \"avg_err_conf\": 0.08920475687682629,\n",
      "    \"capacity\": 0.9671696229792252,\n",
      "    \"kendall_tau\": 0.10124153250637812,\n",
      "    \"n_correct\": 8316,\n",
      "    \"n_errors\": 1684,\n",
      "    \"n_published\": 10000,\n",
      "    \"validation_loss\": 0.357208736762879\n",
      "}\n",
      "Training with config:\n",
      "{'task': {'name': 'mnist', 'confuser': '1<>7'}, 'network': {'architecture': 'feedforward', 'input_size': 784, 'hidden_sizes': [128, 64], 'output_size': 10, 'loss': {'name': 'ce'}}, 'confidences': [{'name': 'random'}, {'name': 'max_prob'}], 'optimizer': {'name': 'sgd', 'lr': 0.003, 'momentum': 0.9}, 'bsz': 64, 'n_epochs': 15}\n",
      "Epoch 1:\n"
     ]
    },
    {
     "name": "stderr",
     "output_type": "stream",
     "text": [
      "100%|██████████| 469/469 [00:00<00:00, 504.67it/s]\n",
      "100%|██████████| 469/469 [00:00<00:00, 1069.37it/s]\n"
     ]
    },
    {
     "name": "stdout",
     "output_type": "stream",
     "text": [
      "Epoch 2:\n"
     ]
    },
    {
     "name": "stderr",
     "output_type": "stream",
     "text": [
      "100%|██████████| 469/469 [00:00<00:00, 502.06it/s]\n",
      "100%|██████████| 469/469 [00:00<00:00, 1066.14it/s]\n"
     ]
    },
    {
     "name": "stdout",
     "output_type": "stream",
     "text": [
      "Epoch 3:\n"
     ]
    },
    {
     "name": "stderr",
     "output_type": "stream",
     "text": [
      "100%|██████████| 469/469 [00:00<00:00, 503.68it/s]\n",
      "100%|██████████| 469/469 [00:00<00:00, 1055.13it/s]\n"
     ]
    },
    {
     "name": "stdout",
     "output_type": "stream",
     "text": [
      "Epoch 4:\n"
     ]
    },
    {
     "name": "stderr",
     "output_type": "stream",
     "text": [
      "100%|██████████| 469/469 [00:00<00:00, 502.14it/s]\n",
      "100%|██████████| 469/469 [00:00<00:00, 1021.20it/s]\n"
     ]
    },
    {
     "name": "stdout",
     "output_type": "stream",
     "text": [
      "Epoch 5:\n"
     ]
    },
    {
     "name": "stderr",
     "output_type": "stream",
     "text": [
      "100%|██████████| 469/469 [00:00<00:00, 501.08it/s]\n",
      "100%|██████████| 469/469 [00:00<00:00, 1054.27it/s]\n"
     ]
    },
    {
     "name": "stdout",
     "output_type": "stream",
     "text": [
      "Epoch 6:\n"
     ]
    },
    {
     "name": "stderr",
     "output_type": "stream",
     "text": [
      "100%|██████████| 469/469 [00:00<00:00, 503.07it/s]\n",
      "100%|██████████| 469/469 [00:00<00:00, 1060.39it/s]\n"
     ]
    },
    {
     "name": "stdout",
     "output_type": "stream",
     "text": [
      "Epoch 7:\n"
     ]
    },
    {
     "name": "stderr",
     "output_type": "stream",
     "text": [
      "100%|██████████| 469/469 [00:00<00:00, 502.21it/s]\n",
      "100%|██████████| 469/469 [00:00<00:00, 1059.31it/s]\n"
     ]
    },
    {
     "name": "stdout",
     "output_type": "stream",
     "text": [
      "Epoch 8:\n"
     ]
    },
    {
     "name": "stderr",
     "output_type": "stream",
     "text": [
      "100%|██████████| 469/469 [00:00<00:00, 502.60it/s]\n",
      "100%|██████████| 469/469 [00:00<00:00, 1057.35it/s]\n"
     ]
    },
    {
     "name": "stdout",
     "output_type": "stream",
     "text": [
      "Epoch 9:\n"
     ]
    },
    {
     "name": "stderr",
     "output_type": "stream",
     "text": [
      "100%|██████████| 469/469 [00:00<00:00, 503.83it/s]\n",
      "100%|██████████| 469/469 [00:00<00:00, 1058.25it/s]\n"
     ]
    },
    {
     "name": "stdout",
     "output_type": "stream",
     "text": [
      "Epoch 10:\n"
     ]
    },
    {
     "name": "stderr",
     "output_type": "stream",
     "text": [
      "100%|██████████| 469/469 [00:00<00:00, 505.45it/s]\n",
      "100%|██████████| 469/469 [00:00<00:00, 1061.06it/s]\n"
     ]
    },
    {
     "name": "stdout",
     "output_type": "stream",
     "text": [
      "Epoch 11:\n"
     ]
    },
    {
     "name": "stderr",
     "output_type": "stream",
     "text": [
      "100%|██████████| 469/469 [00:00<00:00, 504.56it/s]\n",
      "100%|██████████| 469/469 [00:00<00:00, 1060.26it/s]\n"
     ]
    },
    {
     "name": "stdout",
     "output_type": "stream",
     "text": [
      "Epoch 12:\n"
     ]
    },
    {
     "name": "stderr",
     "output_type": "stream",
     "text": [
      "100%|██████████| 469/469 [00:00<00:00, 503.60it/s]\n",
      "100%|██████████| 469/469 [00:00<00:00, 1068.44it/s]\n"
     ]
    },
    {
     "name": "stdout",
     "output_type": "stream",
     "text": [
      "Epoch 13:\n"
     ]
    },
    {
     "name": "stderr",
     "output_type": "stream",
     "text": [
      "100%|██████████| 469/469 [00:00<00:00, 500.21it/s]\n",
      "100%|██████████| 469/469 [00:00<00:00, 1063.97it/s]\n"
     ]
    },
    {
     "name": "stdout",
     "output_type": "stream",
     "text": [
      "Epoch 14:\n"
     ]
    },
    {
     "name": "stderr",
     "output_type": "stream",
     "text": [
      "100%|██████████| 469/469 [00:00<00:00, 503.94it/s]\n",
      "100%|██████████| 469/469 [00:00<00:00, 1060.23it/s]\n"
     ]
    },
    {
     "name": "stdout",
     "output_type": "stream",
     "text": [
      "Epoch 15:\n"
     ]
    },
    {
     "name": "stderr",
     "output_type": "stream",
     "text": [
      "100%|██████████| 469/469 [00:00<00:00, 503.53it/s]\n",
      "100%|██████████| 469/469 [00:00<00:00, 1059.57it/s]\n"
     ]
    },
    {
     "name": "stdout",
     "output_type": "stream",
     "text": [
      "Best validation accuracy at epoch 15\n"
     ]
    },
    {
     "name": "stderr",
     "output_type": "stream",
     "text": [
      "100%|██████████| 157/157 [00:00<00:00, 197.49it/s]\n"
     ]
    },
    {
     "name": "stdout",
     "output_type": "stream",
     "text": [
      "{'name': 'random'}\n",
      "{\n",
      "    \"accuracy\": 0.8377,\n",
      "    \"aupr\": 0.8401335176807225,\n",
      "    \"auroc\": 0.5062477424212101,\n",
      "    \"avg_crr_conf\": 0.41996430914402005,\n",
      "    \"avg_err_conf\": 0.08034847280979157,\n",
      "    \"capacity\": 0.8400791671130142,\n",
      "    \"kendall_tau\": 0.49375225757878993,\n",
      "    \"n_correct\": 8377,\n",
      "    \"n_errors\": 1623,\n",
      "    \"n_published\": 10000,\n",
      "    \"validation_loss\": 0.3534612356667306\n",
      "}\n"
     ]
    },
    {
     "name": "stderr",
     "output_type": "stream",
     "text": [
      "100%|██████████| 157/157 [00:00<00:00, 196.73it/s]\n"
     ]
    },
    {
     "name": "stdout",
     "output_type": "stream",
     "text": [
      "{'name': 'max_prob'}\n",
      "{\n",
      "    \"accuracy\": 0.832,\n",
      "    \"aupr\": 0.9798588518642365,\n",
      "    \"auroc\": 0.8999912359775641,\n",
      "    \"avg_crr_conf\": 0.742292472691834,\n",
      "    \"avg_err_conf\": 0.09168231888860465,\n",
      "    \"capacity\": 0.9674381188796856,\n",
      "    \"kendall_tau\": 0.10000887133699633,\n",
      "    \"n_correct\": 8320,\n",
      "    \"n_errors\": 1680,\n",
      "    \"n_published\": 10000,\n",
      "    \"validation_loss\": 0.35338871038643416\n",
      "}\n",
      "Training with config:\n",
      "{'task': {'name': 'mnist', 'confuser': '1<>7'}, 'network': {'architecture': 'feedforward', 'input_size': 784, 'hidden_sizes': [128, 64], 'output_size': 10, 'loss': {'name': 'ce'}}, 'confidences': [{'name': 'random'}, {'name': 'max_prob'}], 'optimizer': {'name': 'sgd', 'lr': 0.003, 'momentum': 0.9}, 'bsz': 64, 'n_epochs': 15}\n",
      "Epoch 1:\n"
     ]
    },
    {
     "name": "stderr",
     "output_type": "stream",
     "text": [
      "100%|██████████| 469/469 [00:00<00:00, 506.86it/s]\n",
      "100%|██████████| 469/469 [00:00<00:00, 1067.73it/s]\n"
     ]
    },
    {
     "name": "stdout",
     "output_type": "stream",
     "text": [
      "Epoch 2:\n"
     ]
    },
    {
     "name": "stderr",
     "output_type": "stream",
     "text": [
      "100%|██████████| 469/469 [00:00<00:00, 504.22it/s]\n",
      "100%|██████████| 469/469 [00:00<00:00, 1061.59it/s]\n"
     ]
    },
    {
     "name": "stdout",
     "output_type": "stream",
     "text": [
      "Epoch 3:\n"
     ]
    },
    {
     "name": "stderr",
     "output_type": "stream",
     "text": [
      "100%|██████████| 469/469 [00:00<00:00, 503.82it/s]\n",
      "100%|██████████| 469/469 [00:00<00:00, 1063.44it/s]\n"
     ]
    },
    {
     "name": "stdout",
     "output_type": "stream",
     "text": [
      "Epoch 4:\n"
     ]
    },
    {
     "name": "stderr",
     "output_type": "stream",
     "text": [
      "100%|██████████| 469/469 [00:00<00:00, 501.57it/s]\n",
      "100%|██████████| 469/469 [00:00<00:00, 1039.73it/s]\n"
     ]
    },
    {
     "name": "stdout",
     "output_type": "stream",
     "text": [
      "Epoch 5:\n"
     ]
    },
    {
     "name": "stderr",
     "output_type": "stream",
     "text": [
      "100%|██████████| 469/469 [00:00<00:00, 503.72it/s]\n",
      "100%|██████████| 469/469 [00:00<00:00, 1062.05it/s]\n"
     ]
    },
    {
     "name": "stdout",
     "output_type": "stream",
     "text": [
      "Epoch 6:\n"
     ]
    },
    {
     "name": "stderr",
     "output_type": "stream",
     "text": [
      "100%|██████████| 469/469 [00:00<00:00, 505.27it/s]\n",
      "100%|██████████| 469/469 [00:00<00:00, 1065.03it/s]\n"
     ]
    },
    {
     "name": "stdout",
     "output_type": "stream",
     "text": [
      "Epoch 7:\n"
     ]
    },
    {
     "name": "stderr",
     "output_type": "stream",
     "text": [
      "100%|██████████| 469/469 [00:00<00:00, 505.15it/s]\n",
      "100%|██████████| 469/469 [00:00<00:00, 1061.37it/s]\n"
     ]
    },
    {
     "name": "stdout",
     "output_type": "stream",
     "text": [
      "Epoch 8:\n"
     ]
    },
    {
     "name": "stderr",
     "output_type": "stream",
     "text": [
      "100%|██████████| 469/469 [00:00<00:00, 504.43it/s]\n",
      "100%|██████████| 469/469 [00:00<00:00, 1064.87it/s]\n"
     ]
    },
    {
     "name": "stdout",
     "output_type": "stream",
     "text": [
      "Epoch 9:\n"
     ]
    },
    {
     "name": "stderr",
     "output_type": "stream",
     "text": [
      "100%|██████████| 469/469 [00:00<00:00, 503.64it/s]\n",
      "100%|██████████| 469/469 [00:00<00:00, 1061.81it/s]\n"
     ]
    },
    {
     "name": "stdout",
     "output_type": "stream",
     "text": [
      "Epoch 10:\n"
     ]
    },
    {
     "name": "stderr",
     "output_type": "stream",
     "text": [
      "100%|██████████| 469/469 [00:00<00:00, 504.65it/s]\n",
      "100%|██████████| 469/469 [00:00<00:00, 1061.96it/s]\n"
     ]
    },
    {
     "name": "stdout",
     "output_type": "stream",
     "text": [
      "Epoch 11:\n"
     ]
    },
    {
     "name": "stderr",
     "output_type": "stream",
     "text": [
      "100%|██████████| 469/469 [00:00<00:00, 504.38it/s]\n",
      "100%|██████████| 469/469 [00:00<00:00, 1062.21it/s]\n"
     ]
    },
    {
     "name": "stdout",
     "output_type": "stream",
     "text": [
      "Epoch 12:\n"
     ]
    },
    {
     "name": "stderr",
     "output_type": "stream",
     "text": [
      "100%|██████████| 469/469 [00:00<00:00, 504.43it/s]\n",
      "100%|██████████| 469/469 [00:00<00:00, 1068.70it/s]\n"
     ]
    },
    {
     "name": "stdout",
     "output_type": "stream",
     "text": [
      "Epoch 13:\n"
     ]
    },
    {
     "name": "stderr",
     "output_type": "stream",
     "text": [
      "100%|██████████| 469/469 [00:00<00:00, 504.52it/s]\n",
      "100%|██████████| 469/469 [00:00<00:00, 1063.38it/s]\n"
     ]
    },
    {
     "name": "stdout",
     "output_type": "stream",
     "text": [
      "Epoch 14:\n"
     ]
    },
    {
     "name": "stderr",
     "output_type": "stream",
     "text": [
      "100%|██████████| 469/469 [00:00<00:00, 504.15it/s]\n",
      "100%|██████████| 469/469 [00:00<00:00, 1064.30it/s]\n"
     ]
    },
    {
     "name": "stdout",
     "output_type": "stream",
     "text": [
      "Epoch 15:\n"
     ]
    },
    {
     "name": "stderr",
     "output_type": "stream",
     "text": [
      "100%|██████████| 469/469 [00:00<00:00, 503.96it/s]\n",
      "100%|██████████| 469/469 [00:00<00:00, 1062.80it/s]\n"
     ]
    },
    {
     "name": "stdout",
     "output_type": "stream",
     "text": [
      "Best validation accuracy at epoch 15\n"
     ]
    },
    {
     "name": "stderr",
     "output_type": "stream",
     "text": [
      "100%|██████████| 157/157 [00:00<00:00, 198.14it/s]\n"
     ]
    },
    {
     "name": "stdout",
     "output_type": "stream",
     "text": [
      "{'name': 'random'}\n",
      "{\n",
      "    \"accuracy\": 0.8333,\n",
      "    \"aupr\": 0.8342972824752581,\n",
      "    \"auroc\": 0.49786104221613375,\n",
      "    \"avg_crr_conf\": 0.4141428767323494,\n",
      "    \"avg_err_conf\": 0.08319367132782936,\n",
      "    \"capacity\": 0.8342634007592087,\n",
      "    \"kendall_tau\": 0.5021389577838662,\n",
      "    \"n_correct\": 8333,\n",
      "    \"n_errors\": 1667,\n",
      "    \"n_published\": 10000,\n",
      "    \"validation_loss\": 0.35434568630661933\n",
      "}\n"
     ]
    },
    {
     "name": "stderr",
     "output_type": "stream",
     "text": [
      "100%|██████████| 157/157 [00:00<00:00, 196.24it/s]\n"
     ]
    },
    {
     "name": "stdout",
     "output_type": "stream",
     "text": [
      "{'name': 'max_prob'}\n",
      "{\n",
      "    \"accuracy\": 0.8353,\n",
      "    \"aupr\": 0.9799755016234377,\n",
      "    \"auroc\": 0.8985390107760984,\n",
      "    \"avg_crr_conf\": 0.7398173006147146,\n",
      "    \"avg_err_conf\": 0.08820384417027236,\n",
      "    \"capacity\": 0.9680115840612471,\n",
      "    \"kendall_tau\": 0.1014610982562028,\n",
      "    \"n_correct\": 8353,\n",
      "    \"n_errors\": 1647,\n",
      "    \"n_published\": 10000,\n",
      "    \"validation_loss\": 0.3544787786378982\n",
      "}\n",
      "Training with config:\n",
      "{'task': {'name': 'mnist', 'confuser': '1<>7'}, 'network': {'architecture': 'feedforward', 'input_size': 784, 'hidden_sizes': [128, 64], 'output_size': 10, 'loss': {'name': 'ce'}}, 'confidences': [{'name': 'random'}, {'name': 'max_prob'}], 'optimizer': {'name': 'sgd', 'lr': 0.003, 'momentum': 0.9}, 'bsz': 64, 'n_epochs': 15}\n",
      "Epoch 1:\n"
     ]
    },
    {
     "name": "stderr",
     "output_type": "stream",
     "text": [
      "100%|██████████| 469/469 [00:00<00:00, 505.57it/s]\n",
      "100%|██████████| 469/469 [00:00<00:00, 1060.81it/s]\n"
     ]
    },
    {
     "name": "stdout",
     "output_type": "stream",
     "text": [
      "Epoch 2:\n"
     ]
    },
    {
     "name": "stderr",
     "output_type": "stream",
     "text": [
      "100%|██████████| 469/469 [00:00<00:00, 504.26it/s]\n",
      "100%|██████████| 469/469 [00:00<00:00, 1068.05it/s]\n"
     ]
    },
    {
     "name": "stdout",
     "output_type": "stream",
     "text": [
      "Epoch 3:\n"
     ]
    },
    {
     "name": "stderr",
     "output_type": "stream",
     "text": [
      "100%|██████████| 469/469 [00:00<00:00, 503.31it/s]\n",
      "100%|██████████| 469/469 [00:00<00:00, 1062.96it/s]\n"
     ]
    },
    {
     "name": "stdout",
     "output_type": "stream",
     "text": [
      "Epoch 4:\n"
     ]
    },
    {
     "name": "stderr",
     "output_type": "stream",
     "text": [
      "100%|██████████| 469/469 [00:00<00:00, 503.04it/s]\n",
      "100%|██████████| 469/469 [00:00<00:00, 1063.07it/s]\n"
     ]
    },
    {
     "name": "stdout",
     "output_type": "stream",
     "text": [
      "Epoch 5:\n"
     ]
    },
    {
     "name": "stderr",
     "output_type": "stream",
     "text": [
      "100%|██████████| 469/469 [00:00<00:00, 503.13it/s]\n",
      "100%|██████████| 469/469 [00:00<00:00, 1055.89it/s]\n"
     ]
    },
    {
     "name": "stdout",
     "output_type": "stream",
     "text": [
      "Epoch 6:\n"
     ]
    },
    {
     "name": "stderr",
     "output_type": "stream",
     "text": [
      "100%|██████████| 469/469 [00:00<00:00, 487.61it/s]\n",
      "100%|██████████| 469/469 [00:00<00:00, 1030.73it/s]\n"
     ]
    },
    {
     "name": "stdout",
     "output_type": "stream",
     "text": [
      "Epoch 7:\n"
     ]
    },
    {
     "name": "stderr",
     "output_type": "stream",
     "text": [
      "100%|██████████| 469/469 [00:00<00:00, 502.38it/s]\n",
      "100%|██████████| 469/469 [00:00<00:00, 1058.13it/s]\n"
     ]
    },
    {
     "name": "stdout",
     "output_type": "stream",
     "text": [
      "Epoch 8:\n"
     ]
    },
    {
     "name": "stderr",
     "output_type": "stream",
     "text": [
      "100%|██████████| 469/469 [00:00<00:00, 498.35it/s]\n",
      "100%|██████████| 469/469 [00:00<00:00, 1059.95it/s]\n"
     ]
    },
    {
     "name": "stdout",
     "output_type": "stream",
     "text": [
      "Epoch 9:\n"
     ]
    },
    {
     "name": "stderr",
     "output_type": "stream",
     "text": [
      "100%|██████████| 469/469 [00:00<00:00, 501.29it/s]\n",
      "100%|██████████| 469/469 [00:00<00:00, 1056.75it/s]\n"
     ]
    },
    {
     "name": "stdout",
     "output_type": "stream",
     "text": [
      "Epoch 10:\n"
     ]
    },
    {
     "name": "stderr",
     "output_type": "stream",
     "text": [
      "100%|██████████| 469/469 [00:00<00:00, 501.34it/s]\n",
      "100%|██████████| 469/469 [00:00<00:00, 1054.41it/s]\n"
     ]
    },
    {
     "name": "stdout",
     "output_type": "stream",
     "text": [
      "Epoch 11:\n"
     ]
    },
    {
     "name": "stderr",
     "output_type": "stream",
     "text": [
      "100%|██████████| 469/469 [00:00<00:00, 489.80it/s]\n",
      "100%|██████████| 469/469 [00:00<00:00, 1043.08it/s]\n"
     ]
    },
    {
     "name": "stdout",
     "output_type": "stream",
     "text": [
      "Epoch 12:\n"
     ]
    },
    {
     "name": "stderr",
     "output_type": "stream",
     "text": [
      "100%|██████████| 469/469 [00:00<00:00, 501.19it/s]\n",
      "100%|██████████| 469/469 [00:00<00:00, 1058.82it/s]\n"
     ]
    },
    {
     "name": "stdout",
     "output_type": "stream",
     "text": [
      "Epoch 13:\n"
     ]
    },
    {
     "name": "stderr",
     "output_type": "stream",
     "text": [
      "100%|██████████| 469/469 [00:00<00:00, 499.30it/s]\n",
      "100%|██████████| 469/469 [00:00<00:00, 1058.02it/s]\n"
     ]
    },
    {
     "name": "stdout",
     "output_type": "stream",
     "text": [
      "Epoch 14:\n"
     ]
    },
    {
     "name": "stderr",
     "output_type": "stream",
     "text": [
      "100%|██████████| 469/469 [00:00<00:00, 503.46it/s]\n",
      "100%|██████████| 469/469 [00:00<00:00, 1062.61it/s]\n"
     ]
    },
    {
     "name": "stdout",
     "output_type": "stream",
     "text": [
      "Epoch 15:\n"
     ]
    },
    {
     "name": "stderr",
     "output_type": "stream",
     "text": [
      "100%|██████████| 469/469 [00:00<00:00, 494.98it/s]\n",
      "100%|██████████| 469/469 [00:00<00:00, 1059.91it/s]\n"
     ]
    },
    {
     "name": "stdout",
     "output_type": "stream",
     "text": [
      "Best validation accuracy at epoch 15\n"
     ]
    },
    {
     "name": "stderr",
     "output_type": "stream",
     "text": [
      "100%|██████████| 157/157 [00:00<00:00, 197.15it/s]\n"
     ]
    },
    {
     "name": "stdout",
     "output_type": "stream",
     "text": [
      "{'name': 'random'}\n",
      "{\n",
      "    \"accuracy\": 0.8358,\n",
      "    \"aupr\": 0.840887380207433,\n",
      "    \"auroc\": 0.5087063121418822,\n",
      "    \"avg_crr_conf\": 0.41456876380443575,\n",
      "    \"avg_err_conf\": 0.08001764535307884,\n",
      "    \"capacity\": 0.8408269868624901,\n",
      "    \"kendall_tau\": 0.4912936878581178,\n",
      "    \"n_correct\": 8358,\n",
      "    \"n_errors\": 1642,\n",
      "    \"n_published\": 10000,\n",
      "    \"validation_loss\": 0.3573472622283705\n",
      "}\n"
     ]
    },
    {
     "name": "stderr",
     "output_type": "stream",
     "text": [
      "100%|██████████| 157/157 [00:00<00:00, 196.76it/s]\n"
     ]
    },
    {
     "name": "stdout",
     "output_type": "stream",
     "text": [
      "{'name': 'max_prob'}\n",
      "{\n",
      "    \"accuracy\": 0.8352,\n",
      "    \"aupr\": 0.9803641545555132,\n",
      "    \"auroc\": 0.9015773357000707,\n",
      "    \"avg_crr_conf\": 0.7357031313285232,\n",
      "    \"avg_err_conf\": 0.08678809647411108,\n",
      "    \"capacity\": 0.9684153358798078,\n",
      "    \"kendall_tau\": 0.09842280960551278,\n",
      "    \"n_correct\": 8352,\n",
      "    \"n_errors\": 1648,\n",
      "    \"n_published\": 10000,\n",
      "    \"validation_loss\": 0.35787387799685166\n",
      "}\n",
      "Training with config:\n",
      "{'task': {'name': 'mnist', 'confuser': '1<>7'}, 'network': {'architecture': 'feedforward', 'input_size': 784, 'hidden_sizes': [128, 64], 'output_size': 10, 'loss': {'name': 'ce'}}, 'confidences': [{'name': 'random'}, {'name': 'max_prob'}], 'optimizer': {'name': 'sgd', 'lr': 0.003, 'momentum': 0.9}, 'bsz': 64, 'n_epochs': 15}\n",
      "Epoch 1:\n"
     ]
    },
    {
     "name": "stderr",
     "output_type": "stream",
     "text": [
      "100%|██████████| 469/469 [00:00<00:00, 505.44it/s]\n",
      "100%|██████████| 469/469 [00:00<00:00, 1069.64it/s]\n"
     ]
    },
    {
     "name": "stdout",
     "output_type": "stream",
     "text": [
      "Epoch 2:\n"
     ]
    },
    {
     "name": "stderr",
     "output_type": "stream",
     "text": [
      "100%|██████████| 469/469 [00:00<00:00, 503.66it/s]\n",
      "100%|██████████| 469/469 [00:00<00:00, 1061.49it/s]\n"
     ]
    },
    {
     "name": "stdout",
     "output_type": "stream",
     "text": [
      "Epoch 3:\n"
     ]
    },
    {
     "name": "stderr",
     "output_type": "stream",
     "text": [
      "100%|██████████| 469/469 [00:00<00:00, 503.36it/s]\n",
      "100%|██████████| 469/469 [00:00<00:00, 1058.19it/s]\n"
     ]
    },
    {
     "name": "stdout",
     "output_type": "stream",
     "text": [
      "Epoch 4:\n"
     ]
    },
    {
     "name": "stderr",
     "output_type": "stream",
     "text": [
      "100%|██████████| 469/469 [00:00<00:00, 503.56it/s]\n",
      "100%|██████████| 469/469 [00:00<00:00, 1054.99it/s]\n"
     ]
    },
    {
     "name": "stdout",
     "output_type": "stream",
     "text": [
      "Epoch 5:\n"
     ]
    },
    {
     "name": "stderr",
     "output_type": "stream",
     "text": [
      "100%|██████████| 469/469 [00:00<00:00, 503.82it/s]\n",
      "100%|██████████| 469/469 [00:00<00:00, 1057.96it/s]\n"
     ]
    },
    {
     "name": "stdout",
     "output_type": "stream",
     "text": [
      "Epoch 6:\n"
     ]
    },
    {
     "name": "stderr",
     "output_type": "stream",
     "text": [
      "100%|██████████| 469/469 [00:00<00:00, 503.74it/s]\n",
      "100%|██████████| 469/469 [00:00<00:00, 1058.21it/s]\n"
     ]
    },
    {
     "name": "stdout",
     "output_type": "stream",
     "text": [
      "Epoch 7:\n"
     ]
    },
    {
     "name": "stderr",
     "output_type": "stream",
     "text": [
      "100%|██████████| 469/469 [00:00<00:00, 502.27it/s]\n",
      "100%|██████████| 469/469 [00:00<00:00, 1060.47it/s]\n"
     ]
    },
    {
     "name": "stdout",
     "output_type": "stream",
     "text": [
      "Epoch 8:\n"
     ]
    },
    {
     "name": "stderr",
     "output_type": "stream",
     "text": [
      "100%|██████████| 469/469 [00:00<00:00, 504.26it/s]\n",
      "100%|██████████| 469/469 [00:00<00:00, 1058.01it/s]\n"
     ]
    },
    {
     "name": "stdout",
     "output_type": "stream",
     "text": [
      "Epoch 9:\n"
     ]
    },
    {
     "name": "stderr",
     "output_type": "stream",
     "text": [
      "100%|██████████| 469/469 [00:00<00:00, 503.72it/s]\n",
      "100%|██████████| 469/469 [00:00<00:00, 1059.94it/s]\n"
     ]
    },
    {
     "name": "stdout",
     "output_type": "stream",
     "text": [
      "Epoch 10:\n"
     ]
    },
    {
     "name": "stderr",
     "output_type": "stream",
     "text": [
      "100%|██████████| 469/469 [00:00<00:00, 502.48it/s]\n",
      "100%|██████████| 469/469 [00:00<00:00, 1058.83it/s]\n"
     ]
    },
    {
     "name": "stdout",
     "output_type": "stream",
     "text": [
      "Epoch 11:\n"
     ]
    },
    {
     "name": "stderr",
     "output_type": "stream",
     "text": [
      "100%|██████████| 469/469 [00:00<00:00, 503.94it/s]\n",
      "100%|██████████| 469/469 [00:00<00:00, 1060.89it/s]\n"
     ]
    },
    {
     "name": "stdout",
     "output_type": "stream",
     "text": [
      "Epoch 12:\n"
     ]
    },
    {
     "name": "stderr",
     "output_type": "stream",
     "text": [
      "100%|██████████| 469/469 [00:00<00:00, 496.47it/s]\n",
      "100%|██████████| 469/469 [00:00<00:00, 1053.10it/s]\n"
     ]
    },
    {
     "name": "stdout",
     "output_type": "stream",
     "text": [
      "Epoch 13:\n"
     ]
    },
    {
     "name": "stderr",
     "output_type": "stream",
     "text": [
      "100%|██████████| 469/469 [00:00<00:00, 500.58it/s]\n",
      "100%|██████████| 469/469 [00:00<00:00, 1058.58it/s]\n"
     ]
    },
    {
     "name": "stdout",
     "output_type": "stream",
     "text": [
      "Epoch 14:\n"
     ]
    },
    {
     "name": "stderr",
     "output_type": "stream",
     "text": [
      "100%|██████████| 469/469 [00:00<00:00, 499.44it/s]\n",
      "100%|██████████| 469/469 [00:00<00:00, 1070.28it/s]\n"
     ]
    },
    {
     "name": "stdout",
     "output_type": "stream",
     "text": [
      "Epoch 15:\n"
     ]
    },
    {
     "name": "stderr",
     "output_type": "stream",
     "text": [
      "100%|██████████| 469/469 [00:00<00:00, 495.98it/s]\n",
      "100%|██████████| 469/469 [00:00<00:00, 1065.26it/s]\n"
     ]
    },
    {
     "name": "stdout",
     "output_type": "stream",
     "text": [
      "Best validation accuracy at epoch 14\n"
     ]
    },
    {
     "name": "stderr",
     "output_type": "stream",
     "text": [
      "100%|██████████| 157/157 [00:00<00:00, 197.64it/s]\n"
     ]
    },
    {
     "name": "stdout",
     "output_type": "stream",
     "text": [
      "{'name': 'random'}\n",
      "{\n",
      "    \"accuracy\": 0.8317,\n",
      "    \"aupr\": 0.8232267899672205,\n",
      "    \"auroc\": 0.48351653376089504,\n",
      "    \"avg_crr_conf\": 0.4106423616528511,\n",
      "    \"avg_err_conf\": 0.08587818089723587,\n",
      "    \"capacity\": 0.8231198290954879,\n",
      "    \"kendall_tau\": 0.5164834662391049,\n",
      "    \"n_correct\": 8317,\n",
      "    \"n_errors\": 1683,\n",
      "    \"n_published\": 10000,\n",
      "    \"validation_loss\": 0.3684802339145332\n",
      "}\n"
     ]
    },
    {
     "name": "stderr",
     "output_type": "stream",
     "text": [
      "100%|██████████| 157/157 [00:00<00:00, 196.59it/s]\n"
     ]
    },
    {
     "name": "stdout",
     "output_type": "stream",
     "text": [
      "{'name': 'max_prob'}\n",
      "{\n",
      "    \"accuracy\": 0.834,\n",
      "    \"aupr\": 0.9787125597836223,\n",
      "    \"auroc\": 0.8942547889399324,\n",
      "    \"avg_crr_conf\": 0.7338251188337803,\n",
      "    \"avg_err_conf\": 0.0902533088952303,\n",
      "    \"capacity\": 0.9667792798441659,\n",
      "    \"kendall_tau\": 0.10574528329143913,\n",
      "    \"n_correct\": 8340,\n",
      "    \"n_errors\": 1660,\n",
      "    \"n_published\": 10000,\n",
      "    \"validation_loss\": 0.36804948604790266\n",
      "}\n"
     ]
    }
   ],
   "source": [
    "from spred.experiment import Experiment\n",
    "from spred.analytics import ResultDatabase\n",
    "exp = Experiment(config)\n",
    "n_trials = 5\n",
    "result_db = ResultDatabase([exp.run() for _ in range(n_trials)])"
   ]
  },
  {
   "cell_type": "code",
   "execution_count": 6,
   "id": "96bf6e37",
   "metadata": {},
   "outputs": [
    {
     "data": {
      "image/png": "[encoded data removed]",
      "text/plain": [
       "<Figure size 432x288 with 1 Axes>"
      ]
     },
     "metadata": {},
     "output_type": "display_data"
    }
   ],
   "source": [
    "from spred.analytics import plot_evaluation_metric\n",
    "plot_evaluation_metric(result_db, \"kendall_tau\")"
   ]
  },
  {
   "cell_type": "markdown",
   "id": "6be68b15",
   "metadata": {},
   "source": [
    "As usual, **max_prob** is a strong baseline, consistently giving us a worst-case normalized kendall-tau distance around 0.1. Let's see if we can create a better one! To do so, we need to implement the interface for ```Confidence```, as defined in ```spred.confidence```:\n",
    "\n",
    "    class Confidence:\n",
    "    \n",
    "        @abstractmethod\n",
    "        def __call__(self, batch, model):\n",
    "            \"\"\"\n",
    "            For each prediction in the batch, computes an associated confidence.\n",
    "    \n",
    "            ```batch``` is a dictionary with the following keys:\n",
    "            - ```inputs```: a torch.tensor of shape BxD, where B is the batch size\n",
    "              and D is the dimension of the input vectors. Each row corresponds to\n",
    "              an input instance.\n",
    "            - ```outputs```: a torch.tensor of shape BxL, where B is the batch size\n",
    "              and L is the number of labels. Each row corresponds to the predicted\n",
    "              values for each label. These are not assumed to be normalized.\n",
    "    \n",
    "            This function is expected to return a torch.tensor of shape B,\n",
    "            containing the confidences of each prediction in the batch.\n",
    "    \n",
    "            \"\"\"\n",
    "            ...\n",
    "            \n",
    "We only need to implement the ```__call__``` method, which takes a batch of predictions and returns a tensor containing our computed confidences. Note that the method also takes the trained prediction model as a second argument, in case we'd like to use it for computing the confidences. In this tutorial, we won't, but if you're interested in methods that do, take a look at the implementation of ```MCDropoutConfidence```."
   ]
  },
  {
   "cell_type": "markdown",
   "id": "c3dd8ff8",
   "metadata": {},
   "source": [
    "Before creating a new confidence function, let's look at how **MaxProb** works in a bit more detail. **MaxProb** doesn't care about the input representations, so we won't bother specifying those. For the output values, let's assume we have a 3-label classification task and two predictions:\n",
    "- the first prediction assigns weight -1.0 to class 0, weight -2.5 to class 1, and weight 0.5 to class 2\n",
    "- the second prediction assigns weight -2.0 to class 0, weight 1.5 to class 1, and weight -3.0 to class 2\n"
   ]
  },
  {
   "cell_type": "code",
   "execution_count": 16,
   "id": "e578c1ff",
   "metadata": {},
   "outputs": [],
   "source": [
    "from torch import tensor\n",
    "batch = {'inputs': None, \n",
    "         'outputs': tensor([[-1.0, -2.5,   0.5],\n",
    "                            [-2.0,  1.5,  -3.0]])}\n"
   ]
  },
  {
   "cell_type": "markdown",
   "id": "5880b89d",
   "metadata": {},
   "source": [
    "If we apply the softmax function to the prediction weights, we get two prediction distributions."
   ]
  },
  {
   "cell_type": "code",
   "execution_count": 17,
   "id": "9024893b",
   "metadata": {},
   "outputs": [
    {
     "data": {
      "text/plain": [
       "tensor([[0.1710, 0.0629, 0.7662],\n",
       "        [0.0271, 0.8991, 0.0738]])"
      ]
     },
     "execution_count": 17,
     "metadata": {},
     "output_type": "execute_result"
    }
   ],
   "source": [
    "from spred.util import softmax\n",
    "softmax(batch['outputs'])"
   ]
  },
  {
   "cell_type": "markdown",
   "id": "227c52c2",
   "metadata": {},
   "source": [
    "As its prediction confidence, **MaxProb** uses the probability allocated to the predicted (i.e. the most probable) label. Thus, it assigns a confidence of 0.7662 to the first prediction and a confidence of 0.8991 to the second."
   ]
  },
  {
   "cell_type": "code",
   "execution_count": 18,
   "id": "694049c2",
   "metadata": {},
   "outputs": [
    {
     "name": "stdout",
     "output_type": "stream",
     "text": [
      "Predicted confidences for this batch: tensor([0.7662, 0.8991])\n"
     ]
    }
   ],
   "source": [
    "from spred.confidence import MaxProb\n",
    "max_prob = MaxProb()\n",
    "confs = max_prob(batch)\n",
    "print(\"Predicted confidences for this batch: {}\".format(confs))"
   ]
  },
  {
   "cell_type": "markdown",
   "id": "23789d23",
   "metadata": {},
   "source": [
    "As an alternative, let's implement a confidence function known as **Probability Difference**, which uses the difference between the highest probability and the **second highest** probability. For the above batch, it should therefore assign a confidence of **0.5952** (i.e. 0.7662-0.1710) to the first prediction, and a confidence of **0.8253** (i.e. 0.8991-0.0738) to the second. Let's first create functions that can extract the highest and second highest probabilities from each row of a tensor."
   ]
  },
  {
   "cell_type": "code",
   "execution_count": 27,
   "id": "5f5f640a",
   "metadata": {},
   "outputs": [
    {
     "name": "stdout",
     "output_type": "stream",
     "text": [
      "For tensor:\n",
      "tensor([[0.1710, 0.0629, 0.7662],\n",
      "        [0.0271, 0.8991, 0.0738]])\n",
      "The highest probs are:   tensor([0.7662, 0.8991])\n",
      "2nd highest probs are:   tensor([0.1710, 0.0738])\n"
     ]
    }
   ],
   "source": [
    "import torch\n",
    "\n",
    "def highest(t):\n",
    "    return t.max(dim=1).values\n",
    "\n",
    "def second_highest(t):\n",
    "    indices = t.max(dim=1).indices.unsqueeze(dim=1)\n",
    "    negate_highest = t.scatter_add(1, indices, -torch.ones(len(t), 1))\n",
    "    return negate_highest.max(dim=1).values\n",
    "\n",
    "t = softmax(batch['outputs'])\n",
    "print('For tensor:')\n",
    "print(t)\n",
    "print('The highest probs are:   {}'.format(highest(t)))\n",
    "print('2nd highest probs are:   {}'.format(second_highest(t)))"
   ]
  },
  {
   "cell_type": "markdown",
   "id": "0967bcfc",
   "metadata": {},
   "source": [
    "Having defined these two functions, creating our new confidence function is just a matter of subtracting tensors."
   ]
  },
  {
   "cell_type": "code",
   "execution_count": 29,
   "id": "d0792528",
   "metadata": {},
   "outputs": [],
   "source": [
    "from spred.confidence import Confidence\n",
    "\n",
    "class ProbabilityDifference(Confidence):\n",
    "    def __call__(self, batch, model=None):\n",
    "        probs = softmax(batch['outputs'])\n",
    "        return highest(probs) - second_highest(probs)"
   ]
  },
  {
   "cell_type": "markdown",
   "id": "c071c4a3",
   "metadata": {},
   "source": [
    "Let's register our new confidence function with Spred Hub and see how it compares to **MaxProb** on MNIST!"
   ]
  },
  {
   "cell_type": "code",
   "execution_count": 31,
   "id": "c14dfbbb",
   "metadata": {},
   "outputs": [
    {
     "name": "stdout",
     "output_type": "stream",
     "text": [
      "Training with config:\n",
      "{'task': {'name': 'mnist', 'confuser': '1<>7'}, 'network': {'architecture': 'feedforward', 'input_size': 784, 'hidden_sizes': [128, 64], 'output_size': 10, 'loss': {'name': 'ce'}}, 'confidences': [{'name': 'pd'}, {'name': 'max_prob'}], 'optimizer': {'name': 'sgd', 'lr': 0.003, 'momentum': 0.9}, 'bsz': 64, 'n_epochs': 15}\n",
      "Epoch 1:\n"
     ]
    },
    {
     "name": "stderr",
     "output_type": "stream",
     "text": [
      "100%|██████████| 469/469 [00:01<00:00, 449.70it/s]\n",
      "100%|██████████| 469/469 [00:00<00:00, 914.60it/s]\n"
     ]
    },
    {
     "name": "stdout",
     "output_type": "stream",
     "text": [
      "Epoch 2:\n"
     ]
    },
    {
     "name": "stderr",
     "output_type": "stream",
     "text": [
      "100%|██████████| 469/469 [00:00<00:00, 489.86it/s]\n",
      "100%|██████████| 469/469 [00:00<00:00, 1034.72it/s]\n"
     ]
    },
    {
     "name": "stdout",
     "output_type": "stream",
     "text": [
      "Epoch 3:\n"
     ]
    },
    {
     "name": "stderr",
     "output_type": "stream",
     "text": [
      "100%|██████████| 469/469 [00:00<00:00, 491.27it/s]\n",
      "100%|██████████| 469/469 [00:00<00:00, 1027.90it/s]\n"
     ]
    },
    {
     "name": "stdout",
     "output_type": "stream",
     "text": [
      "Epoch 4:\n"
     ]
    },
    {
     "name": "stderr",
     "output_type": "stream",
     "text": [
      "100%|██████████| 469/469 [00:00<00:00, 491.98it/s]\n",
      "100%|██████████| 469/469 [00:00<00:00, 1031.56it/s]\n"
     ]
    },
    {
     "name": "stdout",
     "output_type": "stream",
     "text": [
      "Epoch 5:\n"
     ]
    },
    {
     "name": "stderr",
     "output_type": "stream",
     "text": [
      "100%|██████████| 469/469 [00:00<00:00, 491.02it/s]\n",
      "100%|██████████| 469/469 [00:00<00:00, 1030.58it/s]\n"
     ]
    },
    {
     "name": "stdout",
     "output_type": "stream",
     "text": [
      "Epoch 6:\n"
     ]
    },
    {
     "name": "stderr",
     "output_type": "stream",
     "text": [
      "100%|██████████| 469/469 [00:00<00:00, 491.88it/s]\n",
      "100%|██████████| 469/469 [00:00<00:00, 1030.49it/s]\n"
     ]
    },
    {
     "name": "stdout",
     "output_type": "stream",
     "text": [
      "Epoch 7:\n"
     ]
    },
    {
     "name": "stderr",
     "output_type": "stream",
     "text": [
      "100%|██████████| 469/469 [00:00<00:00, 478.28it/s]\n",
      "100%|██████████| 469/469 [00:00<00:00, 1026.58it/s]\n"
     ]
    },
    {
     "name": "stdout",
     "output_type": "stream",
     "text": [
      "Epoch 8:\n"
     ]
    },
    {
     "name": "stderr",
     "output_type": "stream",
     "text": [
      "100%|██████████| 469/469 [00:00<00:00, 488.68it/s]\n",
      "100%|██████████| 469/469 [00:00<00:00, 1028.83it/s]\n"
     ]
    },
    {
     "name": "stdout",
     "output_type": "stream",
     "text": [
      "Epoch 9:\n"
     ]
    },
    {
     "name": "stderr",
     "output_type": "stream",
     "text": [
      "100%|██████████| 469/469 [00:00<00:00, 489.81it/s]\n",
      "100%|██████████| 469/469 [00:00<00:00, 1027.38it/s]\n"
     ]
    },
    {
     "name": "stdout",
     "output_type": "stream",
     "text": [
      "Epoch 10:\n"
     ]
    },
    {
     "name": "stderr",
     "output_type": "stream",
     "text": [
      "100%|██████████| 469/469 [00:00<00:00, 490.55it/s]\n",
      "100%|██████████| 469/469 [00:00<00:00, 1031.91it/s]\n"
     ]
    },
    {
     "name": "stdout",
     "output_type": "stream",
     "text": [
      "Epoch 11:\n"
     ]
    },
    {
     "name": "stderr",
     "output_type": "stream",
     "text": [
      "100%|██████████| 469/469 [00:00<00:00, 491.67it/s]\n",
      "100%|██████████| 469/469 [00:00<00:00, 1034.45it/s]\n"
     ]
    },
    {
     "name": "stdout",
     "output_type": "stream",
     "text": [
      "Epoch 12:\n"
     ]
    },
    {
     "name": "stderr",
     "output_type": "stream",
     "text": [
      "100%|██████████| 469/469 [00:00<00:00, 491.85it/s]\n",
      "100%|██████████| 469/469 [00:00<00:00, 1034.41it/s]\n"
     ]
    },
    {
     "name": "stdout",
     "output_type": "stream",
     "text": [
      "Epoch 13:\n"
     ]
    },
    {
     "name": "stderr",
     "output_type": "stream",
     "text": [
      "100%|██████████| 469/469 [00:00<00:00, 491.77it/s]\n",
      "100%|██████████| 469/469 [00:00<00:00, 1035.52it/s]\n"
     ]
    },
    {
     "name": "stdout",
     "output_type": "stream",
     "text": [
      "Epoch 14:\n"
     ]
    },
    {
     "name": "stderr",
     "output_type": "stream",
     "text": [
      "100%|██████████| 469/469 [00:00<00:00, 492.93it/s]\n",
      "100%|██████████| 469/469 [00:00<00:00, 1034.99it/s]\n"
     ]
    },
    {
     "name": "stdout",
     "output_type": "stream",
     "text": [
      "Epoch 15:\n"
     ]
    },
    {
     "name": "stderr",
     "output_type": "stream",
     "text": [
      "100%|██████████| 469/469 [00:00<00:00, 493.60it/s]\n",
      "100%|██████████| 469/469 [00:00<00:00, 1039.20it/s]\n"
     ]
    },
    {
     "name": "stdout",
     "output_type": "stream",
     "text": [
      "Best validation accuracy at epoch 15\n"
     ]
    },
    {
     "name": "stderr",
     "output_type": "stream",
     "text": [
      "100%|██████████| 157/157 [00:00<00:00, 193.28it/s]\n"
     ]
    },
    {
     "name": "stdout",
     "output_type": "stream",
     "text": [
      "{'name': 'pd'}\n",
      "{\n",
      "    \"accuracy\": 0.8303,\n",
      "    \"aupr\": 0.980165885691952,\n",
      "    \"auroc\": 0.9025926618028102,\n",
      "    \"avg_crr_conf\": 0.661533453553915,\n",
      "    \"avg_err_conf\": 0.028568234086036683,\n",
      "    \"capacity\": 0.9674388923135048,\n",
      "    \"kendall_tau\": 0.0974073381971898,\n",
      "    \"n_correct\": 8303,\n",
      "    \"n_errors\": 1697,\n",
      "    \"n_published\": 10000,\n",
      "    \"validation_loss\": 0.3598536282872698\n",
      "}\n"
     ]
    },
    {
     "name": "stderr",
     "output_type": "stream",
     "text": [
      "100%|██████████| 157/157 [00:00<00:00, 197.48it/s]\n"
     ]
    },
    {
     "name": "stdout",
     "output_type": "stream",
     "text": [
      "{'name': 'max_prob'}\n",
      "{\n",
      "    \"accuracy\": 0.8302,\n",
      "    \"aupr\": 0.9798692484859304,\n",
      "    \"auroc\": 0.9012674227533689,\n",
      "    \"avg_crr_conf\": 0.7349814069122076,\n",
      "    \"avg_err_conf\": 0.09188655031919479,\n",
      "    \"capacity\": 0.9675977330639851,\n",
      "    \"kendall_tau\": 0.09873257724663108,\n",
      "    \"n_correct\": 8302,\n",
      "    \"n_errors\": 1698,\n",
      "    \"n_published\": 10000,\n",
      "    \"validation_loss\": 0.3630595789024025\n",
      "}\n",
      "Training with config:\n",
      "{'task': {'name': 'mnist', 'confuser': '1<>7'}, 'network': {'architecture': 'feedforward', 'input_size': 784, 'hidden_sizes': [128, 64], 'output_size': 10, 'loss': {'name': 'ce'}}, 'confidences': [{'name': 'pd'}, {'name': 'max_prob'}], 'optimizer': {'name': 'sgd', 'lr': 0.003, 'momentum': 0.9}, 'bsz': 64, 'n_epochs': 15}\n",
      "Epoch 1:\n"
     ]
    },
    {
     "name": "stderr",
     "output_type": "stream",
     "text": [
      "100%|██████████| 469/469 [00:00<00:00, 477.82it/s]\n",
      "100%|██████████| 469/469 [00:00<00:00, 906.86it/s]\n"
     ]
    },
    {
     "name": "stdout",
     "output_type": "stream",
     "text": [
      "Epoch 2:\n"
     ]
    },
    {
     "name": "stderr",
     "output_type": "stream",
     "text": [
      "100%|██████████| 469/469 [00:00<00:00, 493.69it/s]\n",
      "100%|██████████| 469/469 [00:00<00:00, 1031.85it/s]\n"
     ]
    },
    {
     "name": "stdout",
     "output_type": "stream",
     "text": [
      "Epoch 3:\n"
     ]
    },
    {
     "name": "stderr",
     "output_type": "stream",
     "text": [
      "100%|██████████| 469/469 [00:00<00:00, 493.57it/s]\n",
      "100%|██████████| 469/469 [00:00<00:00, 1031.64it/s]\n"
     ]
    },
    {
     "name": "stdout",
     "output_type": "stream",
     "text": [
      "Epoch 4:\n"
     ]
    },
    {
     "name": "stderr",
     "output_type": "stream",
     "text": [
      "100%|██████████| 469/469 [00:00<00:00, 491.13it/s]\n",
      "100%|██████████| 469/469 [00:00<00:00, 1023.20it/s]\n"
     ]
    },
    {
     "name": "stdout",
     "output_type": "stream",
     "text": [
      "Epoch 5:\n"
     ]
    },
    {
     "name": "stderr",
     "output_type": "stream",
     "text": [
      "100%|██████████| 469/469 [00:00<00:00, 491.43it/s]\n",
      "100%|██████████| 469/469 [00:00<00:00, 1034.14it/s]\n"
     ]
    },
    {
     "name": "stdout",
     "output_type": "stream",
     "text": [
      "Epoch 6:\n"
     ]
    },
    {
     "name": "stderr",
     "output_type": "stream",
     "text": [
      "100%|██████████| 469/469 [00:00<00:00, 493.48it/s]\n",
      "100%|██████████| 469/469 [00:00<00:00, 1035.19it/s]\n"
     ]
    },
    {
     "name": "stdout",
     "output_type": "stream",
     "text": [
      "Epoch 7:\n"
     ]
    },
    {
     "name": "stderr",
     "output_type": "stream",
     "text": [
      "100%|██████████| 469/469 [00:00<00:00, 490.00it/s]\n",
      "100%|██████████| 469/469 [00:00<00:00, 1032.20it/s]\n"
     ]
    },
    {
     "name": "stdout",
     "output_type": "stream",
     "text": [
      "Epoch 8:\n"
     ]
    },
    {
     "name": "stderr",
     "output_type": "stream",
     "text": [
      "100%|██████████| 469/469 [00:00<00:00, 494.46it/s]\n",
      "100%|██████████| 469/469 [00:00<00:00, 1034.39it/s]\n"
     ]
    },
    {
     "name": "stdout",
     "output_type": "stream",
     "text": [
      "Epoch 9:\n"
     ]
    },
    {
     "name": "stderr",
     "output_type": "stream",
     "text": [
      "100%|██████████| 469/469 [00:00<00:00, 492.40it/s]\n",
      "100%|██████████| 469/469 [00:00<00:00, 1035.42it/s]\n"
     ]
    },
    {
     "name": "stdout",
     "output_type": "stream",
     "text": [
      "Epoch 10:\n"
     ]
    },
    {
     "name": "stderr",
     "output_type": "stream",
     "text": [
      "100%|██████████| 469/469 [00:00<00:00, 493.11it/s]\n",
      "100%|██████████| 469/469 [00:00<00:00, 1032.08it/s]\n"
     ]
    },
    {
     "name": "stdout",
     "output_type": "stream",
     "text": [
      "Epoch 11:\n"
     ]
    },
    {
     "name": "stderr",
     "output_type": "stream",
     "text": [
      "100%|██████████| 469/469 [00:00<00:00, 493.51it/s]\n",
      "100%|██████████| 469/469 [00:00<00:00, 1037.04it/s]\n"
     ]
    },
    {
     "name": "stdout",
     "output_type": "stream",
     "text": [
      "Epoch 12:\n"
     ]
    },
    {
     "name": "stderr",
     "output_type": "stream",
     "text": [
      "100%|██████████| 469/469 [00:00<00:00, 492.04it/s]\n",
      "100%|██████████| 469/469 [00:00<00:00, 1034.46it/s]\n"
     ]
    },
    {
     "name": "stdout",
     "output_type": "stream",
     "text": [
      "Epoch 13:\n"
     ]
    },
    {
     "name": "stderr",
     "output_type": "stream",
     "text": [
      "100%|██████████| 469/469 [00:00<00:00, 494.97it/s]\n",
      "100%|██████████| 469/469 [00:00<00:00, 1036.19it/s]\n"
     ]
    },
    {
     "name": "stdout",
     "output_type": "stream",
     "text": [
      "Epoch 14:\n"
     ]
    },
    {
     "name": "stderr",
     "output_type": "stream",
     "text": [
      "100%|██████████| 469/469 [00:00<00:00, 494.59it/s]\n",
      "100%|██████████| 469/469 [00:00<00:00, 1038.10it/s]\n"
     ]
    },
    {
     "name": "stdout",
     "output_type": "stream",
     "text": [
      "Epoch 15:\n"
     ]
    },
    {
     "name": "stderr",
     "output_type": "stream",
     "text": [
      "100%|██████████| 469/469 [00:00<00:00, 496.64it/s]\n",
      "100%|██████████| 469/469 [00:00<00:00, 1040.53it/s]\n"
     ]
    },
    {
     "name": "stdout",
     "output_type": "stream",
     "text": [
      "Best validation accuracy at epoch 15\n"
     ]
    },
    {
     "name": "stderr",
     "output_type": "stream",
     "text": [
      "100%|██████████| 157/157 [00:00<00:00, 196.21it/s]\n"
     ]
    },
    {
     "name": "stdout",
     "output_type": "stream",
     "text": [
      "{'name': 'pd'}\n",
      "{\n",
      "    \"accuracy\": 0.8376,\n",
      "    \"aupr\": 0.9795964327052159,\n",
      "    \"auroc\": 0.8950152191224281,\n",
      "    \"avg_crr_conf\": 0.6618597231626511,\n",
      "    \"avg_err_conf\": 0.025990310413390397,\n",
      "    \"capacity\": 0.9680494163132026,\n",
      "    \"kendall_tau\": 0.10498481763518568,\n",
      "    \"n_correct\": 8376,\n",
      "    \"n_errors\": 1624,\n",
      "    \"n_published\": 10000,\n",
      "    \"validation_loss\": 0.3586862732650368\n",
      "}\n"
     ]
    },
    {
     "name": "stderr",
     "output_type": "stream",
     "text": [
      "100%|██████████| 157/157 [00:00<00:00, 198.87it/s]\n"
     ]
    },
    {
     "name": "stdout",
     "output_type": "stream",
     "text": [
      "{'name': 'max_prob'}\n",
      "{\n",
      "    \"accuracy\": 0.8313,\n",
      "    \"aupr\": 0.9795033468329655,\n",
      "    \"auroc\": 0.8983714097608597,\n",
      "    \"avg_crr_conf\": 0.7354556970134377,\n",
      "    \"avg_err_conf\": 0.09040357412248849,\n",
      "    \"capacity\": 0.9669357747851685,\n",
      "    \"kendall_tau\": 0.10162862589222742,\n",
      "    \"n_correct\": 8313,\n",
      "    \"n_errors\": 1687,\n",
      "    \"n_published\": 10000,\n",
      "    \"validation_loss\": 0.35877333685850643\n",
      "}\n",
      "Training with config:\n",
      "{'task': {'name': 'mnist', 'confuser': '1<>7'}, 'network': {'architecture': 'feedforward', 'input_size': 784, 'hidden_sizes': [128, 64], 'output_size': 10, 'loss': {'name': 'ce'}}, 'confidences': [{'name': 'pd'}, {'name': 'max_prob'}], 'optimizer': {'name': 'sgd', 'lr': 0.003, 'momentum': 0.9}, 'bsz': 64, 'n_epochs': 15}\n",
      "Epoch 1:\n"
     ]
    },
    {
     "name": "stderr",
     "output_type": "stream",
     "text": [
      "100%|██████████| 469/469 [00:00<00:00, 496.91it/s]\n",
      "100%|██████████| 469/469 [00:00<00:00, 1040.28it/s]\n"
     ]
    },
    {
     "name": "stdout",
     "output_type": "stream",
     "text": [
      "Epoch 2:\n"
     ]
    },
    {
     "name": "stderr",
     "output_type": "stream",
     "text": [
      "100%|██████████| 469/469 [00:00<00:00, 495.80it/s]\n",
      "100%|██████████| 469/469 [00:00<00:00, 1040.01it/s]\n"
     ]
    },
    {
     "name": "stdout",
     "output_type": "stream",
     "text": [
      "Epoch 3:\n"
     ]
    },
    {
     "name": "stderr",
     "output_type": "stream",
     "text": [
      "100%|██████████| 469/469 [00:00<00:00, 493.73it/s]\n",
      "100%|██████████| 469/469 [00:00<00:00, 1036.93it/s]\n"
     ]
    },
    {
     "name": "stdout",
     "output_type": "stream",
     "text": [
      "Epoch 4:\n"
     ]
    },
    {
     "name": "stderr",
     "output_type": "stream",
     "text": [
      "100%|██████████| 469/469 [00:00<00:00, 494.28it/s]\n",
      "100%|██████████| 469/469 [00:00<00:00, 1033.79it/s]\n"
     ]
    },
    {
     "name": "stdout",
     "output_type": "stream",
     "text": [
      "Epoch 5:\n"
     ]
    },
    {
     "name": "stderr",
     "output_type": "stream",
     "text": [
      "100%|██████████| 469/469 [00:00<00:00, 495.09it/s]\n",
      "100%|██████████| 469/469 [00:00<00:00, 1037.09it/s]\n"
     ]
    },
    {
     "name": "stdout",
     "output_type": "stream",
     "text": [
      "Epoch 6:\n"
     ]
    },
    {
     "name": "stderr",
     "output_type": "stream",
     "text": [
      "100%|██████████| 469/469 [00:00<00:00, 495.24it/s]\n",
      "100%|██████████| 469/469 [00:00<00:00, 1039.32it/s]\n"
     ]
    },
    {
     "name": "stdout",
     "output_type": "stream",
     "text": [
      "Epoch 7:\n"
     ]
    },
    {
     "name": "stderr",
     "output_type": "stream",
     "text": [
      "100%|██████████| 469/469 [00:01<00:00, 463.89it/s]\n",
      "100%|██████████| 469/469 [00:00<00:00, 895.98it/s]\n"
     ]
    },
    {
     "name": "stdout",
     "output_type": "stream",
     "text": [
      "Epoch 8:\n"
     ]
    },
    {
     "name": "stderr",
     "output_type": "stream",
     "text": [
      "100%|██████████| 469/469 [00:00<00:00, 486.85it/s]\n",
      "100%|██████████| 469/469 [00:00<00:00, 1037.48it/s]\n"
     ]
    },
    {
     "name": "stdout",
     "output_type": "stream",
     "text": [
      "Epoch 9:\n"
     ]
    },
    {
     "name": "stderr",
     "output_type": "stream",
     "text": [
      "100%|██████████| 469/469 [00:00<00:00, 492.28it/s]\n",
      "100%|██████████| 469/469 [00:00<00:00, 1036.13it/s]\n"
     ]
    },
    {
     "name": "stdout",
     "output_type": "stream",
     "text": [
      "Epoch 10:\n"
     ]
    },
    {
     "name": "stderr",
     "output_type": "stream",
     "text": [
      "100%|██████████| 469/469 [00:00<00:00, 495.14it/s]\n",
      "100%|██████████| 469/469 [00:00<00:00, 1039.24it/s]\n"
     ]
    },
    {
     "name": "stdout",
     "output_type": "stream",
     "text": [
      "Epoch 11:\n"
     ]
    },
    {
     "name": "stderr",
     "output_type": "stream",
     "text": [
      "100%|██████████| 469/469 [00:00<00:00, 495.16it/s]\n",
      "100%|██████████| 469/469 [00:00<00:00, 1037.66it/s]\n"
     ]
    },
    {
     "name": "stdout",
     "output_type": "stream",
     "text": [
      "Epoch 12:\n"
     ]
    },
    {
     "name": "stderr",
     "output_type": "stream",
     "text": [
      "100%|██████████| 469/469 [00:00<00:00, 495.00it/s]\n",
      "100%|██████████| 469/469 [00:00<00:00, 1020.05it/s]\n"
     ]
    },
    {
     "name": "stdout",
     "output_type": "stream",
     "text": [
      "Epoch 13:\n"
     ]
    },
    {
     "name": "stderr",
     "output_type": "stream",
     "text": [
      "100%|██████████| 469/469 [00:00<00:00, 496.29it/s]\n",
      "100%|██████████| 469/469 [00:00<00:00, 1036.10it/s]\n"
     ]
    },
    {
     "name": "stdout",
     "output_type": "stream",
     "text": [
      "Epoch 14:\n"
     ]
    },
    {
     "name": "stderr",
     "output_type": "stream",
     "text": [
      "100%|██████████| 469/469 [00:00<00:00, 496.14it/s]\n",
      "100%|██████████| 469/469 [00:00<00:00, 1042.71it/s]\n"
     ]
    },
    {
     "name": "stdout",
     "output_type": "stream",
     "text": [
      "Epoch 15:\n"
     ]
    },
    {
     "name": "stderr",
     "output_type": "stream",
     "text": [
      "100%|██████████| 469/469 [00:00<00:00, 495.28it/s]\n",
      "100%|██████████| 469/469 [00:00<00:00, 1038.40it/s]\n"
     ]
    },
    {
     "name": "stdout",
     "output_type": "stream",
     "text": [
      "Best validation accuracy at epoch 15\n"
     ]
    },
    {
     "name": "stderr",
     "output_type": "stream",
     "text": [
      "100%|██████████| 157/157 [00:00<00:00, 194.59it/s]\n"
     ]
    },
    {
     "name": "stdout",
     "output_type": "stream",
     "text": [
      "{'name': 'pd'}\n",
      "{\n",
      "    \"accuracy\": 0.8356,\n",
      "    \"aupr\": 0.9790955106505024,\n",
      "    \"auroc\": 0.8933366207419469,\n",
      "    \"avg_crr_conf\": 0.6653363290041685,\n",
      "    \"avg_err_conf\": 0.026556782306730746,\n",
      "    \"capacity\": 0.96726410771782,\n",
      "    \"kendall_tau\": 0.10666337925805314,\n",
      "    \"n_correct\": 8356,\n",
      "    \"n_errors\": 1644,\n",
      "    \"n_published\": 10000,\n",
      "    \"validation_loss\": 0.3586533786195099\n",
      "}\n"
     ]
    },
    {
     "name": "stderr",
     "output_type": "stream",
     "text": [
      "100%|██████████| 157/157 [00:00<00:00, 198.83it/s]\n"
     ]
    },
    {
     "name": "stdout",
     "output_type": "stream",
     "text": [
      "{'name': 'max_prob'}\n",
      "{\n",
      "    \"accuracy\": 0.8371,\n",
      "    \"aupr\": 0.9799746388913889,\n",
      "    \"auroc\": 0.8977775519110344,\n",
      "    \"avg_crr_conf\": 0.7412003402262927,\n",
      "    \"avg_err_conf\": 0.08766657452136278,\n",
      "    \"capacity\": 0.9684846880280421,\n",
      "    \"kendall_tau\": 0.10222252142232395,\n",
      "    \"n_correct\": 8371,\n",
      "    \"n_errors\": 1629,\n",
      "    \"n_published\": 10000,\n",
      "    \"validation_loss\": 0.35792807494379153\n",
      "}\n",
      "Training with config:\n",
      "{'task': {'name': 'mnist', 'confuser': '1<>7'}, 'network': {'architecture': 'feedforward', 'input_size': 784, 'hidden_sizes': [128, 64], 'output_size': 10, 'loss': {'name': 'ce'}}, 'confidences': [{'name': 'pd'}, {'name': 'max_prob'}], 'optimizer': {'name': 'sgd', 'lr': 0.003, 'momentum': 0.9}, 'bsz': 64, 'n_epochs': 15}\n",
      "Epoch 1:\n"
     ]
    },
    {
     "name": "stderr",
     "output_type": "stream",
     "text": [
      "100%|██████████| 469/469 [00:00<00:00, 490.95it/s]\n",
      "100%|██████████| 469/469 [00:00<00:00, 1025.78it/s]\n"
     ]
    },
    {
     "name": "stdout",
     "output_type": "stream",
     "text": [
      "Epoch 2:\n"
     ]
    },
    {
     "name": "stderr",
     "output_type": "stream",
     "text": [
      "100%|██████████| 469/469 [00:00<00:00, 494.88it/s]\n",
      "100%|██████████| 469/469 [00:00<00:00, 1031.38it/s]\n"
     ]
    },
    {
     "name": "stdout",
     "output_type": "stream",
     "text": [
      "Epoch 3:\n"
     ]
    },
    {
     "name": "stderr",
     "output_type": "stream",
     "text": [
      "100%|██████████| 469/469 [00:00<00:00, 494.10it/s]\n",
      "100%|██████████| 469/469 [00:00<00:00, 1026.57it/s]\n"
     ]
    },
    {
     "name": "stdout",
     "output_type": "stream",
     "text": [
      "Epoch 4:\n"
     ]
    },
    {
     "name": "stderr",
     "output_type": "stream",
     "text": [
      "100%|██████████| 469/469 [00:00<00:00, 493.73it/s]\n",
      "100%|██████████| 469/469 [00:00<00:00, 1027.19it/s]\n"
     ]
    },
    {
     "name": "stdout",
     "output_type": "stream",
     "text": [
      "Epoch 5:\n"
     ]
    },
    {
     "name": "stderr",
     "output_type": "stream",
     "text": [
      "100%|██████████| 469/469 [00:00<00:00, 493.95it/s]\n",
      "100%|██████████| 469/469 [00:00<00:00, 1033.08it/s]\n"
     ]
    },
    {
     "name": "stdout",
     "output_type": "stream",
     "text": [
      "Epoch 6:\n"
     ]
    },
    {
     "name": "stderr",
     "output_type": "stream",
     "text": [
      "100%|██████████| 469/469 [00:00<00:00, 494.23it/s]\n",
      "100%|██████████| 469/469 [00:00<00:00, 1028.66it/s]\n"
     ]
    },
    {
     "name": "stdout",
     "output_type": "stream",
     "text": [
      "Epoch 7:\n"
     ]
    },
    {
     "name": "stderr",
     "output_type": "stream",
     "text": [
      "100%|██████████| 469/469 [00:00<00:00, 492.29it/s]\n",
      "100%|██████████| 469/469 [00:00<00:00, 1028.76it/s]\n"
     ]
    },
    {
     "name": "stdout",
     "output_type": "stream",
     "text": [
      "Epoch 8:\n"
     ]
    },
    {
     "name": "stderr",
     "output_type": "stream",
     "text": [
      "100%|██████████| 469/469 [00:00<00:00, 475.61it/s]\n",
      "100%|██████████| 469/469 [00:00<00:00, 996.26it/s] \n"
     ]
    },
    {
     "name": "stdout",
     "output_type": "stream",
     "text": [
      "Epoch 9:\n"
     ]
    },
    {
     "name": "stderr",
     "output_type": "stream",
     "text": [
      "100%|██████████| 469/469 [00:00<00:00, 484.23it/s]\n",
      "100%|██████████| 469/469 [00:00<00:00, 1026.99it/s]\n"
     ]
    },
    {
     "name": "stdout",
     "output_type": "stream",
     "text": [
      "Epoch 10:\n"
     ]
    },
    {
     "name": "stderr",
     "output_type": "stream",
     "text": [
      "100%|██████████| 469/469 [00:00<00:00, 490.46it/s]\n",
      "100%|██████████| 469/469 [00:00<00:00, 1023.50it/s]\n"
     ]
    },
    {
     "name": "stdout",
     "output_type": "stream",
     "text": [
      "Epoch 11:\n"
     ]
    },
    {
     "name": "stderr",
     "output_type": "stream",
     "text": [
      "100%|██████████| 469/469 [00:00<00:00, 492.48it/s]\n",
      "100%|██████████| 469/469 [00:00<00:00, 1024.19it/s]\n"
     ]
    },
    {
     "name": "stdout",
     "output_type": "stream",
     "text": [
      "Epoch 12:\n"
     ]
    },
    {
     "name": "stderr",
     "output_type": "stream",
     "text": [
      "100%|██████████| 469/469 [00:00<00:00, 485.98it/s]\n",
      "100%|██████████| 469/469 [00:00<00:00, 964.54it/s]\n"
     ]
    },
    {
     "name": "stdout",
     "output_type": "stream",
     "text": [
      "Epoch 13:\n"
     ]
    },
    {
     "name": "stderr",
     "output_type": "stream",
     "text": [
      "100%|██████████| 469/469 [00:00<00:00, 491.13it/s]\n",
      "100%|██████████| 469/469 [00:00<00:00, 1033.52it/s]\n"
     ]
    },
    {
     "name": "stdout",
     "output_type": "stream",
     "text": [
      "Epoch 14:\n"
     ]
    },
    {
     "name": "stderr",
     "output_type": "stream",
     "text": [
      "100%|██████████| 469/469 [00:00<00:00, 490.92it/s]\n",
      "100%|██████████| 469/469 [00:00<00:00, 1032.09it/s]\n"
     ]
    },
    {
     "name": "stdout",
     "output_type": "stream",
     "text": [
      "Epoch 15:\n"
     ]
    },
    {
     "name": "stderr",
     "output_type": "stream",
     "text": [
      "100%|██████████| 469/469 [00:00<00:00, 488.49it/s]\n",
      "100%|██████████| 469/469 [00:00<00:00, 1033.72it/s]\n"
     ]
    },
    {
     "name": "stdout",
     "output_type": "stream",
     "text": [
      "Best validation accuracy at epoch 15\n"
     ]
    },
    {
     "name": "stderr",
     "output_type": "stream",
     "text": [
      "100%|██████████| 157/157 [00:00<00:00, 193.92it/s]\n"
     ]
    },
    {
     "name": "stdout",
     "output_type": "stream",
     "text": [
      "{'name': 'pd'}\n",
      "{\n",
      "    \"accuracy\": 0.835,\n",
      "    \"aupr\": 0.9796392791075916,\n",
      "    \"auroc\": 0.8969066231174014,\n",
      "    \"avg_crr_conf\": 0.6675695855110884,\n",
      "    \"avg_err_conf\": 0.02461606981009245,\n",
      "    \"capacity\": 0.9676526913363364,\n",
      "    \"kendall_tau\": 0.10309344946470694,\n",
      "    \"n_correct\": 8350,\n",
      "    \"n_errors\": 1650,\n",
      "    \"n_published\": 10000,\n",
      "    \"validation_loss\": 0.3559114168024367\n",
      "}\n"
     ]
    },
    {
     "name": "stderr",
     "output_type": "stream",
     "text": [
      "100%|██████████| 157/157 [00:00<00:00, 198.15it/s]\n"
     ]
    },
    {
     "name": "stdout",
     "output_type": "stream",
     "text": [
      "{'name': 'max_prob'}\n",
      "{\n",
      "    \"accuracy\": 0.834,\n",
      "    \"aupr\": 0.9802857865924985,\n",
      "    \"auroc\": 0.9015210121059778,\n",
      "    \"avg_crr_conf\": 0.7415470286652446,\n",
      "    \"avg_err_conf\": 0.08849724331796169,\n",
      "    \"capacity\": 0.968152892163268,\n",
      "    \"kendall_tau\": 0.0984790240097079,\n",
      "    \"n_correct\": 8340,\n",
      "    \"n_errors\": 1660,\n",
      "    \"n_published\": 10000,\n",
      "    \"validation_loss\": 0.3566953661335502\n",
      "}\n",
      "Training with config:\n",
      "{'task': {'name': 'mnist', 'confuser': '1<>7'}, 'network': {'architecture': 'feedforward', 'input_size': 784, 'hidden_sizes': [128, 64], 'output_size': 10, 'loss': {'name': 'ce'}}, 'confidences': [{'name': 'pd'}, {'name': 'max_prob'}], 'optimizer': {'name': 'sgd', 'lr': 0.003, 'momentum': 0.9}, 'bsz': 64, 'n_epochs': 15}\n",
      "Epoch 1:\n"
     ]
    },
    {
     "name": "stderr",
     "output_type": "stream",
     "text": [
      "100%|██████████| 469/469 [00:00<00:00, 488.89it/s]\n",
      "100%|██████████| 469/469 [00:00<00:00, 918.07it/s]\n"
     ]
    },
    {
     "name": "stdout",
     "output_type": "stream",
     "text": [
      "Epoch 2:\n"
     ]
    },
    {
     "name": "stderr",
     "output_type": "stream",
     "text": [
      "100%|██████████| 469/469 [00:00<00:00, 489.68it/s]\n",
      "100%|██████████| 469/469 [00:00<00:00, 1026.72it/s]\n"
     ]
    },
    {
     "name": "stdout",
     "output_type": "stream",
     "text": [
      "Epoch 3:\n"
     ]
    },
    {
     "name": "stderr",
     "output_type": "stream",
     "text": [
      "100%|██████████| 469/469 [00:00<00:00, 490.30it/s]\n",
      "100%|██████████| 469/469 [00:00<00:00, 1029.22it/s]\n"
     ]
    },
    {
     "name": "stdout",
     "output_type": "stream",
     "text": [
      "Epoch 4:\n"
     ]
    },
    {
     "name": "stderr",
     "output_type": "stream",
     "text": [
      "100%|██████████| 469/469 [00:01<00:00, 344.59it/s]\n",
      "100%|██████████| 469/469 [00:00<00:00, 939.96it/s]\n"
     ]
    },
    {
     "name": "stdout",
     "output_type": "stream",
     "text": [
      "Epoch 5:\n"
     ]
    },
    {
     "name": "stderr",
     "output_type": "stream",
     "text": [
      "100%|██████████| 469/469 [00:00<00:00, 482.09it/s]\n",
      "100%|██████████| 469/469 [00:00<00:00, 1027.66it/s]\n"
     ]
    },
    {
     "name": "stdout",
     "output_type": "stream",
     "text": [
      "Epoch 6:\n"
     ]
    },
    {
     "name": "stderr",
     "output_type": "stream",
     "text": [
      "100%|██████████| 469/469 [00:00<00:00, 480.15it/s]\n",
      "100%|██████████| 469/469 [00:00<00:00, 1031.01it/s]\n"
     ]
    },
    {
     "name": "stdout",
     "output_type": "stream",
     "text": [
      "Epoch 7:\n"
     ]
    },
    {
     "name": "stderr",
     "output_type": "stream",
     "text": [
      "100%|██████████| 469/469 [00:32<00:00, 14.53it/s]\n",
      "100%|██████████| 469/469 [00:00<00:00, 783.93it/s]\n"
     ]
    },
    {
     "name": "stdout",
     "output_type": "stream",
     "text": [
      "Epoch 8:\n"
     ]
    },
    {
     "name": "stderr",
     "output_type": "stream",
     "text": [
      "100%|██████████| 469/469 [00:01<00:00, 460.11it/s]\n",
      "100%|██████████| 469/469 [00:00<00:00, 1006.44it/s]\n"
     ]
    },
    {
     "name": "stdout",
     "output_type": "stream",
     "text": [
      "Epoch 9:\n"
     ]
    },
    {
     "name": "stderr",
     "output_type": "stream",
     "text": [
      "100%|██████████| 469/469 [00:00<00:00, 473.05it/s]\n",
      "100%|██████████| 469/469 [00:00<00:00, 995.36it/s] \n"
     ]
    },
    {
     "name": "stdout",
     "output_type": "stream",
     "text": [
      "Epoch 10:\n"
     ]
    },
    {
     "name": "stderr",
     "output_type": "stream",
     "text": [
      "100%|██████████| 469/469 [00:01<00:00, 466.59it/s]\n",
      "100%|██████████| 469/469 [00:00<00:00, 984.81it/s]\n"
     ]
    },
    {
     "name": "stdout",
     "output_type": "stream",
     "text": [
      "Epoch 11:\n"
     ]
    },
    {
     "name": "stderr",
     "output_type": "stream",
     "text": [
      "100%|██████████| 469/469 [00:00<00:00, 486.59it/s]\n",
      "100%|██████████| 469/469 [00:00<00:00, 811.63it/s]\n"
     ]
    },
    {
     "name": "stdout",
     "output_type": "stream",
     "text": [
      "Epoch 12:\n"
     ]
    },
    {
     "name": "stderr",
     "output_type": "stream",
     "text": [
      "100%|██████████| 469/469 [00:00<00:00, 477.33it/s]\n",
      "100%|██████████| 469/469 [00:00<00:00, 1014.98it/s]\n"
     ]
    },
    {
     "name": "stdout",
     "output_type": "stream",
     "text": [
      "Epoch 13:\n"
     ]
    },
    {
     "name": "stderr",
     "output_type": "stream",
     "text": [
      "100%|██████████| 469/469 [00:00<00:00, 478.60it/s]\n",
      "100%|██████████| 469/469 [00:00<00:00, 1027.90it/s]\n"
     ]
    },
    {
     "name": "stdout",
     "output_type": "stream",
     "text": [
      "Epoch 14:\n"
     ]
    },
    {
     "name": "stderr",
     "output_type": "stream",
     "text": [
      "100%|██████████| 469/469 [00:00<00:00, 489.52it/s]\n",
      "100%|██████████| 469/469 [00:00<00:00, 1015.88it/s]\n"
     ]
    },
    {
     "name": "stdout",
     "output_type": "stream",
     "text": [
      "Epoch 15:\n"
     ]
    },
    {
     "name": "stderr",
     "output_type": "stream",
     "text": [
      "100%|██████████| 469/469 [00:00<00:00, 490.75it/s]\n",
      "100%|██████████| 469/469 [00:00<00:00, 1029.85it/s]\n"
     ]
    },
    {
     "name": "stdout",
     "output_type": "stream",
     "text": [
      "Best validation accuracy at epoch 15\n"
     ]
    },
    {
     "name": "stderr",
     "output_type": "stream",
     "text": [
      "100%|██████████| 157/157 [00:00<00:00, 189.21it/s]\n"
     ]
    },
    {
     "name": "stdout",
     "output_type": "stream",
     "text": [
      "{'name': 'pd'}\n",
      "{\n",
      "    \"accuracy\": 0.8341,\n",
      "    \"aupr\": 0.98022943208942,\n",
      "    \"auroc\": 0.89988588437155,\n",
      "    \"avg_crr_conf\": 0.6631878183737397,\n",
      "    \"avg_err_conf\": 0.02606798850595951,\n",
      "    \"capacity\": 0.9680417284946919,\n",
      "    \"kendall_tau\": 0.10011411562845003,\n",
      "    \"n_correct\": 8341,\n",
      "    \"n_errors\": 1659,\n",
      "    \"n_published\": 10000,\n",
      "    \"validation_loss\": 0.3529173109182127\n",
      "}\n"
     ]
    },
    {
     "name": "stderr",
     "output_type": "stream",
     "text": [
      "100%|██████████| 157/157 [00:00<00:00, 197.27it/s]\n"
     ]
    },
    {
     "name": "stdout",
     "output_type": "stream",
     "text": [
      "{'name': 'max_prob'}\n",
      "{\n",
      "    \"accuracy\": 0.8358,\n",
      "    \"aupr\": 0.980173993252816,\n",
      "    \"auroc\": 0.8987510489049854,\n",
      "    \"avg_crr_conf\": 0.7383852754890918,\n",
      "    \"avg_err_conf\": 0.08815622406601906,\n",
      "    \"capacity\": 0.9682652938117658,\n",
      "    \"kendall_tau\": 0.10124909682686387,\n",
      "    \"n_correct\": 8358,\n",
      "    \"n_errors\": 1642,\n",
      "    \"n_published\": 10000,\n",
      "    \"validation_loss\": 0.35348373252874726\n",
      "}\n"
     ]
    }
   ],
   "source": [
    "from spred.hub import spred_hub\n",
    "spred_hub.register_confidence_fn(\"pd\", ProbabilityDifference)\n",
    "confs = [{\"name\": \"pd\"},\n",
    "         {\"name\": \"max_prob\"}]\n",
    "config = {\"task\": task_config,\n",
    "          \"network\": model_config,\n",
    "          \"confidences\": confs,\n",
    "          \"optimizer\": {\"name\": \"sgd\",\n",
    "                        \"lr\": 0.003,\n",
    "                        \"momentum\": 0.9},\n",
    "          \"bsz\": 64,\n",
    "          \"n_epochs\": 15}\n",
    "exp = Experiment(config)\n",
    "n_trials = 5\n",
    "result_db2 = ResultDatabase([exp.run() for _ in range(n_trials)])"
   ]
  },
  {
   "cell_type": "code",
   "execution_count": 35,
   "id": "9d0334cd",
   "metadata": {},
   "outputs": [
    {
     "data": {
      "image/png": "[encoded data removed]",
      "text/plain": [
       "<Figure size 432x288 with 1 Axes>"
      ]
     },
     "metadata": {},
     "output_type": "display_data"
    }
   ],
   "source": [
    "from spred.analytics import plot_evaluation_metric\n",
    "plot_evaluation_metric(result_db, \"kendall_tau\")"
   ]
  },
  {
   "cell_type": "markdown",
   "id": "c4f98d0b",
   "metadata": {},
   "source": [
    "While **Probability Difference** is comparable to **MaxProb**, generally it seems that **MaxProb** is still a somewhat better choice for MNIST!"
   ]
  },
  {
   "cell_type": "markdown",
   "id": "2dd1ad23",
   "metadata": {},
   "source": [
    "### END OF TUTORIAL"
   ]
  },
  {
   "cell_type": "code",
   "execution_count": null,
   "id": "f0457a9e",
   "metadata": {},
   "outputs": [],
   "source": []
  }
 ],
 "metadata": {
  "kernelspec": {
   "display_name": "Python 3",
   "language": "python",
   "name": "python3"
  },
  "language_info": {
   "codemirror_mode": {
    "name": "ipython",
    "version": 3
   },
   "file_extension": ".py",
   "mimetype": "text/x-python",
   "name": "python",
   "nbconvert_exporter": "python",
   "pygments_lexer": "ipython3",
   "version": "3.8.8"
  }
 },
 "nbformat": 4,
 "nbformat_minor": 5
}
