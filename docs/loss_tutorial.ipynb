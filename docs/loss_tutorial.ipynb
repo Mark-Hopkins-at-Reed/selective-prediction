{
 "cells": [
  {
   "cell_type": "markdown",
   "id": "d9e085ac",
   "metadata": {},
   "source": [
    "## Adding a new training objective to ```spred```\n",
    "-------------------------------------------------\n",
    "\n",
    "In this tutorial, we show how to add a new training objective for selective prediction. We will create a training objective that allows a neural network to get \"half-credit\" for abstaining when it is uncertain.\n",
    "\n",
    "**Before doing this tutorial, it is recommended that you first go through the tutorial \"Adding a new task to ```spred```\".**\n",
    "\n",
    "Let's begin by setting up a task and training a prediction function for it. In this tutorial, we'll use the classic MNIST handwritten digit recognition task, but we randomly swap the labels of ones and sevens to make those labels synthetically \"harder\"."
   ]
  },
  {
   "cell_type": "code",
   "execution_count": 1,
   "id": "b4321f10",
   "metadata": {},
   "outputs": [],
   "source": [
    "task_config = {\"name\": \"mnist\",\n",
    "               \"confuser\": \"1<>7\"}"
   ]
  },
  {
   "cell_type": "markdown",
   "id": "b1ae4987",
   "metadata": {},
   "source": [
    "For our prediction function, we'll use a simple feedforward neural network with two hidden layers. MNIST images are always 28x28 pixels, thus the input vectors have size 784. As there are 10 digits, the output size of the network is 10.\n",
    "\n",
    "Before creating a new loss function, let's try a baseline using standard cross-entropy loss."
   ]
  },
  {
   "cell_type": "code",
   "execution_count": 4,
   "id": "23866fbf",
   "metadata": {},
   "outputs": [],
   "source": [
    "model_config = {\"architecture\": \"feedforward\",\n",
    "                \"input_size\": 784,\n",
    "                \"hidden_sizes\": [128, 64],\n",
    "                \"output_size\": 10,\n",
    "                \"loss\": {\n",
    "                    \"name\": \"ce\"\n",
    "                }}"
   ]
  },
  {
   "cell_type": "markdown",
   "id": "ac3b859e",
   "metadata": {},
   "source": [
    "We'll extract confidence using the generally reliable **MaxProb** confidence function."
   ]
  },
  {
   "cell_type": "code",
   "execution_count": 13,
   "id": "4e2dfbf1",
   "metadata": {},
   "outputs": [],
   "source": [
    "confs = [{\"name\": \"max_prob\"}]"
   ]
  },
  {
   "cell_type": "markdown",
   "id": "666524c8",
   "metadata": {},
   "source": [
    "Now that we've specified our task, our model, and our confidences, let's bundle them together into an experiment configuration. We'll also specify a couple extra details, like the optimizer (stochastic gradient descent with momentum of 0.9 and a learning rate of 0.003), the batch size (64), and the number of training epochs (30)."
   ]
  },
  {
   "cell_type": "code",
   "execution_count": 14,
   "id": "869470bc",
   "metadata": {},
   "outputs": [],
   "source": [
    "ce_config = {\"task\": task_config,\n",
    "             \"network\": model_config,\n",
    "             \"confidences\": confs,\n",
    "             \"optimizer\": {\"name\": \"sgd\",\n",
    "                           \"lr\": 0.003,\n",
    "                           \"momentum\": 0.9},\n",
    "             \"bsz\": 64,\n",
    "             \"n_epochs\": 15}"
   ]
  },
  {
   "cell_type": "markdown",
   "id": "412623bd",
   "metadata": {},
   "source": [
    "Let's run 3 trials of the experiment and visualize the results."
   ]
  },
  {
   "cell_type": "code",
   "execution_count": 95,
   "id": "05a48921",
   "metadata": {},
   "outputs": [
    {
     "name": "stdout",
     "output_type": "stream",
     "text": [
      "Training with config:\n",
      "{'task': {'name': 'mnist', 'confuser': '1<>7'}, 'network': {'architecture': 'feedforward', 'input_size': 784, 'hidden_sizes': [128, 64], 'output_size': 10, 'loss': {'name': 'ce'}}, 'confidences': [{'name': 'max_prob'}], 'optimizer': {'name': 'sgd', 'lr': 0.003, 'momentum': 0.9}, 'bsz': 64, 'n_epochs': 15}\n",
      "Epoch 1:\n"
     ]
    },
    {
     "name": "stderr",
     "output_type": "stream",
     "text": [
      "100%|██████████| 469/469 [00:00<00:00, 471.91it/s]\n",
      "100%|██████████| 469/469 [00:00<00:00, 909.55it/s]\n"
     ]
    },
    {
     "name": "stdout",
     "output_type": "stream",
     "text": [
      "Epoch 2:\n"
     ]
    },
    {
     "name": "stderr",
     "output_type": "stream",
     "text": [
      "100%|██████████| 469/469 [00:00<00:00, 476.75it/s]\n",
      "100%|██████████| 469/469 [00:00<00:00, 999.55it/s] \n"
     ]
    },
    {
     "name": "stdout",
     "output_type": "stream",
     "text": [
      "Epoch 3:\n"
     ]
    },
    {
     "name": "stderr",
     "output_type": "stream",
     "text": [
      "100%|██████████| 469/469 [00:01<00:00, 465.62it/s]\n",
      "100%|██████████| 469/469 [00:00<00:00, 963.87it/s]\n"
     ]
    },
    {
     "name": "stdout",
     "output_type": "stream",
     "text": [
      "Epoch 4:\n"
     ]
    },
    {
     "name": "stderr",
     "output_type": "stream",
     "text": [
      "100%|██████████| 469/469 [00:01<00:00, 453.84it/s]\n",
      "100%|██████████| 469/469 [00:00<00:00, 989.01it/s]\n"
     ]
    },
    {
     "name": "stdout",
     "output_type": "stream",
     "text": [
      "Epoch 5:\n"
     ]
    },
    {
     "name": "stderr",
     "output_type": "stream",
     "text": [
      "100%|██████████| 469/469 [00:00<00:00, 480.20it/s]\n",
      "100%|██████████| 469/469 [00:00<00:00, 1011.99it/s]\n"
     ]
    },
    {
     "name": "stdout",
     "output_type": "stream",
     "text": [
      "Epoch 6:\n"
     ]
    },
    {
     "name": "stderr",
     "output_type": "stream",
     "text": [
      "100%|██████████| 469/469 [00:00<00:00, 484.94it/s]\n",
      "100%|██████████| 469/469 [00:00<00:00, 1007.89it/s]\n"
     ]
    },
    {
     "name": "stdout",
     "output_type": "stream",
     "text": [
      "Epoch 7:\n"
     ]
    },
    {
     "name": "stderr",
     "output_type": "stream",
     "text": [
      "100%|██████████| 469/469 [00:00<00:00, 480.09it/s]\n",
      "100%|██████████| 469/469 [00:00<00:00, 1012.44it/s]\n"
     ]
    },
    {
     "name": "stdout",
     "output_type": "stream",
     "text": [
      "Epoch 8:\n"
     ]
    },
    {
     "name": "stderr",
     "output_type": "stream",
     "text": [
      "100%|██████████| 469/469 [00:00<00:00, 483.14it/s]\n",
      "100%|██████████| 469/469 [00:00<00:00, 1013.14it/s]\n"
     ]
    },
    {
     "name": "stdout",
     "output_type": "stream",
     "text": [
      "Epoch 9:\n"
     ]
    },
    {
     "name": "stderr",
     "output_type": "stream",
     "text": [
      "100%|██████████| 469/469 [00:00<00:00, 485.68it/s]\n",
      "100%|██████████| 469/469 [00:00<00:00, 1014.80it/s]\n"
     ]
    },
    {
     "name": "stdout",
     "output_type": "stream",
     "text": [
      "Epoch 10:\n"
     ]
    },
    {
     "name": "stderr",
     "output_type": "stream",
     "text": [
      "100%|██████████| 469/469 [00:00<00:00, 486.06it/s]\n",
      "100%|██████████| 469/469 [00:00<00:00, 1013.81it/s]\n"
     ]
    },
    {
     "name": "stdout",
     "output_type": "stream",
     "text": [
      "Epoch 11:\n"
     ]
    },
    {
     "name": "stderr",
     "output_type": "stream",
     "text": [
      "100%|██████████| 469/469 [00:00<00:00, 478.54it/s]\n",
      "100%|██████████| 469/469 [00:00<00:00, 1013.65it/s]\n"
     ]
    },
    {
     "name": "stdout",
     "output_type": "stream",
     "text": [
      "Epoch 12:\n"
     ]
    },
    {
     "name": "stderr",
     "output_type": "stream",
     "text": [
      "100%|██████████| 469/469 [00:00<00:00, 486.28it/s]\n",
      "100%|██████████| 469/469 [00:00<00:00, 1009.46it/s]\n"
     ]
    },
    {
     "name": "stdout",
     "output_type": "stream",
     "text": [
      "Epoch 13:\n"
     ]
    },
    {
     "name": "stderr",
     "output_type": "stream",
     "text": [
      "100%|██████████| 469/469 [00:00<00:00, 487.25it/s]\n",
      "100%|██████████| 469/469 [00:00<00:00, 1011.46it/s]\n"
     ]
    },
    {
     "name": "stdout",
     "output_type": "stream",
     "text": [
      "Epoch 14:\n"
     ]
    },
    {
     "name": "stderr",
     "output_type": "stream",
     "text": [
      "100%|██████████| 469/469 [00:00<00:00, 487.13it/s]\n",
      "100%|██████████| 469/469 [00:00<00:00, 1014.11it/s]\n"
     ]
    },
    {
     "name": "stdout",
     "output_type": "stream",
     "text": [
      "Epoch 15:\n"
     ]
    },
    {
     "name": "stderr",
     "output_type": "stream",
     "text": [
      "100%|██████████| 469/469 [00:00<00:00, 486.25it/s]\n",
      "100%|██████████| 469/469 [00:00<00:00, 1014.03it/s]\n"
     ]
    },
    {
     "name": "stdout",
     "output_type": "stream",
     "text": [
      "Best validation accuracy at epoch 15\n"
     ]
    },
    {
     "name": "stderr",
     "output_type": "stream",
     "text": [
      "100%|██████████| 157/157 [00:00<00:00, 190.72it/s]\n"
     ]
    },
    {
     "name": "stdout",
     "output_type": "stream",
     "text": [
      "{'name': 'max_prob'}\n",
      "{\n",
      "    \"accuracy\": 0.829,\n",
      "    \"aupr\": 0.9798529937257401,\n",
      "    \"auroc\": 0.901949223682447,\n",
      "    \"avg_crr_conf\": 0.8809689762454987,\n",
      "    \"avg_err_conf\": 0.5318010973564365,\n",
      "    \"avg_non_abstain\": 1.0,\n",
      "    \"capacity\": 0.9670073600933268,\n",
      "    \"kendall_tau\": 0.09805084685981137,\n",
      "    \"n_correct\": 8290,\n",
      "    \"n_errors\": 1710,\n",
      "    \"validation_loss\": 0.36291230626546656\n",
      "}\n",
      "Training with config:\n",
      "{'task': {'name': 'mnist', 'confuser': '1<>7'}, 'network': {'architecture': 'feedforward', 'input_size': 784, 'hidden_sizes': [128, 64], 'output_size': 10, 'loss': {'name': 'ce'}}, 'confidences': [{'name': 'max_prob'}], 'optimizer': {'name': 'sgd', 'lr': 0.003, 'momentum': 0.9}, 'bsz': 64, 'n_epochs': 15}\n",
      "Epoch 1:\n"
     ]
    },
    {
     "name": "stderr",
     "output_type": "stream",
     "text": [
      "100%|██████████| 469/469 [00:00<00:00, 481.98it/s]\n",
      "100%|██████████| 469/469 [00:00<00:00, 873.16it/s]\n"
     ]
    },
    {
     "name": "stdout",
     "output_type": "stream",
     "text": [
      "Epoch 2:\n"
     ]
    },
    {
     "name": "stderr",
     "output_type": "stream",
     "text": [
      "100%|██████████| 469/469 [00:01<00:00, 467.78it/s]\n",
      "100%|██████████| 469/469 [00:00<00:00, 985.81it/s]\n"
     ]
    },
    {
     "name": "stdout",
     "output_type": "stream",
     "text": [
      "Epoch 3:\n"
     ]
    },
    {
     "name": "stderr",
     "output_type": "stream",
     "text": [
      "100%|██████████| 469/469 [00:00<00:00, 470.41it/s]\n",
      "100%|██████████| 469/469 [00:00<00:00, 928.63it/s]\n"
     ]
    },
    {
     "name": "stdout",
     "output_type": "stream",
     "text": [
      "Epoch 4:\n"
     ]
    },
    {
     "name": "stderr",
     "output_type": "stream",
     "text": [
      "100%|██████████| 469/469 [00:01<00:00, 454.18it/s]\n",
      "100%|██████████| 469/469 [00:00<00:00, 987.09it/s]\n"
     ]
    },
    {
     "name": "stdout",
     "output_type": "stream",
     "text": [
      "Epoch 5:\n"
     ]
    },
    {
     "name": "stderr",
     "output_type": "stream",
     "text": [
      "100%|██████████| 469/469 [00:01<00:00, 459.55it/s]\n",
      "100%|██████████| 469/469 [00:00<00:00, 994.17it/s] \n"
     ]
    },
    {
     "name": "stdout",
     "output_type": "stream",
     "text": [
      "Epoch 6:\n"
     ]
    },
    {
     "name": "stderr",
     "output_type": "stream",
     "text": [
      "100%|██████████| 469/469 [00:00<00:00, 477.61it/s]\n",
      "100%|██████████| 469/469 [00:00<00:00, 1004.10it/s]\n"
     ]
    },
    {
     "name": "stdout",
     "output_type": "stream",
     "text": [
      "Epoch 7:\n"
     ]
    },
    {
     "name": "stderr",
     "output_type": "stream",
     "text": [
      "100%|██████████| 469/469 [00:00<00:00, 485.86it/s]\n",
      "100%|██████████| 469/469 [00:00<00:00, 989.89it/s] \n"
     ]
    },
    {
     "name": "stdout",
     "output_type": "stream",
     "text": [
      "Epoch 8:\n"
     ]
    },
    {
     "name": "stderr",
     "output_type": "stream",
     "text": [
      "100%|██████████| 469/469 [00:00<00:00, 479.51it/s]\n",
      "100%|██████████| 469/469 [00:00<00:00, 965.63it/s]\n"
     ]
    },
    {
     "name": "stdout",
     "output_type": "stream",
     "text": [
      "Epoch 9:\n"
     ]
    },
    {
     "name": "stderr",
     "output_type": "stream",
     "text": [
      "100%|██████████| 469/469 [00:01<00:00, 458.63it/s]\n",
      "100%|██████████| 469/469 [00:00<00:00, 986.83it/s]\n"
     ]
    },
    {
     "name": "stdout",
     "output_type": "stream",
     "text": [
      "Epoch 10:\n"
     ]
    },
    {
     "name": "stderr",
     "output_type": "stream",
     "text": [
      "100%|██████████| 469/469 [00:00<00:00, 486.16it/s]\n",
      "100%|██████████| 469/469 [00:00<00:00, 1009.06it/s]\n"
     ]
    },
    {
     "name": "stdout",
     "output_type": "stream",
     "text": [
      "Epoch 11:\n"
     ]
    },
    {
     "name": "stderr",
     "output_type": "stream",
     "text": [
      "100%|██████████| 469/469 [00:00<00:00, 486.30it/s]\n",
      "100%|██████████| 469/469 [00:00<00:00, 1010.73it/s]\n"
     ]
    },
    {
     "name": "stdout",
     "output_type": "stream",
     "text": [
      "Epoch 12:\n"
     ]
    },
    {
     "name": "stderr",
     "output_type": "stream",
     "text": [
      "100%|██████████| 469/469 [00:00<00:00, 486.91it/s]\n",
      "100%|██████████| 469/469 [00:00<00:00, 1007.70it/s]\n"
     ]
    },
    {
     "name": "stdout",
     "output_type": "stream",
     "text": [
      "Epoch 13:\n"
     ]
    },
    {
     "name": "stderr",
     "output_type": "stream",
     "text": [
      "100%|██████████| 469/469 [00:00<00:00, 487.55it/s]\n",
      "100%|██████████| 469/469 [00:00<00:00, 1009.00it/s]\n"
     ]
    },
    {
     "name": "stdout",
     "output_type": "stream",
     "text": [
      "Epoch 14:\n"
     ]
    },
    {
     "name": "stderr",
     "output_type": "stream",
     "text": [
      "100%|██████████| 469/469 [00:00<00:00, 486.42it/s]\n",
      "100%|██████████| 469/469 [00:00<00:00, 1007.51it/s]\n"
     ]
    },
    {
     "name": "stdout",
     "output_type": "stream",
     "text": [
      "Epoch 15:\n"
     ]
    },
    {
     "name": "stderr",
     "output_type": "stream",
     "text": [
      "100%|██████████| 469/469 [00:00<00:00, 485.53it/s]\n",
      "100%|██████████| 469/469 [00:00<00:00, 1008.95it/s]\n"
     ]
    },
    {
     "name": "stdout",
     "output_type": "stream",
     "text": [
      "Best validation accuracy at epoch 14\n"
     ]
    },
    {
     "name": "stderr",
     "output_type": "stream",
     "text": [
      "100%|██████████| 157/157 [00:00<00:00, 191.11it/s]\n"
     ]
    },
    {
     "name": "stdout",
     "output_type": "stream",
     "text": [
      "{'name': 'max_prob'}\n",
      "{\n",
      "    \"accuracy\": 0.8316,\n",
      "    \"aupr\": 0.9794300257664654,\n",
      "    \"auroc\": 0.898996361362751,\n",
      "    \"avg_crr_conf\": 0.8834662801832921,\n",
      "    \"avg_err_conf\": 0.5335842628837199,\n",
      "    \"avg_non_abstain\": 1.0,\n",
      "    \"capacity\": 0.9671360841342331,\n",
      "    \"kendall_tau\": 0.1010036743409665,\n",
      "    \"n_correct\": 8316,\n",
      "    \"n_errors\": 1684,\n",
      "    \"validation_loss\": 0.36522007273260954\n",
      "}\n",
      "Training with config:\n",
      "{'task': {'name': 'mnist', 'confuser': '1<>7'}, 'network': {'architecture': 'feedforward', 'input_size': 784, 'hidden_sizes': [128, 64], 'output_size': 10, 'loss': {'name': 'ce'}}, 'confidences': [{'name': 'max_prob'}], 'optimizer': {'name': 'sgd', 'lr': 0.003, 'momentum': 0.9}, 'bsz': 64, 'n_epochs': 15}\n",
      "Epoch 1:\n"
     ]
    },
    {
     "name": "stderr",
     "output_type": "stream",
     "text": [
      "100%|██████████| 469/469 [00:00<00:00, 488.72it/s]\n",
      "100%|██████████| 469/469 [00:00<00:00, 1008.40it/s]\n"
     ]
    },
    {
     "name": "stdout",
     "output_type": "stream",
     "text": [
      "Epoch 2:\n"
     ]
    },
    {
     "name": "stderr",
     "output_type": "stream",
     "text": [
      "100%|██████████| 469/469 [00:00<00:00, 486.31it/s]\n",
      "100%|██████████| 469/469 [00:00<00:00, 1002.98it/s]\n"
     ]
    },
    {
     "name": "stdout",
     "output_type": "stream",
     "text": [
      "Epoch 3:\n"
     ]
    },
    {
     "name": "stderr",
     "output_type": "stream",
     "text": [
      "100%|██████████| 469/469 [00:00<00:00, 478.51it/s]\n",
      "100%|██████████| 469/469 [00:00<00:00, 1003.43it/s]\n"
     ]
    },
    {
     "name": "stdout",
     "output_type": "stream",
     "text": [
      "Epoch 4:\n"
     ]
    },
    {
     "name": "stderr",
     "output_type": "stream",
     "text": [
      "100%|██████████| 469/469 [00:00<00:00, 486.14it/s]\n",
      "100%|██████████| 469/469 [00:00<00:00, 1005.25it/s]\n"
     ]
    },
    {
     "name": "stdout",
     "output_type": "stream",
     "text": [
      "Epoch 5:\n"
     ]
    },
    {
     "name": "stderr",
     "output_type": "stream",
     "text": [
      "100%|██████████| 469/469 [00:00<00:00, 486.37it/s]\n",
      "100%|██████████| 469/469 [00:00<00:00, 1006.62it/s]\n"
     ]
    },
    {
     "name": "stdout",
     "output_type": "stream",
     "text": [
      "Epoch 6:\n"
     ]
    },
    {
     "name": "stderr",
     "output_type": "stream",
     "text": [
      "100%|██████████| 469/469 [00:00<00:00, 485.95it/s]\n",
      "100%|██████████| 469/469 [00:00<00:00, 1007.64it/s]\n"
     ]
    },
    {
     "name": "stdout",
     "output_type": "stream",
     "text": [
      "Epoch 7:\n"
     ]
    },
    {
     "name": "stderr",
     "output_type": "stream",
     "text": [
      "100%|██████████| 469/469 [00:00<00:00, 485.85it/s]\n",
      "100%|██████████| 469/469 [00:00<00:00, 1008.00it/s]\n"
     ]
    },
    {
     "name": "stdout",
     "output_type": "stream",
     "text": [
      "Epoch 8:\n"
     ]
    },
    {
     "name": "stderr",
     "output_type": "stream",
     "text": [
      "100%|██████████| 469/469 [00:00<00:00, 485.49it/s]\n",
      "100%|██████████| 469/469 [00:00<00:00, 1007.02it/s]\n"
     ]
    },
    {
     "name": "stdout",
     "output_type": "stream",
     "text": [
      "Epoch 9:\n"
     ]
    },
    {
     "name": "stderr",
     "output_type": "stream",
     "text": [
      "100%|██████████| 469/469 [00:00<00:00, 488.09it/s]\n",
      "100%|██████████| 469/469 [00:00<00:00, 1007.86it/s]\n"
     ]
    },
    {
     "name": "stdout",
     "output_type": "stream",
     "text": [
      "Epoch 10:\n"
     ]
    },
    {
     "name": "stderr",
     "output_type": "stream",
     "text": [
      "100%|██████████| 469/469 [00:00<00:00, 487.27it/s]\n",
      "100%|██████████| 469/469 [00:00<00:00, 1008.24it/s]\n"
     ]
    },
    {
     "name": "stdout",
     "output_type": "stream",
     "text": [
      "Epoch 11:\n"
     ]
    },
    {
     "name": "stderr",
     "output_type": "stream",
     "text": [
      "100%|██████████| 469/469 [00:00<00:00, 487.91it/s]\n",
      "100%|██████████| 469/469 [00:00<00:00, 967.85it/s] \n"
     ]
    },
    {
     "name": "stdout",
     "output_type": "stream",
     "text": [
      "Epoch 12:\n"
     ]
    },
    {
     "name": "stderr",
     "output_type": "stream",
     "text": [
      "100%|██████████| 469/469 [00:00<00:00, 487.44it/s]\n",
      "100%|██████████| 469/469 [00:00<00:00, 1005.16it/s]\n"
     ]
    },
    {
     "name": "stdout",
     "output_type": "stream",
     "text": [
      "Epoch 13:\n"
     ]
    },
    {
     "name": "stderr",
     "output_type": "stream",
     "text": [
      "100%|██████████| 469/469 [00:00<00:00, 487.41it/s]\n",
      "100%|██████████| 469/469 [00:00<00:00, 1014.27it/s]\n"
     ]
    },
    {
     "name": "stdout",
     "output_type": "stream",
     "text": [
      "Epoch 14:\n"
     ]
    },
    {
     "name": "stderr",
     "output_type": "stream",
     "text": [
      "100%|██████████| 469/469 [00:00<00:00, 488.17it/s]\n",
      "100%|██████████| 469/469 [00:00<00:00, 1013.33it/s]\n"
     ]
    },
    {
     "name": "stdout",
     "output_type": "stream",
     "text": [
      "Epoch 15:\n"
     ]
    },
    {
     "name": "stderr",
     "output_type": "stream",
     "text": [
      "100%|██████████| 469/469 [00:00<00:00, 488.34it/s]\n",
      "100%|██████████| 469/469 [00:00<00:00, 1012.27it/s]\n"
     ]
    },
    {
     "name": "stdout",
     "output_type": "stream",
     "text": [
      "Best validation accuracy at epoch 15\n"
     ]
    },
    {
     "name": "stderr",
     "output_type": "stream",
     "text": [
      "100%|██████████| 157/157 [00:00<00:00, 192.88it/s]\n"
     ]
    },
    {
     "name": "stdout",
     "output_type": "stream",
     "text": [
      "{'name': 'max_prob'}\n",
      "{\n",
      "    \"accuracy\": 0.837,\n",
      "    \"aupr\": 0.9806607339066311,\n",
      "    \"auroc\": 0.9010408924657887,\n",
      "    \"avg_crr_conf\": 0.8866441569038475,\n",
      "    \"avg_err_conf\": 0.5349262354929755,\n",
      "    \"avg_non_abstain\": 1.0,\n",
      "    \"capacity\": 0.9689679627623983,\n",
      "    \"kendall_tau\": 0.09895910753421143,\n",
      "    \"n_correct\": 8370,\n",
      "    \"n_errors\": 1630,\n",
      "    \"validation_loss\": 0.3486888435236208\n",
      "}\n"
     ]
    }
   ],
   "source": [
    "from spred.experiment import Experiment\n",
    "from spred.analytics import ResultDatabase\n",
    "ce_exp = Experiment(ce_config)\n",
    "n_trials = 3\n",
    "ce_results = [ce_exp.run() for _ in range(n_trials)]"
   ]
  },
  {
   "cell_type": "code",
   "execution_count": 99,
   "id": "96bf6e37",
   "metadata": {},
   "outputs": [
    {
     "data": {
      "image/png": "[encoded data removed]",
      "text/plain": [
       "<Figure size 432x288 with 1 Axes>"
      ]
     },
     "metadata": {},
     "output_type": "display_data"
    }
   ],
   "source": [
    "from spred.analytics import plot_evaluation_metric\n",
    "plot_evaluation_metric(ResultDatabase(ce_results), \"aupr\")"
   ]
  },
  {
   "cell_type": "markdown",
   "id": "6be68b15",
   "metadata": {},
   "source": [
    "Now let's try a loss function besides boring ole cross-entropy! To create one, we need to implement the ```ConfidenceLoss``` interface in ```spred.confidence```. Here's a partial view of that interface.\n",
    "\n",
    "    class ConfidenceLoss(torch.nn.Module, ABC):\n",
    "        @abstractmethod\n",
    "        def __call__(self, batch):\n",
    "            \"\"\"\n",
    "            For the set of predictions in the batch, computes a numeric loss.\n",
    "    \n",
    "            ```batch``` is a dictionary with the following keys:\n",
    "            - ```outputs```: a torch.tensor of shape BxL, where B is the batch size\n",
    "              and L is the number of labels. Each row corresponds to the predicted\n",
    "              values for each label. These are not assumed to be normalized.\n",
    "            - ```labels```: a torch.tensor of shape B, where B is the batch size.\n",
    "            The elements are the gold labels for the batch instances.\n",
    "            - ```confidences```: a torch.tensor of shape B, where B is the batch size.\n",
    "            The elements are the model's confidences for the batch instances.\n",
    "            - ```loss```: the model's default loss for the batch\n",
    "    \n",
    "            This function is expected to return a torch.tensor containing a single\n",
    "            element -- the loss for the batch.\n",
    "    \n",
    "            \"\"\"\n",
    "            ...\n",
    "            \n",
    "    \n",
    "        def include_abstain(self):\n",
    "            \"\"\"\n",
    "            Returns whether this loss function assumes an explicit \"abstain\" label,\n",
    "            in addition to the set of task labels.\n",
    "    \n",
    "            \"\"\"\n",
    "            return False\n",
    "            \n",
    "            \n",
    "The ```ConfidenceLoss``` interface has only one abstract method that must be overridden, which is ```__call__```. The ```__call__``` method takes a dictionary called ```batch``` as its only argument, which contains the predictions made by a model on a minibatch of input instances. At a minimum, the ```batch``` will contain two keys:\n",
    "- ```outputs```: a ```torch.tensor``` of shape ```B```x```L```, where ```B``` is the batch size and ```L``` is the number of labels. Each row corresponds to the predicted values for each label. These are not assumed to be normalized.\n",
    "- ```labels```: a ```torch.tensor``` of shape ```B```, where ```B``` is the batch size. The elements are the gold labels for the batch instances.\n",
    "\n",
    "Depending on the prediction model, it may also contain:\n",
    "- ```confidences```: a torch.tensor of shape ```B```, where ```B``` is the batch size. The elements are the model's confidences for the batch instances.\n",
    "- ```loss```: the model's default loss for the batch\n",
    "\n",
    "Let's see how this works with ```CrossEntropyLoss``` on an example batch."
   ]
  },
  {
   "cell_type": "code",
   "execution_count": 39,
   "id": "c2e1f8f2",
   "metadata": {},
   "outputs": [
    {
     "data": {
      "text/plain": [
       "tensor(2.4973)"
      ]
     },
     "execution_count": 39,
     "metadata": {},
     "output_type": "execute_result"
    }
   ],
   "source": [
    "from torch import tensor\n",
    "from spred.loss import CrossEntropyLoss\n",
    "\n",
    "batch = {'outputs': tensor([[-1.5, -2.,  0.8,  1.2],\n",
    "                            [-2.5,  0.,  1.2, -1.8]]), \n",
    "         'labels': tensor([2, 0])}\n",
    "\n",
    "ce = CrossEntropyLoss()\n",
    "ce(batch)"
   ]
  },
  {
   "cell_type": "markdown",
   "id": "f77bb552",
   "metadata": {},
   "source": [
    "```CrossEntropyLoss``` computes a loss of 2.4973 by first computing the prediction weights in 'outputs' to probability distributions using softmax:"
   ]
  },
  {
   "cell_type": "code",
   "execution_count": 40,
   "id": "99e9145f",
   "metadata": {},
   "outputs": [
    {
     "data": {
      "text/plain": [
       "tensor([[0.0378, 0.0229, 0.3769, 0.5623],\n",
       "        [0.0180, 0.2189, 0.7269, 0.0362]])"
      ]
     },
     "execution_count": 40,
     "metadata": {},
     "output_type": "execute_result"
    }
   ],
   "source": [
    "from spred.util import softmax\n",
    "softmax(batch['outputs'])"
   ]
  },
  {
   "cell_type": "markdown",
   "id": "8f69ea1e",
   "metadata": {},
   "source": [
    "Then it takes the average negative log of the gold probabilities. In this case, the ```labels``` field tells us that the gold labels are label 2 for the first instance (predicted probability 0.3769) and label 0 for the second instance (predicted probability 0.0180), thus:"
   ]
  },
  {
   "cell_type": "code",
   "execution_count": 46,
   "id": "baf26d22",
   "metadata": {},
   "outputs": [
    {
     "name": "stdout",
     "output_type": "stream",
     "text": [
      "Within rounding errors, we should expect a loss of 2.497.\n"
     ]
    }
   ],
   "source": [
    "from math import log\n",
    "expected = (-log(0.3769) - log(0.0180))/2\n",
    "print(f\"Within rounding errors, we should expect a loss of {expected:.3f}.\")"
   ]
  },
  {
   "cell_type": "markdown",
   "id": "c23b7983",
   "metadata": {},
   "source": [
    "We're going to implement a loss function that gives a \"partial-credit\" reward to an existing loss function if a model allocates weight to a special **abstention** label. We will assume that the abstention label is the last element of each vector, i.e. the above example batch allocates a weight of 1.2 and -1.8 to the abstention label. We'll assume that the model has precomputed the cross-entropy loss and has provided it in the batch. Then we'll compute a partial-credit bonus for allocating probability mass to abstention -- it won't be as much reward as could be obtained by putting all probability mass on the correct label (it'll be discounted by a constant factor ```alpha```), but it'll be better than getting a wrong answer.\n",
    "\n",
    "Here's the main logic."
   ]
  },
  {
   "cell_type": "code",
   "execution_count": 76,
   "id": "f14b4dd0",
   "metadata": {},
   "outputs": [
    {
     "name": "stdout",
     "output_type": "stream",
     "text": [
      "Prediction distributions:\n",
      "tensor([[0.0378, 0.0229, 0.3769, 0.5623],\n",
      "        [0.0180, 0.2189, 0.7269, 0.0362]])\n",
      "Abstention bonus:  2.640\n",
      "Base loss + bonus: 5.138\n"
     ]
    }
   ],
   "source": [
    "batch = {'outputs': tensor([[-1.5, -2.,  0.8,  1.2],\n",
    "                            [-2.5,  0.,  1.2, -1.8]]), \n",
    "         'labels': tensor([2, 0]),\n",
    "         'loss': tensor(2.4973)}\n",
    "\n",
    "print(\"Prediction distributions:\")\n",
    "print(softmax(batch['outputs']))\n",
    "\n",
    "alpha = 0.5\n",
    "bonus = (-log(alpha * 0.5623) -log(alpha * 0.0362)) / 2\n",
    "print(f\"Abstention bonus:  {bonus:.3f}\")\n",
    "\n",
    "print(f\"Base loss + bonus: {bonus+batch['loss']:.3f}\")"
   ]
  },
  {
   "cell_type": "markdown",
   "id": "47cbce0d",
   "metadata": {},
   "source": [
    "Now we wrap this logic in a ```ConfidenceLoss``` class and register the new loss function with Spred Hub."
   ]
  },
  {
   "cell_type": "code",
   "execution_count": 80,
   "id": "a69d546d",
   "metadata": {},
   "outputs": [],
   "source": [
    "from spred.loss import ConfidenceLoss\n",
    "from spred.hub import spred_hub\n",
    "import torch\n",
    "\n",
    "class AbstainingLoss(ConfidenceLoss):\n",
    "    def __init__(self, alpha):\n",
    "        super().__init__()\n",
    "        self.alpha = alpha\n",
    "\n",
    "    def __call__(self, batch):\n",
    "        output, gold = batch['outputs'], batch['labels']\n",
    "        base_loss = batch['loss']\n",
    "        dists = softmax(output)\n",
    "        abstains = dists[:, -1]\n",
    "        losses = self.alpha * abstains\n",
    "        losses = torch.clamp(losses, min=0.000000001)\n",
    "        losses = torch.mean(-torch.log(losses))\n",
    "        return base_loss + losses\n",
    "\n",
    "    def include_abstain(self):\n",
    "        return True\n",
    "    \n",
    "spred_hub.register_loss_fn(\"abstainbonus\", AbstainingLoss)"
   ]
  },
  {
   "cell_type": "code",
   "execution_count": 81,
   "id": "d51a290e",
   "metadata": {},
   "outputs": [
    {
     "name": "stdout",
     "output_type": "stream",
     "text": [
      "Abstention loss: 5.138\n"
     ]
    }
   ],
   "source": [
    "abst_loss = AbstainingLoss(alpha)\n",
    "print(f\"Abstention loss: {abst_loss(batch):.3f}\")"
   ]
  },
  {
   "cell_type": "markdown",
   "id": "bef04211",
   "metadata": {},
   "source": [
    "Let's create an experiment configuration that uses this new loss function, and run 3 experiment trials. Because our model now has an \"abstain\" label, we need to change the confidence function from ```max_prob``` to ```max_non_abstain```, so that it won't use the abstention probability as its confidence."
   ]
  },
  {
   "cell_type": "code",
   "execution_count": 90,
   "id": "f0457a9e",
   "metadata": {},
   "outputs": [],
   "source": [
    "abst_config = {\"task\": task_config,\n",
    "               \"network\": model_config,\n",
    "               \"confidences\": [{\"name\": \"max_non_abstain\"}],\n",
    "               \"optimizer\": {\"name\": \"sgd\",\n",
    "                             \"lr\": 0.003,\n",
    "                             \"momentum\": 0.9},\n",
    "               \"bsz\": 64,\n",
    "               \"n_epochs\": 15,\n",
    "               \"regularizer\": {\"name\": \"abstainbonus\",\n",
    "                               \"alpha\": 0.5}}"
   ]
  },
  {
   "cell_type": "code",
   "execution_count": 91,
   "id": "20bd38e2",
   "metadata": {},
   "outputs": [
    {
     "name": "stdout",
     "output_type": "stream",
     "text": [
      "Training with config:\n",
      "{'task': {'name': 'mnist', 'confuser': '1<>7'}, 'network': {'architecture': 'feedforward', 'input_size': 784, 'hidden_sizes': [128, 64], 'output_size': 10, 'loss': {'name': 'ce'}}, 'confidences': [{'name': 'max_non_abstain'}], 'optimizer': {'name': 'sgd', 'lr': 0.003, 'momentum': 0.9}, 'bsz': 64, 'n_epochs': 15, 'regularizer': {'name': 'abstainbonus', 'alpha': 0.5}}\n",
      "Epoch 1:\n"
     ]
    },
    {
     "name": "stderr",
     "output_type": "stream",
     "text": [
      "100%|██████████| 469/469 [00:01<00:00, 445.84it/s]\n",
      "100%|██████████| 469/469 [00:00<00:00, 667.21it/s]\n"
     ]
    },
    {
     "name": "stdout",
     "output_type": "stream",
     "text": [
      "Epoch 2:\n"
     ]
    },
    {
     "name": "stderr",
     "output_type": "stream",
     "text": [
      "100%|██████████| 469/469 [00:01<00:00, 445.10it/s]\n",
      "100%|██████████| 469/469 [00:00<00:00, 641.03it/s]\n"
     ]
    },
    {
     "name": "stdout",
     "output_type": "stream",
     "text": [
      "Epoch 3:\n"
     ]
    },
    {
     "name": "stderr",
     "output_type": "stream",
     "text": [
      "100%|██████████| 469/469 [00:01<00:00, 444.73it/s]\n",
      "100%|██████████| 469/469 [00:00<00:00, 665.61it/s]\n"
     ]
    },
    {
     "name": "stdout",
     "output_type": "stream",
     "text": [
      "Epoch 4:\n"
     ]
    },
    {
     "name": "stderr",
     "output_type": "stream",
     "text": [
      "100%|██████████| 469/469 [00:01<00:00, 450.14it/s]\n",
      "100%|██████████| 469/469 [00:00<00:00, 661.08it/s]\n"
     ]
    },
    {
     "name": "stdout",
     "output_type": "stream",
     "text": [
      "Epoch 5:\n"
     ]
    },
    {
     "name": "stderr",
     "output_type": "stream",
     "text": [
      "100%|██████████| 469/469 [00:01<00:00, 450.00it/s]\n",
      "100%|██████████| 469/469 [00:00<00:00, 664.12it/s]\n"
     ]
    },
    {
     "name": "stdout",
     "output_type": "stream",
     "text": [
      "Epoch 6:\n"
     ]
    },
    {
     "name": "stderr",
     "output_type": "stream",
     "text": [
      "100%|██████████| 469/469 [00:01<00:00, 449.99it/s]\n",
      "100%|██████████| 469/469 [00:00<00:00, 664.38it/s]\n"
     ]
    },
    {
     "name": "stdout",
     "output_type": "stream",
     "text": [
      "Epoch 7:\n"
     ]
    },
    {
     "name": "stderr",
     "output_type": "stream",
     "text": [
      "100%|██████████| 469/469 [00:01<00:00, 451.61it/s]\n",
      "100%|██████████| 469/469 [00:00<00:00, 668.65it/s]\n"
     ]
    },
    {
     "name": "stdout",
     "output_type": "stream",
     "text": [
      "Epoch 8:\n"
     ]
    },
    {
     "name": "stderr",
     "output_type": "stream",
     "text": [
      "100%|██████████| 469/469 [00:01<00:00, 450.68it/s]\n",
      "100%|██████████| 469/469 [00:00<00:00, 662.92it/s]\n"
     ]
    },
    {
     "name": "stdout",
     "output_type": "stream",
     "text": [
      "Epoch 9:\n"
     ]
    },
    {
     "name": "stderr",
     "output_type": "stream",
     "text": [
      "100%|██████████| 469/469 [00:01<00:00, 451.05it/s]\n",
      "100%|██████████| 469/469 [00:00<00:00, 667.12it/s]\n"
     ]
    },
    {
     "name": "stdout",
     "output_type": "stream",
     "text": [
      "Epoch 10:\n"
     ]
    },
    {
     "name": "stderr",
     "output_type": "stream",
     "text": [
      "100%|██████████| 469/469 [00:01<00:00, 451.56it/s]\n",
      "100%|██████████| 469/469 [00:00<00:00, 664.38it/s]\n"
     ]
    },
    {
     "name": "stdout",
     "output_type": "stream",
     "text": [
      "Epoch 11:\n"
     ]
    },
    {
     "name": "stderr",
     "output_type": "stream",
     "text": [
      "100%|██████████| 469/469 [00:01<00:00, 451.56it/s]\n",
      "100%|██████████| 469/469 [00:00<00:00, 662.20it/s]\n"
     ]
    },
    {
     "name": "stdout",
     "output_type": "stream",
     "text": [
      "Epoch 12:\n"
     ]
    },
    {
     "name": "stderr",
     "output_type": "stream",
     "text": [
      "100%|██████████| 469/469 [00:01<00:00, 451.26it/s]\n",
      "100%|██████████| 469/469 [00:00<00:00, 660.06it/s]\n"
     ]
    },
    {
     "name": "stdout",
     "output_type": "stream",
     "text": [
      "Epoch 13:\n"
     ]
    },
    {
     "name": "stderr",
     "output_type": "stream",
     "text": [
      "100%|██████████| 469/469 [00:01<00:00, 434.87it/s]\n",
      "100%|██████████| 469/469 [00:00<00:00, 648.09it/s]\n"
     ]
    },
    {
     "name": "stdout",
     "output_type": "stream",
     "text": [
      "Epoch 14:\n"
     ]
    },
    {
     "name": "stderr",
     "output_type": "stream",
     "text": [
      "100%|██████████| 469/469 [00:01<00:00, 439.23it/s]\n",
      "100%|██████████| 469/469 [00:00<00:00, 656.79it/s]\n"
     ]
    },
    {
     "name": "stdout",
     "output_type": "stream",
     "text": [
      "Epoch 15:\n"
     ]
    },
    {
     "name": "stderr",
     "output_type": "stream",
     "text": [
      "100%|██████████| 469/469 [00:01<00:00, 451.49it/s]\n",
      "100%|██████████| 469/469 [00:00<00:00, 626.97it/s]\n"
     ]
    },
    {
     "name": "stdout",
     "output_type": "stream",
     "text": [
      "Best validation accuracy at epoch 14\n"
     ]
    },
    {
     "name": "stderr",
     "output_type": "stream",
     "text": [
      "100%|██████████| 157/157 [00:00<00:00, 174.69it/s]\n"
     ]
    },
    {
     "name": "stdout",
     "output_type": "stream",
     "text": [
      "{'name': 'max_non_abstain'}\n",
      "{\n",
      "    \"accuracy\": 0.8314,\n",
      "    \"aupr\": 0.978044069029983,\n",
      "    \"auroc\": 0.8916108146701058,\n",
      "    \"avg_crr_conf\": 0.441416485132486,\n",
      "    \"avg_err_conf\": 0.2559196976690707,\n",
      "    \"avg_non_abstain\": 0.5074469405353069,\n",
      "    \"capacity\": 0.9656961099387117,\n",
      "    \"kendall_tau\": 0.10838918532989418,\n",
      "    \"n_correct\": 8314,\n",
      "    \"n_errors\": 1686,\n",
      "    \"validation_loss\": 2.4695394130269435\n",
      "}\n",
      "Training with config:\n",
      "{'task': {'name': 'mnist', 'confuser': '1<>7'}, 'network': {'architecture': 'feedforward', 'input_size': 784, 'hidden_sizes': [128, 64], 'output_size': 10, 'loss': {'name': 'ce'}}, 'confidences': [{'name': 'max_non_abstain'}], 'optimizer': {'name': 'sgd', 'lr': 0.003, 'momentum': 0.9}, 'bsz': 64, 'n_epochs': 15, 'regularizer': {'name': 'abstainbonus', 'alpha': 0.5}}\n",
      "Epoch 1:\n"
     ]
    },
    {
     "name": "stderr",
     "output_type": "stream",
     "text": [
      "100%|██████████| 469/469 [00:01<00:00, 425.78it/s]\n",
      "100%|██████████| 469/469 [00:00<00:00, 643.98it/s]\n"
     ]
    },
    {
     "name": "stdout",
     "output_type": "stream",
     "text": [
      "Epoch 2:\n"
     ]
    },
    {
     "name": "stderr",
     "output_type": "stream",
     "text": [
      "100%|██████████| 469/469 [00:01<00:00, 450.15it/s]\n",
      "100%|██████████| 469/469 [00:00<00:00, 665.86it/s]\n"
     ]
    },
    {
     "name": "stdout",
     "output_type": "stream",
     "text": [
      "Epoch 3:\n"
     ]
    },
    {
     "name": "stderr",
     "output_type": "stream",
     "text": [
      "100%|██████████| 469/469 [00:01<00:00, 445.91it/s]\n",
      "100%|██████████| 469/469 [00:00<00:00, 641.57it/s]\n"
     ]
    },
    {
     "name": "stdout",
     "output_type": "stream",
     "text": [
      "Epoch 4:\n"
     ]
    },
    {
     "name": "stderr",
     "output_type": "stream",
     "text": [
      "100%|██████████| 469/469 [00:01<00:00, 439.33it/s]\n",
      "100%|██████████| 469/469 [00:00<00:00, 664.25it/s]\n"
     ]
    },
    {
     "name": "stdout",
     "output_type": "stream",
     "text": [
      "Epoch 5:\n"
     ]
    },
    {
     "name": "stderr",
     "output_type": "stream",
     "text": [
      "100%|██████████| 469/469 [00:01<00:00, 451.47it/s]\n",
      "100%|██████████| 469/469 [00:00<00:00, 660.82it/s]\n"
     ]
    },
    {
     "name": "stdout",
     "output_type": "stream",
     "text": [
      "Epoch 6:\n"
     ]
    },
    {
     "name": "stderr",
     "output_type": "stream",
     "text": [
      "100%|██████████| 469/469 [00:01<00:00, 451.97it/s]\n",
      "100%|██████████| 469/469 [00:00<00:00, 647.27it/s]\n"
     ]
    },
    {
     "name": "stdout",
     "output_type": "stream",
     "text": [
      "Epoch 7:\n"
     ]
    },
    {
     "name": "stderr",
     "output_type": "stream",
     "text": [
      "100%|██████████| 469/469 [00:01<00:00, 422.67it/s]\n",
      "100%|██████████| 469/469 [00:00<00:00, 644.08it/s]\n"
     ]
    },
    {
     "name": "stdout",
     "output_type": "stream",
     "text": [
      "Epoch 8:\n"
     ]
    },
    {
     "name": "stderr",
     "output_type": "stream",
     "text": [
      "100%|██████████| 469/469 [00:01<00:00, 424.52it/s]\n",
      "100%|██████████| 469/469 [00:00<00:00, 650.68it/s]\n"
     ]
    },
    {
     "name": "stdout",
     "output_type": "stream",
     "text": [
      "Epoch 9:\n"
     ]
    },
    {
     "name": "stderr",
     "output_type": "stream",
     "text": [
      "100%|██████████| 469/469 [00:01<00:00, 434.12it/s]\n",
      "100%|██████████| 469/469 [00:00<00:00, 663.92it/s]\n"
     ]
    },
    {
     "name": "stdout",
     "output_type": "stream",
     "text": [
      "Epoch 10:\n"
     ]
    },
    {
     "name": "stderr",
     "output_type": "stream",
     "text": [
      "100%|██████████| 469/469 [00:01<00:00, 436.53it/s]\n",
      "100%|██████████| 469/469 [00:00<00:00, 666.09it/s]\n"
     ]
    },
    {
     "name": "stdout",
     "output_type": "stream",
     "text": [
      "Epoch 11:\n"
     ]
    },
    {
     "name": "stderr",
     "output_type": "stream",
     "text": [
      "100%|██████████| 469/469 [00:01<00:00, 453.52it/s]\n",
      "100%|██████████| 469/469 [00:00<00:00, 667.40it/s]\n"
     ]
    },
    {
     "name": "stdout",
     "output_type": "stream",
     "text": [
      "Epoch 12:\n"
     ]
    },
    {
     "name": "stderr",
     "output_type": "stream",
     "text": [
      "100%|██████████| 469/469 [00:01<00:00, 454.39it/s]\n",
      "100%|██████████| 469/469 [00:00<00:00, 663.03it/s]\n"
     ]
    },
    {
     "name": "stdout",
     "output_type": "stream",
     "text": [
      "Epoch 13:\n"
     ]
    },
    {
     "name": "stderr",
     "output_type": "stream",
     "text": [
      "100%|██████████| 469/469 [00:01<00:00, 447.40it/s]\n",
      "100%|██████████| 469/469 [00:00<00:00, 668.01it/s]\n"
     ]
    },
    {
     "name": "stdout",
     "output_type": "stream",
     "text": [
      "Epoch 14:\n"
     ]
    },
    {
     "name": "stderr",
     "output_type": "stream",
     "text": [
      "100%|██████████| 469/469 [00:01<00:00, 438.01it/s]\n",
      "100%|██████████| 469/469 [00:00<00:00, 662.89it/s]\n"
     ]
    },
    {
     "name": "stdout",
     "output_type": "stream",
     "text": [
      "Epoch 15:\n"
     ]
    },
    {
     "name": "stderr",
     "output_type": "stream",
     "text": [
      "100%|██████████| 469/469 [00:01<00:00, 445.50it/s]\n",
      "100%|██████████| 469/469 [00:00<00:00, 666.27it/s]\n"
     ]
    },
    {
     "name": "stdout",
     "output_type": "stream",
     "text": [
      "Best validation accuracy at epoch 15\n"
     ]
    },
    {
     "name": "stderr",
     "output_type": "stream",
     "text": [
      "100%|██████████| 157/157 [00:00<00:00, 172.71it/s]\n"
     ]
    },
    {
     "name": "stdout",
     "output_type": "stream",
     "text": [
      "{'name': 'max_non_abstain'}\n",
      "{\n",
      "    \"accuracy\": 0.8287,\n",
      "    \"aupr\": 0.9782303079572339,\n",
      "    \"auroc\": 0.8952709816139909,\n",
      "    \"avg_crr_conf\": 0.43624156370041556,\n",
      "    \"avg_err_conf\": 0.2647773133905064,\n",
      "    \"avg_non_abstain\": 0.49985476643443105,\n",
      "    \"capacity\": 0.9655335036208375,\n",
      "    \"kendall_tau\": 0.10472905360811365,\n",
      "    \"n_correct\": 8287,\n",
      "    \"n_errors\": 1713,\n",
      "    \"validation_loss\": 2.465456658867514\n",
      "}\n",
      "Training with config:\n",
      "{'task': {'name': 'mnist', 'confuser': '1<>7'}, 'network': {'architecture': 'feedforward', 'input_size': 784, 'hidden_sizes': [128, 64], 'output_size': 10, 'loss': {'name': 'ce'}}, 'confidences': [{'name': 'max_non_abstain'}], 'optimizer': {'name': 'sgd', 'lr': 0.003, 'momentum': 0.9}, 'bsz': 64, 'n_epochs': 15, 'regularizer': {'name': 'abstainbonus', 'alpha': 0.5}}\n",
      "Epoch 1:\n"
     ]
    },
    {
     "name": "stderr",
     "output_type": "stream",
     "text": [
      "100%|██████████| 469/469 [00:01<00:00, 444.89it/s]\n",
      "100%|██████████| 469/469 [00:00<00:00, 641.72it/s]\n"
     ]
    },
    {
     "name": "stdout",
     "output_type": "stream",
     "text": [
      "Epoch 2:\n"
     ]
    },
    {
     "name": "stderr",
     "output_type": "stream",
     "text": [
      "100%|██████████| 469/469 [00:01<00:00, 450.94it/s]\n",
      "100%|██████████| 469/469 [00:00<00:00, 656.14it/s]\n"
     ]
    },
    {
     "name": "stdout",
     "output_type": "stream",
     "text": [
      "Epoch 3:\n"
     ]
    },
    {
     "name": "stderr",
     "output_type": "stream",
     "text": [
      "100%|██████████| 469/469 [00:01<00:00, 423.00it/s]\n",
      "100%|██████████| 469/469 [00:00<00:00, 656.44it/s]\n"
     ]
    },
    {
     "name": "stdout",
     "output_type": "stream",
     "text": [
      "Epoch 4:\n"
     ]
    },
    {
     "name": "stderr",
     "output_type": "stream",
     "text": [
      "100%|██████████| 469/469 [00:01<00:00, 449.05it/s]\n",
      "100%|██████████| 469/469 [00:00<00:00, 660.52it/s]\n"
     ]
    },
    {
     "name": "stdout",
     "output_type": "stream",
     "text": [
      "Epoch 5:\n"
     ]
    },
    {
     "name": "stderr",
     "output_type": "stream",
     "text": [
      "100%|██████████| 469/469 [00:01<00:00, 448.76it/s]\n",
      "100%|██████████| 469/469 [00:00<00:00, 659.45it/s]\n"
     ]
    },
    {
     "name": "stdout",
     "output_type": "stream",
     "text": [
      "Epoch 6:\n"
     ]
    },
    {
     "name": "stderr",
     "output_type": "stream",
     "text": [
      "100%|██████████| 469/469 [00:01<00:00, 449.25it/s]\n",
      "100%|██████████| 469/469 [00:00<00:00, 663.36it/s]\n"
     ]
    },
    {
     "name": "stdout",
     "output_type": "stream",
     "text": [
      "Epoch 7:\n"
     ]
    },
    {
     "name": "stderr",
     "output_type": "stream",
     "text": [
      "100%|██████████| 469/469 [00:01<00:00, 451.02it/s]\n",
      "100%|██████████| 469/469 [00:00<00:00, 660.89it/s]\n"
     ]
    },
    {
     "name": "stdout",
     "output_type": "stream",
     "text": [
      "Epoch 8:\n"
     ]
    },
    {
     "name": "stderr",
     "output_type": "stream",
     "text": [
      "100%|██████████| 469/469 [00:01<00:00, 450.31it/s]\n",
      "100%|██████████| 469/469 [00:00<00:00, 663.41it/s]\n"
     ]
    },
    {
     "name": "stdout",
     "output_type": "stream",
     "text": [
      "Epoch 9:\n"
     ]
    },
    {
     "name": "stderr",
     "output_type": "stream",
     "text": [
      "100%|██████████| 469/469 [00:01<00:00, 450.07it/s]\n",
      "100%|██████████| 469/469 [00:00<00:00, 661.03it/s]\n"
     ]
    },
    {
     "name": "stdout",
     "output_type": "stream",
     "text": [
      "Epoch 10:\n"
     ]
    },
    {
     "name": "stderr",
     "output_type": "stream",
     "text": [
      "100%|██████████| 469/469 [00:01<00:00, 452.71it/s]\n",
      "100%|██████████| 469/469 [00:00<00:00, 664.33it/s]\n"
     ]
    },
    {
     "name": "stdout",
     "output_type": "stream",
     "text": [
      "Epoch 11:\n"
     ]
    },
    {
     "name": "stderr",
     "output_type": "stream",
     "text": [
      "100%|██████████| 469/469 [00:01<00:00, 451.49it/s]\n",
      "100%|██████████| 469/469 [00:00<00:00, 662.31it/s]\n"
     ]
    },
    {
     "name": "stdout",
     "output_type": "stream",
     "text": [
      "Epoch 12:\n"
     ]
    },
    {
     "name": "stderr",
     "output_type": "stream",
     "text": [
      "100%|██████████| 469/469 [00:01<00:00, 451.43it/s]\n",
      "100%|██████████| 469/469 [00:00<00:00, 657.05it/s]\n"
     ]
    },
    {
     "name": "stdout",
     "output_type": "stream",
     "text": [
      "Epoch 13:\n"
     ]
    },
    {
     "name": "stderr",
     "output_type": "stream",
     "text": [
      "100%|██████████| 469/469 [00:01<00:00, 447.15it/s]\n",
      "100%|██████████| 469/469 [00:00<00:00, 667.30it/s]\n"
     ]
    },
    {
     "name": "stdout",
     "output_type": "stream",
     "text": [
      "Epoch 14:\n"
     ]
    },
    {
     "name": "stderr",
     "output_type": "stream",
     "text": [
      "100%|██████████| 469/469 [00:01<00:00, 446.79it/s]\n",
      "100%|██████████| 469/469 [00:00<00:00, 656.37it/s]\n"
     ]
    },
    {
     "name": "stdout",
     "output_type": "stream",
     "text": [
      "Epoch 15:\n"
     ]
    },
    {
     "name": "stderr",
     "output_type": "stream",
     "text": [
      "100%|██████████| 469/469 [00:01<00:00, 438.66it/s]\n",
      "100%|██████████| 469/469 [00:00<00:00, 652.10it/s]\n"
     ]
    },
    {
     "name": "stdout",
     "output_type": "stream",
     "text": [
      "Best validation accuracy at epoch 15\n"
     ]
    },
    {
     "name": "stderr",
     "output_type": "stream",
     "text": [
      "100%|██████████| 157/157 [00:00<00:00, 175.14it/s]\n"
     ]
    },
    {
     "name": "stdout",
     "output_type": "stream",
     "text": [
      "{'name': 'max_non_abstain'}\n",
      "{\n",
      "    \"accuracy\": 0.8241,\n",
      "    \"aupr\": 0.9774142572315271,\n",
      "    \"auroc\": 0.8943545421300988,\n",
      "    \"avg_crr_conf\": 0.44650831861795987,\n",
      "    \"avg_err_conf\": 0.2651968735072713,\n",
      "    \"avg_non_abstain\": 0.5016106098175049,\n",
      "    \"capacity\": 0.963848923293254,\n",
      "    \"kendall_tau\": 0.10564545786990118,\n",
      "    \"n_correct\": 8241,\n",
      "    \"n_errors\": 1759,\n",
      "    \"validation_loss\": 2.4614115399160204\n",
      "}\n"
     ]
    }
   ],
   "source": [
    "from spred.experiment import Experiment\n",
    "from spred.analytics import ResultDatabase\n",
    "n_trials = 3\n",
    "abst_exp = Experiment(abst_config)\n",
    "abst_results = [abst_exp.run() for _ in range(n_trials)]"
   ]
  },
  {
   "cell_type": "code",
   "execution_count": 98,
   "id": "4652496c",
   "metadata": {},
   "outputs": [
    {
     "data": {
      "image/png": "[encoded data removed]",
      "text/plain": [
       "<Figure size 432x288 with 1 Axes>"
      ]
     },
     "metadata": {},
     "output_type": "display_data"
    }
   ],
   "source": [
    "from spred.analytics import plot_evaluation_metric\n",
    "plot_evaluation_metric(ResultDatabase(abst_results+ce_results), \"aupr\")"
   ]
  },
  {
   "cell_type": "markdown",
   "id": "c7e0051c",
   "metadata": {},
   "source": [
    "Unfortunately, this simple idea doesn't seem to have provided benefit over simple cross-entropy training, but now that we know how to create new training objectives with ```spred```, surely the sky is the limit.\n",
    "\n",
    "### END OF TUTORIAL"
   ]
  },
  {
   "cell_type": "code",
   "execution_count": null,
   "id": "a4ea38ac",
   "metadata": {},
   "outputs": [],
   "source": []
  }
 ],
 "metadata": {
  "kernelspec": {
   "display_name": "Python 3",
   "language": "python",
   "name": "python3"
  },
  "language_info": {
   "codemirror_mode": {
    "name": "ipython",
    "version": 3
   },
   "file_extension": ".py",
   "mimetype": "text/x-python",
   "name": "python",
   "nbconvert_exporter": "python",
   "pygments_lexer": "ipython3",
   "version": "3.8.8"
  }
 },
 "nbformat": 4,
 "nbformat_minor": 5
}
