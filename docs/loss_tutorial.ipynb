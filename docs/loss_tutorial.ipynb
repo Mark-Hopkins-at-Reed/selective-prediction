{
 "cells": [
  {
   "cell_type": "markdown",
   "id": "d9e085ac",
   "metadata": {},
   "source": [
    "## Adding a new training objective to ```spred```\n",
    "-------------------------------------------------\n",
    "\n",
    "In this tutorial, we show how to add a new training objective for selective prediction. We will create a training objective that allows a neural network to get \"half-credit\" for abstaining when it is uncertain.\n",
    "\n",
    "**Before doing this tutorial, it is recommended that you first go through the tutorial \"Adding a new task to ```spred```\".**\n",
    "\n",
    "Let's begin by setting up a task and training a prediction function for it. In this tutorial, we'll use the classic MNIST handwritten digit recognition task, but we randomly swap the labels of ones and sevens to make those labels synthetically \"harder\"."
   ]
  },
  {
   "cell_type": "code",
   "execution_count": 1,
   "id": "b4321f10",
   "metadata": {},
   "outputs": [],
   "source": [
    "task_config = {\"name\": \"mnist\",\n",
    "               \"confuser\": \"1<>7\"}"
   ]
  },
  {
   "cell_type": "markdown",
   "id": "b1ae4987",
   "metadata": {},
   "source": [
    "For our prediction function, we'll use a simple feedforward neural network with two hidden layers. MNIST images are always 28x28 pixels, thus the input vectors have size 784. As there are 10 digits, the output size of the network is 10.\n",
    "\n",
    "Before creating a new loss function, let's try a baseline using standard cross-entropy loss."
   ]
  },
  {
   "cell_type": "code",
   "execution_count": 2,
   "id": "23866fbf",
   "metadata": {},
   "outputs": [],
   "source": [
    "model_config = {\"name\": \"feedforward\",\n",
    "                \"input_size\": 784,\n",
    "                \"hidden_sizes\": [128, 64],\n",
    "                \"output_size\": 10,\n",
    "                \"loss\": {\n",
    "                    \"name\": \"ce\"\n",
    "                }}"
   ]
  },
  {
   "cell_type": "markdown",
   "id": "ac3b859e",
   "metadata": {},
   "source": [
    "We'll extract confidence using the generally reliable **MaxProb** confidence function."
   ]
  },
  {
   "cell_type": "code",
   "execution_count": 3,
   "id": "4e2dfbf1",
   "metadata": {},
   "outputs": [],
   "source": [
    "confs = [{\"name\": \"max_prob\"}]"
   ]
  },
  {
   "cell_type": "markdown",
   "id": "666524c8",
   "metadata": {},
   "source": [
    "Now that we've specified our task, our model, and our confidences, let's bundle them together into an experiment configuration. We'll also specify a couple extra details, like the optimizer (stochastic gradient descent with momentum of 0.9 and a learning rate of 0.003), the batch size (64), and the number of training epochs (30)."
   ]
  },
  {
   "cell_type": "code",
   "execution_count": 4,
   "id": "869470bc",
   "metadata": {},
   "outputs": [],
   "source": [
    "ce_config = {\"task\": task_config,\n",
    "             \"model\": model_config,\n",
    "             \"confidences\": confs,\n",
    "             \"optimizer\": {\"name\": \"sgd\",\n",
    "                           \"lr\": 0.003,\n",
    "                           \"momentum\": 0.9},\n",
    "             \"bsz\": 64,\n",
    "             \"n_epochs\": 15}"
   ]
  },
  {
   "cell_type": "markdown",
   "id": "412623bd",
   "metadata": {},
   "source": [
    "Let's run 3 trials of the experiment and visualize the results."
   ]
  },
  {
   "cell_type": "code",
   "execution_count": 5,
   "id": "05a48921",
   "metadata": {},
   "outputs": [
    {
     "name": "stdout",
     "output_type": "stream",
     "text": [
      "Training with config:\n",
      "{'task': {'name': 'mnist', 'confuser': '1<>7'}, 'model': {'name': 'feedforward', 'input_size': 784, 'hidden_sizes': [128, 64], 'output_size': 10, 'loss': {'name': 'ce'}}, 'confidences': [{'name': 'max_prob'}], 'optimizer': {'name': 'sgd', 'lr': 0.003, 'momentum': 0.9}, 'bsz': 64, 'n_epochs': 15}\n",
      "Epoch 1:\n"
     ]
    },
    {
     "name": "stderr",
     "output_type": "stream",
     "text": [
      "100%|██████████| 469/469 [00:01<00:00, 439.66it/s]\n",
      "100%|██████████| 469/469 [00:00<00:00, 968.10it/s]\n"
     ]
    },
    {
     "name": "stdout",
     "output_type": "stream",
     "text": [
      "Epoch 2:\n"
     ]
    },
    {
     "name": "stderr",
     "output_type": "stream",
     "text": [
      "100%|██████████| 469/469 [00:00<00:00, 493.07it/s]\n",
      "100%|██████████| 469/469 [00:00<00:00, 1029.87it/s]\n"
     ]
    },
    {
     "name": "stdout",
     "output_type": "stream",
     "text": [
      "Epoch 3:\n"
     ]
    },
    {
     "name": "stderr",
     "output_type": "stream",
     "text": [
      "100%|██████████| 469/469 [00:00<00:00, 491.94it/s]\n",
      "100%|██████████| 469/469 [00:00<00:00, 1025.32it/s]\n"
     ]
    },
    {
     "name": "stdout",
     "output_type": "stream",
     "text": [
      "Epoch 4:\n"
     ]
    },
    {
     "name": "stderr",
     "output_type": "stream",
     "text": [
      "100%|██████████| 469/469 [00:00<00:00, 484.18it/s]\n",
      "100%|██████████| 469/469 [00:00<00:00, 1020.39it/s]\n"
     ]
    },
    {
     "name": "stdout",
     "output_type": "stream",
     "text": [
      "Epoch 5:\n"
     ]
    },
    {
     "name": "stderr",
     "output_type": "stream",
     "text": [
      "100%|██████████| 469/469 [00:00<00:00, 487.24it/s]\n",
      "100%|██████████| 469/469 [00:00<00:00, 1027.25it/s]\n"
     ]
    },
    {
     "name": "stdout",
     "output_type": "stream",
     "text": [
      "Epoch 6:\n"
     ]
    },
    {
     "name": "stderr",
     "output_type": "stream",
     "text": [
      "100%|██████████| 469/469 [00:00<00:00, 491.69it/s]\n",
      "100%|██████████| 469/469 [00:00<00:00, 1035.23it/s]\n"
     ]
    },
    {
     "name": "stdout",
     "output_type": "stream",
     "text": [
      "Epoch 7:\n"
     ]
    },
    {
     "name": "stderr",
     "output_type": "stream",
     "text": [
      "100%|██████████| 469/469 [00:00<00:00, 493.91it/s]\n",
      "100%|██████████| 469/469 [00:00<00:00, 1031.47it/s]\n"
     ]
    },
    {
     "name": "stdout",
     "output_type": "stream",
     "text": [
      "Epoch 8:\n"
     ]
    },
    {
     "name": "stderr",
     "output_type": "stream",
     "text": [
      "100%|██████████| 469/469 [00:00<00:00, 494.05it/s]\n",
      "100%|██████████| 469/469 [00:00<00:00, 1036.45it/s]\n"
     ]
    },
    {
     "name": "stdout",
     "output_type": "stream",
     "text": [
      "Epoch 9:\n"
     ]
    },
    {
     "name": "stderr",
     "output_type": "stream",
     "text": [
      "100%|██████████| 469/469 [00:00<00:00, 493.83it/s]\n",
      "100%|██████████| 469/469 [00:00<00:00, 1035.34it/s]\n"
     ]
    },
    {
     "name": "stdout",
     "output_type": "stream",
     "text": [
      "Epoch 10:\n"
     ]
    },
    {
     "name": "stderr",
     "output_type": "stream",
     "text": [
      "100%|██████████| 469/469 [00:00<00:00, 494.15it/s]\n",
      "100%|██████████| 469/469 [00:00<00:00, 1034.79it/s]\n"
     ]
    },
    {
     "name": "stdout",
     "output_type": "stream",
     "text": [
      "Epoch 11:\n"
     ]
    },
    {
     "name": "stderr",
     "output_type": "stream",
     "text": [
      "100%|██████████| 469/469 [00:00<00:00, 494.69it/s]\n",
      "100%|██████████| 469/469 [00:00<00:00, 1033.10it/s]\n"
     ]
    },
    {
     "name": "stdout",
     "output_type": "stream",
     "text": [
      "Epoch 12:\n"
     ]
    },
    {
     "name": "stderr",
     "output_type": "stream",
     "text": [
      "100%|██████████| 469/469 [00:00<00:00, 494.37it/s]\n",
      "100%|██████████| 469/469 [00:00<00:00, 1036.60it/s]\n"
     ]
    },
    {
     "name": "stdout",
     "output_type": "stream",
     "text": [
      "Epoch 13:\n"
     ]
    },
    {
     "name": "stderr",
     "output_type": "stream",
     "text": [
      "100%|██████████| 469/469 [00:00<00:00, 495.03it/s]\n",
      "100%|██████████| 469/469 [00:00<00:00, 1036.90it/s]\n"
     ]
    },
    {
     "name": "stdout",
     "output_type": "stream",
     "text": [
      "Epoch 14:\n"
     ]
    },
    {
     "name": "stderr",
     "output_type": "stream",
     "text": [
      "100%|██████████| 469/469 [00:00<00:00, 491.67it/s]\n",
      "100%|██████████| 469/469 [00:00<00:00, 1034.27it/s]\n"
     ]
    },
    {
     "name": "stdout",
     "output_type": "stream",
     "text": [
      "Epoch 15:\n"
     ]
    },
    {
     "name": "stderr",
     "output_type": "stream",
     "text": [
      "100%|██████████| 469/469 [00:00<00:00, 494.12it/s]\n",
      "100%|██████████| 469/469 [00:00<00:00, 1037.00it/s]\n"
     ]
    },
    {
     "name": "stdout",
     "output_type": "stream",
     "text": [
      "Best validation accuracy at epoch 15\n"
     ]
    },
    {
     "name": "stderr",
     "output_type": "stream",
     "text": [
      "100%|██████████| 157/157 [00:00<00:00, 195.67it/s]\n"
     ]
    },
    {
     "name": "stdout",
     "output_type": "stream",
     "text": [
      "{'name': 'max_prob'}\n",
      "{\n",
      "    \"accuracy\": 0.8368,\n",
      "    \"aupr\": 0.9807206314587302,\n",
      "    \"auroc\": 0.9013356276126607,\n",
      "    \"avg_crr_conf\": 0.8912290137627983,\n",
      "    \"avg_err_conf\": 0.5544173282972884,\n",
      "    \"avg_non_abstain\": 1.0,\n",
      "    \"capacity\": 0.96921534674193,\n",
      "    \"kendall_tau\": 0.09866440899973757,\n",
      "    \"n_correct\": 8368,\n",
      "    \"n_errors\": 1632,\n",
      "    \"validation_loss\": 0.34833745815002237\n",
      "}\n",
      "Training with config:\n",
      "{'task': {'name': 'mnist', 'confuser': '1<>7'}, 'model': {'name': 'feedforward', 'input_size': 784, 'hidden_sizes': [128, 64], 'output_size': 10, 'loss': {'name': 'ce'}}, 'confidences': [{'name': 'max_prob'}], 'optimizer': {'name': 'sgd', 'lr': 0.003, 'momentum': 0.9}, 'bsz': 64, 'n_epochs': 15}\n",
      "Epoch 1:\n"
     ]
    },
    {
     "name": "stderr",
     "output_type": "stream",
     "text": [
      "100%|██████████| 469/469 [00:00<00:00, 487.87it/s]\n",
      "100%|██████████| 469/469 [00:00<00:00, 1001.76it/s]\n"
     ]
    },
    {
     "name": "stdout",
     "output_type": "stream",
     "text": [
      "Epoch 2:\n"
     ]
    },
    {
     "name": "stderr",
     "output_type": "stream",
     "text": [
      "100%|██████████| 469/469 [00:00<00:00, 493.75it/s]\n",
      "100%|██████████| 469/469 [00:00<00:00, 1023.78it/s]\n"
     ]
    },
    {
     "name": "stdout",
     "output_type": "stream",
     "text": [
      "Epoch 3:\n"
     ]
    },
    {
     "name": "stderr",
     "output_type": "stream",
     "text": [
      "100%|██████████| 469/469 [00:00<00:00, 490.90it/s]\n",
      "100%|██████████| 469/469 [00:00<00:00, 1028.31it/s]\n"
     ]
    },
    {
     "name": "stdout",
     "output_type": "stream",
     "text": [
      "Epoch 4:\n"
     ]
    },
    {
     "name": "stderr",
     "output_type": "stream",
     "text": [
      "100%|██████████| 469/469 [00:00<00:00, 494.45it/s]\n",
      "100%|██████████| 469/469 [00:00<00:00, 1018.48it/s]\n"
     ]
    },
    {
     "name": "stdout",
     "output_type": "stream",
     "text": [
      "Epoch 5:\n"
     ]
    },
    {
     "name": "stderr",
     "output_type": "stream",
     "text": [
      "100%|██████████| 469/469 [00:00<00:00, 486.39it/s]\n",
      "100%|██████████| 469/469 [00:00<00:00, 1009.80it/s]\n"
     ]
    },
    {
     "name": "stdout",
     "output_type": "stream",
     "text": [
      "Epoch 6:\n"
     ]
    },
    {
     "name": "stderr",
     "output_type": "stream",
     "text": [
      "100%|██████████| 469/469 [00:00<00:00, 492.34it/s]\n",
      "100%|██████████| 469/469 [00:00<00:00, 1035.09it/s]\n"
     ]
    },
    {
     "name": "stdout",
     "output_type": "stream",
     "text": [
      "Epoch 7:\n"
     ]
    },
    {
     "name": "stderr",
     "output_type": "stream",
     "text": [
      "100%|██████████| 469/469 [00:00<00:00, 476.38it/s]\n",
      "100%|██████████| 469/469 [00:00<00:00, 1036.22it/s]\n"
     ]
    },
    {
     "name": "stdout",
     "output_type": "stream",
     "text": [
      "Epoch 8:\n"
     ]
    },
    {
     "name": "stderr",
     "output_type": "stream",
     "text": [
      "100%|██████████| 469/469 [00:00<00:00, 494.70it/s]\n",
      "100%|██████████| 469/469 [00:00<00:00, 1034.95it/s]\n"
     ]
    },
    {
     "name": "stdout",
     "output_type": "stream",
     "text": [
      "Epoch 9:\n"
     ]
    },
    {
     "name": "stderr",
     "output_type": "stream",
     "text": [
      "100%|██████████| 469/469 [00:00<00:00, 495.32it/s]\n",
      "100%|██████████| 469/469 [00:00<00:00, 1033.05it/s]\n"
     ]
    },
    {
     "name": "stdout",
     "output_type": "stream",
     "text": [
      "Epoch 10:\n"
     ]
    },
    {
     "name": "stderr",
     "output_type": "stream",
     "text": [
      "100%|██████████| 469/469 [00:00<00:00, 495.27it/s]\n",
      "100%|██████████| 469/469 [00:00<00:00, 1037.26it/s]\n"
     ]
    },
    {
     "name": "stdout",
     "output_type": "stream",
     "text": [
      "Epoch 11:\n"
     ]
    },
    {
     "name": "stderr",
     "output_type": "stream",
     "text": [
      "100%|██████████| 469/469 [00:00<00:00, 496.01it/s]\n",
      "100%|██████████| 469/469 [00:00<00:00, 1035.60it/s]\n"
     ]
    },
    {
     "name": "stdout",
     "output_type": "stream",
     "text": [
      "Epoch 12:\n"
     ]
    },
    {
     "name": "stderr",
     "output_type": "stream",
     "text": [
      "100%|██████████| 469/469 [00:00<00:00, 495.76it/s]\n",
      "100%|██████████| 469/469 [00:00<00:00, 1038.59it/s]\n"
     ]
    },
    {
     "name": "stdout",
     "output_type": "stream",
     "text": [
      "Epoch 13:\n"
     ]
    },
    {
     "name": "stderr",
     "output_type": "stream",
     "text": [
      "100%|██████████| 469/469 [00:00<00:00, 490.51it/s]\n",
      "100%|██████████| 469/469 [00:00<00:00, 1029.17it/s]\n"
     ]
    },
    {
     "name": "stdout",
     "output_type": "stream",
     "text": [
      "Epoch 14:\n"
     ]
    },
    {
     "name": "stderr",
     "output_type": "stream",
     "text": [
      "100%|██████████| 469/469 [00:00<00:00, 493.49it/s]\n",
      "100%|██████████| 469/469 [00:00<00:00, 1037.31it/s]\n"
     ]
    },
    {
     "name": "stdout",
     "output_type": "stream",
     "text": [
      "Epoch 15:\n"
     ]
    },
    {
     "name": "stderr",
     "output_type": "stream",
     "text": [
      "100%|██████████| 469/469 [00:00<00:00, 495.56it/s]\n",
      "100%|██████████| 469/469 [00:00<00:00, 1035.44it/s]\n"
     ]
    },
    {
     "name": "stdout",
     "output_type": "stream",
     "text": [
      "Best validation accuracy at epoch 15\n"
     ]
    },
    {
     "name": "stderr",
     "output_type": "stream",
     "text": [
      "100%|██████████| 157/157 [00:00<00:00, 197.36it/s]\n"
     ]
    },
    {
     "name": "stdout",
     "output_type": "stream",
     "text": [
      "{'name': 'max_prob'}\n",
      "{\n",
      "    \"accuracy\": 0.8363,\n",
      "    \"aupr\": 0.9803394931917649,\n",
      "    \"auroc\": 0.9008009433880261,\n",
      "    \"avg_crr_conf\": 0.883269966926199,\n",
      "    \"avg_err_conf\": 0.5339851774361779,\n",
      "    \"avg_non_abstain\": 1.0,\n",
      "    \"capacity\": 0.9686272650303223,\n",
      "    \"kendall_tau\": 0.09919927574633328,\n",
      "    \"n_correct\": 8363,\n",
      "    \"n_errors\": 1637,\n",
      "    \"validation_loss\": 0.35668937150080493\n",
      "}\n",
      "Training with config:\n",
      "{'task': {'name': 'mnist', 'confuser': '1<>7'}, 'model': {'name': 'feedforward', 'input_size': 784, 'hidden_sizes': [128, 64], 'output_size': 10, 'loss': {'name': 'ce'}}, 'confidences': [{'name': 'max_prob'}], 'optimizer': {'name': 'sgd', 'lr': 0.003, 'momentum': 0.9}, 'bsz': 64, 'n_epochs': 15}\n",
      "Epoch 1:\n"
     ]
    },
    {
     "name": "stderr",
     "output_type": "stream",
     "text": [
      "100%|██████████| 469/469 [00:00<00:00, 479.34it/s]\n",
      "100%|██████████| 469/469 [00:00<00:00, 1009.02it/s]\n"
     ]
    },
    {
     "name": "stdout",
     "output_type": "stream",
     "text": [
      "Epoch 2:\n"
     ]
    },
    {
     "name": "stderr",
     "output_type": "stream",
     "text": [
      "100%|██████████| 469/469 [00:00<00:00, 493.86it/s]\n",
      "100%|██████████| 469/469 [00:00<00:00, 1033.53it/s]\n"
     ]
    },
    {
     "name": "stdout",
     "output_type": "stream",
     "text": [
      "Epoch 3:\n"
     ]
    },
    {
     "name": "stderr",
     "output_type": "stream",
     "text": [
      "100%|██████████| 469/469 [00:00<00:00, 494.19it/s]\n",
      "100%|██████████| 469/469 [00:00<00:00, 1018.16it/s]\n"
     ]
    },
    {
     "name": "stdout",
     "output_type": "stream",
     "text": [
      "Epoch 4:\n"
     ]
    },
    {
     "name": "stderr",
     "output_type": "stream",
     "text": [
      "100%|██████████| 469/469 [00:00<00:00, 494.44it/s]\n",
      "100%|██████████| 469/469 [00:00<00:00, 1028.53it/s]\n"
     ]
    },
    {
     "name": "stdout",
     "output_type": "stream",
     "text": [
      "Epoch 5:\n"
     ]
    },
    {
     "name": "stderr",
     "output_type": "stream",
     "text": [
      "100%|██████████| 469/469 [00:00<00:00, 493.65it/s]\n",
      "100%|██████████| 469/469 [00:00<00:00, 1029.69it/s]\n"
     ]
    },
    {
     "name": "stdout",
     "output_type": "stream",
     "text": [
      "Epoch 6:\n"
     ]
    },
    {
     "name": "stderr",
     "output_type": "stream",
     "text": [
      "100%|██████████| 469/469 [00:00<00:00, 494.58it/s]\n",
      "100%|██████████| 469/469 [00:00<00:00, 1031.72it/s]\n"
     ]
    },
    {
     "name": "stdout",
     "output_type": "stream",
     "text": [
      "Epoch 7:\n"
     ]
    },
    {
     "name": "stderr",
     "output_type": "stream",
     "text": [
      "100%|██████████| 469/469 [00:00<00:00, 494.27it/s]\n",
      "100%|██████████| 469/469 [00:00<00:00, 1031.07it/s]\n"
     ]
    },
    {
     "name": "stdout",
     "output_type": "stream",
     "text": [
      "Epoch 8:\n"
     ]
    },
    {
     "name": "stderr",
     "output_type": "stream",
     "text": [
      "100%|██████████| 469/469 [00:00<00:00, 495.43it/s]\n",
      "100%|██████████| 469/469 [00:00<00:00, 1034.04it/s]\n"
     ]
    },
    {
     "name": "stdout",
     "output_type": "stream",
     "text": [
      "Epoch 9:\n"
     ]
    },
    {
     "name": "stderr",
     "output_type": "stream",
     "text": [
      "100%|██████████| 469/469 [00:00<00:00, 495.25it/s]\n",
      "100%|██████████| 469/469 [00:00<00:00, 1032.40it/s]\n"
     ]
    },
    {
     "name": "stdout",
     "output_type": "stream",
     "text": [
      "Epoch 10:\n"
     ]
    },
    {
     "name": "stderr",
     "output_type": "stream",
     "text": [
      "100%|██████████| 469/469 [00:00<00:00, 495.05it/s]\n",
      "100%|██████████| 469/469 [00:00<00:00, 1034.62it/s]\n"
     ]
    },
    {
     "name": "stdout",
     "output_type": "stream",
     "text": [
      "Epoch 11:\n"
     ]
    },
    {
     "name": "stderr",
     "output_type": "stream",
     "text": [
      "100%|██████████| 469/469 [00:00<00:00, 495.52it/s]\n",
      "100%|██████████| 469/469 [00:00<00:00, 1033.23it/s]\n"
     ]
    },
    {
     "name": "stdout",
     "output_type": "stream",
     "text": [
      "Epoch 12:\n"
     ]
    },
    {
     "name": "stderr",
     "output_type": "stream",
     "text": [
      "100%|██████████| 469/469 [00:00<00:00, 495.31it/s]\n",
      "100%|██████████| 469/469 [00:00<00:00, 1032.73it/s]\n"
     ]
    },
    {
     "name": "stdout",
     "output_type": "stream",
     "text": [
      "Epoch 13:\n"
     ]
    },
    {
     "name": "stderr",
     "output_type": "stream",
     "text": [
      "100%|██████████| 469/469 [00:00<00:00, 492.93it/s]\n",
      "100%|██████████| 469/469 [00:00<00:00, 1034.41it/s]\n"
     ]
    },
    {
     "name": "stdout",
     "output_type": "stream",
     "text": [
      "Epoch 14:\n"
     ]
    },
    {
     "name": "stderr",
     "output_type": "stream",
     "text": [
      "100%|██████████| 469/469 [00:00<00:00, 495.43it/s]\n",
      "100%|██████████| 469/469 [00:00<00:00, 1035.74it/s]\n"
     ]
    },
    {
     "name": "stdout",
     "output_type": "stream",
     "text": [
      "Epoch 15:\n"
     ]
    },
    {
     "name": "stderr",
     "output_type": "stream",
     "text": [
      "100%|██████████| 469/469 [00:00<00:00, 497.07it/s]\n",
      "100%|██████████| 469/469 [00:00<00:00, 1035.21it/s]\n"
     ]
    },
    {
     "name": "stdout",
     "output_type": "stream",
     "text": [
      "Best validation accuracy at epoch 15\n"
     ]
    },
    {
     "name": "stderr",
     "output_type": "stream",
     "text": [
      "100%|██████████| 157/157 [00:00<00:00, 198.55it/s]\n"
     ]
    },
    {
     "name": "stdout",
     "output_type": "stream",
     "text": [
      "{'name': 'max_prob'}\n",
      "{\n",
      "    \"accuracy\": 0.8313,\n",
      "    \"aupr\": 0.9807722355595074,\n",
      "    \"auroc\": 0.9045653849453128,\n",
      "    \"avg_crr_conf\": 0.8914709284043005,\n",
      "    \"avg_err_conf\": 0.5449170932376887,\n",
      "    \"avg_non_abstain\": 1.0,\n",
      "    \"capacity\": 0.9682255205584278,\n",
      "    \"kendall_tau\": 0.09543468636086158,\n",
      "    \"n_correct\": 8313,\n",
      "    \"n_errors\": 1687,\n",
      "    \"validation_loss\": 0.35160772673263674\n",
      "}\n"
     ]
    }
   ],
   "source": [
    "from spred.experiment import Experiment\n",
    "from spred.analytics import ResultDatabase\n",
    "ce_exp = Experiment(ce_config)\n",
    "n_trials = 3\n",
    "ce_results = [ce_exp.run() for _ in range(n_trials)]"
   ]
  },
  {
   "cell_type": "code",
   "execution_count": 6,
   "id": "96bf6e37",
   "metadata": {},
   "outputs": [
    {
     "data": {
      "image/png": "[encoded data removed]",
      "text/plain": [
       "<Figure size 432x288 with 1 Axes>"
      ]
     },
     "metadata": {},
     "output_type": "display_data"
    }
   ],
   "source": [
    "from spred.analytics import plot_evaluation_metric\n",
    "plot_evaluation_metric(ResultDatabase(ce_results), \"aupr\")"
   ]
  },
  {
   "cell_type": "markdown",
   "id": "6be68b15",
   "metadata": {},
   "source": [
    "Now let's try a loss function besides boring ole cross-entropy! To create one, we need to implement the ```ConfidenceLoss``` interface in ```spred.confidence```. Here's a partial view of that interface.\n",
    "\n",
    "    class ConfidenceLoss(torch.nn.Module, ABC):\n",
    "        @abstractmethod\n",
    "        def __call__(self, batch):\n",
    "            \"\"\"\n",
    "            For the set of predictions in the batch, computes a numeric loss.\n",
    "    \n",
    "            ```batch``` is a dictionary with the following keys:\n",
    "            - ```outputs```: a torch.tensor of shape BxL, where B is the batch size\n",
    "              and L is the number of labels. Each row corresponds to the predicted\n",
    "              values for each label. These are not assumed to be normalized.\n",
    "            - ```labels```: a torch.tensor of shape B, where B is the batch size.\n",
    "            The elements are the gold labels for the batch instances.\n",
    "            - ```confidences```: a torch.tensor of shape B, where B is the batch size.\n",
    "            The elements are the model's confidences for the batch instances.\n",
    "            - ```loss```: the model's default loss for the batch\n",
    "    \n",
    "            This function is expected to return a torch.tensor containing a single\n",
    "            element -- the loss for the batch.\n",
    "    \n",
    "            \"\"\"\n",
    "            ...\n",
    "            \n",
    "    \n",
    "        def include_abstain(self):\n",
    "            \"\"\"\n",
    "            Returns whether this loss function assumes an explicit \"abstain\" label,\n",
    "            in addition to the set of task labels.\n",
    "    \n",
    "            \"\"\"\n",
    "            return False\n",
    "            \n",
    "            \n",
    "The ```ConfidenceLoss``` interface has only one abstract method that must be overridden, which is ```__call__```. The ```__call__``` method takes a dictionary called ```batch``` as its only argument, which contains the predictions made by a model on a minibatch of input instances. At a minimum, the ```batch``` will contain two keys:\n",
    "- ```outputs```: a ```torch.tensor``` of shape ```B```x```L```, where ```B``` is the batch size and ```L``` is the number of labels. Each row corresponds to the predicted values for each label. These are not assumed to be normalized.\n",
    "- ```labels```: a ```torch.tensor``` of shape ```B```, where ```B``` is the batch size. The elements are the gold labels for the batch instances.\n",
    "\n",
    "Depending on the prediction model, it may also contain:\n",
    "- ```confidences```: a torch.tensor of shape ```B```, where ```B``` is the batch size. The elements are the model's confidences for the batch instances.\n",
    "- ```loss```: the model's default loss for the batch\n",
    "\n",
    "Let's see how this works with ```CrossEntropyLoss``` on an example batch."
   ]
  },
  {
   "cell_type": "code",
   "execution_count": 7,
   "id": "c2e1f8f2",
   "metadata": {},
   "outputs": [
    {
     "data": {
      "text/plain": [
       "tensor(2.4973)"
      ]
     },
     "execution_count": 7,
     "metadata": {},
     "output_type": "execute_result"
    }
   ],
   "source": [
    "from torch import tensor\n",
    "from spred.loss import CrossEntropyLoss\n",
    "\n",
    "batch = {'outputs': tensor([[-1.5, -2.,  0.8,  1.2],\n",
    "                            [-2.5,  0.,  1.2, -1.8]]), \n",
    "         'labels': tensor([2, 0])}\n",
    "\n",
    "ce = CrossEntropyLoss()\n",
    "ce(batch)"
   ]
  },
  {
   "cell_type": "markdown",
   "id": "f77bb552",
   "metadata": {},
   "source": [
    "```CrossEntropyLoss``` computes a loss of 2.4973 by first computing the prediction weights in 'outputs' to probability distributions using softmax:"
   ]
  },
  {
   "cell_type": "code",
   "execution_count": 8,
   "id": "99e9145f",
   "metadata": {},
   "outputs": [
    {
     "data": {
      "text/plain": [
       "tensor([[0.0378, 0.0229, 0.3769, 0.5623],\n",
       "        [0.0180, 0.2189, 0.7269, 0.0362]])"
      ]
     },
     "execution_count": 8,
     "metadata": {},
     "output_type": "execute_result"
    }
   ],
   "source": [
    "from spred.util import softmax\n",
    "softmax(batch['outputs'])"
   ]
  },
  {
   "cell_type": "markdown",
   "id": "8f69ea1e",
   "metadata": {},
   "source": [
    "Then it takes the average negative log of the gold probabilities. In this case, the ```labels``` field tells us that the gold labels are label 2 for the first instance (predicted probability 0.3769) and label 0 for the second instance (predicted probability 0.0180), thus:"
   ]
  },
  {
   "cell_type": "code",
   "execution_count": 9,
   "id": "baf26d22",
   "metadata": {},
   "outputs": [
    {
     "name": "stdout",
     "output_type": "stream",
     "text": [
      "Within rounding errors, we should expect a loss of 2.497.\n"
     ]
    }
   ],
   "source": [
    "from math import log\n",
    "expected = (-log(0.3769) - log(0.0180))/2\n",
    "print(f\"Within rounding errors, we should expect a loss of {expected:.3f}.\")"
   ]
  },
  {
   "cell_type": "markdown",
   "id": "c23b7983",
   "metadata": {},
   "source": [
    "We're going to implement a loss function that gives a \"partial-credit\" reward to an existing loss function if a model allocates weight to a special **abstention** label. We will assume that the abstention label is the last element of each vector, i.e. the above example batch allocates a weight of 1.2 and -1.8 to the abstention label. We'll assume that the model has precomputed the cross-entropy loss and has provided it in the batch. Then we'll compute a partial-credit bonus for allocating probability mass to abstention -- it won't be as much reward as could be obtained by putting all probability mass on the correct label (it'll be discounted by a constant factor ```alpha```), but it'll be better than getting a wrong answer.\n",
    "\n",
    "Here's the main logic."
   ]
  },
  {
   "cell_type": "code",
   "execution_count": 10,
   "id": "f14b4dd0",
   "metadata": {},
   "outputs": [
    {
     "name": "stdout",
     "output_type": "stream",
     "text": [
      "Prediction distributions:\n",
      "tensor([[0.0378, 0.0229, 0.3769, 0.5623],\n",
      "        [0.0180, 0.2189, 0.7269, 0.0362]])\n",
      "Abstention bonus:  2.640\n",
      "Base loss + bonus: 5.138\n"
     ]
    }
   ],
   "source": [
    "batch = {'outputs': tensor([[-1.5, -2.,  0.8,  1.2],\n",
    "                            [-2.5,  0.,  1.2, -1.8]]), \n",
    "         'labels': tensor([2, 0]),\n",
    "         'loss': tensor(2.4973)}\n",
    "\n",
    "print(\"Prediction distributions:\")\n",
    "print(softmax(batch['outputs']))\n",
    "\n",
    "alpha = 0.5\n",
    "bonus = (-log(alpha * 0.5623) -log(alpha * 0.0362)) / 2\n",
    "print(f\"Abstention bonus:  {bonus:.3f}\")\n",
    "\n",
    "print(f\"Base loss + bonus: {bonus+batch['loss']:.3f}\")"
   ]
  },
  {
   "cell_type": "markdown",
   "id": "47cbce0d",
   "metadata": {},
   "source": [
    "Now we wrap this logic in a ```ConfidenceLoss``` class and register the new loss function with Spred Hub."
   ]
  },
  {
   "cell_type": "code",
   "execution_count": 11,
   "id": "a69d546d",
   "metadata": {},
   "outputs": [],
   "source": [
    "from spred.loss import ConfidenceLoss\n",
    "from spred.hub import spred_hub\n",
    "import torch\n",
    "\n",
    "class AbstainingLoss(ConfidenceLoss):\n",
    "    def __init__(self, alpha):\n",
    "        super().__init__()\n",
    "        self.alpha = alpha\n",
    "\n",
    "    def __call__(self, batch):\n",
    "        output, gold = batch['outputs'], batch['labels']\n",
    "        base_loss = batch['loss']\n",
    "        dists = softmax(output)\n",
    "        abstains = dists[:, -1]\n",
    "        losses = self.alpha * abstains\n",
    "        losses = torch.clamp(losses, min=0.000000001)\n",
    "        losses = torch.mean(-torch.log(losses))\n",
    "        return base_loss + losses\n",
    "\n",
    "    def include_abstain(self):\n",
    "        return True\n",
    "    \n",
    "spred_hub.register_loss_fn(\"abstainbonus\", AbstainingLoss)"
   ]
  },
  {
   "cell_type": "code",
   "execution_count": 12,
   "id": "d51a290e",
   "metadata": {},
   "outputs": [
    {
     "name": "stdout",
     "output_type": "stream",
     "text": [
      "Abstention loss: 5.138\n"
     ]
    }
   ],
   "source": [
    "abst_loss = AbstainingLoss(alpha)\n",
    "print(f\"Abstention loss: {abst_loss(batch):.3f}\")"
   ]
  },
  {
   "cell_type": "markdown",
   "id": "bef04211",
   "metadata": {},
   "source": [
    "Let's create an experiment configuration that uses this new loss function, and run 3 experiment trials. Because our model now has an \"abstain\" label, we need to change the confidence function from ```max_prob``` to ```max_non_abstain```, so that it won't use the abstention probability as its confidence."
   ]
  },
  {
   "cell_type": "code",
   "execution_count": 15,
   "id": "f0457a9e",
   "metadata": {},
   "outputs": [],
   "source": [
    "abst_config = {\"task\": task_config,\n",
    "               \"model\": model_config,\n",
    "               \"confidences\": [{\"name\": \"max_non_abstain\"}],\n",
    "               \"optimizer\": {\"name\": \"sgd\",\n",
    "                             \"lr\": 0.003,\n",
    "                             \"momentum\": 0.9},\n",
    "               \"bsz\": 64,\n",
    "               \"n_epochs\": 15,\n",
    "               \"regularizer\": {\"name\": \"abstainbonus\",\n",
    "                               \"alpha\": 0.5}}"
   ]
  },
  {
   "cell_type": "code",
   "execution_count": 16,
   "id": "20bd38e2",
   "metadata": {},
   "outputs": [
    {
     "name": "stdout",
     "output_type": "stream",
     "text": [
      "Training with config:\n",
      "{'task': {'name': 'mnist', 'confuser': '1<>7'}, 'model': {'name': 'feedforward', 'input_size': 784, 'hidden_sizes': [128, 64], 'output_size': 10, 'loss': {'name': 'ce'}}, 'confidences': [{'name': 'max_non_abstain'}], 'optimizer': {'name': 'sgd', 'lr': 0.003, 'momentum': 0.9}, 'bsz': 64, 'n_epochs': 15, 'regularizer': {'name': 'abstainbonus', 'alpha': 0.5}}\n",
      "Epoch 1:\n"
     ]
    },
    {
     "name": "stderr",
     "output_type": "stream",
     "text": [
      "100%|██████████| 469/469 [00:01<00:00, 424.19it/s]\n",
      "100%|██████████| 469/469 [00:00<00:00, 619.67it/s]\n"
     ]
    },
    {
     "name": "stdout",
     "output_type": "stream",
     "text": [
      "Epoch 2:\n"
     ]
    },
    {
     "name": "stderr",
     "output_type": "stream",
     "text": [
      "100%|██████████| 469/469 [00:01<00:00, 455.68it/s]\n",
      "100%|██████████| 469/469 [00:00<00:00, 677.42it/s]\n"
     ]
    },
    {
     "name": "stdout",
     "output_type": "stream",
     "text": [
      "Epoch 3:\n"
     ]
    },
    {
     "name": "stderr",
     "output_type": "stream",
     "text": [
      "100%|██████████| 469/469 [00:01<00:00, 454.93it/s]\n",
      "100%|██████████| 469/469 [00:00<00:00, 678.01it/s]\n"
     ]
    },
    {
     "name": "stdout",
     "output_type": "stream",
     "text": [
      "Epoch 4:\n"
     ]
    },
    {
     "name": "stderr",
     "output_type": "stream",
     "text": [
      "100%|██████████| 469/469 [00:01<00:00, 451.12it/s]\n",
      "100%|██████████| 469/469 [00:00<00:00, 678.67it/s]\n"
     ]
    },
    {
     "name": "stdout",
     "output_type": "stream",
     "text": [
      "Epoch 5:\n"
     ]
    },
    {
     "name": "stderr",
     "output_type": "stream",
     "text": [
      "100%|██████████| 469/469 [00:01<00:00, 455.35it/s]\n",
      "100%|██████████| 469/469 [00:00<00:00, 678.65it/s]\n"
     ]
    },
    {
     "name": "stdout",
     "output_type": "stream",
     "text": [
      "Epoch 6:\n"
     ]
    },
    {
     "name": "stderr",
     "output_type": "stream",
     "text": [
      "100%|██████████| 469/469 [00:01<00:00, 455.87it/s]\n",
      "100%|██████████| 469/469 [00:00<00:00, 679.24it/s]\n"
     ]
    },
    {
     "name": "stdout",
     "output_type": "stream",
     "text": [
      "Epoch 7:\n"
     ]
    },
    {
     "name": "stderr",
     "output_type": "stream",
     "text": [
      "100%|██████████| 469/469 [00:01<00:00, 451.53it/s]\n",
      "100%|██████████| 469/469 [00:00<00:00, 677.85it/s]\n"
     ]
    },
    {
     "name": "stdout",
     "output_type": "stream",
     "text": [
      "Epoch 8:\n"
     ]
    },
    {
     "name": "stderr",
     "output_type": "stream",
     "text": [
      "100%|██████████| 469/469 [00:01<00:00, 436.95it/s]\n",
      "100%|██████████| 469/469 [00:00<00:00, 588.37it/s]\n"
     ]
    },
    {
     "name": "stdout",
     "output_type": "stream",
     "text": [
      "Epoch 9:\n"
     ]
    },
    {
     "name": "stderr",
     "output_type": "stream",
     "text": [
      "100%|██████████| 469/469 [00:01<00:00, 447.66it/s]\n",
      "100%|██████████| 469/469 [00:00<00:00, 679.24it/s]\n"
     ]
    },
    {
     "name": "stdout",
     "output_type": "stream",
     "text": [
      "Epoch 10:\n"
     ]
    },
    {
     "name": "stderr",
     "output_type": "stream",
     "text": [
      "100%|██████████| 469/469 [00:01<00:00, 456.67it/s]\n",
      "100%|██████████| 469/469 [00:00<00:00, 676.63it/s]\n"
     ]
    },
    {
     "name": "stdout",
     "output_type": "stream",
     "text": [
      "Epoch 11:\n"
     ]
    },
    {
     "name": "stderr",
     "output_type": "stream",
     "text": [
      "100%|██████████| 469/469 [00:01<00:00, 456.86it/s]\n",
      "100%|██████████| 469/469 [00:00<00:00, 679.90it/s]\n"
     ]
    },
    {
     "name": "stdout",
     "output_type": "stream",
     "text": [
      "Epoch 12:\n"
     ]
    },
    {
     "name": "stderr",
     "output_type": "stream",
     "text": [
      "100%|██████████| 469/469 [00:01<00:00, 455.36it/s]\n",
      "100%|██████████| 469/469 [00:00<00:00, 674.81it/s]\n"
     ]
    },
    {
     "name": "stdout",
     "output_type": "stream",
     "text": [
      "Epoch 13:\n"
     ]
    },
    {
     "name": "stderr",
     "output_type": "stream",
     "text": [
      "100%|██████████| 469/469 [00:01<00:00, 455.60it/s]\n",
      "100%|██████████| 469/469 [00:00<00:00, 676.63it/s]\n"
     ]
    },
    {
     "name": "stdout",
     "output_type": "stream",
     "text": [
      "Epoch 14:\n"
     ]
    },
    {
     "name": "stderr",
     "output_type": "stream",
     "text": [
      "100%|██████████| 469/469 [00:01<00:00, 451.42it/s]\n",
      "100%|██████████| 469/469 [00:00<00:00, 670.62it/s]\n"
     ]
    },
    {
     "name": "stdout",
     "output_type": "stream",
     "text": [
      "Epoch 15:\n"
     ]
    },
    {
     "name": "stderr",
     "output_type": "stream",
     "text": [
      "100%|██████████| 469/469 [00:01<00:00, 454.41it/s]\n",
      "100%|██████████| 469/469 [00:00<00:00, 676.25it/s]\n"
     ]
    },
    {
     "name": "stdout",
     "output_type": "stream",
     "text": [
      "Best validation accuracy at epoch 15\n"
     ]
    },
    {
     "name": "stderr",
     "output_type": "stream",
     "text": [
      "100%|██████████| 157/157 [00:00<00:00, 176.45it/s]\n"
     ]
    },
    {
     "name": "stdout",
     "output_type": "stream",
     "text": [
      "{'name': 'max_non_abstain'}\n",
      "{\n",
      "    \"accuracy\": 0.8304,\n",
      "    \"aupr\": 0.9781874730037305,\n",
      "    \"auroc\": 0.8929315861644309,\n",
      "    \"avg_crr_conf\": 0.4427519929702959,\n",
      "    \"avg_err_conf\": 0.25877215545448773,\n",
      "    \"avg_non_abstain\": 1.0,\n",
      "    \"capacity\": 0.9656787920614383,\n",
      "    \"kendall_tau\": 0.10706841383556913,\n",
      "    \"n_correct\": 8304,\n",
      "    \"n_errors\": 1696,\n",
      "    \"validation_loss\": 2.464243793183831\n",
      "}\n",
      "Training with config:\n",
      "{'task': {'name': 'mnist', 'confuser': '1<>7'}, 'model': {'name': 'feedforward', 'input_size': 784, 'hidden_sizes': [128, 64], 'output_size': 10, 'loss': {'name': 'ce'}}, 'confidences': [{'name': 'max_non_abstain'}], 'optimizer': {'name': 'sgd', 'lr': 0.003, 'momentum': 0.9}, 'bsz': 64, 'n_epochs': 15, 'regularizer': {'name': 'abstainbonus', 'alpha': 0.5}}\n",
      "Epoch 1:\n"
     ]
    },
    {
     "name": "stderr",
     "output_type": "stream",
     "text": [
      "100%|██████████| 469/469 [00:01<00:00, 448.43it/s]\n",
      "100%|██████████| 469/469 [00:00<00:00, 635.33it/s]\n"
     ]
    },
    {
     "name": "stdout",
     "output_type": "stream",
     "text": [
      "Epoch 2:\n"
     ]
    },
    {
     "name": "stderr",
     "output_type": "stream",
     "text": [
      "100%|██████████| 469/469 [00:01<00:00, 454.50it/s]\n",
      "100%|██████████| 469/469 [00:00<00:00, 663.09it/s]\n"
     ]
    },
    {
     "name": "stdout",
     "output_type": "stream",
     "text": [
      "Epoch 3:\n"
     ]
    },
    {
     "name": "stderr",
     "output_type": "stream",
     "text": [
      "100%|██████████| 469/469 [00:01<00:00, 437.46it/s]\n",
      "100%|██████████| 469/469 [00:00<00:00, 675.89it/s]\n"
     ]
    },
    {
     "name": "stdout",
     "output_type": "stream",
     "text": [
      "Epoch 4:\n"
     ]
    },
    {
     "name": "stderr",
     "output_type": "stream",
     "text": [
      "100%|██████████| 469/469 [00:01<00:00, 421.68it/s]\n",
      "100%|██████████| 469/469 [00:00<00:00, 641.73it/s]\n"
     ]
    },
    {
     "name": "stdout",
     "output_type": "stream",
     "text": [
      "Epoch 5:\n"
     ]
    },
    {
     "name": "stderr",
     "output_type": "stream",
     "text": [
      "100%|██████████| 469/469 [00:01<00:00, 440.25it/s]\n",
      "100%|██████████| 469/469 [00:00<00:00, 663.66it/s]\n"
     ]
    },
    {
     "name": "stdout",
     "output_type": "stream",
     "text": [
      "Epoch 6:\n"
     ]
    },
    {
     "name": "stderr",
     "output_type": "stream",
     "text": [
      "100%|██████████| 469/469 [00:01<00:00, 448.10it/s]\n",
      "100%|██████████| 469/469 [00:00<00:00, 676.32it/s]\n"
     ]
    },
    {
     "name": "stdout",
     "output_type": "stream",
     "text": [
      "Epoch 7:\n"
     ]
    },
    {
     "name": "stderr",
     "output_type": "stream",
     "text": [
      "100%|██████████| 469/469 [00:01<00:00, 459.25it/s]\n",
      "100%|██████████| 469/469 [00:00<00:00, 680.59it/s]\n"
     ]
    },
    {
     "name": "stdout",
     "output_type": "stream",
     "text": [
      "Epoch 8:\n"
     ]
    },
    {
     "name": "stderr",
     "output_type": "stream",
     "text": [
      "100%|██████████| 469/469 [00:01<00:00, 429.92it/s]\n",
      "100%|██████████| 469/469 [00:00<00:00, 677.15it/s]\n"
     ]
    },
    {
     "name": "stdout",
     "output_type": "stream",
     "text": [
      "Epoch 9:\n"
     ]
    },
    {
     "name": "stderr",
     "output_type": "stream",
     "text": [
      "100%|██████████| 469/469 [00:01<00:00, 448.85it/s]\n",
      "100%|██████████| 469/469 [00:00<00:00, 670.90it/s]\n"
     ]
    },
    {
     "name": "stdout",
     "output_type": "stream",
     "text": [
      "Epoch 10:\n"
     ]
    },
    {
     "name": "stderr",
     "output_type": "stream",
     "text": [
      "100%|██████████| 469/469 [00:01<00:00, 454.48it/s]\n",
      "100%|██████████| 469/469 [00:00<00:00, 679.30it/s]\n"
     ]
    },
    {
     "name": "stdout",
     "output_type": "stream",
     "text": [
      "Epoch 11:\n"
     ]
    },
    {
     "name": "stderr",
     "output_type": "stream",
     "text": [
      "100%|██████████| 469/469 [00:01<00:00, 458.82it/s]\n",
      "100%|██████████| 469/469 [00:00<00:00, 681.72it/s]\n"
     ]
    },
    {
     "name": "stdout",
     "output_type": "stream",
     "text": [
      "Epoch 12:\n"
     ]
    },
    {
     "name": "stderr",
     "output_type": "stream",
     "text": [
      "100%|██████████| 469/469 [00:01<00:00, 459.38it/s]\n",
      "100%|██████████| 469/469 [00:00<00:00, 681.91it/s]\n"
     ]
    },
    {
     "name": "stdout",
     "output_type": "stream",
     "text": [
      "Epoch 13:\n"
     ]
    },
    {
     "name": "stderr",
     "output_type": "stream",
     "text": [
      "100%|██████████| 469/469 [00:01<00:00, 461.53it/s]\n",
      "100%|██████████| 469/469 [00:00<00:00, 669.58it/s]\n"
     ]
    },
    {
     "name": "stdout",
     "output_type": "stream",
     "text": [
      "Epoch 14:\n"
     ]
    },
    {
     "name": "stderr",
     "output_type": "stream",
     "text": [
      "100%|██████████| 469/469 [00:01<00:00, 440.82it/s]\n",
      "100%|██████████| 469/469 [00:00<00:00, 679.49it/s]\n"
     ]
    },
    {
     "name": "stdout",
     "output_type": "stream",
     "text": [
      "Epoch 15:\n"
     ]
    },
    {
     "name": "stderr",
     "output_type": "stream",
     "text": [
      "100%|██████████| 469/469 [00:01<00:00, 461.06it/s]\n",
      "100%|██████████| 469/469 [00:00<00:00, 682.01it/s]\n"
     ]
    },
    {
     "name": "stdout",
     "output_type": "stream",
     "text": [
      "Best validation accuracy at epoch 15\n"
     ]
    },
    {
     "name": "stderr",
     "output_type": "stream",
     "text": [
      "100%|██████████| 157/157 [00:00<00:00, 168.79it/s]\n"
     ]
    },
    {
     "name": "stdout",
     "output_type": "stream",
     "text": [
      "{'name': 'max_non_abstain'}\n",
      "{\n",
      "    \"accuracy\": 0.8321,\n",
      "    \"aupr\": 0.9784918729191993,\n",
      "    \"auroc\": 0.8951247011747727,\n",
      "    \"avg_crr_conf\": 0.4411930356731195,\n",
      "    \"avg_err_conf\": 0.2597620078917768,\n",
      "    \"avg_non_abstain\": 1.0,\n",
      "    \"capacity\": 0.9663335184768912,\n",
      "    \"kendall_tau\": 0.10487533461375129,\n",
      "    \"n_correct\": 8321,\n",
      "    \"n_errors\": 1679,\n",
      "    \"validation_loss\": 2.462281968183578\n",
      "}\n",
      "Training with config:\n",
      "{'task': {'name': 'mnist', 'confuser': '1<>7'}, 'model': {'name': 'feedforward', 'input_size': 784, 'hidden_sizes': [128, 64], 'output_size': 10, 'loss': {'name': 'ce'}}, 'confidences': [{'name': 'max_non_abstain'}], 'optimizer': {'name': 'sgd', 'lr': 0.003, 'momentum': 0.9}, 'bsz': 64, 'n_epochs': 15, 'regularizer': {'name': 'abstainbonus', 'alpha': 0.5}}\n",
      "Epoch 1:\n"
     ]
    },
    {
     "name": "stderr",
     "output_type": "stream",
     "text": [
      "100%|██████████| 469/469 [00:01<00:00, 407.50it/s]\n",
      "100%|██████████| 469/469 [00:00<00:00, 594.44it/s]\n"
     ]
    },
    {
     "name": "stdout",
     "output_type": "stream",
     "text": [
      "Epoch 2:\n"
     ]
    },
    {
     "name": "stderr",
     "output_type": "stream",
     "text": [
      "100%|██████████| 469/469 [00:01<00:00, 438.70it/s]\n",
      "100%|██████████| 469/469 [00:00<00:00, 636.71it/s]\n"
     ]
    },
    {
     "name": "stdout",
     "output_type": "stream",
     "text": [
      "Epoch 3:\n"
     ]
    },
    {
     "name": "stderr",
     "output_type": "stream",
     "text": [
      "100%|██████████| 469/469 [00:01<00:00, 414.01it/s]\n",
      "100%|██████████| 469/469 [00:00<00:00, 579.41it/s]\n"
     ]
    },
    {
     "name": "stdout",
     "output_type": "stream",
     "text": [
      "Epoch 4:\n"
     ]
    },
    {
     "name": "stderr",
     "output_type": "stream",
     "text": [
      "100%|██████████| 469/469 [00:01<00:00, 392.61it/s]\n",
      "100%|██████████| 469/469 [00:00<00:00, 587.22it/s]\n"
     ]
    },
    {
     "name": "stdout",
     "output_type": "stream",
     "text": [
      "Epoch 5:\n"
     ]
    },
    {
     "name": "stderr",
     "output_type": "stream",
     "text": [
      "100%|██████████| 469/469 [00:01<00:00, 418.31it/s]\n",
      "100%|██████████| 469/469 [00:00<00:00, 640.32it/s]\n"
     ]
    },
    {
     "name": "stdout",
     "output_type": "stream",
     "text": [
      "Epoch 6:\n"
     ]
    },
    {
     "name": "stderr",
     "output_type": "stream",
     "text": [
      "100%|██████████| 469/469 [00:01<00:00, 431.02it/s]\n",
      "100%|██████████| 469/469 [00:00<00:00, 666.14it/s]\n"
     ]
    },
    {
     "name": "stdout",
     "output_type": "stream",
     "text": [
      "Epoch 7:\n"
     ]
    },
    {
     "name": "stderr",
     "output_type": "stream",
     "text": [
      "100%|██████████| 469/469 [00:01<00:00, 457.10it/s]\n",
      "100%|██████████| 469/469 [00:00<00:00, 672.67it/s]\n"
     ]
    },
    {
     "name": "stdout",
     "output_type": "stream",
     "text": [
      "Epoch 8:\n"
     ]
    },
    {
     "name": "stderr",
     "output_type": "stream",
     "text": [
      "100%|██████████| 469/469 [00:01<00:00, 443.82it/s]\n",
      "100%|██████████| 469/469 [00:00<00:00, 638.65it/s]\n"
     ]
    },
    {
     "name": "stdout",
     "output_type": "stream",
     "text": [
      "Epoch 9:\n"
     ]
    },
    {
     "name": "stderr",
     "output_type": "stream",
     "text": [
      "100%|██████████| 469/469 [00:01<00:00, 441.55it/s]\n",
      "100%|██████████| 469/469 [00:00<00:00, 673.07it/s]\n"
     ]
    },
    {
     "name": "stdout",
     "output_type": "stream",
     "text": [
      "Epoch 10:\n"
     ]
    },
    {
     "name": "stderr",
     "output_type": "stream",
     "text": [
      "100%|██████████| 469/469 [00:01<00:00, 456.62it/s]\n",
      "100%|██████████| 469/469 [00:00<00:00, 619.51it/s]\n"
     ]
    },
    {
     "name": "stdout",
     "output_type": "stream",
     "text": [
      "Epoch 11:\n"
     ]
    },
    {
     "name": "stderr",
     "output_type": "stream",
     "text": [
      "100%|██████████| 469/469 [00:01<00:00, 409.73it/s]\n",
      "100%|██████████| 469/469 [00:00<00:00, 649.08it/s]\n"
     ]
    },
    {
     "name": "stdout",
     "output_type": "stream",
     "text": [
      "Epoch 12:\n"
     ]
    },
    {
     "name": "stderr",
     "output_type": "stream",
     "text": [
      "100%|██████████| 469/469 [00:01<00:00, 436.22it/s]\n",
      "100%|██████████| 469/469 [00:00<00:00, 660.21it/s]\n"
     ]
    },
    {
     "name": "stdout",
     "output_type": "stream",
     "text": [
      "Epoch 13:\n"
     ]
    },
    {
     "name": "stderr",
     "output_type": "stream",
     "text": [
      "100%|██████████| 469/469 [00:01<00:00, 445.56it/s]\n",
      "100%|██████████| 469/469 [00:00<00:00, 670.15it/s]\n"
     ]
    },
    {
     "name": "stdout",
     "output_type": "stream",
     "text": [
      "Epoch 14:\n"
     ]
    },
    {
     "name": "stderr",
     "output_type": "stream",
     "text": [
      "100%|██████████| 469/469 [00:01<00:00, 454.70it/s]\n",
      "100%|██████████| 469/469 [00:00<00:00, 671.15it/s]\n"
     ]
    },
    {
     "name": "stdout",
     "output_type": "stream",
     "text": [
      "Epoch 15:\n"
     ]
    },
    {
     "name": "stderr",
     "output_type": "stream",
     "text": [
      "100%|██████████| 469/469 [00:01<00:00, 451.82it/s]\n",
      "100%|██████████| 469/469 [00:00<00:00, 665.91it/s]\n"
     ]
    },
    {
     "name": "stdout",
     "output_type": "stream",
     "text": [
      "Best validation accuracy at epoch 15\n"
     ]
    },
    {
     "name": "stderr",
     "output_type": "stream",
     "text": [
      "100%|██████████| 157/157 [00:00<00:00, 176.36it/s]\n"
     ]
    },
    {
     "name": "stdout",
     "output_type": "stream",
     "text": [
      "{'name': 'max_non_abstain'}\n",
      "{\n",
      "    \"accuracy\": 0.8311,\n",
      "    \"aupr\": 0.9784695124048164,\n",
      "    \"auroc\": 0.8938116852988389,\n",
      "    \"avg_crr_conf\": 0.44304738170800695,\n",
      "    \"avg_err_conf\": 0.26566627483578953,\n",
      "    \"avg_non_abstain\": 1.0,\n",
      "    \"capacity\": 0.9659657421196964,\n",
      "    \"kendall_tau\": 0.10618838594003867,\n",
      "    \"n_correct\": 8311,\n",
      "    \"n_errors\": 1689,\n",
      "    \"validation_loss\": 2.4575951980177764\n",
      "}\n"
     ]
    }
   ],
   "source": [
    "from spred.experiment import Experiment\n",
    "from spred.analytics import ResultDatabase\n",
    "n_trials = 3\n",
    "abst_exp = Experiment(abst_config)\n",
    "abst_results = [abst_exp.run() for _ in range(n_trials)]"
   ]
  },
  {
   "cell_type": "code",
   "execution_count": 17,
   "id": "4652496c",
   "metadata": {},
   "outputs": [
    {
     "data": {
      "image/png": "[encoded data removed]",
      "text/plain": [
       "<Figure size 432x288 with 1 Axes>"
      ]
     },
     "metadata": {},
     "output_type": "display_data"
    }
   ],
   "source": [
    "from spred.analytics import plot_evaluation_metric\n",
    "plot_evaluation_metric(ResultDatabase(abst_results+ce_results), \"aupr\")"
   ]
  },
  {
   "cell_type": "markdown",
   "id": "c7e0051c",
   "metadata": {},
   "source": [
    "Unfortunately, this simple idea doesn't seem to have provided benefit over simple cross-entropy training, but now that we know how to create new training objectives with ```spred```, surely the sky is the limit.\n",
    "\n",
    "### END OF TUTORIAL"
   ]
  },
  {
   "cell_type": "code",
   "execution_count": null,
   "id": "a4ea38ac",
   "metadata": {},
   "outputs": [],
   "source": []
  }
 ],
 "metadata": {
  "kernelspec": {
   "display_name": "Python 3 (ipykernel)",
   "language": "python",
   "name": "python3"
  },
  "language_info": {
   "codemirror_mode": {
    "name": "ipython",
    "version": 3
   },
   "file_extension": ".py",
   "mimetype": "text/x-python",
   "name": "python",
   "nbconvert_exporter": "python",
   "pygments_lexer": "ipython3",
   "version": "3.8.12"
  }
 },
 "nbformat": 4,
 "nbformat_minor": 5
}
