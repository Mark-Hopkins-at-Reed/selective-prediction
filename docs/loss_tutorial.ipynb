{
 "cells": [
  {
   "cell_type": "markdown",
   "id": "d9e085ac",
   "metadata": {},
   "source": [
    "## Adding a new training objective to ```spred```\n",
    "-------------------------------------------------\n",
    "\n",
    "In this tutorial, we show how to add a new training objective for selective prediction. We will create a training objective that allows a neural network to get \"half-credit\" for abstaining when it is uncertain.\n",
    "\n",
    "**Before doing this tutorial, it is recommended that you first go through the tutorial \"Adding a new task to ```spred```\".**\n",
    "\n",
    "Let's begin by setting up a task and training a prediction function for it. In this tutorial, we'll use the classic MNIST handwritten digit recognition task, but we randomly swap the labels of ones and sevens to make those labels synthetically \"harder\"."
   ]
  },
  {
   "cell_type": "code",
   "execution_count": 1,
   "id": "b4321f10",
   "metadata": {},
   "outputs": [],
   "source": [
    "task_config = {\"name\": \"mnist\",\n",
    "               \"confuser\": \"1<>7\"}"
   ]
  },
  {
   "cell_type": "markdown",
   "id": "b1ae4987",
   "metadata": {},
   "source": [
    "For our prediction function, we'll use a simple feedforward neural network with two hidden layers. MNIST images are always 28x28 pixels, thus the input vectors have size 784. As there are 10 digits, the output size of the network is 10.\n",
    "\n",
    "Before creating a new loss function, let's try a baseline using standard cross-entropy loss."
   ]
  },
  {
   "cell_type": "code",
   "execution_count": 4,
   "id": "23866fbf",
   "metadata": {},
   "outputs": [],
   "source": [
    "model_config = {\"architecture\": \"feedforward\",\n",
    "                \"input_size\": 784,\n",
    "                \"hidden_sizes\": [128, 64],\n",
    "                \"output_size\": 10,\n",
    "                \"loss\": {\n",
    "                    \"name\": \"ce\"\n",
    "                }}"
   ]
  },
  {
   "cell_type": "markdown",
   "id": "ac3b859e",
   "metadata": {},
   "source": [
    "We'll extract confidence using the generally reliable **MaxProb** confidence function."
   ]
  },
  {
   "cell_type": "code",
   "execution_count": 13,
   "id": "4e2dfbf1",
   "metadata": {},
   "outputs": [],
   "source": [
    "confs = [{\"name\": \"max_prob\"}]"
   ]
  },
  {
   "cell_type": "markdown",
   "id": "666524c8",
   "metadata": {},
   "source": [
    "Now that we've specified our task, our model, and our confidences, let's bundle them together into an experiment configuration. We'll also specify a couple extra details, like the optimizer (stochastic gradient descent with momentum of 0.9 and a learning rate of 0.003), the batch size (64), and the number of training epochs (30)."
   ]
  },
  {
   "cell_type": "code",
   "execution_count": 14,
   "id": "869470bc",
   "metadata": {},
   "outputs": [],
   "source": [
    "ce_config = {\"task\": task_config,\n",
    "             \"network\": model_config,\n",
    "             \"confidences\": confs,\n",
    "             \"optimizer\": {\"name\": \"sgd\",\n",
    "                           \"lr\": 0.003,\n",
    "                           \"momentum\": 0.9},\n",
    "             \"bsz\": 64,\n",
    "             \"n_epochs\": 15}"
   ]
  },
  {
   "cell_type": "markdown",
   "id": "412623bd",
   "metadata": {},
   "source": [
    "Let's run 3 trials of the experiment and visualize the results."
   ]
  },
  {
   "cell_type": "code",
   "execution_count": 15,
   "id": "05a48921",
   "metadata": {},
   "outputs": [
    {
     "name": "stdout",
     "output_type": "stream",
     "text": [
      "Training with config:\n",
      "{'task': {'name': 'mnist', 'confuser': '1<>7'}, 'network': {'architecture': 'feedforward', 'input_size': 784, 'hidden_sizes': [128, 64], 'output_size': 10, 'loss': {'name': 'ce'}}, 'confidences': [{'name': 'max_prob'}], 'optimizer': {'name': 'sgd', 'lr': 0.003, 'momentum': 0.9}, 'bsz': 64, 'n_epochs': 15}\n",
      "Epoch 1:\n"
     ]
    },
    {
     "name": "stderr",
     "output_type": "stream",
     "text": [
      "100%|██████████| 469/469 [00:01<00:00, 468.92it/s]\n",
      "100%|██████████| 469/469 [00:00<00:00, 917.51it/s]\n"
     ]
    },
    {
     "name": "stdout",
     "output_type": "stream",
     "text": [
      "Epoch 2:\n"
     ]
    },
    {
     "name": "stderr",
     "output_type": "stream",
     "text": [
      "100%|██████████| 469/469 [00:00<00:00, 484.17it/s]\n",
      "100%|██████████| 469/469 [00:00<00:00, 1002.77it/s]\n"
     ]
    },
    {
     "name": "stdout",
     "output_type": "stream",
     "text": [
      "Epoch 3:\n"
     ]
    },
    {
     "name": "stderr",
     "output_type": "stream",
     "text": [
      "100%|██████████| 469/469 [00:00<00:00, 484.62it/s]\n",
      "100%|██████████| 469/469 [00:00<00:00, 1012.24it/s]\n"
     ]
    },
    {
     "name": "stdout",
     "output_type": "stream",
     "text": [
      "Epoch 4:\n"
     ]
    },
    {
     "name": "stderr",
     "output_type": "stream",
     "text": [
      "100%|██████████| 469/469 [00:00<00:00, 483.19it/s]\n",
      "100%|██████████| 469/469 [00:00<00:00, 1014.43it/s]\n"
     ]
    },
    {
     "name": "stdout",
     "output_type": "stream",
     "text": [
      "Epoch 5:\n"
     ]
    },
    {
     "name": "stderr",
     "output_type": "stream",
     "text": [
      "100%|██████████| 469/469 [00:00<00:00, 483.07it/s]\n",
      "100%|██████████| 469/469 [00:00<00:00, 1015.05it/s]\n"
     ]
    },
    {
     "name": "stdout",
     "output_type": "stream",
     "text": [
      "Epoch 6:\n"
     ]
    },
    {
     "name": "stderr",
     "output_type": "stream",
     "text": [
      "100%|██████████| 469/469 [00:00<00:00, 485.11it/s]\n",
      "100%|██████████| 469/469 [00:00<00:00, 1013.01it/s]\n"
     ]
    },
    {
     "name": "stdout",
     "output_type": "stream",
     "text": [
      "Epoch 7:\n"
     ]
    },
    {
     "name": "stderr",
     "output_type": "stream",
     "text": [
      "100%|██████████| 469/469 [00:00<00:00, 485.39it/s]\n",
      "100%|██████████| 469/469 [00:00<00:00, 1012.69it/s]\n"
     ]
    },
    {
     "name": "stdout",
     "output_type": "stream",
     "text": [
      "Epoch 8:\n"
     ]
    },
    {
     "name": "stderr",
     "output_type": "stream",
     "text": [
      "100%|██████████| 469/469 [00:00<00:00, 486.10it/s]\n",
      "100%|██████████| 469/469 [00:00<00:00, 1013.56it/s]\n"
     ]
    },
    {
     "name": "stdout",
     "output_type": "stream",
     "text": [
      "Epoch 9:\n"
     ]
    },
    {
     "name": "stderr",
     "output_type": "stream",
     "text": [
      "100%|██████████| 469/469 [00:00<00:00, 484.60it/s]\n",
      "100%|██████████| 469/469 [00:00<00:00, 1014.78it/s]\n"
     ]
    },
    {
     "name": "stdout",
     "output_type": "stream",
     "text": [
      "Epoch 10:\n"
     ]
    },
    {
     "name": "stderr",
     "output_type": "stream",
     "text": [
      "100%|██████████| 469/469 [00:00<00:00, 486.65it/s]\n",
      "100%|██████████| 469/469 [00:00<00:00, 1013.19it/s]\n"
     ]
    },
    {
     "name": "stdout",
     "output_type": "stream",
     "text": [
      "Epoch 11:\n"
     ]
    },
    {
     "name": "stderr",
     "output_type": "stream",
     "text": [
      "100%|██████████| 469/469 [00:00<00:00, 486.54it/s]\n",
      "100%|██████████| 469/469 [00:00<00:00, 1012.46it/s]\n"
     ]
    },
    {
     "name": "stdout",
     "output_type": "stream",
     "text": [
      "Epoch 12:\n"
     ]
    },
    {
     "name": "stderr",
     "output_type": "stream",
     "text": [
      "100%|██████████| 469/469 [00:00<00:00, 485.69it/s]\n",
      "100%|██████████| 469/469 [00:00<00:00, 1013.13it/s]\n"
     ]
    },
    {
     "name": "stdout",
     "output_type": "stream",
     "text": [
      "Epoch 13:\n"
     ]
    },
    {
     "name": "stderr",
     "output_type": "stream",
     "text": [
      "100%|██████████| 469/469 [00:00<00:00, 486.50it/s]\n",
      "100%|██████████| 469/469 [00:00<00:00, 1020.08it/s]\n"
     ]
    },
    {
     "name": "stdout",
     "output_type": "stream",
     "text": [
      "Epoch 14:\n"
     ]
    },
    {
     "name": "stderr",
     "output_type": "stream",
     "text": [
      "100%|██████████| 469/469 [00:00<00:00, 486.62it/s]\n",
      "100%|██████████| 469/469 [00:00<00:00, 1018.74it/s]\n"
     ]
    },
    {
     "name": "stdout",
     "output_type": "stream",
     "text": [
      "Epoch 15:\n"
     ]
    },
    {
     "name": "stderr",
     "output_type": "stream",
     "text": [
      "100%|██████████| 469/469 [00:01<00:00, 454.01it/s]\n",
      "100%|██████████| 469/469 [00:00<00:00, 931.86it/s]\n"
     ]
    },
    {
     "name": "stdout",
     "output_type": "stream",
     "text": [
      "Best validation accuracy at epoch 15\n"
     ]
    },
    {
     "name": "stderr",
     "output_type": "stream",
     "text": [
      "100%|██████████| 157/157 [00:00<00:00, 187.05it/s]\n"
     ]
    },
    {
     "name": "stdout",
     "output_type": "stream",
     "text": [
      "{'name': 'max_prob'}\n",
      "{\n",
      "    \"accuracy\": 0.8326,\n",
      "    \"aupr\": 0.9806924642254515,\n",
      "    \"auroc\": 0.9034212113828628,\n",
      "    \"avg_crr_conf\": 0.7378955197185278,\n",
      "    \"avg_err_conf\": 0.08851099049150944,\n",
      "    \"capacity\": 0.9682911733264543,\n",
      "    \"kendall_tau\": 0.09657882449100011,\n",
      "    \"n_correct\": 8326,\n",
      "    \"n_errors\": 1674,\n",
      "    \"n_published\": 10000,\n",
      "    \"validation_loss\": 0.3538173592773972\n",
      "}\n",
      "Training with config:\n",
      "{'task': {'name': 'mnist', 'confuser': '1<>7'}, 'network': {'architecture': 'feedforward', 'input_size': 784, 'hidden_sizes': [128, 64], 'output_size': 10, 'loss': {'name': 'ce'}}, 'confidences': [{'name': 'max_prob'}], 'optimizer': {'name': 'sgd', 'lr': 0.003, 'momentum': 0.9}, 'bsz': 64, 'n_epochs': 15}\n",
      "Epoch 1:\n"
     ]
    },
    {
     "name": "stderr",
     "output_type": "stream",
     "text": [
      "100%|██████████| 469/469 [00:00<00:00, 478.73it/s]\n",
      "100%|██████████| 469/469 [00:00<00:00, 980.87it/s]\n"
     ]
    },
    {
     "name": "stdout",
     "output_type": "stream",
     "text": [
      "Epoch 2:\n"
     ]
    },
    {
     "name": "stderr",
     "output_type": "stream",
     "text": [
      "100%|██████████| 469/469 [00:00<00:00, 472.27it/s]\n",
      "100%|██████████| 469/469 [00:00<00:00, 986.45it/s]\n"
     ]
    },
    {
     "name": "stdout",
     "output_type": "stream",
     "text": [
      "Epoch 3:\n"
     ]
    },
    {
     "name": "stderr",
     "output_type": "stream",
     "text": [
      "100%|██████████| 469/469 [00:01<00:00, 460.09it/s]\n",
      "100%|██████████| 469/469 [00:00<00:00, 989.73it/s]\n"
     ]
    },
    {
     "name": "stdout",
     "output_type": "stream",
     "text": [
      "Epoch 4:\n"
     ]
    },
    {
     "name": "stderr",
     "output_type": "stream",
     "text": [
      "100%|██████████| 469/469 [00:01<00:00, 461.38it/s]\n",
      "100%|██████████| 469/469 [00:00<00:00, 1007.45it/s]\n"
     ]
    },
    {
     "name": "stdout",
     "output_type": "stream",
     "text": [
      "Epoch 5:\n"
     ]
    },
    {
     "name": "stderr",
     "output_type": "stream",
     "text": [
      "100%|██████████| 469/469 [00:00<00:00, 484.52it/s]\n",
      "100%|██████████| 469/469 [00:00<00:00, 1011.53it/s]\n"
     ]
    },
    {
     "name": "stdout",
     "output_type": "stream",
     "text": [
      "Epoch 6:\n"
     ]
    },
    {
     "name": "stderr",
     "output_type": "stream",
     "text": [
      "100%|██████████| 469/469 [00:00<00:00, 485.43it/s]\n",
      "100%|██████████| 469/469 [00:00<00:00, 1019.37it/s]\n"
     ]
    },
    {
     "name": "stdout",
     "output_type": "stream",
     "text": [
      "Epoch 7:\n"
     ]
    },
    {
     "name": "stderr",
     "output_type": "stream",
     "text": [
      "100%|██████████| 469/469 [00:00<00:00, 486.82it/s]\n",
      "100%|██████████| 469/469 [00:00<00:00, 1011.14it/s]\n"
     ]
    },
    {
     "name": "stdout",
     "output_type": "stream",
     "text": [
      "Epoch 8:\n"
     ]
    },
    {
     "name": "stderr",
     "output_type": "stream",
     "text": [
      "100%|██████████| 469/469 [00:00<00:00, 478.45it/s]\n",
      "100%|██████████| 469/469 [00:00<00:00, 1000.26it/s]\n"
     ]
    },
    {
     "name": "stdout",
     "output_type": "stream",
     "text": [
      "Epoch 9:\n"
     ]
    },
    {
     "name": "stderr",
     "output_type": "stream",
     "text": [
      "100%|██████████| 469/469 [00:01<00:00, 468.16it/s]\n",
      "100%|██████████| 469/469 [00:00<00:00, 1000.98it/s]\n"
     ]
    },
    {
     "name": "stdout",
     "output_type": "stream",
     "text": [
      "Epoch 10:\n"
     ]
    },
    {
     "name": "stderr",
     "output_type": "stream",
     "text": [
      "100%|██████████| 469/469 [00:00<00:00, 477.28it/s]\n",
      "100%|██████████| 469/469 [00:00<00:00, 1009.72it/s]\n"
     ]
    },
    {
     "name": "stdout",
     "output_type": "stream",
     "text": [
      "Epoch 11:\n"
     ]
    },
    {
     "name": "stderr",
     "output_type": "stream",
     "text": [
      "100%|██████████| 469/469 [00:00<00:00, 479.11it/s]\n",
      "100%|██████████| 469/469 [00:00<00:00, 997.20it/s] \n"
     ]
    },
    {
     "name": "stdout",
     "output_type": "stream",
     "text": [
      "Epoch 12:\n"
     ]
    },
    {
     "name": "stderr",
     "output_type": "stream",
     "text": [
      "100%|██████████| 469/469 [00:00<00:00, 471.98it/s]\n",
      "100%|██████████| 469/469 [00:00<00:00, 1005.90it/s]\n"
     ]
    },
    {
     "name": "stdout",
     "output_type": "stream",
     "text": [
      "Epoch 13:\n"
     ]
    },
    {
     "name": "stderr",
     "output_type": "stream",
     "text": [
      "100%|██████████| 469/469 [00:00<00:00, 481.17it/s]\n",
      "100%|██████████| 469/469 [00:00<00:00, 1011.33it/s]\n"
     ]
    },
    {
     "name": "stdout",
     "output_type": "stream",
     "text": [
      "Epoch 14:\n"
     ]
    },
    {
     "name": "stderr",
     "output_type": "stream",
     "text": [
      "100%|██████████| 469/469 [00:00<00:00, 475.13it/s]\n",
      "100%|██████████| 469/469 [00:00<00:00, 1008.16it/s]\n"
     ]
    },
    {
     "name": "stdout",
     "output_type": "stream",
     "text": [
      "Epoch 15:\n"
     ]
    },
    {
     "name": "stderr",
     "output_type": "stream",
     "text": [
      "100%|██████████| 469/469 [00:00<00:00, 485.20it/s]\n",
      "100%|██████████| 469/469 [00:00<00:00, 1017.75it/s]\n"
     ]
    },
    {
     "name": "stdout",
     "output_type": "stream",
     "text": [
      "Best validation accuracy at epoch 15\n"
     ]
    },
    {
     "name": "stderr",
     "output_type": "stream",
     "text": [
      "100%|██████████| 157/157 [00:00<00:00, 192.67it/s]\n"
     ]
    },
    {
     "name": "stdout",
     "output_type": "stream",
     "text": [
      "{'name': 'max_prob'}\n",
      "{\n",
      "    \"accuracy\": 0.8326,\n",
      "    \"aupr\": 0.9805979081174472,\n",
      "    \"auroc\": 0.9023681341372521,\n",
      "    \"avg_crr_conf\": 0.7399908181622624,\n",
      "    \"avg_err_conf\": 0.09048879179954529,\n",
      "    \"capacity\": 0.9682048898142268,\n",
      "    \"kendall_tau\": 0.09763186586274775,\n",
      "    \"n_correct\": 8326,\n",
      "    \"n_errors\": 1674,\n",
      "    \"n_published\": 10000,\n",
      "    \"validation_loss\": 0.35429835571035456\n",
      "}\n",
      "Training with config:\n",
      "{'task': {'name': 'mnist', 'confuser': '1<>7'}, 'network': {'architecture': 'feedforward', 'input_size': 784, 'hidden_sizes': [128, 64], 'output_size': 10, 'loss': {'name': 'ce'}}, 'confidences': [{'name': 'max_prob'}], 'optimizer': {'name': 'sgd', 'lr': 0.003, 'momentum': 0.9}, 'bsz': 64, 'n_epochs': 15}\n",
      "Epoch 1:\n"
     ]
    },
    {
     "name": "stderr",
     "output_type": "stream",
     "text": [
      "100%|██████████| 469/469 [00:00<00:00, 484.39it/s]\n",
      "100%|██████████| 469/469 [00:00<00:00, 985.56it/s]\n"
     ]
    },
    {
     "name": "stdout",
     "output_type": "stream",
     "text": [
      "Epoch 2:\n"
     ]
    },
    {
     "name": "stderr",
     "output_type": "stream",
     "text": [
      "100%|██████████| 469/469 [00:00<00:00, 478.36it/s]\n",
      "100%|██████████| 469/469 [00:00<00:00, 1006.90it/s]\n"
     ]
    },
    {
     "name": "stdout",
     "output_type": "stream",
     "text": [
      "Epoch 3:\n"
     ]
    },
    {
     "name": "stderr",
     "output_type": "stream",
     "text": [
      "100%|██████████| 469/469 [00:00<00:00, 471.82it/s]\n",
      "100%|██████████| 469/469 [00:00<00:00, 1004.51it/s]\n"
     ]
    },
    {
     "name": "stdout",
     "output_type": "stream",
     "text": [
      "Epoch 4:\n"
     ]
    },
    {
     "name": "stderr",
     "output_type": "stream",
     "text": [
      "100%|██████████| 469/469 [00:00<00:00, 484.99it/s]\n",
      "100%|██████████| 469/469 [00:00<00:00, 1007.42it/s]\n"
     ]
    },
    {
     "name": "stdout",
     "output_type": "stream",
     "text": [
      "Epoch 5:\n"
     ]
    },
    {
     "name": "stderr",
     "output_type": "stream",
     "text": [
      "100%|██████████| 469/469 [00:00<00:00, 478.03it/s]\n",
      "100%|██████████| 469/469 [00:00<00:00, 1002.34it/s]\n"
     ]
    },
    {
     "name": "stdout",
     "output_type": "stream",
     "text": [
      "Epoch 6:\n"
     ]
    },
    {
     "name": "stderr",
     "output_type": "stream",
     "text": [
      "100%|██████████| 469/469 [00:00<00:00, 476.53it/s]\n",
      "100%|██████████| 469/469 [00:00<00:00, 1011.03it/s]\n"
     ]
    },
    {
     "name": "stdout",
     "output_type": "stream",
     "text": [
      "Epoch 7:\n"
     ]
    },
    {
     "name": "stderr",
     "output_type": "stream",
     "text": [
      "100%|██████████| 469/469 [00:00<00:00, 483.14it/s]\n",
      "100%|██████████| 469/469 [00:00<00:00, 993.51it/s] \n"
     ]
    },
    {
     "name": "stdout",
     "output_type": "stream",
     "text": [
      "Epoch 8:\n"
     ]
    },
    {
     "name": "stderr",
     "output_type": "stream",
     "text": [
      "100%|██████████| 469/469 [00:00<00:00, 477.21it/s]\n",
      "100%|██████████| 469/469 [00:00<00:00, 1006.03it/s]\n"
     ]
    },
    {
     "name": "stdout",
     "output_type": "stream",
     "text": [
      "Epoch 9:\n"
     ]
    },
    {
     "name": "stderr",
     "output_type": "stream",
     "text": [
      "100%|██████████| 469/469 [00:00<00:00, 481.00it/s]\n",
      "100%|██████████| 469/469 [00:00<00:00, 1012.79it/s]\n"
     ]
    },
    {
     "name": "stdout",
     "output_type": "stream",
     "text": [
      "Epoch 10:\n"
     ]
    },
    {
     "name": "stderr",
     "output_type": "stream",
     "text": [
      "100%|██████████| 469/469 [00:00<00:00, 486.22it/s]\n",
      "100%|██████████| 469/469 [00:00<00:00, 1010.55it/s]\n"
     ]
    },
    {
     "name": "stdout",
     "output_type": "stream",
     "text": [
      "Epoch 11:\n"
     ]
    },
    {
     "name": "stderr",
     "output_type": "stream",
     "text": [
      "100%|██████████| 469/469 [00:00<00:00, 486.90it/s]\n",
      "100%|██████████| 469/469 [00:00<00:00, 1014.69it/s]\n"
     ]
    },
    {
     "name": "stdout",
     "output_type": "stream",
     "text": [
      "Epoch 12:\n"
     ]
    },
    {
     "name": "stderr",
     "output_type": "stream",
     "text": [
      "100%|██████████| 469/469 [00:00<00:00, 487.66it/s]\n",
      "100%|██████████| 469/469 [00:00<00:00, 1012.89it/s]\n"
     ]
    },
    {
     "name": "stdout",
     "output_type": "stream",
     "text": [
      "Epoch 13:\n"
     ]
    },
    {
     "name": "stderr",
     "output_type": "stream",
     "text": [
      "100%|██████████| 469/469 [00:00<00:00, 488.62it/s]\n",
      "100%|██████████| 469/469 [00:00<00:00, 1010.94it/s]\n"
     ]
    },
    {
     "name": "stdout",
     "output_type": "stream",
     "text": [
      "Epoch 14:\n"
     ]
    },
    {
     "name": "stderr",
     "output_type": "stream",
     "text": [
      "100%|██████████| 469/469 [00:00<00:00, 489.55it/s]\n",
      "100%|██████████| 469/469 [00:00<00:00, 1019.49it/s]\n"
     ]
    },
    {
     "name": "stdout",
     "output_type": "stream",
     "text": [
      "Epoch 15:\n"
     ]
    },
    {
     "name": "stderr",
     "output_type": "stream",
     "text": [
      "100%|██████████| 469/469 [00:00<00:00, 477.57it/s]\n",
      "100%|██████████| 469/469 [00:00<00:00, 936.81it/s]\n"
     ]
    },
    {
     "name": "stdout",
     "output_type": "stream",
     "text": [
      "Best validation accuracy at epoch 15\n"
     ]
    },
    {
     "name": "stderr",
     "output_type": "stream",
     "text": [
      "100%|██████████| 157/157 [00:00<00:00, 193.66it/s]\n"
     ]
    },
    {
     "name": "stdout",
     "output_type": "stream",
     "text": [
      "{'name': 'max_prob'}\n",
      "{\n",
      "    \"accuracy\": 0.8333,\n",
      "    \"aupr\": 0.9798498782035134,\n",
      "    \"auroc\": 0.8991321140548082,\n",
      "    \"avg_crr_conf\": 0.737196283967793,\n",
      "    \"avg_err_conf\": 0.09024004412740469,\n",
      "    \"capacity\": 0.967597019735752,\n",
      "    \"kendall_tau\": 0.10086788594519186,\n",
      "    \"n_correct\": 8333,\n",
      "    \"n_errors\": 1667,\n",
      "    \"n_published\": 10000,\n",
      "    \"validation_loss\": 0.35498811475410585\n",
      "}\n"
     ]
    }
   ],
   "source": [
    "from spred.experiment import Experiment\n",
    "from spred.analytics import ResultDatabase\n",
    "ce_exp = Experiment(ce_config)\n",
    "n_trials = 3\n",
    "result_db = ResultDatabase([ce_exp.run() for _ in range(n_trials)])"
   ]
  },
  {
   "cell_type": "code",
   "execution_count": 16,
   "id": "96bf6e37",
   "metadata": {},
   "outputs": [
    {
     "data": {
      "image/png": "[encoded data removed]",
      "text/plain": [
       "<Figure size 432x288 with 1 Axes>"
      ]
     },
     "metadata": {},
     "output_type": "display_data"
    }
   ],
   "source": [
    "from spred.analytics import plot_evaluation_metric\n",
    "plot_evaluation_metric(result_db, \"kendall_tau\")"
   ]
  },
  {
   "cell_type": "markdown",
   "id": "6be68b15",
   "metadata": {},
   "source": [
    "Now let's try a loss function besides boring ole cross-entropy! To create one, we need to implement the ```ConfidenceLoss``` interface in ```spred.confidence```. Here's a partial view of that interface.\n",
    "\n",
    "    class ConfidenceLoss(torch.nn.Module, ABC):\n",
    "        @abstractmethod\n",
    "        def __call__(self, batch):\n",
    "            \"\"\"\n",
    "            For the set of predictions in the batch, computes a numeric loss.\n",
    "    \n",
    "            ```batch``` is a dictionary with the following keys:\n",
    "            - ```outputs```: a torch.tensor of shape BxL, where B is the batch size\n",
    "              and L is the number of labels. Each row corresponds to the predicted\n",
    "              values for each label. These are not assumed to be normalized.\n",
    "            - ```labels```: a torch.tensor of shape B, where B is the batch size.\n",
    "            The elements are the gold labels for the batch instances.\n",
    "            - ```confidences```: a torch.tensor of shape B, where B is the batch size.\n",
    "            The elements are the model's confidences for the batch instances.\n",
    "            - ```loss```: the model's default loss for the batch\n",
    "    \n",
    "            This function is expected to return a torch.tensor containing a single\n",
    "            element -- the loss for the batch.\n",
    "    \n",
    "            \"\"\"\n",
    "            ...\n",
    "            \n",
    "    \n",
    "        def include_abstain(self):\n",
    "            \"\"\"\n",
    "            Returns whether this loss function assumes an explicit \"abstain\" label,\n",
    "            in addition to the set of task labels.\n",
    "    \n",
    "            \"\"\"\n",
    "            return False\n",
    "            \n",
    "            \n",
    "The ```ConfidenceLoss``` interface has only one abstract method that must be overridden, which is ```__call__```. The ```__call__``` method takes a dictionary called ```batch``` as its only argument, which contains the predictions made by a model on a minibatch of input instances. At a minimum, the ```batch``` will contain two keys:\n",
    "- ```outputs```: a ```torch.tensor``` of shape ```B```x```L```, where ```B``` is the batch size and ```L``` is the number of labels. Each row corresponds to the predicted values for each label. These are not assumed to be normalized.\n",
    "- ```labels```: a ```torch.tensor``` of shape ```B```, where ```B``` is the batch size. The elements are the gold labels for the batch instances.\n",
    "\n",
    "Depending on the prediction model, it may also contain:\n",
    "- ```confidences```: a torch.tensor of shape ```B```, where ```B``` is the batch size. The elements are the model's confidences for the batch instances.\n",
    "- ```loss```: the model's default loss for the batch\n",
    "\n",
    "Let's see how this works with ```CrossEntropyLoss``` on an example batch."
   ]
  },
  {
   "cell_type": "code",
   "execution_count": 39,
   "id": "f3585317",
   "metadata": {},
   "outputs": [
    {
     "data": {
      "text/plain": [
       "tensor(2.4973)"
      ]
     },
     "execution_count": 39,
     "metadata": {},
     "output_type": "execute_result"
    }
   ],
   "source": [
    "from torch import tensor\n",
    "from spred.loss import CrossEntropyLoss\n",
    "\n",
    "batch = {'outputs': tensor([[-1.5, -2.,  0.8,  1.2],\n",
    "                            [-2.5,  0.,  1.2, -1.8]]), \n",
    "         'labels': tensor([2, 0])}\n",
    "\n",
    "ce = CrossEntropyLoss()\n",
    "ce(batch)"
   ]
  },
  {
   "cell_type": "markdown",
   "id": "3aad8414",
   "metadata": {},
   "source": [
    "```CrossEntropyLoss``` computes a loss of 2.4973 by first computing the prediction weights in 'outputs' to probability distributions using softmax:"
   ]
  },
  {
   "cell_type": "code",
   "execution_count": 40,
   "id": "ea129939",
   "metadata": {},
   "outputs": [
    {
     "data": {
      "text/plain": [
       "tensor([[0.0378, 0.0229, 0.3769, 0.5623],\n",
       "        [0.0180, 0.2189, 0.7269, 0.0362]])"
      ]
     },
     "execution_count": 40,
     "metadata": {},
     "output_type": "execute_result"
    }
   ],
   "source": [
    "from spred.util import softmax\n",
    "softmax(batch['outputs'])"
   ]
  },
  {
   "cell_type": "markdown",
   "id": "ce8cb096",
   "metadata": {},
   "source": [
    "Then it takes the average negative log of the gold probabilities. In this case, the ```labels``` field tells us that the gold labels are label 2 for the first instance (predicted probability 0.3769) and label 0 for the second instance (predicted probability 0.0180), thus:"
   ]
  },
  {
   "cell_type": "code",
   "execution_count": 46,
   "id": "5decd721",
   "metadata": {},
   "outputs": [
    {
     "name": "stdout",
     "output_type": "stream",
     "text": [
      "Within rounding errors, we should expect a loss of 2.497.\n"
     ]
    }
   ],
   "source": [
    "from math import log\n",
    "expected = (-log(0.3769) - log(0.0180))/2\n",
    "print(f\"Within rounding errors, we should expect a loss of {expected:.3f}.\")"
   ]
  },
  {
   "cell_type": "markdown",
   "id": "fb0762ce",
   "metadata": {},
   "source": [
    "We're going to implement a loss function that gives a \"partial-credit\" reward to an existing loss function if a model allocates weight to a special **abstention** label. We will assume that the abstention label is the last element of each vector, i.e. the above example batch allocates a weight of 1.2 and -1.8 to the abstention label. We'll assume that the model has precomputed the cross-entropy loss and has provided it in the batch."
   ]
  },
  {
   "cell_type": "code",
   "execution_count": 48,
   "id": "ce2b298f",
   "metadata": {},
   "outputs": [],
   "source": [
    "batch = {'outputs': tensor([[-1.5, -2.,  0.8,  1.2],\n",
    "                            [-2.5,  0.,  1.2, -1.8]]), \n",
    "         'labels': tensor([2, 0]),\n",
    "         'loss': tensor(2.4973)}"
   ]
  },
  {
   "cell_type": "code",
   "execution_count": null,
   "id": "62d8d55c",
   "metadata": {},
   "outputs": [],
   "source": [
    "class AbstainingLoss(ConfidenceLoss):\n",
    "    def __init__(self, alpha, warmup_epochs):\n",
    "        super().__init__()\n",
    "        self.alpha = 0.0\n",
    "        self.warmup_epochs = warmup_epochs\n",
    "        self.target_alpha = alpha\n",
    "        self.notify(0)\n",
    "\n",
    "    def notify(self, epoch):\n",
    "        if epoch >= self.warmup_epochs:\n",
    "            self.alpha = self.target_alpha\n",
    "\n",
    "    def __call__(self, batch):\n",
    "        output, gold = batch['outputs'], batch['labels']\n",
    "        base_loss = batch['loss']\n",
    "        dists = softmax(output)\n",
    "        abstains = dists[:, -1]\n",
    "        losses = self.alpha * abstains\n",
    "        losses = torch.clamp(losses, min=0.000000001)\n",
    "        losses = -torch.mean(torch.log(losses))\n",
    "        return base_loss + losses\n",
    "\n",
    "    def include_abstain(self):\n",
    "        return True"
   ]
  },
  {
   "cell_type": "code",
   "execution_count": null,
   "id": "3d7ab30f",
   "metadata": {},
   "outputs": [],
   "source": []
  },
  {
   "cell_type": "code",
   "execution_count": 20,
   "id": "f0457a9e",
   "metadata": {},
   "outputs": [],
   "source": [
    "abst_config = {\"task\": task_config,\n",
    "               \"network\": model_config,\n",
    "               \"confidences\": confs,\n",
    "               \"optimizer\": {\"name\": \"sgd\",\n",
    "                             \"lr\": 0.003,\n",
    "                             \"momentum\": 0.9},\n",
    "               \"bsz\": 64,\n",
    "               \"n_epochs\": 15,\n",
    "               \"regularizer\": {\"name\": \"abst\",\n",
    "                               \"alpha\": 5.0,\n",
    "                               \"warmup_epochs\": 5}}"
   ]
  },
  {
   "cell_type": "code",
   "execution_count": 21,
   "id": "e138cb00",
   "metadata": {},
   "outputs": [
    {
     "name": "stdout",
     "output_type": "stream",
     "text": [
      "Training with config:\n",
      "{'task': {'name': 'mnist', 'confuser': '1<>7'}, 'network': {'architecture': 'feedforward', 'input_size': 784, 'hidden_sizes': [128, 64], 'output_size': 10, 'loss': {'name': 'ce'}}, 'confidences': [{'name': 'max_prob'}], 'optimizer': {'name': 'sgd', 'lr': 0.003, 'momentum': 0.9}, 'bsz': 64, 'n_epochs': 15}\n",
      "Epoch 1:\n"
     ]
    },
    {
     "name": "stderr",
     "output_type": "stream",
     "text": [
      "100%|██████████| 469/469 [00:00<00:00, 472.46it/s]\n",
      "100%|██████████| 469/469 [00:00<00:00, 887.30it/s]\n"
     ]
    },
    {
     "name": "stdout",
     "output_type": "stream",
     "text": [
      "Epoch 2:\n"
     ]
    },
    {
     "name": "stderr",
     "output_type": "stream",
     "text": [
      "100%|██████████| 469/469 [00:00<00:00, 482.72it/s]\n",
      "100%|██████████| 469/469 [00:00<00:00, 1007.31it/s]\n"
     ]
    },
    {
     "name": "stdout",
     "output_type": "stream",
     "text": [
      "Epoch 3:\n"
     ]
    },
    {
     "name": "stderr",
     "output_type": "stream",
     "text": [
      "100%|██████████| 469/469 [00:00<00:00, 486.42it/s]\n",
      "100%|██████████| 469/469 [00:00<00:00, 1009.00it/s]\n"
     ]
    },
    {
     "name": "stdout",
     "output_type": "stream",
     "text": [
      "Epoch 4:\n"
     ]
    },
    {
     "name": "stderr",
     "output_type": "stream",
     "text": [
      "100%|██████████| 469/469 [00:00<00:00, 483.83it/s]\n",
      "100%|██████████| 469/469 [00:00<00:00, 1009.42it/s]\n"
     ]
    },
    {
     "name": "stdout",
     "output_type": "stream",
     "text": [
      "Epoch 5:\n"
     ]
    },
    {
     "name": "stderr",
     "output_type": "stream",
     "text": [
      "100%|██████████| 469/469 [00:00<00:00, 485.62it/s]\n",
      "100%|██████████| 469/469 [00:00<00:00, 1007.81it/s]\n"
     ]
    },
    {
     "name": "stdout",
     "output_type": "stream",
     "text": [
      "Epoch 6:\n"
     ]
    },
    {
     "name": "stderr",
     "output_type": "stream",
     "text": [
      "100%|██████████| 469/469 [00:00<00:00, 477.31it/s]\n",
      "100%|██████████| 469/469 [00:00<00:00, 980.45it/s]\n"
     ]
    },
    {
     "name": "stdout",
     "output_type": "stream",
     "text": [
      "Epoch 7:\n"
     ]
    },
    {
     "name": "stderr",
     "output_type": "stream",
     "text": [
      "100%|██████████| 469/469 [00:00<00:00, 478.50it/s]\n",
      "100%|██████████| 469/469 [00:00<00:00, 996.44it/s]\n"
     ]
    },
    {
     "name": "stdout",
     "output_type": "stream",
     "text": [
      "Epoch 8:\n"
     ]
    },
    {
     "name": "stderr",
     "output_type": "stream",
     "text": [
      "100%|██████████| 469/469 [00:00<00:00, 476.06it/s]\n",
      "100%|██████████| 469/469 [00:00<00:00, 998.89it/s] \n"
     ]
    },
    {
     "name": "stdout",
     "output_type": "stream",
     "text": [
      "Epoch 9:\n"
     ]
    },
    {
     "name": "stderr",
     "output_type": "stream",
     "text": [
      "100%|██████████| 469/469 [00:00<00:00, 485.72it/s]\n",
      "100%|██████████| 469/469 [00:00<00:00, 991.49it/s] \n"
     ]
    },
    {
     "name": "stdout",
     "output_type": "stream",
     "text": [
      "Epoch 10:\n"
     ]
    },
    {
     "name": "stderr",
     "output_type": "stream",
     "text": [
      "100%|██████████| 469/469 [00:01<00:00, 468.74it/s]\n",
      "100%|██████████| 469/469 [00:00<00:00, 973.73it/s]\n"
     ]
    },
    {
     "name": "stdout",
     "output_type": "stream",
     "text": [
      "Epoch 11:\n"
     ]
    },
    {
     "name": "stderr",
     "output_type": "stream",
     "text": [
      "100%|██████████| 469/469 [00:00<00:00, 478.46it/s]\n",
      "100%|██████████| 469/469 [00:00<00:00, 1000.17it/s]\n"
     ]
    },
    {
     "name": "stdout",
     "output_type": "stream",
     "text": [
      "Epoch 12:\n"
     ]
    },
    {
     "name": "stderr",
     "output_type": "stream",
     "text": [
      "100%|██████████| 469/469 [00:01<00:00, 467.89it/s]\n",
      "100%|██████████| 469/469 [00:00<00:00, 1000.38it/s]\n"
     ]
    },
    {
     "name": "stdout",
     "output_type": "stream",
     "text": [
      "Epoch 13:\n"
     ]
    },
    {
     "name": "stderr",
     "output_type": "stream",
     "text": [
      "100%|██████████| 469/469 [00:00<00:00, 484.29it/s]\n",
      "100%|██████████| 469/469 [00:00<00:00, 1003.71it/s]\n"
     ]
    },
    {
     "name": "stdout",
     "output_type": "stream",
     "text": [
      "Epoch 14:\n"
     ]
    },
    {
     "name": "stderr",
     "output_type": "stream",
     "text": [
      "100%|██████████| 469/469 [00:00<00:00, 484.11it/s]\n",
      "100%|██████████| 469/469 [00:00<00:00, 1010.75it/s]\n"
     ]
    },
    {
     "name": "stdout",
     "output_type": "stream",
     "text": [
      "Epoch 15:\n"
     ]
    },
    {
     "name": "stderr",
     "output_type": "stream",
     "text": [
      "100%|██████████| 469/469 [00:00<00:00, 484.02it/s]\n",
      "100%|██████████| 469/469 [00:00<00:00, 738.51it/s] \n"
     ]
    },
    {
     "name": "stdout",
     "output_type": "stream",
     "text": [
      "Best validation accuracy at epoch 15\n"
     ]
    },
    {
     "name": "stderr",
     "output_type": "stream",
     "text": [
      "100%|██████████| 157/157 [00:00<00:00, 193.10it/s]\n"
     ]
    },
    {
     "name": "stdout",
     "output_type": "stream",
     "text": [
      "{'name': 'max_prob'}\n",
      "{\n",
      "    \"accuracy\": 0.8323,\n",
      "    \"aupr\": 0.9800065492201888,\n",
      "    \"auroc\": 0.9020309333842301,\n",
      "    \"avg_crr_conf\": 0.7379586578786373,\n",
      "    \"avg_err_conf\": 0.09062459788173437,\n",
      "    \"capacity\": 0.9676482371806696,\n",
      "    \"kendall_tau\": 0.09796920990615125,\n",
      "    \"n_correct\": 8323,\n",
      "    \"n_errors\": 1677,\n",
      "    \"n_published\": 10000,\n",
      "    \"validation_loss\": 0.360345800306387\n",
      "}\n",
      "Training with config:\n",
      "{'task': {'name': 'mnist', 'confuser': '1<>7'}, 'network': {'architecture': 'feedforward', 'input_size': 784, 'hidden_sizes': [128, 64], 'output_size': 10, 'loss': {'name': 'ce'}}, 'confidences': [{'name': 'max_prob'}], 'optimizer': {'name': 'sgd', 'lr': 0.003, 'momentum': 0.9}, 'bsz': 64, 'n_epochs': 15}\n",
      "Epoch 1:\n"
     ]
    },
    {
     "name": "stderr",
     "output_type": "stream",
     "text": [
      "100%|██████████| 469/469 [00:00<00:00, 470.69it/s]\n",
      "100%|██████████| 469/469 [00:00<00:00, 984.17it/s]\n"
     ]
    },
    {
     "name": "stdout",
     "output_type": "stream",
     "text": [
      "Epoch 2:\n"
     ]
    },
    {
     "name": "stderr",
     "output_type": "stream",
     "text": [
      "100%|██████████| 469/469 [00:00<00:00, 479.60it/s]\n",
      "100%|██████████| 469/469 [00:00<00:00, 1008.56it/s]\n"
     ]
    },
    {
     "name": "stdout",
     "output_type": "stream",
     "text": [
      "Epoch 3:\n"
     ]
    },
    {
     "name": "stderr",
     "output_type": "stream",
     "text": [
      "100%|██████████| 469/469 [00:00<00:00, 481.04it/s]\n",
      "100%|██████████| 469/469 [00:00<00:00, 1009.62it/s]\n"
     ]
    },
    {
     "name": "stdout",
     "output_type": "stream",
     "text": [
      "Epoch 4:\n"
     ]
    },
    {
     "name": "stderr",
     "output_type": "stream",
     "text": [
      "100%|██████████| 469/469 [00:00<00:00, 474.71it/s]\n",
      "100%|██████████| 469/469 [00:00<00:00, 981.37it/s]\n"
     ]
    },
    {
     "name": "stdout",
     "output_type": "stream",
     "text": [
      "Epoch 5:\n"
     ]
    },
    {
     "name": "stderr",
     "output_type": "stream",
     "text": [
      "100%|██████████| 469/469 [00:01<00:00, 465.89it/s]\n",
      "100%|██████████| 469/469 [00:00<00:00, 984.59it/s]\n"
     ]
    },
    {
     "name": "stdout",
     "output_type": "stream",
     "text": [
      "Epoch 6:\n"
     ]
    },
    {
     "name": "stderr",
     "output_type": "stream",
     "text": [
      "100%|██████████| 469/469 [00:00<00:00, 477.41it/s]\n",
      "100%|██████████| 469/469 [00:00<00:00, 995.11it/s] \n"
     ]
    },
    {
     "name": "stdout",
     "output_type": "stream",
     "text": [
      "Epoch 7:\n"
     ]
    },
    {
     "name": "stderr",
     "output_type": "stream",
     "text": [
      "100%|██████████| 469/469 [00:00<00:00, 483.71it/s]\n",
      "100%|██████████| 469/469 [00:00<00:00, 1012.34it/s]\n"
     ]
    },
    {
     "name": "stdout",
     "output_type": "stream",
     "text": [
      "Epoch 8:\n"
     ]
    },
    {
     "name": "stderr",
     "output_type": "stream",
     "text": [
      "100%|██████████| 469/469 [00:00<00:00, 474.54it/s]\n",
      "100%|██████████| 469/469 [00:00<00:00, 1007.36it/s]\n"
     ]
    },
    {
     "name": "stdout",
     "output_type": "stream",
     "text": [
      "Epoch 9:\n"
     ]
    },
    {
     "name": "stderr",
     "output_type": "stream",
     "text": [
      "100%|██████████| 469/469 [00:00<00:00, 473.97it/s]\n",
      "100%|██████████| 469/469 [00:00<00:00, 1005.57it/s]\n"
     ]
    },
    {
     "name": "stdout",
     "output_type": "stream",
     "text": [
      "Epoch 10:\n"
     ]
    },
    {
     "name": "stderr",
     "output_type": "stream",
     "text": [
      "100%|██████████| 469/469 [00:00<00:00, 482.30it/s]\n",
      "100%|██████████| 469/469 [00:00<00:00, 941.85it/s] \n"
     ]
    },
    {
     "name": "stdout",
     "output_type": "stream",
     "text": [
      "Epoch 11:\n"
     ]
    },
    {
     "name": "stderr",
     "output_type": "stream",
     "text": [
      "100%|██████████| 469/469 [00:01<00:00, 443.11it/s]\n",
      "100%|██████████| 469/469 [00:00<00:00, 921.20it/s]\n"
     ]
    },
    {
     "name": "stdout",
     "output_type": "stream",
     "text": [
      "Epoch 12:\n"
     ]
    },
    {
     "name": "stderr",
     "output_type": "stream",
     "text": [
      "100%|██████████| 469/469 [00:01<00:00, 357.53it/s]\n",
      "100%|██████████| 469/469 [00:00<00:00, 1000.80it/s]\n"
     ]
    },
    {
     "name": "stdout",
     "output_type": "stream",
     "text": [
      "Epoch 13:\n"
     ]
    },
    {
     "name": "stderr",
     "output_type": "stream",
     "text": [
      "100%|██████████| 469/469 [00:00<00:00, 470.54it/s]\n",
      "100%|██████████| 469/469 [00:00<00:00, 995.15it/s] \n"
     ]
    },
    {
     "name": "stdout",
     "output_type": "stream",
     "text": [
      "Epoch 14:\n"
     ]
    },
    {
     "name": "stderr",
     "output_type": "stream",
     "text": [
      "100%|██████████| 469/469 [00:00<00:00, 484.54it/s]\n",
      "100%|██████████| 469/469 [00:00<00:00, 1013.52it/s]\n"
     ]
    },
    {
     "name": "stdout",
     "output_type": "stream",
     "text": [
      "Epoch 15:\n"
     ]
    },
    {
     "name": "stderr",
     "output_type": "stream",
     "text": [
      "100%|██████████| 469/469 [00:00<00:00, 487.20it/s]\n",
      "100%|██████████| 469/469 [00:00<00:00, 1014.07it/s]\n"
     ]
    },
    {
     "name": "stdout",
     "output_type": "stream",
     "text": [
      "Best validation accuracy at epoch 15\n"
     ]
    },
    {
     "name": "stderr",
     "output_type": "stream",
     "text": [
      "100%|██████████| 157/157 [00:00<00:00, 162.92it/s]\n"
     ]
    },
    {
     "name": "stdout",
     "output_type": "stream",
     "text": [
      "{'name': 'max_prob'}\n",
      "{\n",
      "    \"accuracy\": 0.8334,\n",
      "    \"aupr\": 0.9798120672385622,\n",
      "    \"auroc\": 0.8992098639311736,\n",
      "    \"avg_crr_conf\": 0.7428814589247108,\n",
      "    \"avg_err_conf\": 0.0922407040387392,\n",
      "    \"capacity\": 0.9677120164025669,\n",
      "    \"kendall_tau\": 0.10079020809187605,\n",
      "    \"n_correct\": 8334,\n",
      "    \"n_errors\": 1666,\n",
      "    \"n_published\": 10000,\n",
      "    \"validation_loss\": 0.35664974390321474\n",
      "}\n",
      "Training with config:\n",
      "{'task': {'name': 'mnist', 'confuser': '1<>7'}, 'network': {'architecture': 'feedforward', 'input_size': 784, 'hidden_sizes': [128, 64], 'output_size': 10, 'loss': {'name': 'ce'}}, 'confidences': [{'name': 'max_prob'}], 'optimizer': {'name': 'sgd', 'lr': 0.003, 'momentum': 0.9}, 'bsz': 64, 'n_epochs': 15}\n",
      "Epoch 1:\n"
     ]
    },
    {
     "name": "stderr",
     "output_type": "stream",
     "text": [
      "100%|██████████| 469/469 [00:01<00:00, 410.69it/s]\n",
      "100%|██████████| 469/469 [00:00<00:00, 821.13it/s]\n"
     ]
    },
    {
     "name": "stdout",
     "output_type": "stream",
     "text": [
      "Epoch 2:\n"
     ]
    },
    {
     "name": "stderr",
     "output_type": "stream",
     "text": [
      "100%|██████████| 469/469 [00:01<00:00, 411.22it/s]\n",
      "100%|██████████| 469/469 [00:00<00:00, 937.61it/s]\n"
     ]
    },
    {
     "name": "stdout",
     "output_type": "stream",
     "text": [
      "Epoch 3:\n"
     ]
    },
    {
     "name": "stderr",
     "output_type": "stream",
     "text": [
      "100%|██████████| 469/469 [00:01<00:00, 407.10it/s]\n",
      "100%|██████████| 469/469 [00:00<00:00, 998.23it/s] \n"
     ]
    },
    {
     "name": "stdout",
     "output_type": "stream",
     "text": [
      "Epoch 4:\n"
     ]
    },
    {
     "name": "stderr",
     "output_type": "stream",
     "text": [
      "100%|██████████| 469/469 [00:01<00:00, 424.73it/s]\n",
      "100%|██████████| 469/469 [00:00<00:00, 999.71it/s] \n"
     ]
    },
    {
     "name": "stdout",
     "output_type": "stream",
     "text": [
      "Epoch 5:\n"
     ]
    },
    {
     "name": "stderr",
     "output_type": "stream",
     "text": [
      "100%|██████████| 469/469 [00:00<00:00, 476.91it/s]\n",
      "100%|██████████| 469/469 [00:00<00:00, 966.25it/s]\n"
     ]
    },
    {
     "name": "stdout",
     "output_type": "stream",
     "text": [
      "Epoch 6:\n"
     ]
    },
    {
     "name": "stderr",
     "output_type": "stream",
     "text": [
      "100%|██████████| 469/469 [00:01<00:00, 442.75it/s]\n",
      "100%|██████████| 469/469 [00:00<00:00, 955.39it/s]\n"
     ]
    },
    {
     "name": "stdout",
     "output_type": "stream",
     "text": [
      "Epoch 7:\n"
     ]
    },
    {
     "name": "stderr",
     "output_type": "stream",
     "text": [
      "100%|██████████| 469/469 [00:00<00:00, 470.07it/s]\n",
      "100%|██████████| 469/469 [00:00<00:00, 985.18it/s]\n"
     ]
    },
    {
     "name": "stdout",
     "output_type": "stream",
     "text": [
      "Epoch 8:\n"
     ]
    },
    {
     "name": "stderr",
     "output_type": "stream",
     "text": [
      "100%|██████████| 469/469 [00:00<00:00, 474.13it/s]\n",
      "100%|██████████| 469/469 [00:00<00:00, 1004.44it/s]\n"
     ]
    },
    {
     "name": "stdout",
     "output_type": "stream",
     "text": [
      "Epoch 9:\n"
     ]
    },
    {
     "name": "stderr",
     "output_type": "stream",
     "text": [
      "100%|██████████| 469/469 [00:00<00:00, 486.75it/s]\n",
      "100%|██████████| 469/469 [00:00<00:00, 1012.69it/s]\n"
     ]
    },
    {
     "name": "stdout",
     "output_type": "stream",
     "text": [
      "Epoch 10:\n"
     ]
    },
    {
     "name": "stderr",
     "output_type": "stream",
     "text": [
      "100%|██████████| 469/469 [00:00<00:00, 486.50it/s]\n",
      "100%|██████████| 469/469 [00:00<00:00, 1007.82it/s]\n"
     ]
    },
    {
     "name": "stdout",
     "output_type": "stream",
     "text": [
      "Epoch 11:\n"
     ]
    },
    {
     "name": "stderr",
     "output_type": "stream",
     "text": [
      "100%|██████████| 469/469 [00:00<00:00, 487.55it/s]\n",
      "100%|██████████| 469/469 [00:00<00:00, 1012.82it/s]\n"
     ]
    },
    {
     "name": "stdout",
     "output_type": "stream",
     "text": [
      "Epoch 12:\n"
     ]
    },
    {
     "name": "stderr",
     "output_type": "stream",
     "text": [
      "100%|██████████| 469/469 [00:00<00:00, 486.65it/s]\n",
      "100%|██████████| 469/469 [00:00<00:00, 1016.12it/s]\n"
     ]
    },
    {
     "name": "stdout",
     "output_type": "stream",
     "text": [
      "Epoch 13:\n"
     ]
    },
    {
     "name": "stderr",
     "output_type": "stream",
     "text": [
      "100%|██████████| 469/469 [00:00<00:00, 481.58it/s]\n",
      "100%|██████████| 469/469 [00:00<00:00, 1016.63it/s]\n"
     ]
    },
    {
     "name": "stdout",
     "output_type": "stream",
     "text": [
      "Epoch 14:\n"
     ]
    },
    {
     "name": "stderr",
     "output_type": "stream",
     "text": [
      "100%|██████████| 469/469 [00:00<00:00, 487.19it/s]\n",
      "100%|██████████| 469/469 [00:00<00:00, 770.24it/s] \n"
     ]
    },
    {
     "name": "stdout",
     "output_type": "stream",
     "text": [
      "Epoch 15:\n"
     ]
    },
    {
     "name": "stderr",
     "output_type": "stream",
     "text": [
      "100%|██████████| 469/469 [00:00<00:00, 486.20it/s]\n",
      "100%|██████████| 469/469 [00:00<00:00, 1008.46it/s]\n"
     ]
    },
    {
     "name": "stdout",
     "output_type": "stream",
     "text": [
      "Best validation accuracy at epoch 15\n"
     ]
    },
    {
     "name": "stderr",
     "output_type": "stream",
     "text": [
      "100%|██████████| 157/157 [00:00<00:00, 191.99it/s]\n"
     ]
    },
    {
     "name": "stdout",
     "output_type": "stream",
     "text": [
      "{'name': 'max_prob'}\n",
      "{\n",
      "    \"accuracy\": 0.8345,\n",
      "    \"aupr\": 0.9798863698579448,\n",
      "    \"auroc\": 0.8994982975495938,\n",
      "    \"avg_crr_conf\": 0.7427273460641504,\n",
      "    \"avg_err_conf\": 0.09160386546701192,\n",
      "    \"capacity\": 0.9680229436373343,\n",
      "    \"kendall_tau\": 0.1005017386534984,\n",
      "    \"n_correct\": 8345,\n",
      "    \"n_errors\": 1655,\n",
      "    \"n_published\": 10000,\n",
      "    \"validation_loss\": 0.3546856589567889\n",
      "}\n"
     ]
    }
   ],
   "source": [
    "from spred.experiment import Experiment\n",
    "from spred.analytics import ResultDatabase\n",
    "n_trials = 3\n",
    "abst_exp = Experiment(ce_config)\n",
    "abst_results = [abst_exp.run() for _ in range(n_trials)]"
   ]
  },
  {
   "cell_type": "code",
   "execution_count": 23,
   "id": "015424df",
   "metadata": {},
   "outputs": [
    {
     "data": {
      "image/png": "[encoded data removed]",
      "text/plain": [
       "<Figure size 432x288 with 1 Axes>"
      ]
     },
     "metadata": {},
     "output_type": "display_data"
    }
   ],
   "source": [
    "from spred.analytics import plot_evaluation_metric\n",
    "plot_evaluation_metric(ResultDatabase(abst_results), \"kendall_tau\")"
   ]
  },
  {
   "cell_type": "code",
   "execution_count": null,
   "id": "1ecfeb1a",
   "metadata": {},
   "outputs": [],
   "source": []
  }
 ],
 "metadata": {
  "kernelspec": {
   "display_name": "Python 3",
   "language": "python",
   "name": "python3"
  },
  "language_info": {
   "codemirror_mode": {
    "name": "ipython",
    "version": 3
   },
   "file_extension": ".py",
   "mimetype": "text/x-python",
   "name": "python",
   "nbconvert_exporter": "python",
   "pygments_lexer": "ipython3",
   "version": "3.8.8"
  }
 },
 "nbformat": 4,
 "nbformat_minor": 5
}
